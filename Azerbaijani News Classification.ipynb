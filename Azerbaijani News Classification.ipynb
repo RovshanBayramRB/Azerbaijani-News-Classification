{
 "cells": [
  {
   "cell_type": "markdown",
   "metadata": {
    "id": "0mXdqpnmP7qL"
   },
   "source": [
    "# Importing Libraries"
   ]
  },
  {
   "cell_type": "code",
   "execution_count": null,
   "metadata": {
    "id": "JmOCaJcm379Y"
   },
   "outputs": [],
   "source": [
    "import pandas as pd\n",
    "from sklearn.feature_extraction.text import CountVectorizer\n",
    "from sklearn.model_selection import train_test_split\n",
    "from sklearn.model_selection import GridSearchCV\n",
    "from sklearn.tree import DecisionTreeClassifier\n",
    "from sklearn.naive_bayes import GaussianNB\n",
    "from sklearn.svm import SVC\n",
    "from sklearn.metrics import accuracy_score, classification_report, confusion_matrix\n",
    "import seaborn as sns\n",
    "import matplotlib.pyplot as plt\n",
    "from sklearn.feature_extraction.text import TfidfVectorizer\n",
    "from sklearn.decomposition import PCA\n",
    "import plotly.express as px\n",
    "import pickle"
   ]
  },
  {
   "cell_type": "markdown",
   "metadata": {
    "id": "8mj31dAWPiFg"
   },
   "source": [
    "# Loading Dataset"
   ]
  },
  {
   "cell_type": "code",
   "execution_count": null,
   "metadata": {
    "id": "M961WZIf4AUh"
   },
   "outputs": [],
   "source": [
    "#Reading Dataset using Pandas read_excel function\n",
    "data = pd.read_excel(\"news.xlsx\")"
   ]
  },
  {
   "cell_type": "code",
   "execution_count": null,
   "metadata": {
    "colab": {
     "base_uri": "https://localhost:8080/",
     "height": 424
    },
    "id": "Vs6cQP446fZd",
    "outputId": "30bc51f2-896d-48e0-d374-4b6e51131e89"
   },
   "outputs": [
    {
     "data": {
      "text/html": [
       "\n",
       "  <div id=\"df-dc7904ab-a510-4a32-9dcf-5630943842ac\">\n",
       "    <div class=\"colab-df-container\">\n",
       "      <div>\n",
       "<style scoped>\n",
       "    .dataframe tbody tr th:only-of-type {\n",
       "        vertical-align: middle;\n",
       "    }\n",
       "\n",
       "    .dataframe tbody tr th {\n",
       "        vertical-align: top;\n",
       "    }\n",
       "\n",
       "    .dataframe thead th {\n",
       "        text-align: right;\n",
       "    }\n",
       "</style>\n",
       "<table border=\"1\" class=\"dataframe\">\n",
       "  <thead>\n",
       "    <tr style=\"text-align: right;\">\n",
       "      <th></th>\n",
       "      <th>Category</th>\n",
       "      <th>Title</th>\n",
       "      <th>News_Article</th>\n",
       "    </tr>\n",
       "  </thead>\n",
       "  <tbody>\n",
       "    <tr>\n",
       "      <th>0</th>\n",
       "      <td>Maraqlı</td>\n",
       "      <td>Naviforce Sport Saat 2016 ilə zövqlərin ahəngi</td>\n",
       "      <td>Naviforce Sport Saat 2016 Yapon Mexanizmi Yapo...</td>\n",
       "    </tr>\n",
       "    <tr>\n",
       "      <th>1</th>\n",
       "      <td>Maraqlı</td>\n",
       "      <td>Sinir ,oynaq , sinir bel ağrılarına 3 gündə son !</td>\n",
       "      <td>ŞOK ! ŞOK ! ŞOK ! Xanımlar və bəylər , bel və ...</td>\n",
       "    </tr>\n",
       "    <tr>\n",
       "      <th>2</th>\n",
       "      <td>Maraqlı</td>\n",
       "      <td>Dəyərindən qat-qat aşağı qiymətə Mənzil</td>\n",
       "      <td>Dəyərindən qat-qat Aşağı Qiymətə. Həzi Aslanov...</td>\n",
       "    </tr>\n",
       "    <tr>\n",
       "      <th>3</th>\n",
       "      <td>İdman</td>\n",
       "      <td>2024 və 2028-ci il olimpiadalarının keçiriləcə...</td>\n",
       "      <td>2028-ci il Yay Olimpiya və Paralimpiya Oyunla...</td>\n",
       "    </tr>\n",
       "    <tr>\n",
       "      <th>4</th>\n",
       "      <td>Dünya</td>\n",
       "      <td>Türkiyədə zəlzələ</td>\n",
       "      <td>Türkiyədə daha bir zəlzələ meydana gəlib.   L...</td>\n",
       "    </tr>\n",
       "    <tr>\n",
       "      <th>...</th>\n",
       "      <td>...</td>\n",
       "      <td>...</td>\n",
       "      <td>...</td>\n",
       "    </tr>\n",
       "    <tr>\n",
       "      <th>49995</th>\n",
       "      <td>Siyasət</td>\n",
       "      <td>Əli Kərimli terrorçularla da əməkdaşlığa hazır...</td>\n",
       "      <td>AXCP sədri \"Milli Şura\"nın mitinqində qəsdən...</td>\n",
       "    </tr>\n",
       "    <tr>\n",
       "      <th>49996</th>\n",
       "      <td>Siyasət</td>\n",
       "      <td>Elşən Musayev: “Bəlkə elə o terrorist Əli Kəri...</td>\n",
       "      <td>\"Ümumiyyətlə, Milli Şuraya xoş olan, hətta o...</td>\n",
       "    </tr>\n",
       "    <tr>\n",
       "      <th>49997</th>\n",
       "      <td>Dünya</td>\n",
       "      <td>İstanbulda 52 mərtəbəli binada yanğın baş verib</td>\n",
       "      <td>Türkiyənin İstanbul şəhərinin Ataşehir rayon...</td>\n",
       "    </tr>\n",
       "    <tr>\n",
       "      <th>49998</th>\n",
       "      <td>Dünya</td>\n",
       "      <td>“Onlar cinayətkarlardır və bir-bir məhv edilir...</td>\n",
       "      <td>Rusiyanı tərk edərək İŞİD sıralarında döyüşə...</td>\n",
       "    </tr>\n",
       "    <tr>\n",
       "      <th>49999</th>\n",
       "      <td>İqtisadiyyat</td>\n",
       "      <td>Ukrayna Mərkəzi Bankı gözlənilmədən uçot dərəc...</td>\n",
       "      <td>Ukrayna Mərkəzi Bankı (NBU) bu gün keçirdiyi ...</td>\n",
       "    </tr>\n",
       "  </tbody>\n",
       "</table>\n",
       "<p>50000 rows × 3 columns</p>\n",
       "</div>\n",
       "      <button class=\"colab-df-convert\" onclick=\"convertToInteractive('df-dc7904ab-a510-4a32-9dcf-5630943842ac')\"\n",
       "              title=\"Convert this dataframe to an interactive table.\"\n",
       "              style=\"display:none;\">\n",
       "        \n",
       "  <svg xmlns=\"http://www.w3.org/2000/svg\" height=\"24px\"viewBox=\"0 0 24 24\"\n",
       "       width=\"24px\">\n",
       "    <path d=\"M0 0h24v24H0V0z\" fill=\"none\"/>\n",
       "    <path d=\"M18.56 5.44l.94 2.06.94-2.06 2.06-.94-2.06-.94-.94-2.06-.94 2.06-2.06.94zm-11 1L8.5 8.5l.94-2.06 2.06-.94-2.06-.94L8.5 2.5l-.94 2.06-2.06.94zm10 10l.94 2.06.94-2.06 2.06-.94-2.06-.94-.94-2.06-.94 2.06-2.06.94z\"/><path d=\"M17.41 7.96l-1.37-1.37c-.4-.4-.92-.59-1.43-.59-.52 0-1.04.2-1.43.59L10.3 9.45l-7.72 7.72c-.78.78-.78 2.05 0 2.83L4 21.41c.39.39.9.59 1.41.59.51 0 1.02-.2 1.41-.59l7.78-7.78 2.81-2.81c.8-.78.8-2.07 0-2.86zM5.41 20L4 18.59l7.72-7.72 1.47 1.35L5.41 20z\"/>\n",
       "  </svg>\n",
       "      </button>\n",
       "      \n",
       "  <style>\n",
       "    .colab-df-container {\n",
       "      display:flex;\n",
       "      flex-wrap:wrap;\n",
       "      gap: 12px;\n",
       "    }\n",
       "\n",
       "    .colab-df-convert {\n",
       "      background-color: #E8F0FE;\n",
       "      border: none;\n",
       "      border-radius: 50%;\n",
       "      cursor: pointer;\n",
       "      display: none;\n",
       "      fill: #1967D2;\n",
       "      height: 32px;\n",
       "      padding: 0 0 0 0;\n",
       "      width: 32px;\n",
       "    }\n",
       "\n",
       "    .colab-df-convert:hover {\n",
       "      background-color: #E2EBFA;\n",
       "      box-shadow: 0px 1px 2px rgba(60, 64, 67, 0.3), 0px 1px 3px 1px rgba(60, 64, 67, 0.15);\n",
       "      fill: #174EA6;\n",
       "    }\n",
       "\n",
       "    [theme=dark] .colab-df-convert {\n",
       "      background-color: #3B4455;\n",
       "      fill: #D2E3FC;\n",
       "    }\n",
       "\n",
       "    [theme=dark] .colab-df-convert:hover {\n",
       "      background-color: #434B5C;\n",
       "      box-shadow: 0px 1px 3px 1px rgba(0, 0, 0, 0.15);\n",
       "      filter: drop-shadow(0px 1px 2px rgba(0, 0, 0, 0.3));\n",
       "      fill: #FFFFFF;\n",
       "    }\n",
       "  </style>\n",
       "\n",
       "      <script>\n",
       "        const buttonEl =\n",
       "          document.querySelector('#df-dc7904ab-a510-4a32-9dcf-5630943842ac button.colab-df-convert');\n",
       "        buttonEl.style.display =\n",
       "          google.colab.kernel.accessAllowed ? 'block' : 'none';\n",
       "\n",
       "        async function convertToInteractive(key) {\n",
       "          const element = document.querySelector('#df-dc7904ab-a510-4a32-9dcf-5630943842ac');\n",
       "          const dataTable =\n",
       "            await google.colab.kernel.invokeFunction('convertToInteractive',\n",
       "                                                     [key], {});\n",
       "          if (!dataTable) return;\n",
       "\n",
       "          const docLinkHtml = 'Like what you see? Visit the ' +\n",
       "            '<a target=\"_blank\" href=https://colab.research.google.com/notebooks/data_table.ipynb>data table notebook</a>'\n",
       "            + ' to learn more about interactive tables.';\n",
       "          element.innerHTML = '';\n",
       "          dataTable['output_type'] = 'display_data';\n",
       "          await google.colab.output.renderOutput(dataTable, element);\n",
       "          const docLink = document.createElement('div');\n",
       "          docLink.innerHTML = docLinkHtml;\n",
       "          element.appendChild(docLink);\n",
       "        }\n",
       "      </script>\n",
       "    </div>\n",
       "  </div>\n",
       "  "
      ],
      "text/plain": [
       "           Category                                              Title  \\\n",
       "0           Maraqlı     Naviforce Sport Saat 2016 ilə zövqlərin ahəngi   \n",
       "1           Maraqlı  Sinir ,oynaq , sinir bel ağrılarına 3 gündə son !   \n",
       "2           Maraqlı            Dəyərindən qat-qat aşağı qiymətə Mənzil   \n",
       "3             İdman  2024 və 2028-ci il olimpiadalarının keçiriləcə...   \n",
       "4             Dünya                                 Türkiyədə zəlzələ    \n",
       "...             ...                                                ...   \n",
       "49995       Siyasət  Əli Kərimli terrorçularla da əməkdaşlığa hazır...   \n",
       "49996       Siyasət  Elşən Musayev: “Bəlkə elə o terrorist Əli Kəri...   \n",
       "49997         Dünya    İstanbulda 52 mərtəbəli binada yanğın baş verib   \n",
       "49998         Dünya  “Onlar cinayətkarlardır və bir-bir məhv edilir...   \n",
       "49999  İqtisadiyyat  Ukrayna Mərkəzi Bankı gözlənilmədən uçot dərəc...   \n",
       "\n",
       "                                            News_Article  \n",
       "0      Naviforce Sport Saat 2016 Yapon Mexanizmi Yapo...  \n",
       "1      ŞOK ! ŞOK ! ŞOK ! Xanımlar və bəylər , bel və ...  \n",
       "2      Dəyərindən qat-qat Aşağı Qiymətə. Həzi Aslanov...  \n",
       "3       2028-ci il Yay Olimpiya və Paralimpiya Oyunla...  \n",
       "4       Türkiyədə daha bir zəlzələ meydana gəlib.   L...  \n",
       "...                                                  ...  \n",
       "49995    AXCP sədri \"Milli Şura\"nın mitinqində qəsdən...  \n",
       "49996    \"Ümumiyyətlə, Milli Şuraya xoş olan, hətta o...  \n",
       "49997    Türkiyənin İstanbul şəhərinin Ataşehir rayon...  \n",
       "49998    Rusiyanı tərk edərək İŞİD sıralarında döyüşə...  \n",
       "49999   Ukrayna Mərkəzi Bankı (NBU) bu gün keçirdiyi ...  \n",
       "\n",
       "[50000 rows x 3 columns]"
      ]
     },
     "execution_count": 3,
     "metadata": {},
     "output_type": "execute_result"
    }
   ],
   "source": [
    "#Displaying Dataset\n",
    "data"
   ]
  },
  {
   "cell_type": "markdown",
   "metadata": {
    "id": "VbeKtbqiXfDS"
   },
   "source": [
    "# Data Preprocessing and Modeling"
   ]
  },
  {
   "cell_type": "code",
   "execution_count": null,
   "metadata": {
    "id": "xDuG5HhREQMb"
   },
   "outputs": [],
   "source": [
    "#Here, we separate each columns to their corresponding variables.\n",
    "#It will help us join titles and articles. This process is usefull when we do BoW (Bag of Words) and (TF-IDF) methods.\n",
    "titles = data['Title']\n",
    "articles = data['News_Article']\n",
    "categories = data['Category']"
   ]
  },
  {
   "cell_type": "code",
   "execution_count": null,
   "metadata": {
    "id": "JEHShtS_Eiq9"
   },
   "outputs": [],
   "source": [
    "#Here, we generate vocabulary of our dataset.\n",
    "\n",
    "#Initialzing vocabulary which is empty string for now\n",
    "vocabulary = ''\n",
    "#Declaring the separator that will separate titles' last and articles' first words\n",
    "separator = ' '\n",
    "#Generating vocabulary by joining titles and separator\n",
    "vocabulary = separator.join(titles) + separator.join(articles)"
   ]
  },
  {
   "cell_type": "code",
   "execution_count": null,
   "metadata": {
    "colab": {
     "base_uri": "https://localhost:8080/",
     "height": 174
    },
    "id": "zhWZp_SzFM5d",
    "outputId": "c98658b2-dca9-48d6-92c9-64354a00abda",
    "scrolled": true
   },
   "outputs": [
    {
     "data": {
      "application/vnd.google.colaboratory.intrinsic+json": {
       "type": "string"
      },
      "text/plain": [
       "'Naviforce Sport Saat 2016 ilə zövqlərin ahəngi Sinir ,oynaq , sinir bel ağrılarına 3 gündə son ! Dəyərindən qat-qat aşağı qiymətə Mənzil 2024 və 2028-ci il olimpiadalarının keçiriləcəyi şəhərlər müəyyənləşib  Türkiyədə zəlzələ  Yay Olimpiadası-2024-ün ev sahibi bəlli oldu  ABŞ-ın Rusiyadakı səfirliyi viza verilməsi üzrə imtinaların sayını çoxaldıb  İlan Syalom: \"Dağlıq Qarabağ münaqişəsinin yenidən qızışması regionda faciə ilə nəticələnə bilər\"  Yunanıstanda 5.1 bal gücündə zəlzələ oldu  Mərakeşli sərnişinin mədəsindən 102 kapsul narkotik çıxdı  Məşhur müğənni səhnədə ayaq üstə dayana bilmədi - FOTOLAR  Banklar üçün ziyan nə qədər olub? Açıq məkandakı miniatürlər - FOTO Corc Kluni suriyalı uşaqların məktəbinə 2,25 mln. dollar ianə verəcək  Forbes: \"Bakıda olmuş hər bir kəs ora yenə qayıtmaq arzusu ilə yaşayır və növbəti dəfə tək qayıtmır\"  Şenol Günəş Türkiyə millisinə “YOX” dedi  “GoPro QuikStories” videonu avtomatik ötürəcək - VİDEO Tilsim qırıldı: “Qarabağ” pley-off mərhələsində! YENİLƏNİB - VİDEO - FOTO Venesuelada vəziyyət daha da pisləşdi İki “Apple” qurğusunun istehsalı dayandırılır İnsan bədəninə robot yerləşdiriləcək - VİDEO Oxşar məhsullar fotoşəkillərlə axtarılacaq Səhv tapana 250 min dollar veriləcək Bu gün \"Qarabağ\" Çempionlar Liqasında tarixi oyuna çıxacaq  Çempionlar Liqası: “Qarabağ” həlledici oyuna çıxacaq  Təyyarəni partlatmaq istəyənlər bəlli oldu  Bakıda atıcılıq üzrə Avropa çempionatının 12-ci gününün yarışları start götürür Türkiyəli nazir təqaüdə çıxdı İnsanları Marsa aparacaq raket payızda hazır olacaq \"Bakıda olmuş hər bir kəs ora növbəti dəfə tək qayıtmır\" - FOTO Google ən yararlı xüsusiyyətini mobil cihazlardan çıxardı Əfqanıstanda İraq səfirliyi yaxınlığında atışma baş verib Rusiya “Facebook”da Makronun çevrəsindən məlumat toplamağa çalışıb ABŞ-ın Rusiyadakı səfirliyi vizaları azaltdı Kompüteriniz üçün maraqlı şəkillər - FOTOSESSİYA Sükan arxasında yatan müəyyən olunacaq \"Dağlıq Qarabağ münaqişəsinin yenidən qızışması regionda faciə ilə nəticələnə bilər\" - İlan Syalom 10 milyard dollarlıq investisiya sözü Yunanıstan sahillərində 5,4 bal gücündə zəlzələ baş verib Yeni süni intellekt təxəyyüldən istifadə edəcək Kim gəlir, kim gedir? - YENİLƏNİR Bezosun \"hakimiyyəti\" 1 gün çəkdi... Britaniya 2019-cu ildə qapılarını bağlayacaq Kiberidmançıların minimal əmək haqları artır Olimpiada – 2024-ün ev sahibi müəyyənləşdi Azərbaycan və Çexiya - əməkdaşlığın möhkəmləndirilməsi üçün yeni imkanlar Con Makkeyn: \"Putin ABŞ-da demokratiyaya hücum etməyin hesabını ödəyəcək\"  “Bakıda olmuş hər bir kəs ora növbəti dəfə tək qayıtmır” – FOTO Əfqanıstanda İraq səfirliyi yaxınlığında atışma baş verib Rusiya “Facebook”da Makronun çevrəsindən məlumat toplamağa çalışıb ABŞ-ın Rusiyadakı səfirliyi vizaları azaltdı “Dağlıq Qarabağ münaqişəsinin yenidən qızışması regionda faciə ilə nəticələnə bilər” - Yunanıstan sahillərində 5,4 bal gücündə zəlzələ baş verib Britaniya 2019-cu ildə qapılarını bağlayacaq Olimpiada – 2024-ün ev sahibi müəyyənləşdi Rafet El Romandan qızlarına QADAĞA - FOTO Səbinə ikinci dəfə ana oldu - FOTO Azərbaycan neftinin qiymətində dəyişiklik AÇ: Atıcımız 38 idmançı arasında 37-ci oldu ABŞ-da məhbuslar həbsxanadan qaçdılar Neftin qiyməti 53 dollara yaxınlaşır Bərgüzar Korel tətildə - FOTO Meksikada son yeddi ayda 9 jurnalist öldürülüb  Bu il Azərbaycanda 268 min hektara yaxın ərazidə çöl torpaq tədqiqatı işləri görülüb  Beynəlxalq əmtəə, fond və valyuta bazarlarının əsas göstəriciləri (01.08.2017)  Azərbaycan nefti cüzi ucuzlaşıb  Ermənilər atəşkəs rejimini 135 dəfə pozublar  SOCAR-da Arizona ştatının Nümayəndələr Palatasının spikeri ilə görüş keçirilib  Azərbaycan Mərkəzi Bankının valyuta məzənnələri (01.08.2017)  Bakı metrosunda qatarların hərəkəti ləngiyir  Apamark kağız karton istehsalına dəstək oldu  Məşhur müğənni, sanki, zamana meydan oxuyur - FOTO Simulyasiya edənlər daha ciddi cəzalandırılacaqlar 14 illik həyat yoldaşına görün kimlə xəyanət etdi - FOTO Federasiyasının vitse-prezidenti güləşçilərlə olan qalmaqalla bağlı bütün sirləri açdı - MÜSAHİBƏ - FOTO Populyar xanım şəffaf geyinib kluba yollandı - FOTO Tramp: \"Maduro indi nəinki pis oğlan, həm də diktatordur\" Məşhur otel rüsvay oldu - VİDEO - FOTO \"Eşkıya Dünyaya Hükümdar Olmaz\" nə zaman başlayır? Serial dələduzlarına rusiyalı futbolçuların adları qoyuldu Meksikada son yeddi ayda 9 jurnalist öldürülüb \"Bavariya\"nı keçmiş oyunçusu Türkiyəyə doğru addımlayır Xoşqədəm: \"Ailənizin başına gəlsin\" \"Azərbaycan Güləş Federasiyasının idmançılara maaş vermək öhdəliyi yoxdur\" - BƏYANAT Sılanın konsertini ləğv edən universitetə HƏBS ŞOKU Şenol Günəş millini çalışdırmaqdan imtina etdi - RƏSMİ Azərbaycanda 4 bağlanmış bankın qorunan əmanətçilərinə kompensasiya ödənişi üzrə ərizə qəbulu başa çatır  Ramil Usubov ABŞ-ın Arizona ştatının Nümayəndələr Palatasının spikerini qəbul edib  Venesuelada dollar yenidən bahalaşmağa başlayıb  Azərbaycan Moda Həftəsi \"Forbes\" jurnalında işıqlandırılıb  Azərbaycan Güləş Federasiyası güləşçilərin etiraz aksiyası ilə bağlı bəyanat yayıb  Almaniyada dizel yanacağı ilə işləyən maşınların istismarı qadağan edilir  Çingiz Qənizadə: \"Görünür, bu, prezidentimizin də diqqətini cəlb edib...\" - MÜSAHİBƏ  14 illik həyat yoldaşına görün kimlə xəyanət etdi – FOTO Populyar xanım şəffaf geyinib kluba yollandı – FOTO Tramp: “Maduro indi nəinki pis oğlan, həm də diktatordur” Məşhur otel rüsvay oldu – VİDEO – FOTO “Eşkıya Dünyaya Hükümdar Olmaz” nə zaman başlayır? Şuşanın son görüntüləri – VİDEO Xoşqədəm: “Ailənizin başına gəlsin” Səbinə ikinci dəfə ana oldu – FOTO  Venesuelada vəziyyət daha da pisləşdi   \"Qarabağ\" Çempionlar Liqasında tarixi oyuna çıxır   Baş nazir kral ailəsinin qarşısında diz çökdü - FOTOLAR  “Maduro pis oğlan, həm də diktatordur” – Tramp   CNN: Şimali Koreya yeni raket sınağını keçirib  Pentaqon və Dövlət Departamenti Ukraynaya silah verəcək   Yüzlərlə qız 14-cü arvad olmaq üçün yarışır   Dollar avroya nisbətdə dəyərini itirir - Əslində nə baş verir?  Neftimiz ucuzladı   Dollar bu gün neçəyədir?   İngiltərə futbolunda yenilik   \"Qarabağ\" tarix yazmağın bir addımlığında   Tramp onu cəmi 10 gün işdə saxladı   “Rəqibimiz olduqca təhlükəlidir” - Qurban Qurbanov Xatirə İslamdan BİABIRÇILIQ: \"Ərim hamamdadır, çıxanda...\" – FOTOFAKT Azərbaycanlı məşhurlardan şad xəbər - İkinci dəfə... - FOTO Güləş Federasiyadan AÇIQLAMA GƏLDİ: \"İdmançılara maaş vermək kimi bir öhdəliyimiz yoxdur\" Şoumen Muradla bağlı elə xəbər yayıldı ki... - Dəhşətə gəldi Təcili! Ermənilər сəbhəni qoyub qaçırlar Kənana qardaşım deyən qalmaqallı Pərvinin bu FOTOLARI REKORD QIRIR Cəbhədən son dəqiqə! Ermənilər gecə hücuma keçdi - ORDUMUZ.... Dollar səhər saatlarından eşidənləri çaşdırdı - Rəsmi Dünyanın diqqətini çəkən azərbaycanlı - VİDEO - FOTOLAR Əvvəl Nigar, sonra Röya... - FOTOLAR Erməni-nasistin xatirə lövhəsi Rusiyada qalmaqal yaratdı - FOTO Xoşqədəm: \"Ailənizin başına gəlsin\" Ruhinin Bodrum istirahəti - FOTOLAR Dünyanın diqqətini çəkən azərbaycanlı - VİDEO + FOTO Avronun məzənnəsi niyə yüksəlir? - Açıqlama Azərbaycanlı aktrisa Bodrumda belə istirahət edir - FOTOLAR Güləş Federasiyası narazı idmançılara cavab verdi Manatın MƏZƏNNƏSİ İsti su içməyin 8 MÜKƏMMƏL FAYDASI ABŞ-da məhbuslar həbsxanadan qaçdılar Şuşanın son görüntüləri - VİDEO Neftin qiyməti 53 dollara yaxınlaşır Bu gecə də rayonlarımız atəşə tutuldu Bakıda qəzada hamilə qadın körpəsini itirdi - FOTO Bərgüzar Korel tətildə - FOTOLAR Səbinə ikinci dəfə ana oldu - FOTO  Türkiyənin yeni raketləri ABŞ-ı QORXUYA SALDI   Ayda ölmək istəyənlərə ŞAD XƏBƏR Aparıcı Nanənin heç yerdə görmədiyiniz ŞOK FOTOLARI yayıldı - FOTO Argentinalı futbolçuya göndəriləcəyini WhatsApp-la elan etdilər Qırğızıstanda 59 nəfər prezident olmaq istəyir \"Üzərimizdə təzyiq var\" - “\"Şerif\"in hücumçusu Arvadına xəyanət edən aparıcı danışdı: \"Problem yoxdur\" 42 saniyə çəkdi: hər kəs bu türkdən danışır - VİDEO Validənin çimərlik VİDEOsu \"İdman Azərbaycan\" kanalından \"Qarabağ\"a görə 100 min tələbi \"Qarabağ\" nə \"Real\", nə də \"Barselona\"dı\" – Federasiya prezidenti \"Məni cinlər göndərdi\" deyib, qarşısına çıxanı bıçaqladı: yaralılar var - VİDEO Əvvəl Nigar, sonra Röya... FOTO \"Fənərbaxça\" və \"Qəbələ\"nin ev sınağı Astaranın Taxtanəkəran-Toradi avtomobil yolu təmir edilir  Yaponiyada yaşlı karateçi ayının hücumundan xilas olub  İngiltərədə simuliyasiyaya yol verən futbolçular iki oyunluq diskvalifikasiya olunacaqlar  “Xalq Kapital” investisiya şirkətinin Bakı Fond Birjasına üzvlüyü bərpa olunub  Prezident Maliyyə Sabitliyi Şurasının Əsasnaməsini təsdiqləyib  OPEC üzrə neft hasilatı artıb  Tbilisidə yeni metro stansiyası açılacaq  Almaniya XİN başçısı: \"Aİ özünü ABŞ-ın sənaye siyasətindən qoruyacaq\"  Rusiya xakerləri maliyyə qurumlarına kiberhücumları artırıb  Qurban Qurbanov: “Şerif”lə görüşdə açıq futbolun olmasını istərdim”  Türkiyə Dini İşlər İdarəsinin sədri təqaüdə çıxıb  Validənin çimərlik görüntülərini yayılıb - VİDEO  Arvadına xəyanət edən aparıcı danışdı: “Problem yoxdur” 42 saniyə çəkdi: hər kəs bu türkdən danışır – VİDEO Validənin çimərlik VİDEOsu “Məni cinlər göndərdi” deyib, qarşısına çıxanı bıçaqladı: yaralılar var – VİDEO  \"Mançester Yunayted\" \"Çelsi\"nin futbolçusunu transfer etdi   \"Tramp həyatının səhvini etdi\" - PREZİDENT Təcili! Ölkə başçısı TAPŞIRIQ VERDİ - 3 aya... Təcili! Aparıcı Xoşqədəm qarğış etdi - \"Ailənizin başına gəlsin\" Qarabağda müharibə alovlanacaq – İrəvan Bakının bu addımından QORXUR Məşhur kanala 100 min cərimə Aparıcı Nanə Türkiyədə bikinisini gizlətməyə çalışdı - FOTOLAR Oğlan uşağı qardaşına hamilə halda doğuldu - İNANILMAZ! Qadınların hamilə qala bilməməsinin - SƏBƏBİ ÜZƏ ÇIXDI \"Xəyalımın gerçək olması \"Qarabağ\"la matçdan asılıdı\" Şagirdləri ilə intim münasibətdə olan fizika müəllimi - FOTO Qurban Qurbanov: \"\"Şerif\"lə görüşdə açıq futbolun olmasını istərdim\" Türkiyədən acı xəbər: Diyarbəkirdə partlayış - Ölənlər var Hindistanda ildırım 35 adamı öldürdü Venesuelada iki müxalifət lideri belə qaçırıldı - VİDEO \"Mənə ev kirayələdi, açarı üzünə tulladım\" - Ağaoğlunun keçmiş sevgilisi \"\"Qarabağ\" '"
      ]
     },
     "execution_count": 6,
     "metadata": {},
     "output_type": "execute_result"
    }
   ],
   "source": [
    "#Displaying first 10000 characters of our vocabulary\n",
    "vocabulary[:10000]"
   ]
  },
  {
   "cell_type": "code",
   "execution_count": null,
   "metadata": {
    "id": "AqDuRbI-FM2Z"
   },
   "outputs": [],
   "source": [
    "#In this cell, we create raw_data that consists of string values which are joining of titles and their corresponding articles.\n",
    "\n",
    "#Initialing empty list for storing the data\n",
    "raw_data = []\n",
    "#Iterating over the length of data\n",
    "for i in range(len(data)):\n",
    "    #Appending titles and articles to raw_data by joining them by empty space\n",
    "    raw_data.append(titles[i] + ' ' + articles[i])"
   ]
  },
  {
   "cell_type": "code",
   "execution_count": null,
   "metadata": {
    "colab": {
     "base_uri": "https://localhost:8080/"
    },
    "id": "tT0nWdNlGTq3",
    "outputId": "9887b870-fdf4-4f98-a501-2af39bd87c97"
   },
   "outputs": [
    {
     "data": {
      "text/plain": [
       "['Naviforce Sport Saat 2016 ilə zövqlərin ahəngi Naviforce Sport Saat 2016 Yapon Mexanizmi Yapon batareykasi Deri Kəmər 1 İL zəmanət Pasport Qutu Su Keçirmir 3 ATM İNDİ SİFARİŞ ET ƏLAQƏ ÜÇÜN 055 239 54 49 BURADAN SİFARİŞ ET var SC_CId = \"150627\",SC_Domain=\"n.ads3-adnow.com\";SC_Start_150627=(new Date).getTime(); Sağlamlıq \\xa0 ',\n",
       " 'Sinir ,oynaq , sinir bel ağrılarına 3 gündə son ! ŞOK ! ŞOK ! ŞOK ! Xanımlar və bəylər , bel və boyun ağrılarına son ! Sinir və oynaq oynaq ağrılarına son !Remmatik ağrılara son !Miqren və şiddətli bel ağrılarına son ! Bu ağrılardan azad olmağa hazırsınız?O zaman sizə HEMANI şirkətinin hər dərdə dəva olan HAZAL kremini təqdim edirik. Bildiyimiz kimi hər kəs bel,boyun və oynaq ağrılarından əziyyət çəkir.Bu ağrılara necə şəfa tapmaq olar? Artıq HEMANI şirkətinin kremi ilə baş ağrılarına,remmatizma ağrılarına,oynaq ağrılarına,miqren ağrılarına son qoyacaqsınız.Tam təbii bitkilərdən hazırlanan,təbiətin möcüzəsi sayılan Hazal kremi həm müalicəvi ,həm də ağrıkəsici bir kremdir.Dünyada Loğman Həkim şirkətinin istehsalı olan bitkilərdən hazırlanan bu kremi milyonlarla insan istifadə etdi və xeyrini gördü. Yaşlı insanlar üçün istifadəsi rahat olsun deyə lasyon halından krem halına çevirdik. Kremin əsas özünəməxsusluğu ondan ibarətdir ki,həm müalicəvi kremdir,həm də yeni yaranan ağrıları həmən aradan qaldırır.Artıq aslılıq yaradan ağrıkəsicilərə ehtiyyac qalmayacaq. Kremiağrı olan nahiyəyə massaj şəklində yayacaqsınız və 5 dəqiqə ərzində ağrılardan azad olacaqsınız.5 dəqiqə ərzində aradan qaldırmaqla yanaşı ağrı olan nahiyəni müalicə edir.Tablet deyil,kapsula deyil sadəcə istifadəsi çox rahat olan şəfalı bitki tərkibli,dəva kremidir.Bu krem yalnız yaşlılar üçün deyil,hər kəs üçün nəzərdə tutulub.Hər dərdə Haza kremi artıq Azərbaycanda. ƏLAQƏ ÜÇÜN 055 239 54 49 BURADAN SİFARİŞ ET var SC_CId = \"150627\",SC_Domain=\"n.ads3-adnow.com\";SC_Start_150627=(new Date).getTime(); Sağlamlıq \\xa0 ',\n",
       " 'Dəyərindən qat-qat aşağı qiymətə Mənzil Dəyərindən qat-qat Aşağı Qiymətə. Həzi Aslanov metrosunun çıxışın da 17 mərtəbəli binanın 17-ci mərtəbəsində yerləşən sahəsi 70 kvm + 24 kvm 2 otaqlı təmirli mənzil satılır Binada qaz, işıq və su daimidir. Istilik sistemi, kombi. Binanın 2 sürətli lifti , mühafizəsi var.Mənzilin qiyməti 61 000 manatdır . Aformleniya pulu qiymətə daxildir. Binanın ətrafın da Məktəb, bağça, marketlər və ticarət mərkəzləri və s. fəaliyyət gostərir ƏLAQƏ NÖMRƏSİ:(055)-522-01-50,(070)-722-11-51 Bura daxil olun var SC_CId = \"150627\",SC_Domain=\"n.ads3-adnow.com\";SC_Start_150627=(new Date).getTime(); Maraqlı \\xa0 ',\n",
       " '2024 və 2028-ci il olimpiadalarının keçiriləcəyi şəhərlər müəyyənləşib   2028-ci il Yay Olimpiya və Paralimpiya Oyunları ABŞ-ın Los-Anceles şəhərində keçiriləcək.\"Report\"un məlumatına görə, Beynəlxalq Olimpiya Komitəsi (İOC) Los-Anceleslə razılaşmanı rəsmən təsdiqləyib.Anlaşmaya əsasən, İOC qarşıdakı 11 il ərzində Oyunların gələcək ev sahibinin gənclər və uşaq-yeniyetmələrlə bağlı idman proqramını maliyyələşdirmək üçün 1,8 milyard dollar ayıracaq. Yekun qərar üçün İOC, Los-Anceles və hazırkı vəziyyətdə 2024-cü il Oyunlarını qəbul etməli olan Fransanın paytaxtı Paris arasında üçtərəfli müqavilənin ratifikasiya olunması lazımdır. Anlaşmanın sentyabrın 13-də Perunun paytaxtı Limada keçiriləcək İOC-un 131-ci sessiyasında imzalanması planlaşdırılır. Los-Anceles 1932 və 1984-cü illərdən sonra tarixdə üçüncü dəfə Yay Olimpiya Oyunlarının təşkilatçısı olacaq. Sonuncu dəfə ABŞ-da 1996-cı il Atlanta Yay və 2002-ci il Solt Leyk Siti Qış Olimpiya Oyunları keçirilib. 2024-cü il olimpiadasına namizəd kimi Paris və Los-Anceles qaldıqdan sonra İOC prezidenti Tomas Bax bu və sonrakı Oyunlara ev sahibliyini iki şəhər arasında bölüşdürməyi təklif etmişdi. ',\n",
       " 'Türkiyədə zəlzələ   Türkiyədə daha bir zəlzələ meydana gəlib. \\xa0 Lent.az-ın “musavat.com”-a istinadən məlumatına görə, zəlzələ Muğla əyalətinin Gökova sahillərində baş verib. Qısa müddətdə baş verən silkələnmə hiss olunub və sakinləri qorxuya salıb. Türkiyə seysmoloji mərkəzindən verilən məlumata əsasən, zəlzələ Rixter şkalası üzrə 4.1 bal gücündə olub. \\xa0 \\xa0Tələfat və dağıntılar haqqında məlumat verilməyib. ',\n",
       " 'Yay Olimpiadası-2024-ün ev sahibi bəlli oldu   2024-cü il Yay Olimpiya Oyunlarının Parisdə keçirilməsi demək olar ki, dəqiqləşib. Apasport.az saytının məlumatına görə, buna səbəb sona qalan iki namizəd şəhərdən digərinin – Los Ancelesin müraciəti olub. \\xa0 Bu barədə BOK prezidenti Tomas Bax da açıqlama verib. O, bildirib ki, Los Ancelesin Olimpiya və Paralimpiya Namizəd Komitəsi daha uzunmüddətli planları olduğunu əsas gətirərək təşkilatçılığı 2028-ci ildə etmək istəyiblər. Belə olan halda isə ev sahibliyi üçün sadəcə bir namizəd – Paris qalıb. \\xa0 Maraqlıdır ki, BOK-un bir sıra rəsmiləri bu qərara etiraz etsələr də, sonda Baxın istədiyi olub. Xüsusilə də, vitse-prezidenti Uğur Erdener başda olmaqla, bəzi BOK üzvləri bu ideya ilə razılaşmırdılar. Onların fikrincə, təşkilatçının 11 il əvvəl seçilməsi mümkün deyil. Bu həm də 2024-cü il deyil, 2028-ci ilə namizədliyini verməyi planlaşdırılanların haqqının yeyilməsi deməkdi. \\xa0 Qeyd edək ki, Olimpiada-2024-ün ev sahibi bu il sentyabrın 13-də BOK-un Limadakı sessiyasında rəsmi elan olunacaq. ',\n",
       " 'ABŞ-ın Rusiyadakı səfirliyi viza verilməsi üzrə imtinaların sayını çoxaldıb   Moskvanın ABŞ səfirliyi ştatının azaldılması barədə qərarından sonra Rusiyada Amerika vizalarının verilməsi üzrə imtinaların sayı xeyli artıb.\"Report\" xəbər verir ki, bu barədə \"The New York Tmes\" nəşri yazıb.Nəşrin rəyinə görə, bu, səfirliyin bəzi funksiyalarını, xüsusilə viza verilməsini poza bilər.Viza verilməsi ilə məşğul olan şirkət əməkdaşı Şavkat Butayev bildirib ki, viza verilməsinə imtinaların sayı indidən artıb:\"Heç vaxt belə şey olmayıb: hər gün 50-60 adama rədd cavabı verirlər, onların əksəriyyəti gənc qadınlardır\", — deyə Butayev bildirib. ',\n",
       " 'İlan Syalom: \"Dağlıq Qarabağ münaqişəsinin yenidən qızışması regionda faciə ilə nəticələnə bilər\"   \"İrəvan yaxınlığında yerləşən Metsamor nüvə stansiyası çox baxımsız və acınacaqlı vəziyyətdə fəaliyyət göstərir və Dağlıq Qarabağ münaqişənin yenidən qızışması regionda faciə ilə nəticələnə, təbiətə olmazın ziyanlar vura bilər\".\"Report\"un Fransa bürosunun verdiyi məlumata görə, bunu \"bloqs.alternatives-economiques.fr\" internet blokuna verdiyi \"Dağlıq Qarabağ münaqişəsi hədələyir\" başlıqlı müsahibəsində Avropada Prospektiv və Təhlükəsizlik İnstitutunun (IPSE) geosiyasətçisi və tədqiqatçı alimi İlan Syalom deyib.O, müsahibəsində Dağlıq Qarabağ münaqişəsi ilə bağlı həqiqətlərdən danışıb. Tədqiqatçı beynəlxalq ictimaiyyətin bütün diqqətlərin Suriya və Simali Koreyaya yönəldiyi halda, Dağlıq Qarabğ münaqişəsini lazımınca qiymətləndirmədiyini qeyd edib.\"İyirmi beş ildir ki, Azərbaycan ərazilərinin 25 faizi Ermənistan tərəfindən işğal olunub və nəticədə yüz minlərlə insan həyatını itirib, minlərlə insan qaçqın düşüb. 2016-cı ilin aprel ayında 4 gün davam edən döyüşlər 200-ə yaxın insanın ölümü ilə nəticələnib. 4 İyul tarixində isə Ermənistan silahlı bölmələrinin atdığı top atəşi nəticəsində iki nəfər mülki şəxs - nənə və onun 2 yaşlı nəvəsi dünyasını dəyişib. Top atəşi Azərbaycan ərazisinin tərkibində, sərhəddən 5 km. aralıda yerləşən Alxanlı kəndinə qəsdən tuşlanıb. Bu faciəvi hadisəyə reaksiya verənlərin sayı hədsiz çox oldu. Ünvanladığı açıq məktubunda Avropa Parlamentinin vitse-prezidenti Riçard Çarnetski və Azərbaycan üzrə Avropa Parlamentinin məruzəçisi Norika Nikolay Ermənistanın təcavüzünü pisləyərək bildiriblər ki, mülkü şəxslərin, qadınların və uşaqların qəsdən qətlə yetirilməsi yolverilməzdir və buna dərhəl son qoyulmalıdır\", - deyə alim qeyd edib.İ.Syalom jurnalistin \"Bu münaqişə yenidən vüsət alarsa, ən pis halda nə baş verə bilər?\" sualına belə cavab verib:\"İrəvan yaxınlığında yerləşən Metsamor nüvə stansiyası çox baxımsız və acınacaqlı bir vəziyyətdə fəaliyyət göstərir və bu münaqişənin yenidən qızışması regionda faciə ilə nəticələnə, təbiətə olmazın ziyanlar vura bilər\".Münaqişənin diplomatik müzakirələr yolu ilə həllindən danışan İlan Syalom bildirib ki, əslində Dağlıq Qarabağ münaqişəsi dövlətlər üçün prioriotet məsələ olana mənzəmir. Belə ki, Ermənistan silahlı qüvvələrinin Dağlıq Qarabağdan çıxmasını tələb BMT tərəfindən 4 qətnamənin qəbul olunmasına baxmayaraq, işğal davam etməkdədir.Dağlıq Qabağ münaqişəsinin həllinin vacib bir məsələ olduğunu deyən alim ABŞ və Avropa İttifaqının Bakıya siyasi, diplomatik və hərbi dəstək göstərməsinin əhəmiyyətinə toxunub və bildirib ki, Qafqazda yerləşən bu kiçik ölkə Vaşinqton və Brüsselin reginda ən stabil və etibarlı tərəfdaşıdır. ',\n",
       " 'Yunanıstanda 5.1 bal gücündə zəlzələ oldu   Aralıq dənizində 5.1 bal gücündə zəlzələ baş verib. \\xa0 APA-nın \"Anadolu\" agentliyinə istinadən verdiyi xəbərə görə, zəlzələ yerli vaxtla saat 00:29-da qeydə alınıb. \\xa0 Yeraltı təkanların episentri Yunanıstanın Krit adaları sahillərində, ocağı isə 6,6 km dərinlikdə yerləşib. Dağıntı və zərərçəkənlər barədə məlumat verilmir. ',\n",
       " 'Mərakeşli sərnişinin mədəsindən 102 kapsul narkotik çıxdı   Mərakeşdən Türkiyəyə gələn sərnişinin mədəsindən 102 kapsul narkotik maddə çıxıb. \\xa0 Lent.az-ın “musavat.com”-a istinadən məlumatına görə, İstanbul Polis İdarəsinin Narkotiklə Mübarizə Şöbəsinin polisləri Mərakeşin Kasablanka şəhərindən təyyarə ilə İstanbula gələn şübhəli şəxsin üzərində axtarış aparıblar. Axtarış zamanı M.M. ad-soyadlı mərakeşlinin çemodanından 9 bağlama narkotik maddə tapılıb. Daha sonra polislər 41 yaşlı mərakeşlini Hasaki dövlət xəstəxanasına apararaq rentgen müayinəsi keçiriblər və onun mədəsindən 102 kapsul narkotik maddə aşkarlanıb. \\xa0 Saxlanılan mərakeşli narkokuryer məhkəməyə çıxarılaraq həbs edilib. ',\n",
       " 'Məşhur müğənni səhnədə ayaq üstə dayana bilmədi - FOTOLAR   Müğənni Sərdar Ortaç məşhur otellərdən birində konsert proqramı ilə çıxış edib. \\xa0 Axşam.az-ın Türkiyə mətbuatına istinadən məlumatına görə, konsert boyu ifaçı çətin anlar yaşayıb. \\xa0 Belə ki, dağınıq skleroz (sinir sisteminin iltihabi xəstəliyi olub, baş və onurğa beynində sinir hüceyrələrinin örtük qişasının zədələnməsi ilə müşahidə olunur) xəstəliyindən əziyyət çəkən Sərdar səhnədə ayaq üstə\\xa0 dayana bilməyib. \\xa0 O, əvvəlcə avandanlıqların üstündə oturub, daha sonra rəqqasələrdən tutaraq ayaqda mahnı oxuyub, sonda isə səhnədə diz üstə oturub ifasına davam edib. \\xa0 ',\n",
       " 'Banklar üçün ziyan nə qədər olub?  \"Kasperski laboratoriyası\" antivirus şirkəti 2016-cı ildə maliyyə müəssisələri üçün təhlükələrin tədqiqatını aparıb. \\xa0 Milli.Az ICTnews-a istinadən bildirir ki, şirkətlər \"DDoS\" hücumlarından getdikcə daha çox ziyan çəkir. Statistikaya görə, 2016-cı ildə hər dördüncü bank (26 faiz) \"DDoS\" hücumları ilə qarşılaşıb. Maliyyə təşkilatları üçün bu göstərici ümumilikdə 22 faiz təşkil edib. Banklar üçün bu növ hücumdan orta ziyan 1,17 milyon dollara, digər sahələrin müəssisələri üçün 952 min dollara bərabər olub. \\xa0 \\xa0 Bildirilir ki, ziyan çəkən təşkilatların 52 faizi ictimai internet servislərinin işindən uzun müddət istifadə edə bilməyib və ya keyfiyyətinin pisləşməsi ilə rastlaşıb. İnsidentlərin 43 faizində \"DDoS\" hücumundan digər zərərli əməliyyatların həyata keçirilməsi üçün maskalanma kimi istifadə olunub. Bank saytları tez-tez belə hücumların hədəfinə çevrilsə də, bu, yeganə zəif yer deyil. Təxminən bir o qədər sayda respondentin (48 faiz) internet bankçılığı və onlayn servisləri \"DDoS\" hücumlarına məruz qalıb. \\xa0 \\xa0 Şirkətin \"Kaspersky DDoS Protection\" istiqamətinin rəhbəri Aleksey Kiselev qeyd edib ki, bank sektorunda böyük əhəmiyyətə malik reputasiya təhlükəsizliklə sıx əlaqədardır. \"Bankın onlayn servislərindən istifadə qeyri-mümkün olan zaman bu, müştərilərin etibarını sarsıdır. İnternet bankçılığı ilə əlaqədar kiberinsidentlərdən səmərəli mühafizə üçün şirkətlər onlara daha hazırlıqlı olmalıdır. Məsələn, \"DDoS\" hücumlarını mümkün qədər tez müəyyənləşdirən və onları dəf edə bilən həllərə daha çox diqqət yetirilməlidir\", - şirkət nümayəndəsi vurğulayıb.\\xa0\\xa0  ',\n",
       " 'Açıq məkandakı miniatürlər - FOTO  Art-instalyasiyalar ustası Ayzek Kordel Polşadakı Lodz şəhərində yeni miniatür instalyasiyasını başa vurub. Milli.Az Kordelin əsərini təqdim edir. Milli.Az ',\n",
       " 'Corc Kluni suriyalı uşaqların məktəbinə 2,25 mln. dollar ianə verəcək   Aktyor Corc Kluni və onun həyat yoldaşı Amaliya bazar ertəsi Livanda yaşayan üç min suriyalı qaçqın uşaq üçün yeddi məktəbin inkişafına 2,25 milyon həcmində vəsait ayırmaq niyyətində olduqlarını bəyan ediblər.\"Report\" TASS-a istinadən xəbər verir ki, bu barədə Kluni ailəsi fondunun rəsmi saytı məlumat yayıb.\"Biz yalnız münasib olmayan vaxtda və yerdə doğulduqlarına görə, bütöv bir nəsli itirməyi özümüzə rəva görə bilmərik. Minlərlə gənc suriyalı heç vaxt cəmiyyətimizin tam hissəsi ola bilməmək riski ilə üz-üzədir. Məktəb təhsili onlara öz həyatlarını dəyişmək üçün kömək edəcək\", - deyə Kluni bildirib. ',\n",
       " 'Forbes: \"Bakıda olmuş hər bir kəs ora yenə qayıtmaq arzusu ilə yaşayır və növbəti dəfə tək qayıtmır\"   ABŞ-ın Fransa və Böyük Britaniyada geniş oxucu kütləsi qazanmış iqtisadiyyat mövzusunda məqalələr dərc edən \"Forbes\" qəzetində Azərbaycanın maddi və mənəvi irsi, təbii sərvətlərinə həsr olunmuş məqalə dərc edilib.\"Report\"un Fransa bürosu xəbər verir ki, müəllif Stefan Rabimov öz məqaləsində bir çox ölkələrin şərq və qərbin kəsişdiyi məkan tituluna iddia etdiyini, lakin Azərbaycan xalqı və paytaxt Bakının layiqli şəkildə bu şərəfli titulu qazana bildiyini vurğulayır.S.Rabimov yazır ki, 2012-ci ildə dünyada öz adı ilə məşhur olan Avroviziya mahnı müsabiqəsini qəbul edən, 2015-ci ildə Avropa Olimpiya Komitəsi tərəfindən Avropa Oyunlarının təşkil edildiyi Bakı şəhəri, bu il İslam Həmrəylik Oyunları çərçivəsində 56 Orta Sərq, Asiya və Afrika ölkəsindən olan atletləri qarşılayıb.O, bildirib ki, \"Formula-1\" yarışı, Novruz festivalının keçirildiyi Bakı iki milyona yaxın qonağı öz ağuşuna almağı bacarıb.Azərbaycanın təbii nemətlərindən yazan müəllif qeyd edib ki, ölkədə neftdən hazırlanan məhsullar hətta əfsanəvi səyahətçi Marko Polo tərəfindən sənədləşdirilib. XX əsrin əvvəllərində Bakı nefti yer üzünün yarısını təmin edə bilib. 1991-ci ildən müstəqillik əldə etdikdən sonra tarixi investisiyası və geniş qaz yataqlarının istismarı bu ölkəni yenidən \"təbii yanacaq lideri\"nə çevirib.S.Rabimov yazır ki, Bakıda YUNESKO-nun irsinə daxil olan və böyük maraq doğuran möhtəşəm tarixi abidələr mövcuddur və çox maraqlı tədbirlər baş tutur. Yer üzündə olan 20 iqlim qurşağından 12-si Azərbaycanda var. Bu məkanda dəniz, başı qarlı dağlar, ucu-bucağı bilinməyən meşələr və hətta göz işlədikcə uzanan çöllər mövcuddur. Fəslindən, ayından asılı olmayaraq Azərbaycana gəlmiş heç bir qonağın darıxdığına rast gəlmək mümkün deyil. Bakıda qonaq olmuş hər bir kəs bu şəhərə bir də qayıtmaq arzusu ilə yaşayır və növbəti dəfə ora tək yox, yaxınları, dostları, tanışları ilə qayıdır. ',\n",
       " 'Şenol Günəş Türkiyə millisinə “YOX” dedi   Şenol GünəşTürkiyə millisinin baş məşqçisi olmaqdan imtina edib \\xa0 “Beşiktaş” klubunun baş məşqçisi Şenol Günəşin Türkiyə millisinin baş məşqçisi vəzifəsinə gətirilməsi baş tutmayıb. \\xa0 APA TV-nin məlumatına görə, Türkiyə Futbol Federasiyası Şenol Günəşə “Beşiktaş”la yanaşı milli komandaya da dörd oyunda rəhbərlik etməyi təklif etmişdi. \\xa0 Lakin “Beşiktaş” klubu açıqlama yayaraq, həm klub prezidentinin, həm də Şenol Günəşin təkliflə razılaşmadığını bildirib. Klubun bəyanatında deyilir ki, Türkiyə Futbol Federasiyasının təklif etdiyi model nə milli komandaya, nə də Çempionlar Liqasında mübarizə aparan “Beşiktaş”a fayda verə bilər. \\xa0 Türkiyə Futbol Federasiyası bu mövqeyə hörmətlə yanaşdığını açıqlayıb. KİV-in yaydığı məlumata görə, federasiya analoji təkliflə “Medipol Başakşehir” klubunun baş məşqçisi Abdulla Avcıya müraciət etməyə hazırlaşır. \\xa0 \\xa0 ',\n",
       " '“GoPro QuikStories” videonu avtomatik ötürəcək - VİDEO  \"GoPro\" şirkəti qısa videoların yaradılması və onların sosial şəbəkələrdə dərc edilməsi üçün nəzərdə tutulan yeni \"QuikStories\" funksiyasını təqdim edib. \\xa0 Milli.Az ICTnews-a istinadən bildirir ki,\\xa0 \"Quik\" redaktorunun yeni funksiyası olan \"QuikStories\" əvvəllər qısa videoların yaradılmasını dəstəkləsə də, indi bunu avtomatik edəcək. Yenilənmə, həmçinin \"GoPro Hero 5\" kamerası ilə son çəkilmiş videoları fon rejimində smartfona ötürməyə imkan verəcək və bundan sonra \"Quik\" əlavəsi redaktə etməyə başlayacaq. \\xa0 \"GoPro\" xəbərdarlıq edir ki, kameranın enerjisi 20 faizdən çox olmalıdır, əks halda faylların ötürülməsi dayandırıla bilər. Uzun videoçarxların ən yaxşı fraqmentlərini kəsən \"Quik\" redaktoru kompüter görmə qabiliyyətindən istifadə edir. \\xa0 Şirkət \"QuikStories\" vasitəsilə istifadəçiləri daha çox keyfiyyətli kontent yaratmağa və onları sosial şəbəkələrdə paylaşmağa stimullaşdırmaq niyyətindədir.  ',\n",
       " 'Tilsim qırıldı: “Qarabağ” pley-off mərhələsində! YENİLƏNİB - VİDEO - FOTO  23:00 Bu gün Çempionlar Liqasında III təsnifat mərhələsinin cavab oyunlarına start verilib. Milli.Az\\xa0apasport.az-a istinadən xəbər verir ki,Azərbaycan çempionu \"Qarabağ\" növbəti avrokubok sınağına çıxıb. Ağdam təmsilçisi Moldovada bu ölkənin ən titullu klubu \"Şerif\"in qonağı olub. Bakıda rəqibini məğlub edə bilməyən (0:0) Qurban Qurbanovun yetirmələri\\xa0səfərdə qələbəyə sevinib. Ardıcıl 4-cü dəfə Çempionlar Liqasının III təsnifat mərhələsinə yüksələn ağdamlılar tilsimlənmiş raundu nəhayət keçə bilib.\\xa0Əvvəlki üç mövsümdə \"Zalsburq\", \"Seltik\" və \"Viktoriya\" sədlərinə ilişdikdən sonra mübarizəni Avropa Liqasında davam etdirən \"Qarabağ\" bu xoşagəlməz tendensiyanı qırıb. Tiraspolda uğur qazanmaqla bu turnirin pley-offuna yüksələn \"Qarabağ\" qrup mərhələsinə vəsiqəni təmin edib. Çünki növbəti raundda məğlubiyyət Avropa Liqasının, qələbə isə Çempionlar Liqasının əsas mərhələsinə vəsiqə verir.\\xa0 Çempionlar Liqası III təsnifat mərhələsi, cavab oyunu 1 avqust \"Şerif\" (Moldova) - \"Qarabağ\" (Azərbaycan) -\\xa01:2 Qollar:\\xa0Badibanqa, 90+4 (pen.) - Ndlovu, 45+3, Miçel, 86 Baş hakim: Roy\\xa0Reynşreyber Baş hakimin köməkçiləri:\\xa0Amihay Yehoşua Mozes, Dan\\xa0Uçeniç Dördüncü hakim: Daniel\\xa0Bar Natan (hamısı İsrail) UEFA nümayəndəsi: Edqars\\xa0Pukinsks (Latviya) Hakim-inspektor:\\xa0Paulius Malzinskas (Litva) Tiraspol. \"Şerif\" stadionu İlk oyun - 0:0 \"Şerif\":\\xa01. Zvonimir Mikuliç, 4. Petru Raku, 6. Viktor Oliveyra, 8. Ceremi De Noyer, 15. Kristiano da Silva, 20. Kirill Bayala, 30. Yosip Brezoveç, 39. Ziquy Badibanqa, 55. Mateo Suşiç, 90. Vyaçeslav Posmak, 99. Vitalie Damaşkan Ehtiyat oyunçular:\\xa025. Sergey Yuriç, 3. İon Yardan, 9. Stefan Muqoşa, 14. Benjamin Balima, 18. George Anton, 32. Yevgeni Oansea, 37. Vitalie Bordian Baş məşqçi:\\xa0Roberto Bordin \"Qarabağ\":\\xa013. İbrahim Şehiç, 2. Qara Qarayev, 5. Maksim Medvedev, 8. Miçel, 9. Dino Ndlovu, 11. Mahir Mədətov, 14. Rəşad Sadıqov, 17. Donald Gerrye, 20. Riçard Almeyda, 25. Ansi Aqolli, 55. Bədavi Hüseynov Ehtiyat oyunçular:\\xa01. Anton Kanibolotski, 7. Rahid Əmirquliyev, 22. Əfran İsmayılov, 32. Elvin Yunuszadə, 44. Ağabala Ramazanov, 52. Yakup Jejniçak, 91. Coşqun Diniyev Baş məşqçi:\\xa0Qurban Qurbanov 1. Matç başladı 16. \"Qarabağ\" künc zərbəsi yerinə yetirir. Geryenin ötürməsini müdafiəçilər uzaqlaşdırdılar. 20. \"Şerif\" Susiçlə qola yaxın oldu, İbrahim Şehiç komandasını xilas etdi. 23. Maksim Medvedev qaydanı pozdu. Müdafiəçi Badibanqaya qarşı kobud oynadı. 25. Miçel də Badibanqanı yolverilməz fəndlə dayandırdı. 26. \"Şerif\" qola yaxın oldu.\\xa0Brezoveçin cərimə zərbəsindən ötürdüyü topu Raku qapıya yönəltsə də, Şehiç bu dəfə yaxşı oynadı. 28.\\xa0SARI VƏRƏQƏ:\\xa0\"Qarabağ\"ın heyətində Donald Gerye \"fərqlənir\". Oyunçu rəqibə qarşı kobudluğa görə sarı vərəqə ilə cəzalandırıldı. 31. Brezoviçin zərbəsindən sonra Şehiç yaxşı oynadı. 31.\\xa0ƏVƏZETMƏ:\\xa0\"Qarabağ\"da Yakub Jejniçak Maksim Medvedevi əvəzlədi. 33. İbrahim Şehiç bu\\xa0dəfə də Damaşkanın zərbəsindən sonra qola icazə vermədi. 35.\\xa0SARI VƏRƏQƏ:\\xa0Miçel də hakim tərəfindən xəbərdarlıq alır. 38.\\xa0SARI VƏRƏQƏ:\\xa0Dino Ndlovuya qarşı kobud oynayan \"Şerif\"in futbolçusu Posmak da cəzalandırılır. 39. Qara Qrayevin cərimə zərbəsi qapıdan aralı keçir. 42. Geryenin zərbəsindən sonra rəqib qapıçı topu doqquzluqdan çıxartdı. 43. Künc zərbəsindən sonra Yakub Jejniçakın zərbəsi qapıdan aralı keçdi. 44.\\xa0SARI VƏRƏQƏ:\\xa0\"Şerif\"in heyətində Damaşkan xəbərdarlıq aldı 45. \"Qarabağ\"da Jejniçak zədələnib. Damaşkanın zərbəsindən sonra onun burnu qanayıb. Polşalı futbolçu oyuna davam edir. 45+1. Hakimlər matçın ilk hissəsinə 5 dəqiqə əlavə ediblər. 45+3.\\xa0QOOOLLL...\\xa0\"Qarabağ\" hesabı açdı. Dino Ndlovu reydini əla zərbə ilə tamamladı -\\xa00:1 45+5. İlk hissə başa çatdı: \"Şerif\" - \"Qarabağ\" - 0:1 46. İkinci hissə başladı. 47.\\xa0SARI VƏRƏQƏ:\\xa0\"Şerif\"in heyətində Brezoviç sarı vərəqə ilə cəzalandırıldı. 54. Brezoviçin zərbəsində\\xa0Şehiç topu qapıdan çıxardır. 57.\\xa0SARI VƏRƏQƏ:\\xa0İbrahim Şehiç vaxtı uzatdığı üçün cəzalandırılır. 60.\\xa0ƏVƏZETMƏ:\\xa0Mahir Mədətovun əvəzinə meydana Əfran İsmayılov daxil olur. 64. \"Şerif\"in heyətində Brezoviçin zərbəsi qapıdan aralı keçir. 66. Geryenin künc zərbəsindən ötürdüyü topu rəqib müdafiəçilər uzaqlaşdıra bildilər. 72. Riçard Almeydanın təhlükəli zərbəsini \"Şerif\"in qapıçısı Mikuliç dəf etdi. 73.\\xa0SARI VƏRƏQƏ:\\xa0Bayalaya qarşı kobud oynayan Ansi Aqolli sarı vərəqə ilə cəzalandırılıdı. 80. Dino Ndlovunun təhlükəli zərbəsini qapıçı Mikuliç dəf edə bilir. 86.\\xa0QOOOOLLL...\\xa0Miçel Aqollinin ötürməsindən sonra başla dəqiq oynayır - 0:2 90. Hakim ikinci hissəyə 3 dəqiqə əlavə edir. 22:47 Çempionlar Liqası III təsnifat mərhələsi, cavab oyunu 1 avqust \"Şerif\" (Moldova) - \"Qarabağ\" (Azərbaycan) -\\xa00:1 Qol:\\xa0Ndlovu, 45+3 22:37 Çempionlar Liqası III təsnifat mərhələsi, cavab oyunu 1 avqust \"Şerif\" (Moldova) - \"Qarabağ\" (Azərbaycan) -\\xa00:1 Qol:\\xa0Ndlovu, 45+3 22:16 Çempionlar Liqası III təsnifat mərhələsi, cavab oyunu 1 avqust \"Şerif\" (Moldova) - \"Qarabağ\" (Azərbaycan) -\\xa00:1 Qol:\\xa0Ndlovu, 45+3 Baş hakim: Roy\\xa0Reynşreyber Baş hakimin köməkçiləri:\\xa0Amihay Yehoşua Mozes, Dan\\xa0Uçeniç Dördüncü hakim: Daniel\\xa0Bar Natan (hamısı İsrail) UEFA nümayəndəsi: Edqars\\xa0Pukinsks (Latviya) Hakim-inspektor:\\xa0Paulius Malzinskas (Litva) Tiraspol. \"Şerif\" stadionu İlk oyun - 0:0 21:59 Çempionlar Liqası III təsnifat mərhələsi, cavab oyunu 1 avqust \"Şerif\" (Moldova) - \"Qarabağ\" (Azərbaycan) -\\xa00:1 Qol:\\xa0Ndlovu, 45+3 Baş hakim: Roy\\xa0Reynşreyber Baş hakimin köməkçiləri:\\xa0Amihay Yehoşua Mozes, Dan\\xa0Uçeniç Dördüncü hakim: Daniel\\xa0Bar Natan (hamısı İsrail) UEFA nümayəndəsi: Edqars\\xa0Pukinsks (Latviya) Hakim-inspektor:\\xa0Paulius Malzinskas (Litva) Tiraspol. \"Şerif\" stadionu İlk oyun - 0:0 Videonu izləmək üçün şəklə klikləyin: 21:47 Çempionlar Liqası III təsnifat mərhələsi, cavab oyunu 1 avqust \"Şerif\" (Moldova) - \"Qarabağ\" (Azərbaycan) -\\xa00:0 21:24 Çempionlar Liqası III təsnifat mərhələsi, cavab oyunu 1 avqust \"Şerif\" (Moldova) - \"Qarabağ\" (Azərbaycan) -\\xa00:0 21:07 Çempionlar Liqası III təsnifat mərhələsi, cavab oyunu 1 avqust \"Şerif\" (Moldova) - \"Qarabağ\" (Azərbaycan) -\\xa00:0 Baş hakim: Roy\\xa0Reynşreyber Baş hakimin köməkçiləri:\\xa0Amihay Yehoşua Mozes, Dan\\xa0Uçeniç Dördüncü hakim: Daniel\\xa0Bar Natan (hamısı İsrail) UEFA nümayəndəsi: Edqars\\xa0Pukinsks (Latviya) Hakim-inspektor:\\xa0Paulius Malzinskas (Litva) Tiraspol. \"Şerif\" stadionu İlk oyun - 0:0 \"Şerif\":\\xa01. Zvonimir Mikuliç, 4. Petru Raku, 6. Viktor Oliveyra, 8. Ceremi De Noyer, 15. Kristiano da Silva, 20. Kirill Bayala, 30. Yosip Brezoveç, 39. Ziquy Badibanqa, 55. Mateo Suşiç, 90. Vyaçeslav Posmak, 99. Vitalie Damaşkan Ehtiyat oyunçular:\\xa025. Sergey Yuriç, 3. İon Yardan, 9. Stefan Muqoşa, 14. Benjamin Balima, 18. George Anton, 32. Yevgeni Oansea, 37. Vitalie Bordian Baş məşqçi:\\xa0Roberto Bordin \"Qarabağ\":\\xa013. İbrahim Şehiç, 2. Qara Qarayev, 5. Maksim Medvedev, 8. Miçel, 9. Dino Ndlovu, 11. Mahir Mədətov, 14. Rəşad Sadıqov, 17. Donald Gerrye, 20. Riçard Almeyda, 25. Ansi Aqolli, 55. Bədavi Hüseynov Ehtiyat oyunçular:\\xa01. Anton Kanibolotski, 7. Rahid Əmirquliyev, 22. Əfran İsmayılov, 32. Elvin Yunuszadə, 44. Ağabala Ramazanov, 52. Yakup Jejniçak, 91. Coşqun Diniyev Baş məşqçi:\\xa0Qurban Qurbanov 20:11 Bu gün Çempionlar Liqasında III təsnifat mərhələsinin cavab oyunlarına start veriləcək. Milli.Az\\xa0apasport.az-a istinadən xəbər verir ki, Azərbaycan çempionu \"Qarabağ\" növbəti avrokubok sınağına çıxacaq. Ağdam təmsilçisi Moldovada bu ölkənin ən titullu klubu \"Şerif\"in qonağı olacaq. Bakıda rəqibini məğlub edə bilməyən (0:0) Qurban Qurbanovun yetirmələrini səfərdə qollu heç-heçə də qane edir. Mərhələ keçmək, bunu oyunu penaltilər seriyasına daşımadan gerçəkləşdirmək üçün \"Qarabağ\" mütləq qol vurmalıdı. Cari mövsüm keçirdiyi 3 oyunda 6 qol vuran təmsilçimizin məhsuldarlığı Tiraspolda uğura ümid etməyə əsas verir. Ardıcıl 4-cü dəfə Çempionlar Liqasının III təsnifat mərhələsinə yüksələn ağdamlılar tilsimlənmiş raundu keçməyə iddialıdı. Əvvəlki üç mövsümdə \"Zalsburq\", \"Seltik\" və \"Viktoriya\" sədlərinə ilişdikdən sonra mübarizəni Avropa Liqasında davam etdirən \"Qarabağ\" bu xoşagəlməz tendensiyanı qırmalıdı. Düzdü, son üç ildə daha aşağı səviyyəli turnirə \"göndərilən\" çempionumuz pley-offu adlamağı bacarıb. Bu da qrupda oynamaq imkanı verib. Lakin ağdamlılar tarix yazmaq şansından yararlanmaq niyyətindədi. İndiyədək heç bir Azərbaycan klubu qitənin ən nüfuzlu klub turnirinin pley-offunda oynamayıb. 3 imkanı qaçıran \"Qarabağ\"la yanaşı, \"Bakı\" və \"Neftçi\"nin də bu raundun astanasında dayandığını nəzərə alsaq, klublarımızın 5 cəhdi uğursuz alınıb. Tiraspolda uğur qazanmaqla bu turnirin pley-offuna yüksələcək \"Qarabağ\" qrup mərhələsinə vəsiqəni təmin edəcək. Çünki növbəti raundda məğlubiyyət Avropa Liqasının, qələbə isə Çempionlar Liqasının əsas mərhələsinə vəsiqə verir. \"Şerif\" səddi keçilməsə, \"Qarabağ\" yenidən Avropa Liqasının pley-offunda oynamalı olacaq. Qeyd edək ki, Tiraspolun \"Şerif\" stadionunda keçiriləcək qarşılaşma Bakı vaxtı ilə saat 21:00-da başlayacaq. Çempionlar Liqası III təsnifat mərhələsi, cavab oyunu 1 avqust 21:00. \"Şerif\" (Moldova) - \"Qarabağ\" (Azərbaycan) Baş hakim: Roy\\xa0Reynşreyber Baş hakimin köməkçiləri:\\xa0Amihay Yehoşua Mozes, Dan\\xa0Uçeniç Dördüncü hakim: Daniel\\xa0Bar Natan (hamısı İsrail) UEFA nümayəndəsi: Edqars\\xa0Pukinsks (Latviya) Hakim-inspektor:\\xa0Paulius Malzinskas (Litva) Tiraspol. \"Şerif\" stadionu İlk oyun - 0:0 \"Şerif\":\\xa01. Zvonimir Mikuliç, 4. Petru Raku, 6. Viktor Oliveyra, 8. Ceremi De Noyer, 15. Kristiano da Silva, 20. Kirill Bayala, 30. Yosip Brezoveç, 39. Ziquy Badibanqa, 55. Mateo Suşiç, 90. Vyaçeslav Posmak, 99. Vitalie Damaşkan Ehtiyat oyunçular:\\xa025. Sergey Yuriç, 3. İon Yardan, 9. Stefan Muqoşa, 14. Benjamin Balima, 18. George Anton, 32. Yevgeni Oansea, 37. Vitalie Bordian Baş məşqçi:\\xa0Roberto Bordin \"Qarabağ\":\\xa013. İbrahim Şehiç, 2. Qara Qarayev, 5. Maksim Medvedev, 8. Miçel, 9. Dino Ndlovu, 11. Mahir Mədətov, 14. Rəşad Sadıqov, 17. Donald Gerrye, 20. Riçard Almeyda, 25. Ansi Aqolli, 55. Bədavi Hüseynov Ehtiyat oyunçular:\\xa01. Anton Kanibolotski, 7. Rahid Əmirquliyev, 22. Əfran İsmayılov, 32. Elvin Yunuszadə, 44. Ağabala Ramazanov, 52. Yakup Jejniçak, 91. Coşqun Diniyev Baş məşqçi:\\xa0Qurban Qurbanov 08:08 Bu gün Çempionlar Liqasında III təsnifat mərhələsinin cavab oyunlarına start veriləcək. Milli.Az\\xa0apasport.az-a istinadən xəbər verir ki, Azərbaycan çempionu \"Qarabağ\" növbəti avrokubok sınağına çıxacaq. Ağdam təmsilçisi Moldovada bu ölkənin ən titullu klubu \"Şerif\"in qonağı olacaq. Bakıda rəqibini məğlub edə bilməyən (0:0) Qurban Qurbanovun yetirmələrini səfərdə qollu heç-heçə də qane edir. Mərhələ keçmək, bunu oyunu penaltilər seriyasına daşımadan gerçəkləşdirmək üçün \"Qarabağ\" mütləq qol vurmalıdı. Cari mövsüm keçirdiyi 3 oyunda 6 qol vuran təmsilçimizin məhsuldarlığı Tiraspolda uğura ümid etməyə əsas verir. Ardıcıl 4-cü dəfə Çempionlar Liqasının III təsnifat mərhələsinə yüksələn ağdamlılar tilsimlənmiş raundu keçməyə iddialıdı. Əvvəlki üç mövsümdə \"Zalsburq\", \"Seltik\" və \"Viktoriya\" sədlərinə ilişdikdən sonra mübarizəni Avropa Liqasında davam etdirən \"Qarabağ\" bu xoşagəlməz tendensiyanı qırmalıdı. Düzdü, son üç ildə daha aşağı səviyyəli turnirə \"göndərilən\" çempionumuz pley-offu adlamağı bacarıb. Bu da qrupda oynamaq imkanı verib. Lakin ağdamlılar tarix yazmaq şansından yararlanmaq niyyətindədi. İndiyədək heç bir Azərbaycan klubu qitənin ən nüfuzlu klub turnirinin pley-offunda oynamayıb. 3 imkanı qaçıran \"Qarabağ\"la yanaşı, \"Bakı\" və \"Neftçi\"nin də bu raundun astanasında dayandığını nəzərə alsaq, klublarımızın 5 cəhdi uğursuz alınıb. Tiraspolda uğur qazanmaqla bu turnirin pley-offuna yüksələcək \"Qarabağ\" qrup mərhələsinə vəsiqəni təmin edəcək. Çünki növbəti raundda məğlubiyyət Avropa Liqasının, qələbə isə Çempionlar Liqasının əsas mərhələsinə vəsiqə verir. \"Şerif\" səddi keçilməsə, \"Qarabağ\" yenidən Avropa Liqasının pley-offunda oynamalı olacaq. Qeyd edək ki, Tiraspolun \"Şerif\" stadionunda keçiriləcək qarşılaşma Bakı vaxtı ilə saat 21:00-da başlayacaq. Çempionlar Liqası III təsnifat mərhələsi, cavab oyunu 1 avqust 21:00. \"Şerif\" (Moldova) - \"Qarabağ\" (Azərbaycan) Baş hakim: Roy\\xa0Reynşreyber Baş hakimin köməkçiləri:\\xa0Amihay Yehoşua Mozes, Dan\\xa0Uçeniç Dördüncü hakim: Daniel\\xa0Bar Natan (hamısı İsrail) UEFA nümayəndəsi: Edqars\\xa0Pukinsks (Latviya) Hakim-inspektor:\\xa0Paulius Malzinskas (Litva) Tiraspol. \"Şerif\" stadionu İlk oyun - 0:0  ',\n",
       " 'Venesuelada vəziyyət daha da pisləşdi  Venesuelada aprelin 4-dən bu günədək davam edən aksiyalarda 120 nəfərə yaxın insan polislə qarşıdurmada dünyasını dəyişib. Milli.Az\\xa0Trend-ə istinadən bildirir ki,\\xa0Venesuelada partlament seçkilərinin nəticələrinə etiraz edən müxalif kütlə hökumət əleyhinə geniş etiraz aksiyaları başladıb. Etirazçılar seçkiyə hiylə qarışdığı iddia edirlər. Təkcə son iki gün ərzində polislə olan qarşıdurmalarda 10 nəfər dünyasını dəyişib. İqtidar seçkidə iştirakın 41.53 % olduğunu bildirsə də, müxaliflər 20 milyon seçicidən sadəcə 2 milyon 480 min nəfərin səs verdiyini açıqlayıb. Qeyd edək ki, Venesuelada aprelin 4-dən bu günədək davam edən aksiyalarda 120 nəfərə yaxın insan polislə qarşıdurmada dünyasını dəyişib.  ',\n",
       " 'İki “Apple” qurğusunun istehsalı dayandırılır  ABŞ-ın \"Apple\" şirkəti \"iPod shuffle\" və \"iPod nano\" rəqəmli musiqi pleyerlərinin istehsalını dayandıracaq. Bu barədə şirkətin bəyanatında deyilir.\\xa0 \\xa0 \\xa0 Milli.Az ICTnews-a istinadən bildirir ki, sənədə görə, \"iPod\" istehsal xətti sadələşdirilir və bundan sonra qoşa yaddaşla təqdim ediləcək 2 \"iPod touch\" modelinin minimal qiyməti 199 dollar təşkil edəcək. \"iPod shuffle\" və \"iPod nano\" qurğularının istehsalı dayandırılacaq\", - bəyanatda qeyd olunur. \\xa0 Məlumata görə, 32\\xa0 və 128 giqabayt yaddaş tutumu ilə təqdim ediləcək \"iPod touch\" qurğularının qiyməti müvafiq olaraq 199 və 299 dollara bərabər olacaq. 16 və 64 giqabaytlıq yaddaşa malik modellərin satışı dayandırılır. \\xa0 Bildirilir ki, \"iPod shuffle\" və \"iPod nano\" pleyerləri \"Apple\" şirkətinin ən ucuz rəqəmli qurğuları sırasına daxil olub. \"iPod nano\" qurğusunun qiyməti 149 dollar, \"iPod shuffle\" pleyerinin 49 dollar təşkil edib. \"iPod shuffle\" modeli 2005-ci ildə, \"iPod nano\" isə həmin ilin sonunda satışa çıxarılıb. Pleyerlər son dəfə 2015-ci ildə yenilənərək yeni rəngdə buraxılıb. \"Bloomberg\" agentliyinin qiymətləndirməsinə görə, \"Apple\" ümumilikdə 400 milyondan çox müxtəlif \"iPod\" pleyer modeli satıb. Bununla yanaşı, satılan müxtəlif \"iPhone\" smartfonlarının sayı 1 milyardı ötüb. \\xa0 \\xa0 1976-cı ildə təsis edilən \"Apple\" şirkəti \"iPod\" və \"iPhone\" ilə yanaşı, \"iMac\" masaüstü kompüterlərinin, \"MacBook\" noutbuklarının və digər texnikanın istehsalı ilə məşğul olur. Dünyanın ən iri şirkətlərindən biri hesab edilən \"Apple\"ın kapitallaşma dəyəri 800 milyard dolları üstələyib.  ',\n",
       " 'İnsan bədəninə robot yerləşdiriləcək - VİDEO  ABŞ, Çin və İsrail alimlər qrupu insan orqanizminə yeridilən miniatür robotun təsvir olunduğu video təqdim edib. Milli.Az ICTnews-a istinadən bildirir ki, robot hər birinin uzunluğu 5 mikrometr təşkil edən 3 qızıl hissədən ibarətdir. Bütün hissələr bir-biri ilə gümüş ilmələrlə birləşdirilib. Nümayiş olunan sınaq robot nümunəsi əsasında gələcəkdə dərmanları birbaşa insanın ağrıyan yerinə çatdıran kiçik robotların yaradılması planlaşdırılır. Məlumata görə, hazırda saniyədə 5,5 mikrometr sürətlə hərəkət edən robotun hərəkətləri maqnit sahəsi vasitəsilə idarə olunur. Robotun üst səthi inersiyalı materiallarla örtülüb, lakin qurğunun növbəti versiyalarının bioparçalanan olacağı gözlənilir. \\xa0 Mütəxəssislərin sözlərinə görə, tibb müəssisələri üçün yaxın 5 il ərzində yaradılacaq robotun ilk versiyaları dərmanların sidikqovucu yollarla çatdırılması üçün nəzərdə tutulacaq.  ',\n",
       " 'Oxşar məhsullar fotoşəkillərlə axtarılacaq  \"eBay\" internet mağazasının əlavələrində fotoşəkilin tanınması funksiyasından istifadə edən 2 yeni funksiya istifadəyə veriləcək. \\xa0 Milli.Az ICTnews-a istinadən bildirir ki, \"Image Search\" funksiyası krosovka və ya çanta fotoşəkilindən oxşar məhsulların axtarışı üçün istifadəyə imkan verəcək. \"Find It On eBay\" funksiyası sayəsində istənilən saytda şəkili seçərək onu servisə göndərmək mümkün olacaq. Bu qaydada istifadəçi xarici görünüşünə görə oxşar əşyalar siyahısını əldə edəcək. \\xa0 Məlumata görə, kompüter təlimi imkanlarından istifadə edəcək funksiyalar saytda, eləcə də bağlı satışlar üzrə 1,1 milyard aktiv lot axtaracaq. \\xa0 Şirkətin alıcılıq təcrübəsi üzrə vitse-prezidenti Mohan Pett bildirib ki, biz fotoşəkillə internetdə hər növ alış-verişi mümkün etmək istəyirik. \\xa0 Nümayiş zamanı vitse-prezident hündür qara çəkmələrin şəkilini çəkərək onları \"eBay\"a göndərib və dərhal təxminən eyni çəkməyə oxşar 500-ə yaxın təklif alıb. Funksiyalardan bütün kateqoriyalarda istifadə etmək olar, lakin süni intellekt modelləri ilk növbədə geyim və mebel kimi əşyalar üçün nəzərdə tutulub. \\xa0 \"Android\" və \"iOS\" əməliyyat sistemli qurğu istifadəçiləri \"Image Search\" funksiyasından payızda yararlanmağa başlayacaqlar. \"Find It On eBay\" funksiyasından ilkin mərhələdə yalnız ABŞ sakinləri istifadə edə biləcəklər və bu səbəbdən \"Apple\" istifadəçiləri ondan bir qədər gec yararlanmaq imkanı əldə edəcəklər. \\xa0 Qeyd edək ki, \"eBay\" internet mağazası 1995-ci ildə proqramçı Pyer Omidyar tərəfindən yaradılıb. Mağazada qeydiyyatdan keçmiş istənilən istifadəçi alış-veriş edə bilər. \"eBay\"da brend şirkətlər də öz mallarını sata bilərlər. Onlar tərəfindən satışa çıxarılan malları adi istifadəçi lotları arasında tapmaq mümkündür. Əvvəllər \"eBay\"da nəhəng marka və şirkətlər tərəfindən malların birbaşa satılması üçün nəzərdə tutulan ayrıca \"brands.ebay.com\" bölməsi fəaliyyət göstərib. Bölmə indiyədək aktiv olsa da, orada yerləşdirilən kateqoriyaların əksəriyyəti boşdur. \\xa0 \"eBay\", həmçinin \"PayPal\" və \"Ebay Enterprise\" şirkətlərinin sahibidir.  ',\n",
       " 'Səhv tapana 250 min dollar veriləcək  \"Microsoft\" korporasiyası \"Windows 10\" əməliyyat sistemində boşluqların aşkarlanması üçün nəzərdə tutulan yeni \"Windows Bounty Program\" proqramını istifadəyə verib. Sistemdə səhv tapan üçün maksimal mükafat 250 min dollar olacaq. Korporasiya \"Hyper-V\" virtuallaşdırma sistemində səhvlərin aşkarlanmasına görə maksimum məbləğ ödəyəcək. Milli.Az ICTnews-a istinadən bildirir ki, \"Microsoft Edge\" brauzerində və sınaq \"Windows Insider Preview\" sistemində tapılan səhvlərə görə mükafat 15 min dollar məbləğində müəyyənləşdirilib. \"Microsoft\" əməkdaşı boşluğu tez aşkar edəndə də korporasiya kənar tədqiqatçıya - problemi ikinci aşkarlayan şəxsə mükafat məbləğinin 10 faizini (25 min dollar) ödəyəcək. \\xa0 \"Microsoft\" əvvəllər də oxşar proqramlar həyata keçirib. O zaman istifadəçilərə \"Windows 8.1\" sistemində boşluqların aşkarlanmasına görə 100 min dollar ödənilib. İri şirkətlər, məsələn, \"Apple\" və ya \"Facebook\" məhsullarda səhvlərin aşkarlanmasına görə pul ödəyir.  ',\n",
       " 'Bu gün \"Qarabağ\" Çempionlar Liqasında tarixi oyuna çıxacaq   Bu gün \"Qarabağ\" komandası Çempionlar Liqasında növbəti matçına çıxacaq.\"Report\"un məlumatına görə, Ağdam təmsilçisi III təsnifat mərhələsinin cavab oyunu çərçivəsində Moldovanın \"Şerif\" kollektivinin qonağı olacaq.Tiraspolda baş tutacaq görüş Qurban Qurbanovun baş məşqçisi olduğu komanda üçün tarixi əhəmiyyət daşıyır. Bakıda keçirilən ilk qarşılaşmada rəqibi ilə qolsuz bərabərə qalan \"Qarabağ\" səfərdə lazımı nəticəni təmin edəcəyi halda qitənin ən nüfuzlu klub turnirində \"play-off\" mərhələsinə vəsiqə qazanacaq ilk Azərbaycan klubu olacaq.Ölkə çempionu bunu bacaracağı təqdirdə, paralel olaraq son üç mövsümdə iştirakçısı olduğu Avropa Liqasının qrup mərhələsinə vəsiqəni təmin edəcək. Əks halda, mübarizəni səviyyəsinə görə ikinci olan klub turnirində davam etdirəcək və qrupa düşmək üçün daha bir rəqiblə qüvvəsini sınayacaq.Çempionlar Liqası, III təsnifat mərhələsi, cavab oyunu1 avqust21:00. “Şerif” (Moldova) – “Qarabağ” (Azərbaycan)Baş hakim: Roy ReynşreyberYan xətt hakimləri: Amihay Yehoşua Mozes, Dan UçeniçDördüncü hakim: Daniel Bar Natan (hamısı İsrail)UEFA nümayəndəsi: Edqars Pukinsks (Latviya)Hakim-inspektor: Paulius Malzinskas (Litva)Tiraspol. “Şerif” stadionuİlk oyun – 0:0 ',\n",
       " 'Çempionlar Liqası: “Qarabağ” həlledici oyuna çıxacaq   Bu gün Çempionlar Liqasında III təsnifat mərhələsinin cavab oyunlarına start veriləcək. \\xa0 Apasport.az saytının məlumatına görə, Azərbaycan çempionu “Qarabağ” növbəti avrokubok sınağına çıxacaq. \\xa0 Ağdam təmsilçisi Moldovada bu ölkənin ən titullu klubu “Şerif”in qonağı olacaq. Bakıda rəqibini məğlub edə bilməyən (0:0) Qurban Qurbanovun yetirmələrini səfərdə qollu heç-heçə də qane edir. Ardıcıl 4-cü dəfə Çempionlar Liqasının III təsnifat mərhələsinə yüksələn ağdamlılar tilsimlənmiş raundu keçməyə iddialıdı. Əvvəlki üç mövsümdə “Zalsburq”, “Seltik” və “Viktoriya” sədlərinə ilişdikdən sonra mübarizəni Avropa Liqasında davam etdirən “Qarabağ” bu xoşagəlməz tendensiyanı qırmalıdır. \\xa0 İndiyədək heç bir Azərbaycan klubu qitənin ən nüfuzlu klub turnirinin pley-offunda oynamayıb. Tiraspolda uğur qazanmaqla bu turnirin pley-offuna yüksələcək “Qarabağ” qrup mərhələsinə vəsiqəni təmin edəcək. Çünki növbəti raundda məğlubiyyət Avropa Liqasının, qələbə isə Çempionlar Liqasının əsas mərhələsinə vəsiqə verir. “Şerif” səddi keçilməsə, “Qarabağ” yenidən Avropa Liqasının pley-offunda oynamalı olacaq. \\xa0 Çempionlar Liqası III təsnifat mərhələsi, cavab oyunu 1 avqust \\xa0 21:00. “Şerif” (Moldova) – “Qarabağ” (Azərbaycan) Baş hakim: Roy Reynşreyber (İsrail) Tiraspol. “Şerif” stadionu İlk oyun - 0:0 ',\n",
       " 'Təyyarəni partlatmaq istəyənlər bəlli oldu   Avstraliyada terrorçular Sidney-Əbu-Dabi marşrutu ilə uçan “Etihad Airways” şirkətinə məxsus təyyarəni partlatmaq istəyib. \\xa0 APA-nın məlumatına görə, bu barədə “Daily Telegraph” qəzeti məlumatlı mənbələrə istinadən xəbər verib. \\xa0 “The Sydney Morning Herald” qəzeti isə bu günlərdə Sidneydə həyata keçirilən antiterror əməliyyatı nəticəsində həbs edilən 4 nəfərin adlarını açıqlayıb. Bunlar Xaled Merhi, onun oğlu Əbdul Merhi, Xaled Xayat və onun qohumu Mahmud Xayatdır. Adıçəkilən şəxslərin Suriyadakı terrorçularla əlaqəli olduğu üzə çıxıb. \\xa0 Məlumata əsasən, Avstraliya hüquq-mühafizə orqanları ABŞ və Böyük Britaniya xüsusi xidmət orqanlarından hazırlanan terror aktına dair məlumat əldə ediblər. \\xa0 Qeyd edək ki, iyulun 30-da Avstraliyanın baş naziri Malkolm Ternbull təyyarədə planlaşdırılan terror aktının qarşısının alındığını bəyan edərək xüsusi əməliyyat nəticəsində terror aktı törətməyi planlaşdıran 4 nəfərin saxlanıldığını bildirib. \\xa0 ',\n",
       " 'Bakıda atıcılıq üzrə Avropa çempionatının 12-ci gününün yarışları start götürür  Bu gün Bakı Atıcılıq Mərkəzində atıcılıq üzrə Avropa çempionatının yarışlarının güllə-stend atıcılığı üzrə 12-ci günü start götürür. Milli.Az Trend-ə istinadən xəbər verir ki, kişilər arasında 300 metr məsafədən stend tüfəngindən atəş açma, 50 metr məsafədən hərəkət edən hədəflərə atəş açma və stend atıcılığının skit növündə isə təsnifat yarışları keçiriləcək. Qeyd edək ki, Bakıda atıcılıq üzrə Avropa çempionatı iyulun 22-də başlayıb və avqustun 3-nə qədər davam edəcək.  ',\n",
       " 'Türkiyəli nazir təqaüdə çıxdı  Türkiyənin diyanət işləri naziri Mehmet Görməz təqaüdə çıxıb. Milli.Az Trend-ə istinadən xəbər verir ki, Türkiyənin baş nazir Binəli Yıldırım artıq Mehmet Görməzin təqaüdə çıxması ilə bağlı istəyini təmin edib.  ',\n",
       " 'İnsanları Marsa aparacaq raket payızda hazır olacaq  \"Space X\"şirkəti bu lin noyabrında \"Falcon Heavy\" ağır raketinin ilk buraxılışını həyata keçirməyi planlaşdırır. Milli.Az\\xa0lent.az-a istinadən xəbər verir ki,\\xa0bu barədə şirkətin rəhbəri İlon Mask özünün \"İnstagram\" səhifəsində yazıb. \"Noyabrda \"Falcon Heavy\"in nümayiş uçuşu olacaq\", - deyə o, bildirib. \\xa0 Xatırladaq ki, daha əvvəl şirkət Aya adi turistlərin göndərilməsi planından bəhs etmişdi. Uçuş \"Dragon2\" (Crew Dragon) gəmisində gerçəkləşəcək, gəmini kosmosa \"Falcon Heavy\" daşıyıcı raketi aparmalıdır. Bu raketin Mars missiyasında istifadəsi də nəzərdə tutulub. \\xa0 İ. Mask onu da deyib ki, sınaq uçuşu zamanı raketin partlaması ehtimalı var.  ',\n",
       " '\"Bakıda olmuş hər bir kəs ora növbəti dəfə tək qayıtmır\" - FOTO  ABŞ-ın Fransa və Böyük Britaniyada geniş oxucu kütləsi qazanmış iqtisadiyyat mövzusunda məqalələr dərc edən \"Forbes\" jurnalında Azərbaycanın maddi və mənəvi irsi, təbii sərvətlərinə həsr olunmuş məqalə dərc edilib. Milli.Az\\xa0\"Report\"a istinadən bildirir ki, müəllif Stefan Rabimov öz məqaləsində bir çox ölkələrin şərq və qərbin kəsişdiyi məkan tituluna iddia etdiyini, lakin Azərbaycan xalqı və paytaxt Bakının layiqli şəkildə bu şərəfli titulu qazana bildiyini vurğulayır. S.Rabimov yazır ki, 2012-ci ildə dünyada öz adı ilə məşhur olan Avroviziya mahnı müsabiqəsini qəbul edən, 2015-ci ildə Avropa Olimpiya Komitəsi tərəfindən Avropa Oyunlarının təşkil edildiyi Bakı şəhəri, bu il İslam Həmrəylik Oyunları çərçivəsində 56 Orta Sərq, Asiya və Afrika ölkəsindən olan atletləri qarşılayıb. O, bildirib ki, \"Formula-1\" yarışı, Novruz festivalının keçirildiyi Bakı iki milyona yaxın qonağı öz ağuşuna almağı bacarıb. Azərbaycanın təbii nemətlərindən yazan müəllif qeyd edib ki, Azərbaycanda neftdən hazırlanan məhsullar hətta əfsanəvi səyahətçi Marko Polo tərəfindən sənədləşdirilib. XX əsrin əvvəllərində Bakı nefti yer üzünün yarısını təmin edə bilib. 1991-ci ildən müstəqqillik əldə etdikdən sonra tarixi investisiyası və geniş qaz yataqlarının istismarı bu ölkəni yenidən təbii yanacaq qazıntısı liderinə çevirib. S.Rabimov yazır ki, Bakıda YUNESKO-nun irsinə daxil olan və böyük maraq doğuran möhtəşəm tarixi abidələr mövcuddur və çox maraqlı tədbirlər baş tutur. Yer üzündə olan 20 iqlim qurşağından 12-si Azərbaycanda var. Bu məkanda dəniz, başı qarlı dağlar, ucu-bucağı bilinməyən meşələr və hətta göz işlədikcə uzanan çöllər mövcuddur. Fəslindən, ayından asılı olmayaraq Azərbaycana gəlmiş heç bir qonağın darıxdığına rast gəlmək mümkün deyil. Bakıda qonaq olmuş hər bir kəs bu şəhərə bir də qayıtmaq arzusu ilə yaşayır və növbəti dəfə ora tək yox, yaxınları, dostları, tanışları ilə qayıdır.  ',\n",
       " 'Google ən yararlı xüsusiyyətini mobil cihazlardan çıxardı  Google-ın axtarış mühərrikinə 2010-cu ildə əlavə etdiyi \"İnstant Search\" xüsusiyyəti çoxları tərəfindən sevilsə də mobildə bu xüsusiyyət o qədər də effektiv çalışmır. Çox kiçik ekranda axtarışa uyğun təkliflər edən sistem bütün ekranı tutur və əksər hallarda sistemdə tutulmalar olur. Elə bu səbəbdən Google axtarışa uyğun təkliflər göstərən sisteminin artıq mobil cihazlar üçün istifadəsini dayandırır. Milli.Az\\xa0technote.az-a istinadən bildirir ki, Google-ın Instant Search-ün mobil cihazlardan çıxarılması ilə bağlı açıqlaması: Biz Google Instant Search xidmətini istifadəçilərin öz axtardıqları məlumatları mümkün olan ən tez şəkildə tapmaları üçün istifadəyə verdik. 2010-cu ildən sonraki dövrdə artıq axtarışların böyük əksəriyyəti mobil cihazlarda aparılır və bu cihazlar kompüterlərdən çox fərqlənir. Bu fərqliliklər də öz növbəsində ciddi problemlər yarada bilir. Biz də bu problemləri nəzərə alıb mobil cihazlarda ən sürətli axtarışı təmin etmək üçün bu əlavəni axtarış mühərrikindən çıxarırıq  ',\n",
       " 'Əfqanıstanda İraq səfirliyi yaxınlığında atışma baş verib  Əfqanıstanın paytaxtı Kabildə İraq səfirliyinə yaxınlığında baş vermiş canlı bomba hücumundan sonra təhlükəsizlik qüvvələri və silahlılar arasında atışma baş verib. Milli.Az\\xa0Trend-ə istinadən bildirir ki,\\xa0səfirliyin darvazası önündə canlı bomba özünü partladdıqdan sonra üç silahlı içəriyə daxil olub. Özünü İslam Dövləti (İŞİD) adlandıran qruplaşma hücuma görə məsuliyyəti öz üzərinə götürüb. Bir neçə saat çəkən atışmadan sonra, Əfqanıstan hakimiyyəti hücumun sona çatdığını və silahlıların öldürüldüyünü deyib. İraq səfirliyi Kabilin mərkəzi Şər-e-Nav məhəlləsində yerləşir. Bu il şəhər İŞİD və Talibanın həyata keçirdiyi bir neçə ölümcül hücumların hədəfi olub.  ',\n",
       " 'Rusiya “Facebook”da Makronun çevrəsindən məlumat toplamağa çalışıb  Rusiya Fransadakı prezident seçkiləri zamanı \"Facebook\"da saxta profillər vasitəsilə hazırkı prezident Emmanuel Makronun dostlarından informasiya toplamağa çalışıb. \\xa0 Milli.Az\\xa0lent.az-a istinadən xəbər verir ki,\\xa0bu barədə \"Reuters\"ə adının gizli saxlanılmasını istəyən mənbələr, o cümlədən ABŞ Konqresinin bir üzvü bildirib. Hazırda təhqiqat aparılır. \\xa0 Məlumata əsasən Rusiya agentləri \"Facebook\"da onlarla saxta səhifə yaradıblar və Makronun dostları ilə \"dostlaşmağa\" çalışıblar. \"Facebook\" bu səhifələri aşkara çıxarıb və silib. Beləliklə, hakerlər Makronun dostlarının yazışmalarını əldə edə bilməyiblər.\\xa0  ',\n",
       " 'ABŞ-ın Rusiyadakı səfirliyi vizaları azaltdı  Moskvanın ABŞ səfirliyi ştatının azaldılması barədə qərarından sonra Rusiyada Amerika vizalarının verilməsi üzrə imtinaların sayı xeyli artıb. Milli.Az\\xa0\"Report\"a istinadən bildirir ki, bu barədə \"The New York Tmes\" nəşri yazıb. Nəşrin rəyinə görə, bu, səfirliyin bəzi funksiyalarını, xüsusilə viza verilməsini poza bilər. Viza verilməsi ilə məşğul olan şirkət əməkdaşı Şavkat Butayev bildirib ki, viza verilməsinə imtinaların sayı indidən artıb: \"Heç vaxt belə şey olmayıb: hər gün 50-60 adama rədd cavabı verirlər, onların əksəriyyəti gənc qadınlardır\", - deyə Butayev bildirib.  ',\n",
       " 'Kompüteriniz üçün maraqlı şəkillər - FOTOSESSİYA  Milli.Az kompüteriniz üçün maraqlı fotoları təqdim edir. Milli.Az ',\n",
       " 'Sükan arxasında yatan müəyyən olunacaq  Yaponiyanın \"Panasonic\" şirkəti yol-nəqliyyat hadisələrinin baş vermə risklərini azaltmaq üçün sürücünün vəziyyətinə nəzarət edəcək yeni sistem yaradıb. \\xa0 \\xa0 Milli.Az ICTnews-a istinadən bildirir ki, texnologiyanın iş prinsipi insanın sükan arxasında yuxuculluq səviyyəsinin mimika, bədən temperaturu və digər göstəricilərin analizi vasitəsilə müəyyənləşdirilməsinə əsaslanır. Bundan başqa, gözlərin açılma dərəcəsi və göz qırpma zamanı göz qapaqlarının hərəkətinin sürəti kimi kiçik detallar nəzərə alınır. Bütün lazımi informasiya cihazlar panelində quraşdırılan infraqırmızı ötürücü və kameralar tərəfindən toplanaraq emal üçün süni intellektə ötürülür. \\xa0 \\xa0 Beləliklə, \"Panasonic\" şirkətinin hazırladığı sistem sürücünün hazırkı yuxuculluq səviyyəsini beş ballıq şkala üzrə müəyyənləşdirir və müvafiq rəqəmi bort kompüterində göstərir. Yorğunluğun artması barədə əvvəlcədən xəbərdarlıq edən sistem, həmçinin lazım gəldikdə sükan arxasında qaçılmaz yuxulama prosesinə müdaxilə etməyə başlayacaq. \\xa0 \\xa0 Bildirilir ki, \"ağıllı\" qurğu ilk növbədə sürücünü ayıltmaq və diqqətini artırmaq üçün kondisionerin sürətini artıracaq. Bundan əlavə, sistem belə vəziyyətdə avtomobilin idarə edilməsinin təhlükəli olmasını bildirən həm vizual, həm də səsli xəbərdarlığı işə salacaq, naviqasiya sistemi isə istirahət üçün yaxınlıqdakı yeri axtarmağa başlayacaq. \\xa0 Bu ilin payızında satışa çıxarılması gözlənilən sistemin əsas istehlakçılarının taksi və avtobus şirkətlərinin olacağı ehtimal edilir.  ',\n",
       " '\"Dağlıq Qarabağ münaqişəsinin yenidən qızışması regionda faciə ilə nəticələnə bilər\" - İlan Syalom  \"İrəvan yaxınlığında yerləşən Metsamor nüvə stansiyası çox baxımsız və acınacaqlı vəziyyətdə fəaliyyət göstərir və Dağlıq Qarabağ münaqişənin yenidən qızışması regionda faciə ilə nəticələnə, təbiətə olmazın ziyanlar vura bilər\". Milli.Az\\xa0\"Report\"a istinadən bildirir ki, bunu \"bloqs.alternatives-economiques.fr\" internet blokuna verdiyi \"Dağlıq Qarabağ münaqişəsi hədələyir\" başlıqlı müsahibəsində Avropada Prospektiv və Təhlükəsizlik İnstitutunun (IPSE) geosiyasətçisi və tədqiqatçı alimi İlan Syalom deyib. O, müsahibəsində Dağlıq Qarabağ münaqişəsi ilə bağlı həqiqətlərdən danışıb. Tədqiqatçı beynəlxalq ictimaiyyətin bütün diqqətlərin Suriya və Simali Koreyaya yönəldiyi halda, Dağlıq Qarabğ münaqişəsini lazımınca qiymətləndirmədiyini qeyd edib. \"İyirmi beş ildir ki, Azərbaycan ərazilərinin 25 faizi Ermənistan tərəfindən işğal olunub və nəticədə yüz minlərlə insan həyatını itirib, minlərlə insan qaçqın düşüb. 2016-cı ilin aprel ayında 4 gün davam edən döyüşlər 200-ə yaxın insanın ölümü ilə nəticələnib. 4 İyul tarixində isə Ermənistan silahlı bölmələrinin atdığı top atəşi nəticəsində iki nəfər mülki şəxs - nənə və onun 2 yaşlı nəvəsi dünyasını dəyişib. Top atəşi Azərbaycan ərazisinin tərkibində, sərhəddən 5 km. aralıda yerləşən Alxanlı kəndinə qəsdən tuşlanıb. Bu faciəvi hadisəyə reaksiya verənlərin sayı hədsiz çox oldu. Ünvanladığı açıq məktubunda Avropa Parlamentinin vitse-prezidenti Riçard Çarnetski və Azərbaycan üzrə Avropa Parlamentinin məruzəçisi Norika Nikolay Ermənistanın təcavüzünü pisləyərək bildiriblər ki, mülkü şəxslərin, qadınların və uşaqların qəsdən qətlə yetirilməsi yolverilməzdir və buna dərhəl son qoyulmalıdır\", - deyə alim qeyd edib. İ.Syalom jurnalistin \"Bu münaqişə yenidən vüsət alarsa, ən pis halda nə baş verə bilər?\" sualına belə cavab verib: \"İrəvan yaxınlığında yerləşən Metsamor nüvə stansiyası çox baxımsız və acınacaqlı bir vəziyyətdə fəaliyyət göstərir və bu münaqişənin yenidən qızışması regionda faciə ilə nəticələnə, təbiətə olmazın ziyanlar vura bilər\". Münaqişənin diplomatik müzakirələr yolu ilə həllindən danışan İlan Syalom bildirib ki, əslində Dağlıq Qarabağ münaqişəsi dövlətlər üçün prioriotet məsələ olana mənzəmir. Belə ki, Ermənistan silahlı qüvvələrinin Dağlıq Qarabağdan çıxmasını tələb BMT tərəfindən 4 qətnamənin qəbul olunmasına baxmayaraq, işğal davam etməkdədir. Dağlıq Qabağ münaqişəsinin həllinin vacib bir məsələ olduğunu deyən alim ABŞ və Avropa İttifaqının Bakıya siyasi, diplomatik və hərbi dəstək göstərməsinin əhəmiyyətinə toxunub və bildirib ki, Qafqazda yerləşən bu kiçik ölkə Vaşinqton və Brüsselin reginda ən stabil və etibarlı tərəfdaşıdır.  ',\n",
       " '10 milyard dollarlıq investisiya sözü  Amerika Birləşmiş Ştatlarının prezidenti Donald Trump ilə Foxconn ortaqlığında edilən açıqlamaya görə, 2020-ci ildə ölkədə 10 milyard dollar investisiya edilərək yeni bir LCD fabriki qurulacaq.ABŞ başçısı Donald Trump-ın ən böyük seçki vədlərindən biri də təbii ki Amerika vətəndaşlarına yeni iş imkanları təmin etmək və ölkə torpaqları içərisində nəhəng fabriklər qurmaq idi. Görünüşə görə bu vədlərin ikisini də reallaşdırmaq üzrədir. Milli.Az\\xa0technote.az-a istinadən bildirir ki, Foxconn-un CEO-su Terry Gou və Donald Trump ortaqlığında Ağ evdən edilən açıqlama ilə birlikdə, Foxconn-un ABŞ-ın Wisconsin əyalətində 10 milyard dollarlıq investisiya ilə bir fabrik quracağı açıqlandı. Edilən razılığa əsasən\\xa0 Amerika Birləşmiş Ştatları hökuməti, Foxconn-a bu cəhdi üçün təxminən 3 milyard dollarlıq vergi subsidiyası təmin edəcək. Donald Trump da mövzuyla əlaqədar olaraq, \"Əgər mən prezident seçilməsəydim, Terry Gou-nun bu fabriki buraya əsla qurmayacağından əminəm.\" deyərək yenə olduqca təvazökar bir şərh etdi. Qurulacaq olan fabrik LCD ekranların istehsalında istifadə ediləcəyini və açılışının 2020-ci ildə reallaşacağını da bildirməyimiz lazımdır. Ötən günlərdə Tim Cook-dan ABŞ torpaqları üzərində fəaliyyət göstərəcək üç böyük iPhone fabriki sözü də alan Trump olduqca xoşbəxt kimi görünür. Son olaraq Foxconn-un 2020-ci ildə qurulacaq LCD ekran fabrikində 3,000 insanın işlə təmin ediləcəyi ifadə edildi. İrəliləyən dövrdə bu ədədin 10,000 qədər artması gözlənilir.  ',\n",
       " 'Yunanıstan sahillərində 5,4 bal gücündə zəlzələ baş verib  Aralıq dənizində Yunanıstan sahillərində 5,4 bal gücündə zəlzələ baş verib. Milli.Az\\xa0Trend-ə istinadən bildirir ki,\\xa0bu barədə Türkiyənin Milliyet qəzeti yazır. Yeraltı təkanların ocağı 23,4 kilometr dərinlikdə Krit adası yaxınlığında yerləşib. Tələfat və dağıntılar barədə məlumat verilmir.  ',\n",
       " 'Yeni süni intellekt təxəyyüldən istifadə edəcək  \"DeepMind\" şirkəti sonrakı hərəkətlərin planlaşdırılması üçün öz təxəyyülündən istifadə edən yeni süni intellekt yaradıb. \\xa0 Milli.Az ICTnews-a istinadən bildirir ki, mütəxəssislərin sözlərinə görə, təsəvvür etmək qabiliyyətinə malik süni intellekt proqramları sonradan ediləcək hərəkətlər barədə düşünərək nəticədə hansı hərəkətlərin daha yaxşı olacağını proqnozlaşdırırlar. \\xa0 \"DeepMind\" saytında \"I2As\" (Imagination-Augmented Agents) adlanan süni intellekt proqramlarının yaradıcıları təxəyyül əsasında yeni planlaşdırma yanaşması haqqında məlumat verərək proqramların təsəvvür və yaddaşdan istifadə etməyi öyrənəcəyi və maraq göstərməyə başlayacağı təqdirdə süni intellektin inkişafının yeni vüsət ala biləcəyini qeyd ediblər. \\xa0 Məlumata görə, süni intellektin təxəyyül işi \"Sokoban\" oyunu vasitəsilə yoxlanılıb. Oyunda oyunçudan qutuları lazımi yerlərə qoymaq tələb olunur. Yerinə qoyulmayan qutunun yenidən ora yerləşdirilməsi qeyri-mümkündür. Bu isə o deməkdir ki, bir səhv\\xa0 uduzmağa səbəb olur. Buna görə yeni süni intellekt oyun meydançasını diqqətlə öyrənərək hadisələrin mümkün inkişaf variantları barədə fikirləşib, variantları nəzərdən keçirdikdən sonra gediş edib. \\xa0 Videooyunlarda ilk dəfə sınanan proqram qarşıya qoyulan vəzifənin öhdəsindən yaxşı gəlib.  ',\n",
       " 'Kim gəlir, kim gedir? - YENİLƏNİR  Premyer Liqa komandaları transfer çalışmalarını davam etdirirlər. Milli.Az\\xa0apasport.az-a istinadən xəbər verir ki, elita təmsilçiləri heyətin gücləndirilməsi prosesini sürətləndiriblər. \"Təmizləmə işləri\"ni və daxili bazardakı fəaliyyətini yekunlaşdırmaq üzrə olan bəzi klublar əcnəbi transferlərində də fəallıq göstərirlər. Bu baxımdan ən fəal komanda kimi \"Qəbələ\" və \"Zirə\"nin adlarını çəkmək olar. \"Qarabağ\" Gələnlər:\\xa0Abbas Hüseynov (\"İnter\"),\\xa0Anton Kanibolotski \\xa0(Şaxtyor, Ukrayna), Yakub Jezniçak (\"Legiya\", Polşa), Vild-Donald Gerye (\"Alanyaspor\", Türkiyə)\\xa0 Gedənlər:\\xa0İlyas Səfərzadə (\"Kəpəz\"), Azər Salahlı (\"Sumqayıt\"), Vüqar Mustafayev (\"Zirə\"), İlqar Qurbanov (\"Qəbələ\"), Vüqar Nadirov (\"Səbail\"), Boyan Şaranov, Muarem Muarem Müqavilə müddətini artıranlar:\\xa0Əfran İsmayılov, Qara Qarayev, Ansi Aqolli, Miçel \"Qəbələ\" Gələnlər:\\xa0Yusif Nəbiyev (\"Sumqayıt\": icarədən qayıdıb), Elvin Məmmədov (\"Zirə\"),\\xa0İlqar Qurbanov (\"Qarabağ\"), Aqil Məmmədov (AZAL), Xavi Ernandes Qonzales (\"Qurnik Lençna\", Polşa),\\xa0Stiven Jozef-Monroz (\"Brest\", Fransa),\\xa0Dion Malone (\"Den Haaq\", Hollandiya), Endi Hallidey (\"Reyncers\", Şotlandiya: icarəyə), Famussa Kone (\"Göztəpə\", Türkiyə:\\xa0icarəyə),\\xa0Deyv Bultuis (\"Nürnberq\", Almaniya) Gedənlər:\\xa0Teo Uiks (\"Ermis\": icarə müddəti başa çatıb), Rəşad Eyubov (\"Sumqayıt\"), Nika Kvekveskiri (\"Tobol\", Qazaxıstan), Rəşad Sadiqov (\"Zirə\"),\\xa0Məhəmməd Mirzəbəyov (\"Neftçi\"),\\xa0Sergey Zenyov (\"Krakoviya\", Polşa),\\xa0Yusif Nəbiyev (\"Zirə\": icarəyə),\\xa0Ramin Həsənov (\"Sumqayıt\": icarəyə), Daniel Subotiç (\"Ulsan Hyundai\", Cənubi Koreya), Rafael Santos, Murad Musayev, David Petrzkeviç, Rikardinyo Müqavilə müddətini artıranlar:\\xa0Roman Qriqorçuk (baş məşqçi), Dmitri Bezotosnı, Elvin Camalov, Vitali Vernidub, Cavid Hüseynov, Asif Məmmədov, Rasim Ramaldanov \"İnter\" Gələn:\\xa0yoxdu Gedənlər:\\xa0Abbas Hüseynov (\"Qarabağ\"), Səlahət Ağayev (\"Neftçi\"), Zurab Xizanişvili (karyerasını bitirib) Müqavilə müddətini artıranlar:\\xa0Nizami Hacıyev, Tərlan Quliyev, Samir Zərgərov, Slavik Alxasov, Pərdis Fərcad-Azad, Elnur Abdullayev, Mirsahib Abbasov, İlkin Qırtımov, Denis Silva, Fuad Bayramov, Adrian Skarlatake, Məmməd Quliyev, Orxan Sadıqlı \"Zirə\" Gələnlər:\\xa0Nicat Qurbanov, Orxan Əliyev\\xa0(hər ikisi \"Kəpəz\"),\\xa0Vüqar Mustafayev (\"Qarabağ\"), Rəşad Sadiqov (\"Qəbələ\"), David Manqa (\"Hapoel\", Aşkelon, İsrail), Kervens Belfort (\"Surinska\", İsveç), Jozef Bum (\"Qaziantep BB\", Türkiyə), Qabriel Matey (\"Qurnik\", Polşa), Yusif Nəbiyev (\"Qəbələ\": icarəyə) Gedənlər:\\xa0Migel Lorenzo (\"Vitoriya\", Portuqaliya: icarə müddəti başa çatıb), Tural Cəlilov (\"Kəpəz\"), Nurlan Novruzov (\"Bakı\": icarə müddəti başa çatıb), Yamin Ağakərimzadə (\"Səbail\"),\\xa0Elvin Məmmədov (\"Qəbələ\"), Cavid Tağıyev (\"Sumqayıt\"), Akim Latifu (\"Honved\", Macarıstan), Amadu Ben Sanqar, Rəşad Sadiqov Müqavilə müddətini artıranlar:\\xa0Kamal Bayramov, Anar Nəzirov, Sadiq Quliyev, Təmkin Xəlilzadə, Viktor İbekoyi, Yovan Krneta, Aleksandr Şemonayev, Milan Duriç, Riçard Qadze \"Kəpəz\" Gələnlər:\\xa0İlyas Səfərzadə (\"Qarabağ\"), Kamran Abdullazadə (\"Sumqayıt\"), İlkin Sadıqov (\"Turan Tovuz\"),\\xa0Tural Cəlilov (\"Zirə\"), Azər Məmmədov (\"Turan Tovuz\"), Ruzi Qiyaslı (\"Neftçi\"), Aydın Qasımov (MOİK), Sergey Çernışev, Oseqeyl Laki Viktor, Dialo Samba, Ferreyra das Çaqas Dedimar\\xa0 Gedənlər:\\xa0Tural Axundov, Vüqar Bəybalayev\\xa0(hər ikisi \"Sumqayıt\"), Nicat Qurbanov, Orxan Əliyev\\xa0(hər ikisi \"Zirə\"), Renan Silva (\"Voyvodina\", Serbiya), Dario Federiko, Tural Qürbətov, Eyyub Əliyev, Tural Nərimanov, Tadas Simaitis (\"Yonava\", Litva), Julien Ebah, Serjio Kosta Müqavilə müddətini artıranlar:\\xa0Davud Kərimi, Şəhriyar Rəhimov, Şəhriyar Əliyev, Novruz Məmmədov, Azad Kərimov, Kərim Diniyev, Ceyhun Cavadov, Tural Rzayev \"Sumqayıt\" Gələnlər:\\xa0Tural Axundov, Vüqar Bəybalayev\\xa0(hər ikisi \"Kəpəz\"), Cavid İmamverdiyev (\"Neftçi\"), Kamal Mirzəyev (AZAL), Rəşad Eyyubov (\"Qəbələ\"),\\xa0Azər Salahlı (\"Qarabağ\"),\\xa0Cavid Tağıyev (\"Zirə\"), Ramin Həsənov (\"Qəbələ\": icarəyə) Gedənlər:\\xa0Mirabdulla Abbasov (\"Neftçi\": icarə müddəti başa çatıb), Kamran Abdullazadə (\"Kəpəz\"), Yusif Nəbiyev (\"Qəbələ\": icarə müddəti başa çatıb),\\xa0Məhəmməd Qurbanov,\\xa0Ayaz Mehdiyev, Mikayıl Rəhimov, Tərlan Əhmədli, Nasir Abilayev, Seymur Əsədov Müqavilə müddətini artıranlar:\\xa0Fərhad Vəliyev, Rail Məlikov, Vurğun Hüseynov, Bəxtiyar Həsənalızadə \"Neftçi\" Gələnlər:\\xa0Səlahət Ağayev (\"İnter\"), Mirabdulla Abbasov (\"Sumqayıt\": icarədən qayıdıb),\\xa0Məhəmməd Mirzəbəyov (\"Qəbələ\"), Rəşad Əzizli (\"Səbail\"), Elnur Cəfərov (\"Duqopolye\", Xorvatiya),\\xa0Mateo Mujek (\"Rudar\", Sloveniya), Derlis Meza Kolli (\"Syerro Portenyo\", Paraqvay) Gedənlər:\\xa0Cavid İmamverdiyev (\"Sumqayıt\"), Mahir Şükürov (karyerasını bitirib), Kamal Qurbanov, Eltun Yaqublu, Murad Ağayev\\xa0(hamısı \"Səbail\"), Ruzi Qiyaslı (\"Kəpəz\"), Aqşin Qurbanlı, Orxan Qurbanlı, Təyyar Məmmədov (hamısı \"Səbail\": icarəyə), Zdenek Folprext (\"Slovan\", Çexiya: icarə müddəti başa çatıb), Elvin Bədəlov (\"Qarabağ Vyana\", Avstriya), Georgi Navalovski (\"SKA-Xabarovsk\", Rusiya), Edson Kastilyo (\"Mineros Quayana\", Venesuela: icarəyə), Jairo Rodriges, Maksim Vaylo, Boban Baykoviç Müqavilə müddətini artıranlar:\\xa0Elxan Abdullayev (baş məşqçi), Tərzin Cahangirov, Elvin Bədəlov \"Səbail\" Gələnlər:\\xa0Samir Əliyev (baş məşqçi), Kamal Qurbanov, Eltun Yaqublu, Murad Ağayev\\xa0(hamısı \"Neftçi\"),\\xa0Aqşin Qurbanlı, Orxan Qurbanlı, Təyyar Məmmədov (hamısı \"Neftçi\": icarəyə), Yamin Ağakərimzadə (\"Zirə\"), Emin Mehdiyev, Raul Yaqubzadə (hər ikisi \"Zaqatala\"), Aqşin Muxtaroğlu\\xa0(\"Turan Tovuz\"), Emin Cəfərquliyev (AZAL),\\xa0Vüqar Nadirov (\"Qarabağ\"),\\xa0Nurlan Novruzov (\"Bakı\"), Elman Taqayev (\"Altın Asır\", Türkmənistan),\\xa0Maudo Lamine Jarjue (\"Jil Visente\", Portuqaliya) Gedənlər:\\xa0Elman Sultanov (baş məşqçi),\\xa0Rəşad Əzizli (\"Neftçi\") Müqavilə müddətini artıran:\\xa0Emil Balayev  ',\n",
       " 'Bezosun \"hakimiyyəti\" 1 gün çəkdi...  İyulun 27-də \"Forbes\"un versiyasına əsasən dünyanın ən zəngin insanlarının siyahısında 1-ci yerə yüksələn \"Amazon\" online platformasının sahibi Ceff Bezosun \"hakimiyyəti\" yalnız bir gün davam edib. İKT.lent.az-ın xəbərinə görə, \"Microsoft\"un yaradıcısı Bill Geyts iyulun 28-də yenidən ilk sıraya yüksəlib. Bu günə olan məlumatlara əsasən C. Bezosun sərvəti 543 milyon dollar azalıb və 88,7 milyard dollar həcmində qiymətləndirilir. B. Geytsin sərvətinin miqdarı isə 89,8 milyard dollardır. Bununla yanaşı, \"Bloomberg\"in versiyasına əsasən Bezos 89,3 milyard, Geyts 90,7 milyard dollara sahibdir. \\xa0 C. Bezosun liderliyi itirməsinə səbəb \"Amazon\"un rüblük hesabatından sonra şirkət səhmlərinin ucuzlaşmasıdır. Belə ki, bu ilin ikinci rübündə \"Amazon\"un xalis mənfəəti 77% azalaraq 197 milyon dollar təşkil edib. Ötən ilin eyni dövründə bu miqdar 857 milyon dollar idi. Mənfəətin azalmasına baxmayaraq, şirkətin gəliri 25 milyon dollar artıb. \\xa0 Qeyd edək ki, \"Amazon\"un bazar dəyəri 500 milyard dolları ötüb.  ',\n",
       " 'Britaniya 2019-cu ildə qapılarını bağlayacaq  Avropa İttifaqına üzv ölkələrin vətəndaşları Britaniyaya vizası gedə bilməyəcəklər. Milli.Az\\xa0Trend-ə istinadən bildirir ki,\\xa0qərar 2019-cu ilin martından etibarən qüvvəyə minəcək. Ona qədər isə, Aİ üzvü dövlətlərin vətəndaşları səfərləri vizasız gerçəkləşdirə biləcək. Məlumatı İngiltərənin baş naziri Tereza Meyin sözçüsü yayıb. O deyib ki, 2019-cu ilin martında Britaniya Avropa İttifaqından ayrılacaq. Bu səbəblə, ittifaqa üzv dövlətlərin vətəndaşları Britaniyaya vizasız gedə bilməyəcək.  ',\n",
       " 'Kiberidmançıların minimal əmək haqları artır  Kiberidmançı peşəsi ildən-ilə nüfuz qazanır. Kiberidmanın inkişafı və populyarlaşması ilə bu sahəyə vəsait qoyuluşu daim artır ki, bu da peşəkar oyunçuların qazancına müsbət təsir göstərir. \\xa0 Milli.Az ICTnews-a istinadən bildirir ki, \"Blizzard\" şirkətinin məlumatına görə, \"Overwatch\" rəsmi kiberidman liqasının oyunçularının illik minimal əmək haqları 50 min dollar təşkil edəcək. Yeni oyunçuları işə qəbul edən komandalar onlara bu minimum məbləği ödəməli olacaqlar. Bununla yanaşı, onlarla müqavilələr 1 illik müddətə imzalanacaq. Komandanın vəzifələri sırasına, həmçinin, iştirakçıları tibbi sığorta etmək və onlar üçün pensiya yığımları üzrə planlar hazırlamaq daxildir. \\xa0 Məlumata görə, lakin əməkhaqqı kiberidmançıların yeganə qazancı olmayacaq. Çünki onlara bundan əlavə mükafatlar (çempionatlarda udulan məbləğin yarısı komanda iştirakçıları arasında bölüşdürülür) veriləcək. Məsələn, \"Overwatch League\" liqasının birinci mövsümü üçün mükafat fondu 3,5 milyon dollar təşkil edir ki, bunun da 1 milyon dolları qaliblərə təqdim ediləcək.  ',\n",
       " 'Olimpiada – 2024-ün ev sahibi müəyyənləşdi  2024-cü il Olimpiya Oyunlarının Parisdə keçirilməsi demək olar ki, dəqiqləşib. Milli.Az\\xa0apasport.az-a istinadən xəbər verir ki, buna səbəb sona qalan iki namizəd şəhərdən digərinin - Los Ancelesin müraciəti olub. \\xa0 Bu barədə BOK prezidenti Tomas Bax da açıqlama verib. O, bildirib ki, Los Ancelesin Olimpiya və Paralimpiya Namizəd Komitəsi daha uzunmüddətli planları olduğunu əsas gətirərək təşkilatçılığı 2028-ci ildə etmək istəyiblər. Belə olan halda isə ev sahibliyi üçün sadəcə bir namizəd - Paris qalıb. \\xa0 Maraqlıdır ki, BOK-un bir sıra rəsmiləri bu qərara etiraz etsələr də, sonda Baxın istədiyi olub. Xüsusilə də, vitse-prezidenti Uğur Erdener başda olmaqla, bəzi BOK üzvləri bu ideya ilə razılaşmırdılar. Onların fikrincə, təşkilatçının 11 il əvvəl seçilməsi mümkün deyil. Bu həm də 2024-cü il deyil, 2028-ci ilə namizədliyini verməyi planlaşdırılanların haqqının yeyilməsi deməkdi. \\xa0 Qeyd edək ki, Olimpiada-2024-ün ev sahibi bu il sentyabrın 13-də BOK-un Limadası sessiyasında rəsmi elan olunacaq.  ',\n",
       " 'Azərbaycan və Çexiya - əməkdaşlığın möhkəmləndirilməsi üçün yeni imkanlar  Azərbaycan şirkətlərini Çexiyanın neft-kimya sənayesinə, enerji və təbii ehtiyatlarına investisiyalar maraqlandıra bilər. Milli.Az bildirir ki, bunu Trend-ə eksklüziv müsahibəsində Çexiyanın sənaye və ticarət naziri Yirji Havliçek deyib. Nazirin sözlərinə görə, bu sahələrdə yalnız bir neçə layihə icra edilib, azərbaycanlı investorlar isə Çexiyada bu günədək əsasən daşınmaz əmlak və hotel biznesi sahələrinə investisiyalar qoyub. Y.Havliçek qeyd edib ki, son on il ərzində Çexiya bankları Azərbaycanda iri layihələrin həyata keçirilməsi üçün şirkətlərə 1,8 milyard avro ayırıb. Nazir onu da vurğulayıb ki, Çexiya Avropanın enerji təhlükəsizliyinin gücləndirilməsi məqsədilə təbii qaz mənbələrinin və tədarük marşrutlarının diversifikasiyasını dəstəkləyir: \"Çexiya Azərbaycan qazının Avropaya birbaşa tədarükünü alqışlayır. Çexiya tərəfi \"Cənub qaz dəhlizi\" layihəsinin, xüsusilə də Transadriatik (TAP) və Transanadolu (TANAP) boru kəmərləri layihələrinin tərəfdarıdır\". Y.Havliçekin sözlərinə görə, Azərbaycan neft tədarükü məsələsində Çexiyanın strateji tərəfdaşıdır. Nazir qeyd edib ki, Çexiya üçün Azərbaycan Rusiyadan sonra ikinci iri neft tədarükçüsüdür. \"Azərbaycan Çexiyanın neftə olan tələbatının üçdə bir hissəsini ödəyir\". Y.Havliçek Çexiya ilə Azərbaycan arasında əməkdaşlığın hazırkı vəziyyətinin müsbət olduğunu vurğulayıb: \"Qarşılıqlı ticarətin həcmi 1993-cü ildə qeydə alınan 6 milyon avrodan 2016-cı ildə 532,7 milyon avroyadək yüksələrək 90 dəfə artıb. Bu göstəricilərə əsaslanaraq demək olar ki. Azərbaycan Cənubi Qafqazda Çexiyanın ən vacib ticarət tərəfdaşıdır\". Nazir onu da qeyd edib ki, Çexiya məhsulların Azərbaycandan keçməklə daşınmasının tərəfdarıdır. Onun sözlərinə görə, Çexiya şirkətləri Avropa İttifaqından Şərqə malların daşınması üçün Azərbaycan ərazisindən keçən beynəlxalq marşrutlardan istifadə edə bilər: \"Hazırda bu istiqamətdə danışıqlar aparılır və Çexiya Bakı Beynəlxalq Dəniz Ticarət Limanının, Bakı-Tbilisi-Qars dəmir yolunun, həmçinin \"Şimal-Cənub\" nəqliyyat dəhlizinin tikintisi proseslərini diqqətlə izləyir\".  ',\n",
       " 'Con Makkeyn: \"Putin ABŞ-da demokratiyaya hücum etməyin hesabını ödəyəcək\"   Respublikaçı senator Con Makkeyn amerikalı diplomatların Rusiyadan göndərilməsinə təəccüblənmədiyini bildirib.\"Report\" xəbər verir ki, bu barədə o, \"Twitter\" hesabında yazıb.C.Makkeyn bildirib ki, Vladimir Putin və onun ətrafı ABŞ demokratiyasına hücum etməyin hesabını ödəyəcək.\"Təəccüblü deyil ki, Putin ABŞ diplomatlarını ölkədən göndərdi, lakin o və onun ətrafı əvvəl-axır bizim demokratiyaya hücum etməyin hesabını ödəyəcəklər\", - siyasətçi bildirib.Bundan əvvəllər Kreml ölkə ərazisindəki Amerika diplomatik nümayəndəliyi personalının 455 nəfərə qədər azaldılması barədə qərar qəbul edib. ABŞ-dakı Rusiya diplomatlarının sayı da məhz bu qədərdir. ',\n",
       " '“Bakıda olmuş hər bir kəs ora növbəti dəfə tək qayıtmır” – FOTO  ABŞ-ın Fransa və Böyük Britaniyada geniş oxucu kütləsi qazanmış iqtisadiyyat mövzusunda məqalələr dərc edən \"Forbes\" jurnalında Azərbaycanın maddi və mənəvi irsi, təbii sərvətlərinə həsr olunmuş məqalə dərc edilib. Milli.Az\\xa0\"Report\"a istinadən bildirir ki, müəllif Stefan Rabimov öz məqaləsində bir çox ölkələrin şərq və qərbin kəsişdiyi məkan tituluna iddia etdiyini, lakin Azərbaycan xalqı və paytaxt Bakının layiqli şəkildə bu şərəfli titulu qazana bildiyini vurğulayır. S.Rabimov yazır ki, 2012-ci ildə dünyada öz adı ilə məşhur olan Avroviziya mahnı müsabiqəsini qəbul edən, 2015-ci ildə Avropa Olimpiya Komitəsi tərəfindən Avropa Oyunlarının təşkil edildiyi Bakı şəhəri, bu il İslam Həmrəylik Oyunları çərçivəsində 56 Orta Sərq, Asiya və Afrika ölkəsindən olan atletləri qarşılayıb. O, bildirib ki, \"Formula-1\" yarışı, Novruz festivalının keçirildiyi Bakı iki milyona yaxın qonağı öz ağuşuna almağı bacarıb. Azərbaycanın təbii nemətlərindən yazan müəllif qeyd edib ki, Azərbaycanda neftdən hazırlanan məhsullar hətta əfsanəvi səyahətçi Marko Polo tərəfindən sənədləşdirilib. XX əsrin əvvəllərində Bakı nefti yer üzünün yarısını təmin edə bilib. 1991-ci ildən müstəqqillik əldə etdikdən sonra tarixi investisiyası və geniş qaz yataqlarının istismarı bu ölkəni yenidən təbii yanacaq qazıntısı liderinə çevirib. S.Rabimov yazır ki, Bakıda YUNESKO-nun irsinə daxil olan və böyük maraq doğuran möhtəşəm tarixi abidələr mövcuddur və çox maraqlı tədbirlər baş tutur. Yer üzündə olan 20 iqlim qurşağından 12-si Azərbaycanda var. Bu məkanda dəniz, başı qarlı dağlar, ucu-bucağı bilinməyən meşələr və hətta göz işlədikcə uzanan çöllər mövcuddur. Fəslindən, ayından asılı olmayaraq Azərbaycana gəlmiş heç bir qonağın darıxdığına rast gəlmək mümkün deyil. Bakıda qonaq olmuş hər bir kəs bu şəhərə bir də qayıtmaq arzusu ilə yaşayır və növbəti dəfə ora tək yox, yaxınları, dostları, tanışları ilə qayıdır. Milli.Az Digər maraqlı xəbərlər Milli.Az-ın Facebook səhifəsində Mənbə: milli.az ',\n",
       " 'Əfqanıstanda İraq səfirliyi yaxınlığında atışma baş verib  Əfqanıstanın paytaxtı Kabildə İraq səfirliyinə yaxınlığında baş vermiş canlı bomba hücumundan sonra təhlükəsizlik qüvvələri və silahlılar arasında atışma baş verib. Milli.Az\\xa0Trend-ə istinadən bildirir ki,\\xa0səfirliyin darvazası önündə canlı bomba özünü partladdıqdan sonra üç silahlı içəriyə daxil olub. Özünü İslam Dövləti (İŞİD) adlandıran qruplaşma hücuma görə məsuliyyəti öz üzərinə götürüb. Bir neçə saat çəkən atışmadan sonra, Əfqanıstan hakimiyyəti hücumun sona çatdığını və silahlıların öldürüldüyünü deyib. İraq səfirliyi Kabilin mərkəzi Şər-e-Nav məhəlləsində yerləşir. Bu il şəhər İŞİD və Talibanın həyata keçirdiyi bir neçə ölümcül hücumların hədəfi olub. Milli.Az Digər maraqlı xəbərlər Milli.Az-ın Facebook səhifəsində Mənbə: milli.az ',\n",
       " 'Rusiya “Facebook”da Makronun çevrəsindən məlumat toplamağa çalışıb  Rusiya Fransadakı prezident seçkiləri zamanı \"Facebook\"da saxta profillər vasitəsilə hazırkı prezident Emmanuel Makronun dostlarından informasiya toplamağa çalışıb. \\xa0 Milli.Az\\xa0lent.az-a istinadən xəbər verir ki,\\xa0bu barədə \"Reuters\"ə adının gizli saxlanılmasını istəyən mənbələr, o cümlədən ABŞ Konqresinin bir üzvü bildirib. Hazırda təhqiqat aparılır. \\xa0 Məlumata əsasən Rusiya agentləri \"Facebook\"da onlarla saxta səhifə yaradıblar və Makronun dostları ilə \"dostlaşmağa\" çalışıblar. \"Facebook\" bu səhifələri aşkara çıxarıb və silib. Beləliklə, hakerlər Makronun dostlarının yazışmalarını əldə edə bilməyiblər.\\xa0 Milli.Az Digər maraqlı xəbərlər Milli.Az-ın Facebook səhifəsində Mənbə: milli.az ',\n",
       " 'ABŞ-ın Rusiyadakı səfirliyi vizaları azaltdı  Moskvanın ABŞ səfirliyi ştatının azaldılması barədə qərarından sonra Rusiyada Amerika vizalarının verilməsi üzrə imtinaların sayı xeyli artıb. Milli.Az\\xa0\"Report\"a istinadən bildirir ki, bu barədə \"The New York Tmes\" nəşri yazıb. Nəşrin rəyinə görə, bu, səfirliyin bəzi funksiyalarını, xüsusilə viza verilməsini poza bilər. Viza verilməsi ilə məşğul olan şirkət əməkdaşı Şavkat Butayev bildirib ki, viza verilməsinə imtinaların sayı indidən artıb: \"Heç vaxt belə şey olmayıb: hər gün 50-60 adama rədd cavabı verirlər, onların əksəriyyəti gənc qadınlardır\", – deyə Butayev bildirib. Milli.Az Digər maraqlı xəbərlər Milli.Az-ın Facebook səhifəsində Mənbə: milli.az ',\n",
       " '“Dağlıq Qarabağ münaqişəsinin yenidən qızışması regionda faciə ilə nəticələnə bilər” -  \"İrəvan yaxınlığında yerləşən Metsamor nüvə stansiyası çox baxımsız və acınacaqlı vəziyyətdə fəaliyyət göstərir və Dağlıq Qarabağ münaqişənin yenidən qızışması regionda faciə ilə nəticələnə, təbiətə olmazın ziyanlar vura bilər\". Milli.Az\\xa0\"Report\"a istinadən bildirir ki, bunu \"bloqs.alternatives-economiques.fr\" internet blokuna verdiyi \"Dağlıq Qarabağ münaqişəsi hədələyir\" başlıqlı müsahibəsində Avropada Prospektiv və Təhlükəsizlik İnstitutunun (IPSE) geosiyasətçisi və tədqiqatçı alimi İlan Syalom deyib. O, müsahibəsində Dağlıq Qarabağ münaqişəsi ilə bağlı həqiqətlərdən danışıb. Tədqiqatçı beynəlxalq ictimaiyyətin bütün diqqətlərin Suriya və Simali Koreyaya yönəldiyi halda, Dağlıq Qarabğ münaqişəsini lazımınca qiymətləndirmədiyini qeyd edib. \"İyirmi beş ildir ki, Azərbaycan ərazilərinin 25 faizi Ermənistan tərəfindən işğal olunub və nəticədə yüz minlərlə insan həyatını itirib, minlərlə insan qaçqın düşüb. 2016-cı ilin aprel ayında 4 gün davam edən döyüşlər 200-ə yaxın insanın ölümü ilə nəticələnib. 4 İyul tarixində isə Ermənistan silahlı bölmələrinin atdığı top atəşi nəticəsində iki nəfər mülki şəxs – nənə və onun 2 yaşlı nəvəsi dünyasını dəyişib. Top atəşi Azərbaycan ərazisinin tərkibində, sərhəddən 5 km. aralıda yerləşən Alxanlı kəndinə qəsdən tuşlanıb. Bu faciəvi hadisəyə reaksiya verənlərin sayı hədsiz çox oldu. Ünvanladığı açıq məktubunda Avropa Parlamentinin vitse-prezidenti Riçard Çarnetski və Azərbaycan üzrə Avropa Parlamentinin məruzəçisi Norika Nikolay Ermənistanın təcavüzünü pisləyərək bildiriblər ki, mülkü şəxslərin, qadınların və uşaqların qəsdən qətlə yetirilməsi yolverilməzdir və buna dərhəl son qoyulmalıdır\", – deyə alim qeyd edib. İ.Syalom jurnalistin \"Bu münaqişə yenidən vüsət alarsa, ən pis halda nə baş verə bilər?\" sualına belə cavab verib: \"İrəvan yaxınlığında yerləşən Metsamor nüvə stansiyası çox baxımsız və acınacaqlı bir vəziyyətdə fəaliyyət göstərir və bu münaqişənin yenidən qızışması regionda faciə ilə nəticələnə, təbiətə olmazın ziyanlar vura bilər\". Münaqişənin diplomatik müzakirələr yolu ilə həllindən danışan İlan Syalom bildirib ki, əslində Dağlıq Qarabağ münaqişəsi dövlətlər üçün prioriotet məsələ olana mənzəmir. Belə ki, Ermənistan silahlı qüvvələrinin Dağlıq Qarabağdan çıxmasını tələb BMT tərəfindən 4 qətnamənin qəbul olunmasına baxmayaraq, işğal davam etməkdədir. Dağlıq Qabağ münaqişəsinin həllinin vacib bir məsələ olduğunu deyən alim ABŞ və Avropa İttifaqının Bakıya siyasi, diplomatik və hərbi dəstək göstərməsinin əhəmiyyətinə toxunub və bildirib ki, Qafqazda yerləşən bu kiçik ölkə Vaşinqton və Brüsselin reginda ən stabil və etibarlı tərəfdaşıdır. Milli.Az Digər maraqlı xəbərlər Milli.Az-ın Facebook səhifəsində Mənbə: milli.az ',\n",
       " 'Yunanıstan sahillərində 5,4 bal gücündə zəlzələ baş verib  Aralıq dənizində Yunanıstan sahillərində 5,4 bal gücündə zəlzələ baş verib. Milli.Az\\xa0Trend-ə istinadən bildirir ki,\\xa0bu barədə Türkiyənin Milliyet qəzeti yazır. Yeraltı təkanların ocağı 23,4 kilometr dərinlikdə Krit adası yaxınlığında yerləşib. Tələfat və dağıntılar barədə məlumat verilmir. Milli.Az Digər maraqlı xəbərlər Milli.Az-ın Facebook səhifəsində Mənbə: milli.az ',\n",
       " 'Britaniya 2019-cu ildə qapılarını bağlayacaq  Avropa İttifaqına üzv ölkələrin vətəndaşları Britaniyaya vizası gedə bilməyəcəklər. Milli.Az\\xa0Trend-ə istinadən bildirir ki,\\xa0qərar 2019-cu ilin martından etibarən qüvvəyə minəcək. Ona qədər isə, Aİ üzvü dövlətlərin vətəndaşları səfərləri vizasız gerçəkləşdirə biləcək. Məlumatı İngiltərənin baş naziri Tereza Meyin sözçüsü yayıb. O deyib ki, 2019-cu ilin martında Britaniya Avropa İttifaqından ayrılacaq. Bu səbəblə, ittifaqa üzv dövlətlərin vətəndaşları Britaniyaya vizasız gedə bilməyəcək. Milli.Az Digər maraqlı xəbərlər Milli.Az-ın Facebook səhifəsində Mənbə: milli.az ',\n",
       " 'Olimpiada – 2024-ün ev sahibi müəyyənləşdi  2024-cü il Olimpiya Oyunlarının Parisdə keçirilməsi demək olar ki, dəqiqləşib. Milli.Az\\xa0apasport.az-a istinadən xəbər verir ki, buna səbəb sona qalan iki namizəd şəhərdən digərinin – Los Ancelesin müraciəti olub. \\xa0 Bu barədə BOK prezidenti Tomas Bax da açıqlama verib. O, bildirib ki, Los Ancelesin Olimpiya və Paralimpiya Namizəd Komitəsi daha uzunmüddətli planları olduğunu əsas gətirərək təşkilatçılığı 2028-ci ildə etmək istəyiblər. Belə olan halda isə ev sahibliyi üçün sadəcə bir namizəd – Paris qalıb. \\xa0 Maraqlıdır ki, BOK-un bir sıra rəsmiləri bu qərara etiraz etsələr də, sonda Baxın istədiyi olub. Xüsusilə də, vitse-prezidenti Uğur Erdener başda olmaqla, bəzi BOK üzvləri bu ideya ilə razılaşmırdılar. Onların fikrincə, təşkilatçının 11 il əvvəl seçilməsi mümkün deyil. Bu həm də 2024-cü il deyil, 2028-ci ilə namizədliyini verməyi planlaşdırılanların haqqının yeyilməsi deməkdi. \\xa0 Qeyd edək ki, Olimpiada-2024-ün ev sahibi bu il sentyabrın 13-də BOK-un Limadası sessiyasında rəsmi elan olunacaq. Milli.Az Digər maraqlı xəbərlər Milli.Az-ın Facebook səhifəsində Mənbə: milli.az ',\n",
       " 'Rafet El Romandan qızlarına QADAĞA - FOTO  Rafet El Romanın Tuğba Altıntopdan olan qızları Su (19) ilə Şevval (17)\\xa0Bodrum tətilinə davam edirlər. Ötən gün müğənninin qızı Su gün boyu günəşin və dənizin dadını çıxardıb Milli.Az Posta-ya istinadən xəbər verir ki, Almaniyada yaşayan Su ilə bacısı Şevval artıq İstanbula, anaları Tuğba Altıntopun yanına köçmək istəyir. Ancaq atası Rafet El Roman qızlarını tətil sonrası Londona, konservatoriyada oxumağa göndərmək fikrindədir. Məhəmməd Vaqif  ',\n",
       " 'Səbinə ikinci dəfə ana oldu - FOTO  \"Muğam-2011\" müsabiqəsinin qalibi Səbinə Ərəbli ikinci dəfə ana olub.\\xa0 Milli.Az\\xa0axşam.az-a istinadən bildirir ki,\\xa0xanəndənin oğlu dünyaya gəlib. Səbinə sevincini belə dilə gətirib: \\xa0 \"Mətin balamızdan sonra bu gün yenidən valideyn olmaq çox gözəl hissdir. Xoş gəldin, balamız. Bizim fəxrimiz ol, Mətinimizin qardaşı\".\\xa0 Qeyd edək ki, \"Dünya\" telekanalının aparıcısı İbrahim Azəri ilə ailəli olan Səbinənin Mətin adlı bir oğlu da var. Cütlüyün övladı ötən ilin yanvarında dünyaya gəlib.\\xa0 Milli.Az Digər maraqlı xəbərlər\\xa0Milli.Az-ın Facebook\\xa0səhifəsində ',\n",
       " 'Azərbaycan neftinin qiymətində dəyişiklik  Azərbaycan nefti ucuzlaşıb. Milli.Az APA-ya istinadən xəbər verir ki, \"AzeriLight\" markalı neftin 1 barelinin dəyəri 0,07 dollar və ya 0,13% azalaraq 53,60 dollar təşkil edib.  ',\n",
       " 'AÇ: Atıcımız 38 idmançı arasında 37-ci oldu  Bakıda keçirilən atıcılıq üzrə Avropa çempionatının 11-ci gününə yekun vurulub. Milli.Az\\xa0apasport.az-a istinadən xəbər verir ki, kişilərin 25 m məsafədən mərkəzə atəş açma yarışında komanda hesabında Ukrayna qələbə qazanıb.\\xa0 Onlar 1732 xal toplayıb. Almaniya 2-ci, Fransa 3-cü olub. Azərbaycan yığması komanda yarışına qatılmayıb. Kişilərin 300 m məsafədən üç vəziyyətdə atəş açma yarışında Fransa millisi komanda hesabında 1-ci olub. İsveçrə 2-ci, Avstriya 3-cü olub. Bu növdə Azərbaycan yığması iştirak etməyib. Kişilərin skit yarışında isə Cavid Həsənov çıxış edib. Təsnifat mərhələsində mübarizəni dayandıran təmsilçimiz 57 xal toplayıb və 38 idmançı arasında 37-ci olub. Qadınların komanda yarışında İtaliya 1-ci, Ukrayna 2-ci, Kipr 3-cü yeri tutub. Milli.Az Digər maraqlı xəbərlər\\xa0Milli.Az-ın Facebook\\xa0səhifəsində ',\n",
       " 'ABŞ-da məhbuslar həbsxanadan qaçdılar  ABŞ-ın Alabama ştatında 12 məhbus həbsxanadan qaçıb. Milli.Az Trend-ə istinadən xəbər verir ki, məhbuslardan 11 nəfəri qısa müddət sonra ələ keçirilib. Hazırda bir məhbusun axtarışları aparılır. Alabama polisi sakinləri ehtiyatlı olmağa, axşam saatlarında evlərini tərk etməməyə çağırıb.  ',\n",
       " 'Neftin qiyməti 53 dollara yaxınlaşır  Dünya birjalarında neft bahalaşmaqdadır. Milli.Az APA-ya istinadən xəbər verir ki, Nyu-Yorkun NYMEX əmtəə birjasında keçirilən elektron ticarət əməliyyatlarının gedişində WTI neftinin qiyməti 1 barelə görə 0,11 dollar və ya 0,22% artaraq 50,28 dollar təşkil edib. \\xa0 ICE London qitələrarası birjasında Brent markalı neftin 1 barelinin dəyəri isə 0,08 dollar və ya 0,15% artaraq 52,80 dollar olub.  ',\n",
       " 'Bərgüzar Korel tətildə - FOTO  Məşhur türkiyəli aktrisa Bərgüzar Korelin tətil görüntüləri yayılıb. Milli.Az\\xa0qafqazinfo-ya istinadən xəbər verir ki,\\xa0aktrisanın Çeşmədə gerçəkləşdirdiyi tətilə həyat yoldaşı, məşhur aktyor Halit Ergenc işləri səbəbindən qatıla bilməyib. Başrolunu paylaşdıqları \"Vətənim Sənsən\" serialının çəkilişləri səbəbiylə yorucu mövsüm keçirən Bərgüzar və Halit yorğunluqlarını Egey dənizi sahillərində çıxarmağa qərar veriblər.\\xa0 Milli.Az Digər maraqlı xəbərlər\\xa0Milli.Az-ın Facebook\\xa0səhifəsində ',\n",
       " 'Meksikada son yeddi ayda 9 jurnalist öldürülüb   Meksikada son yeddi ayda 9 jurnalist öldürülüb. “Report” RİA \"Novosti”yə istinadən xəbər verir ki, ötən gün “Aşağı Kaliforniya ştatının Rosarito şəhərində CNR telekanalının reportyoru Luçano Rivera güllələnərək qətlə yetirilib. Yerli bələdiyyənin İctimai təhlükəsizlik idarəsindən bildirilib ki, Rivera gecə klublarından birində ziyarətçilərlə mübahisə zamanı öldürülüb. Cinayəti törədənlər hadisə yerindən qaçıblar. Onlar taksiyə oturaraq Meksika-ABŞ sərhədinə doğru hərəkət ediblər. Taksi sürücüsü saxlanılıb və avtomobildən odlu silah aşkar olunub.Rivera bu il öldürülən 9-cu jurnalistdir. Bir müddət əvvəl oğurlanan Salvador Adam adlı jurnalistin yandırlımış meyitinin qalıqları aşkar olunub. Sinaloa ştatının Kuliakan şəhərində narkotik maddələrin satışı işıqlandıran Xaver Valdes də qətlə yetirilib. Meksika Jurnalist Cəmiyyətinin məlumatına görə, 2000-ci ildən etibarən ölkədə KİV-in 120 əməkdaşı öldürülüb, 20-si itkin düşüb, təxminən 50 dəfə informasiya vasitəsinin yerləşdiyi binaya hücum edilib. \\xa0 ',\n",
       " 'Bu il Azərbaycanda 268 min hektara yaxın ərazidə çöl torpaq tədqiqatı işləri görülüb   Ölkə üzrə Torpaqların Elektron Kadastr Uçotu İnformasiya Sisteminin Yaradılması işləri davam etdirilir.“Report” xəbər verir ki, bu barədə Əmlak Məsələləri Dövlət Komitəsinin (ƏMDK) açıqlamasında bildirilir. Məlumatda deyilir k, indiyə qədər respublikanın 12 rayonunda elektron kadastr uçotu işləri yekunlaşıb. Layihə çərçivəsində 870 min hektardan çox ərazidə irimiqyaslı çöl torpaq tədqiqatı, 700 min hektara yaxın ərazidə çöl geobotaniki tədqiqat işləri aparılıb. 2017-ci ildə torpaqların elektron kadastr uçotu layihəsinə cəlb edilmiş 14 rayonda 1 milyon hektardan artıq sahə, 700 minə yaxın parsel üzrə uçot işi yerinə yetirilməsi nəzərdə tutulur. Eyni zamanda bu il ərzində 800 min hektar ərazidə irimiqyaslı torpaq tədqiqatı işlərinin, 550 min hektar ərazidə çöl geobotaniki tədqiqat işlərinin aparılması planlaşdırılır. Torpaq tədqiqatı işlərinin nəticələrinə əsaslanaraq bu ərazilərin torpaq, şorlaşma və eroziya xəritələri hazırlanır, torpaqların bonitirovkası və iqtisadi qiymətləndirilməsi işləri yerinə yetirilir. Qeyd edilməlidir ki, bu ilin birinci yarımilliyində 268 min hektara yaxın ərazidə çöl torpaq tədqiqatı, 200 min hektar ərazidə çöl geobotaniki tədqiqat işləri yerinə yetirilib. Torpaqların kadastr uçotuna alınması işləri yekunlaşdıqca etibarlı kadastr məlumatları əsasında şəhər, qəsəbə, kənd bələdiyyələrinin müasir rəqəmsal xəritələri hazırlanır. Bu işlər Gəncə, Sumqayıt, Şəki şəhərlərinin, Xızı və Salyan rayonlarının inzibati sərhədləri daxilində yerləşən bələdiyyələr üçün artıq yekunlaşıb. Bakı şəhərinin isə 53 bələdiyyəsindən 51-nin xəritələrinin hazırlanması işi yekunlaşmaq üzrədir.Kadastr uçotu işlərinin nəticələrindən istifadə etməklə torpaq islahatı başa çatmamış təsərrüfatlarda yerquruluşu işləri həyata keçirilir. Bu işlər çərçivəsində Xaçmaz, Siyəzən, İmişli, Beyləqan rayonunda yaşayan 1000-dən artıq ailənin uzun illərdən bəri mövcud olan torpaqla bağlı problemi müsbət həll olunub.Bir sıra inzibati-ərazi dairələri üzrə sərhədlərin hələ də dəqiqləşdirilməməsi də torpaq idarəçiliyində problemlər yaradıb. Hal-hazırda aidiyyəti mərkəzi və yerli icra hakimiyyətləri orqanları ilə birlikdə bu problemlərin həlli ilə bağlı tədbirlər görülür.Eyni zamanda işğal altında və cəbhə bölgələrində yerləşən, habelə torpaq – sərhəd mübahisələri olan inzibati ərazi dairələri istisna olmaqla, respublikanın digər inzibati ərazi dairələrinin sərhədlərinin müəyyənləşdirilməsinə dair yerquruluşu işləri yekunlaşıb. Ölkənin 4,1 milyon hektar ərazisinin ortofotomateriallarının rəqəmsallaşdırılması və bu ərazi üçün relyef xəritələrinin hazırlanması işi artıq başa çatdırılıb. Respublikada iri təsərrüfatların yaradılması məqsədilə aidiyyəti orqanlarla birlikdə 18 rayonun inzibati ərazilərindən yeni əkin dövriyyəsinə cəlb ediləcək 150 min hektara yaxın torpaq massivlərinin və bir sıra rayonlarda yeni suvarılacaq ərazilərin kadastr xəritələri hazırlanıb. Təyinatından və mülkiyyət növündən asılı olmayaraq bütün torpaqların kadastr uçotuna alınması işləri 2020-ci ildə yekunlaşacaq, dəqiq kadastr uçotu məlumatları əsasında rəqəmsal bələdiyyə xəritələri hazırlanacaq. Qeyd edilməlidir ki, Azərbaycanda torpaqların elektron kadastr uçotu və rəqəmsal kadastr xəritələrinin yaradılmasında ölkənin kosmik imkanlarından - süni peyklərin məlumatlarından istifadə olunur. Bununla bağlı Komitə ilə “Azərkosmos” ASC arasında anlaşma memorandumu imzalanıb.Bundan başqa ƏMDK ilə AMEA-nın akademik Həsən Əliyev adına Coğrafiya İnstitutu ilə birgə torpaq ehtiyatlarının idarə olunması, kənd təsərrüfatı ərazilərinin planlaşdırılması sahəsində əməkdaşlıq barəsində memorandum imzalanıb. Memoranduma əsasən daşınmaz əmlak kadastrı, coğrafiya elminin qarşılıqlı maraq doğuran sahələrində innovasiyaların tətbiqi, kadr hazırlığı istiqamətində birgə işlər görüləcək. ',\n",
       " 'Beynəlxalq əmtəə, fond və valyuta bazarlarının əsas göstəriciləri (01.08.2017)   Son qiymət Əvvəlki günün\\xa0qapanışı ilə fərq İlin əvvəli ilə fərq Əmtəə Neft Brent (dollar/barel) 52,8 0,08 - 4,02 Neft WTI (dollar/barel) 50,27 0,1 - 3,45 Qızıl (dollar/unsiya) 1 269,51 2,91 119,51 İndekslər Dow-Jones 21 891,12 60,81 2 128,52 S&P 500 2470,3 - 1,8 231,47 Nasdaq 6 348,12 - 26,55 965,01 Nikkei 19 977 51,82 862,63 Dax 12 118,25 - 44,45 637,19 FTSE 100 7372 3,63 229,17 CAC 40 INDEX 5093,77 - 37,62 231,46 Shanghai Composite 3 288,13 15,1 184,49 Bist 100 107 531,44 - 168,28 29 392,78 RTS 1 007,14 - 7,3 - 145,19 Valyuta USD/EUR 1,1829 -0,0012 0,1313 USD/GBP 1,3224 0,0009 0,0886 JPY/USD 110,15 - 0,11 - 9,14 RUB/USD 59,7719 0,2141 - 1,5011 TRY/USD 3,5194 0,0003 0,0081 CNY/USD 6,7191 - 0,0092 - 0,2259 ',\n",
       " 'Azərbaycan nefti cüzi ucuzlaşıb   Azərbaycanın dünya bazarına çıxararaq satdığı \"Azeri LT CIF\" markalı xam neftin 1 barelinin qiyməti 0,07 dollar və yaxud 0,13% azalıb.\"Report\" xəbər verir ki, \"Azeri LT CIF\" markalı neftin qiyməti 53,6 dollar/barelə bərabər olub.Xatırladaq ki, \"Azeri LT CIF\" neftinin minimal qiyməti 2001-ci ilin dekabrında (19,15 dollar), maksimal qiyməti isə 2008-ci ilin iyulunda (149,66 dollar) qeydə alınıb. ',\n",
       " 'Ermənilər atəşkəs rejimini 135 dəfə pozublar   Ermənistan silahlı qüvvələrinin bölmələri cəbhənin müxtəlif istiqamətlərində sutka ərzində atəşkəs rejimini 135 dəfə pozub.Bu barədə \"Report\"a Azərbaycan Müdafiə Nazirliyinin mətbuat xidmətindən məlumat verilib.Ermənistan Respublikası Noyemberyan rayonunun Barekamavan kəndində və adsız yüksəkliklərdə, İcevan rayonu ərazisindəki adsız yüksəkliklərdə yerləşən mövqelərdən Qazax rayonunun Qaymaqlı, Quşçu Ayrım, Bala Cəfərli kəndlərində və adsız yüksəkliklərdə, Berd rayonunun Çinari, Ayqedzor kəndlərində və adsız yüksəkliklərdə yerləşən mövqelərdən Tovuz rayonunun Koxanəbi, Muncuqlu kəndlərində, Krasnoselsk rayonu ərazisindəki adsız yüksəkliklərdə yerləşən mövqelərdən Gədəbəy rayonu ərazisindəki adsız yüksəkliklərdə yerləşən mövqelərimiz atəşə tutulub.Tərtər rayonunun işğal altında olan Göyarx, Çiləbürt, Yarımca, Ağdam rayonunun Baş Qərvənd, Qaraqaşlı, Mərzili, Xocavənd rayonunun Kuropatkino, Füzuli rayonunun Aşağı Seyidəhmədli, Qorqan, Kürdlər, Horadiz, Cəbrayıl rayonunun Nüzgar və Mehdili kəndləri yaxınlığında, həmçinin Göygöl, Goranboy, Tərtər, Ağdam, Xocavənd və Füzuli rayonları ərazisindəki adsız yüksəkliklərdə yerləşən mövqelərdən də Azərbaycan Silahlı Qüvvələrinin mövqeləri atəşə tutulub. ',\n",
       " 'SOCAR-da Arizona ştatının Nümayəndələr Palatasının spikeri ilə görüş keçirilib   Azərbaycan Dövlət Neft Şirkətinin (SOCAR) inzibati binasında (SOCAR Tower-də) ABŞ-ın Arizona ştatının Nümayəndələr Palatasının spikeri Cavan Mesnard ilə görüş keçirilib.Bu barədə “Report” şirkətə istinadən xəbər verir. Məlumata görə, qonağı səmimi salamlayan SOCAR-ın kadr, rejim və informasiya texnologiyaları üzrə vitse-prezidenti Xalik Məmmədov 2013-cü ildən təmsil etdiyi şirkət və Arizona ştatının biznes qurumları arasında sıx əlaqələrin qurulduğunu qeyd edib. O, Azərbaycanda həyata keçirilən irihəcmli enerji layihələri çərçivəsində qazanılmış uğurlar, ölkənin və bütövlükdə regionun sosial-iqtisadi inkişafında bu layihələrin rolu haqqında qonağa ətraflı məlumat verib. Azərbaycanın qədim neft diyarı olduğunu nəzərə çatdıran SOCAR-ın vitse-prezidenti 1846-cı ildə dünyada sənaye üsulu ilə ilk neft quyusunun qazılması və 1949-cu ildə açıq dənizdə neft hasilatına başlanılmasının, dünya neft sənayesi tarixində mühüm yer tutan digər proseslərin Bakı neftçiləri tərəfindən həyata keçirildiyini söyləyib və qeyd edib ki, neftin boru kəməri ilə nəqlinin təməli də məhz Bakıda qoyulub. Azərbaycanın hələ qədim dövrlərdən Avropanın neft təchizatında əhəmiyyətli rol oynadığı, həmin ənənənin bu gün də uğurla davam etdirildiyi vurğulanıb.ABŞ-ın Azərbaycanda həyata keçirilən enerji layihələrinə göstərdiyi dəstək və Amerika şirkətlərinin bu layihələrdə iştirak etməsi görüşdə diqqət mərkəzində olub, \"Azəri-Çıraq-Günəşli\" layihəsində “ExxonMobil” şirkətinin iştirak etdiyi qeyd olunub. 2016-cı ildə SOCAR-ın prezidenti Rövnəq Abdullayevin “ExxonMobil” şirkətinin eks-prezidenti, hazırda ABŞ-ın dövlət katibi Reks Tillersonla görüşündə Xəzərin Azərbaycan sektorunda həyata keçirilən layihələr haqqında fikir mübadiləsi aparıldığı bildirilib. Qeyd olunub ki, Amerika enerji layihələrinin inkişafına dəstəyini bu gün də əsirgəmir və Avropanın enerji təhlükəsizliyində mühüm rol oynayan Cənub Qaz Dəhlizi layihəsinə böyük önəm verir. SOCAR-ın İBM və digər nüfuzlu Amerika şirkətləri ilə əməkdaşlıq əlaqələri diqqətə çatdırılıb. Qonaqpərvərliyə görə təşəkkürünü bildirən C.Mesnard 2013-cü ildə ştatın qanunverici orqanında Xocalı soyqırımı, ötən il Ermənistan-Azərbaycan münaqişəsi ilə bağlı qətnamələrin müzakirəsində və qəbul olunmasında iştirak etdiyini nəzərə çatdırıb. Bakıya səfərdən məmnun olduğunu deyən qonaq Azərbaycanda hasil edilən enerji daşıyıcılarının Avropaya nəqlinin önəmli məsələ kimi gündəmdə olduğunu vurğulayıb və bildirib ki, Bakıda keçirdiyi görüşlərdə Arizona ilə münasibətlərə böyük əhəmiyyət verildiyinə şahid olub. C.Mesnard Arizona ştatının bir sıra istiqamətlərdə, o cümlədən iqtisadi sahədə Azərbaycan ilə əməkdaşlıqda maraqlı olduğunu vurğulayıb, ölkəsinə döndükdən sonra Azərbaycanda gördüyü inkişaf barədə Nümayəndələr Palatası üzvlərinə məlumat verəcəyini bildirib. Qonaq Arizona və Azərbaycan arasında dostluq və əməkdaşlıq əlaqələrinin bundan sonra da inkişaf edəcəyinə, SOCAR-ın bu əlaqələrin dərinləşməsinə daha böyük töhfə verəcəyinə əminliyini ifadə edib.\\xa0 ',\n",
       " 'Azərbaycan Mərkəzi Bankının valyuta məzənnələri (01.08.2017)   Azərbaycan Mərkəzi Bankının bu günə olan rəsmi valyuta məzənnələrinə əsasən, ABŞ dollarının məzənnəsi dəyişməyərək 1,7009 manat olub. “Report\" xəbər verir ki, avronun məzənnəsi 0,8% artaraq 2,0122 manat, Rusiya rublunun məzənnəsi isə 0,35% azalaraq 0,0284 manat olub: Valyuta Məzənnə 1 ABŞ dolları 1.7009 1 Avro 2.0122 1 Rusiya rublu 0.0284 1 Avstraliya dolları 1.3659 1 Argentina pesosu 0.0964 1 Belarus rublu 0.8781 1 Braziliya rialı 0.5439 1 BƏƏ dirhəmi 0.4631 1 Cənubi Afrika randı 0.1292 100 Cənubi Koreya vonu 0.1521 1 Çexiya kronu 0.0771 100 Çili pesosu 0.2619 1 Çin yuanı 0.2531 1 Danimarka kronu 0.2706 1 Gürcü larisi 0.7075 1 Honq Konq dolları 0.2177 1 Hindistan rupisi 0.0265 1 İngilis funt sterlinqi 2.2485 100 İndoneziya rupiası 0.0128 100 İran rialı 0.0045 1 İsveç kronu 0.2105 1 İsveçrə frankı 1.7596 1 İsrail şekeli 0.4774 1 Kanada dolları 1.3616 1 Küveyt dinarı 5.6387 1 Qazaxıstan tengəsi 0.0052 1 Qırğız somu 0.0246 100 Livan funtu 0.1128 1 Malayziya rinqqiti 0.3976 1 Meksika pesosu 0.0957 1 Moldova leyi 0.0940 1 Misir funtu 0.0950 1 Norveç kronu 0.2161 100 Özbək somu 0.0418 1 Polşa zlotası 0.4731 1 Sinqapur dolları 1.2544 1 Səudiyyə Ərəbistanı rialı 0.4536 1 SDR (BVF-nin xüsusi borcalma hüquqları) 2.3944 1 Türk lirəsi 0.4836 1 Tayvan dolları 0.0564 1 Tacik somonisi 0.1930 1 Yeni türkmən manatı 0.4867 1 Ukrayna qrivnası 0.0659 100 Yapon yeni 1.5434 1 Yeni Zelandiya dolları 1.2772 Qızıl (1 unsiya) 2155,9758 Gümüş (1 unsiya) 28,5751 Platin (1 unsiya) 1595,4442 Palladium (1 unsiya) 1520,6046 ',\n",
       " 'Bakı metrosunda qatarların hərəkəti ləngiyir   Bu gün səhər saatlarında Bakı metrosunda qatarların hərəkətində gecikmə yaranıb.\"Bakı Metropoliteni\" QSC-nin mətbuat xidməti və ictimaiyyətlə əlaqələr şöbəsinin rəisi Nəsimi Paşayev \"Report\"a bildirib ki, hadisəyə səbəb \"Həzi-Aslanov\" - \"İçəri Şəhər\" istiqamətində hərəkət edən 11 saylı qatarda nasazlıq yaranmasıdır. \"Qatarın nasaz olması ümumi xətdə qatarların ləngiməsinə gətirib çıxarıb. Yaxın saatlarda bu problem aradan qaldırılacaq\", - o qeyd edib.\\xa0 ',\n",
       " 'Apamark kağız karton istehsalına dəstək oldu   Apamark şirkəti və Azərsun Holdinq-in tərkibində fəaliyyət göstərən Kağız Karton İstehsalat kombinatının birgə əməkdaşlığı nəticəsində artıq müxtəlif formalı qutuların alışı ilə maraqlananlar uzaq məsafə qət etmələrinə gərək qalmadı. Kombinat üçün yeni yaradılmış sayt bu gündən etibarən fəaliyyətə başladı. \\xa0 Sifariş forması asanlaşdırıldı \\xa0 Yeni yaradılmış internet səhifəsində ziyarətçilər rahat şəkildə 250-dən çox qutu formaları ilə tanış ola bilərlər. Bundan əlavə, ziyarətçilər istədikləri qutuların üzərinə basmaqla açılan pəncərədə müvafiq məlumatları dolduraraq onu sifariş də edə bilərlər. \\xa0 Özəl proqramlaşdırma və minimum asılılıq \\xa0 Saytın proqramlaşdırılması zamanı hər hansı bir hazır şablon proqramlaşdırma modullarından istifadə edilməmişdir. İstifadəçinin gələcəkdə rahat şəkildə yeni məhsul, bölmə, dil paneli, mətn və şəkil əlavə edə bilməsi üçün admin panel tərəfində geniş imkanlar yaradılmışdır. \\xa0 Qeyd edək ki, qısa müddət ərzində bazarda markalaşmağı bacaran Apamark şirkəti Avqust ayı ərzində daha iki əhəmiyyətli layihəni təqdim etməyi planlaşdırır. \\xa0 ',\n",
       " 'Məşhur müğənni, sanki, zamana meydan oxuyur - FOTO  Amerikalı prodüser, aktrisa, müğənni və dizayner Qven Stefani doğma şəhərində istirahət edir. Milli.Az NBC-yə istinadən bildirir ki, 47 yaşlı ulduz ABŞ-ın Kaliforniya ştatındakı Nyuport Biç çimərliyində olarkən reportyorların diqqətindən yayınmayıb. O, ötən ildən birlikdə yaşadığı sevgilisi Blək Şeltonla okean sahilində dincəlirdi. Qven Stefani yaşına rəğmən çox gənc görünürdü.  ',\n",
       " 'Simulyasiya edənlər daha ciddi cəzalandırılacaqlar  İngiltərə Futbol Assosasiyası (FA) yeni mövsümdən simulyasiya edən futbolçulara qarşı ciddi mübarizə aparacaq. Milli.Az\\xa0goal.az-a istinadən xəbər verir ki,\\xa0hakimi aldatmağa cəhd edən futbolçular 2 oyunluq diskvalifikasiya ilə cəzalandırılacaq. Simulyasiya predmeti kimi rəqib futbolçunun qırmızı vərəqə almasına və penalti təyin edilməsinə səbəb olan hərəkətlər götürüləcək. Epizodları xüsusi komissiya 48 saat ərzində nəzərdən keçirəcək. Onun tərkibinə sabiq futbolçu, məşqçi və hakimlər daxil olacaq. Diskvalifikasiya barədə qərar yekdil səslə qəbul olunacaq. Şotlandiyada oxşar qayda artıq tətbiq olunur. Amma orda cəzalandırma qərarını bir şəxs verir. Yeni qərar Premyer Liqada avqustun 4-dən tətbiq edilə bilər.\\xa0 Milli.Az Digər maraqlı xəbərlər\\xa0Milli.Az-ın Facebook\\xa0səhifəsində ',\n",
       " '14 illik həyat yoldaşına görün kimlə xəyanət etdi - FOTO  Ayhan Bermekin qızı Hande Bermekin 2003-cü ildə ərə getdiyi aparıcı Murat Başoğlunun\\xa0Bodrum-Yalıkavakdakı\\xa0yaxta səyahətində sarışın bir qızla öpüşərkən çəkilən fotoları\\xa0maqazin gündəminə damğa vurub. Murat Başoğlu sarışın gözəllə həyat yoldaşı Hande Bermek və oğlu Canla qaldığı bağ evinə yaxın bir yerdə gün keçirib. Milli.Az Posta-ya istinadən xəbər verir ki, Murat Başoğlu bu kadrların ortaya çıxmasından sonra gözdən itib. Gəmidə öpüşdüyü qızın kim olduğu, Hande Bermekin ailə həyatı ilə bağlı gələcək qərarı maraq mövzusu olub. Murat Başoğlu keçən qış Etilerdə\\xa0bir idman salonu açıb. Sarışın sevgilisinin bu salonda fitness müəllimliyi etdiyi ortaya çıxıb. Məhəmməd Vaqif  ',\n",
       " 'Federasiyasının vitse-prezidenti güləşçilərlə olan qalmaqalla bağlı bütün sirləri açdı - MÜSAHİBƏ - FOTO  Milli Olimpiya Komitəsinin üzvü, Azərbaycan Güləş Federasiyasının yunan-Roma güləşi üzrə vitse-prezidenti Elçin Cəfərov ölkə.az\\xa0xəbər portalına müsahibə verib. Milli.Az həmin müsahibəni\\xa0təqdim edir: - Bu günlərdə bir qrup tanınmış güləşçilərimizin maaşlarını ala bilməməsinə etiraz olaraq aksiya keçirməsi birmənalı qarşılanmayıb. Bu addımı siz necə qarşıladınız?\\xa0 - Mən bunu dəfələrlə demişəm. Bu dəfə də deyirəm ki, Federasiyada maliyyə problemi var. Ancaq bu problemi belə böyütməyin və şişirtməyin tərəfdarı deyiləm. Təbii ki, maaşla bağlı etiraz edən idmançılar sırdan adamlar deyil. Onlar ölkəmizdə kifayət qədər tanınmış və adlı-sanlı idmançılardır. Hələ onlar ölkəmiz üçün çox qələbələr qazanacaq. Onsuz da, güləşçilərimizin qaldırdığı məsələni hamı bilirdi. Bu problem təkcə onların üzləşdiyi məsələ deyil. Nazirlik və Federasiyanın da bu problemdən məlumatı var. Onun üçün də səbr etmək lazım idi. Bu gün sual vermək olar ki, Federasiya nə iş görür? Hazırda Bosniya və Hersoqovinada yeniyetmələr arasında Avropa birinciliyi üzrə yarış keçirilir. Sabah isə Azərbaycandan olan idmançılar ora yola düşəcək. Bütün bunları təşkil etmək və hazırlamaq asan iş deyil. Azərbaycan Güləş Federasiyası xeyli vaxtdır ki, buna hazırlıq işləri görürdü. Əslində, Federasiya həmin idmançıları yarımçıq şəkildə hazırlayıb, digər idmançıların pullarını da verə bilərdi. Ancaq biz istəyirik ki, həmin idmançıların davamçıları da yetişsin. Ona görə də gəncləri və yeniyetmələrin yarışlara hazırlıq işlərini həyata keçiririk. Həmin idmançılar yarışlara gedib müəyyən uğurlar və nəticələr qazanırlar.\\xa0 Etiraz edən güləşçilərimizin tələblərinə bir söz demirəm. Hərə öz fikrində azaddır. Biz azad cəmiyyətdə yaşayırıq. Eybi yox, qoyun, öz fikirlərini səsləndirsinlər. Ancaq hər bir şeyin də bir həddi var. Məsələ burasındadır ki, bəzi insanlar öz sahələri üzrə işlə məşğul olmurlar. Azərbaycan Güləş Federasiyası ictimai bir təşkilatdır. İctimai birliyin də heç bir gəlir mənbəyi, biznesi yoxdur. Ümumiyyətlə, federasiyaların hamısı bu cür yaranır, sonra isə Olimpiya Komitəsində yer tutur. Fürsətdən istifadə edib, cənab Prezidentimizi də təbrik edirəm. Çünki ötən gün cənab Prezidentimizin Milli Olimpiya Komitəsinin prezidenti təyin olunmasının 20 ili tamam olur. Azərbaycanda idmana qayıdış və idmançılara böyük diqqət və qayğı cənab Prezidentin Milli Olimpiya Komitəsinin prezidenti olmasından sonra güclənib. Bütün bunları gərək heç kim danmasın, itirməsin. Bunu itirmək günahdır, eyibdir. - Bəzi idmançılar bahalı avtomobillərinə və dəbdəbəli həyat tərzinə görə tez-tez tənqidə məruz qalır... - Gərək heç kim idmançıların pulunu, varını da saymasın. Kimin evi, maşını, imkanı varsa, sağlığına qismət olsun.\\xa0 Eyni zamanda, bu gün idmançıların da əsas hədəfi bu olmamalıdır. Əsas məsələ həmin idmançıların beynəlxalq yarışlara hazırlığı ilə bağlıdır. Bu hazırlıq da müəyyən səviyyədə görülür. Doğrudur, təlim-məşq toplantıları əvvəlki illərlə müqayisədə bu il az olub. Bunun səbəbi maliyyə problemləri ilə bağlıdır. Hazırda bu problemin həlli üçün müvafiq yollar axtarılır.\\xa0 \\xa0 - Bəs üzləşdiyiniz maliyyə probleminin kökündə nə dayanır? \\xa0 - Vallah, onu mən bilmirəm. Məsələdən Fazil müəllimin də xəbəri var. İnşallah, bu məsələ də öz həllini tapacaq. \\xa0 \\xa0 \\xa0 - Federasiya prezidenti olaraq Fazil Məmmədov sizinlə əlaqə saxlayıb, problemin kökü ilə maraqlanıbmı? \\xa0 - Xeyr, əlaqə saxlamayıb. Yəqin ki, bu günlərdə rəhbərlik səviyyəsində məsələyə reaksiya veriləcək. Hesab edirəm ki, hər şey yaxşı olacaq.\\xa0 Bilirsiniz, həmin idmançılar əmək haqqı, mükafat davası aparır. Mükafat olanda, Federasiya lazımi\\xa0qədər verib də! Əmək haqqı da lazımi\\xa0qədər verilib. Elə idmançılar olub ki, kifayət qədər yüksək əmək haqqı və mükafatlar alıb, dövlətdən yüksək diqqət və qayğı görüb. Bütün bu görülən işləri birdən-birə kənara atmaq olmaz. Nəzərə almalıdırlar ki, bu gün Azərbaycanda onlardan qat-qat ağır vəziyyətdə yaşayan insanlar var. Bəs o insanlar nə etsinlər? İndi hər kəs bir fikir səsləndirir. Ancaq onların hansının doğru, hansının səhv olduğunu zaman göstərəcək. Hər şeyin zamana ehtiyacı var. Elə olar ki, sabah Federasiya rəhbərliyi yenə də əvvəlki vəziyyəti yaradar. Necə ki, bir neçə il öncəyə də qədər belə idi, idmançıların heç bir problemi olmurdu.\\xa0 İndi etiraz edən güləşçilər deyir ki, bizə forma verilmir və sairə. Halbuki, bir neçə il öncəyə qədər elə olurdu ki, idmançılara hər fəsilə aid formalar, çantalar, geyimlər verilirdi.\\xa0 Güləş həm də bizim milli idman növümüz sayılır. Bu idman növü bizim qanımızda, canımızda var. Azərbaycanda güləşlə 10-15 min adam məşğul olur. Onların içərisindən seçib hazırlaşdırıb dünya və Avropa çempionu etmək hər adama nəsib olmur. Bu gün problemi qaldıran adamlar da gündəmdə olan adlı-sanlı idmançılardır. Gərək onlar bu cür məsələlərdə dözümlü olsunlar. Çünki onların bu addımından Azərbaycanı sevməyən qüvvələr yararlanmağa çalışırlar. Bütün bunlar isə bizim adımıza və imicimizə mənfi təsir edir.\\xa0 Hər halda ümid edirəm ki, bu problem də ən yaxın zamanda həllini tapacaq. \\xa0 - Bəzi güləşçilərimiz beynəlxalq yarışlara getməkdən imtina ediblər. Bu məsələ necə həll olunacaq?\\xa0 - Bilirsiniz, bu cür hallara zaman-zaman hər bir idman növündə və komandalarda rast gəlinir. Misal üçün, bir idmançı tələb qoyur və həmin tələb yetirilməyənə kimi tədbirə getməyəcəyini deyir. Bütün bunlar onların öz şəxsi işləridir. Bu cür hallar təkcə güləşdə deyil, boksda, futbolda və digər idman növlərində var. Bu cür hallar maliyyə ilə bağlı olduğu üçün dünyanın bütün ölkələrində olur. Sadəcə olaraq, birində gizli şəkildə olur, birində isə açıq şəkildə danışılır. İndi qarşıdan gələn yarışlara kim gedəcək, kim getməyəcək, bu, onların öz işləridir.\\xa0 - Bu barədə onlarla söhbətiniz olubmu? \\xa0 - Xeyr, hələ olmayıb. Çünki onlar hələ qəti sözlərini deməyiblər. Ona görə də hələ onlarla söhbət aparılmayıb. Əgər kim yarışlara tam hazırdırsa, getmək istəyirsə, buyurub getsin. Kimsə də hər hansı səbəbdən gedə bilmirsə, onun yerinə ayrı idmançılar gedəcək. \\xa0 - Bəs siz kimin - tanınmışların, yoxsa digərlərinin beynəlxalq yarışlara getməsini daha çox istərdiniz? - Əvvəla, tanınmışlar, ilk növbədə, gedib öz titullarını qorumalıdır. Digər tərəfdən isə Azərbaycan dövlətinin, millətinin və bayrağının adını ucaltmalıdır. Daha onlar pul söhbəti etməməlidir. Bu gün bizdən qat-qat zəif, acınacaqlı vəziyyətdə olan ölkələr var ki, onların idmançıları gedib qalib olurlar. Bu yaxınlarda biz bunun nümunəsini Bakıda keçirilən İslam Həmrəyliyi Oyunlarında gördük. Həmin vaxtı müharibə gedən ölkələrdən - Əfqanıstan, İraq, Suriya, Livan və Pakistandan idmançılar səngərlərdən çıxıb gəlib Bakıda yarışlara qatılırdılar. Bəs həmin ölkələr nə etsin? Bu gün Azərbaycanda olan şəraitlə həmin ölkələrdəki şəraiti müqayisə etmək olar? İndi bir az maaşlarda və mükafatlarda gecikmələr varsa, buna görə belə etmək olmaz. \\xa0 Digər tərəfdən mən inanmıram ki, idmançılarımız beynəlxalq yarışlara getməkdən imtina etsinlər. - Toğrul Əsgərov və Rəsul Çunayevin Azərbaycandan getməsi barədə məlumatlar yayılıb. Bu barədə onların özləri ilə söhbətiniz olubmu?\\xa0 \\xa0 - Əslində, bunu onların hamısı səsləndirib. Bu, onların öz işidir. Digər tərəfdən isə onların buradan getməsi mümkün məsələ deyil. Bunun üçün Azərbaycan Güləş Federasiyasının, Milli Olimpiya Komitəsinin, Gənclər və İdman Nazirliyinin, Azərbaycan hökumətinin razılığı olmalıdır. Yoxsa ki, bunlar istədiyi zaman harasa gedə bilməzlər. \\xa0 Heç onların vətəndaşlıqdan da imtina etməsinə imkan verilməz. Çünki onların hamısı Azərbaycanda müxtəlif sahələrdə çalışırlar, dövlət vəzifələri var, hərəsi bir qurumdan əmək haqqı alır. Misal üçün, Rəsul Çunayev Dövlət Sərhəd Xidmətinin baş leytenantıdır, oradan pul alırlar. Digərləri də onun kimi dövlətdən maaş alırlar. İndi onlar nəyin davasını aparırlar, hələ də mənə qaranlıq qalır.\\xa0 - Həmin güləşçilər təlim-məşqlərə gəlirlərmi?\\xa0 - Əlbəttə ki, gəlirlər. Elə dünən də Rəsul Çunayev, Həsən Əliyev, Rövşən Bayramov, Toğrul Əsgərov və digərləri zalda idilər. Hamısı öz yerlərində məşq edirdilər. Onlar da yaxşı bilirlər ki, hazırlıq keçmədən heç bir yarışa getmək mümkün deyil. İndi onların bəziləri baş məşqçi Firdovsi Umudovu qınayır. Deyirlər ki, guya baş məşqçi onların yanında olmadı və sairə. Mən başa düşmürəm ki, axı baş məşqçi bunlara daha nə etməlidir? Bunlar baş məşqçinin yanında olmalıdır, baş məşqçi bunların yanında deyil. Bu cür məsələləri səsləndirən insanların bu gün diqqətsizlikdən və qayğısızlıqdan şikayətlənməyə haqqları yoxdur. Ümumiyyətlə, idmançıların problemlərini heç kim üzərinə götürüb həll edə bilməz.\\xa0 - Bir neçə il öncə Milli Məclisin bir sıra deputatları dövlət tərəfindən mükafatlandırılan idmançıları harınlamaqda ittiham etmişdilər... - Bu da doğru deyildi. İdmançının pulunu və maşınlarını saymaq, onun hərəkətlərini gündəmə gətirmək yaxşı hal deyil. Həmin deputatlara sual olunur ki, bəs idmançı insan deyil? İdmançı nədə gəzməlidir?\\xa0 - Amma idmançı sürət həddini aşıb, bahalı maşınla adam da vurmalı deyil!... - Bəli, mən bu cür hərəkətlərə də haqq qazandırmıram. Ancaq başqa sahələrdə bunu edənlər yoxdur? Bəzən adi sürücü də gedib adam öldürür. O da idmançı deyil ki?\\xa0 Təbii ki, bəzi idmançılar da pis əməllər törədən zaman öz ad-sanlarından sui-istifadə etməyə və bu yolla cəzadan qaçmağa çalışırlar. Ancaq bu cür idmançıların sayı çox azdır.\\xa0 Ümumiyyətlə, idmançını gündəmdə saxlamaq düzgün deyil. Azərbaycanda idmançıları az qala şou-biznes adamı kimi gündəmdə saxlayırlar. Bu da düzgün deyil. İdmançıların hamısı kasıb ailələrdən çıxıblar. Onlar çox əziyyət çəkirlər və idman karyeraları çox qısa olur. Bu boyda Azərbaycanın cəmi 7 nəfər olimpiya çempionu var. İndi 7 nəfər olimpiya çempionu bu boyda Azərbaycana problem oldu? Bu belə deyil axı! Bunları bu cür təqdim etmək doğru deyil. Bəs olimpiya çempionlarını tənqid edən deputatlar Azərbaycan üçün nə ediblər? Elnur Məmmədlini tənqid edirdilər. Məgər Elnur Məmmədli öhdəlik götürüb demişdi ki, mən gedib ikinci dəfə də olimpiya çempionu olacam? \"İdmançı özü istəmədi çempion olsun\" nə yanaşmadır? Məğlubiyyəti idmançı qədər çətin həzm edən yoxdur. Bunun ağrısını idmançının özü qədər hiss edən olmaz. Milli.Az Digər maraqlı xəbərlər\\xa0Milli.Az-ın Facebook\\xa0səhifəsində ',\n",
       " 'Populyar xanım şəffaf geyinib kluba yollandı - FOTO  Tanınmış reper Trevis Skott və dizayner Helmut Lanqın müştərək hazırladıqları \"bomber\" tipli gödəkçənin ilk alıcıları arasında məşhur supermodel Bella Hədid də var. Milli.Az TMZ-yə istinadən bildirir ki, 800 dollarlıq gödəkçəni almış 20 yaşlı model dünən Nyu-Yorkdakı gecə klublarından birinə yollanmışdı. B.Hədid qara, şəffaf rəngli geyimdə idi və yenə də alt paltarsızdı.  ',\n",
       " 'Tramp: \"Maduro indi nəinki pis oğlan, həm də diktatordur\"  ABŞ prezidenti Donald Tramp Venesuela prezidenti Nikolas Maduronu mütləq hakimiyyəti ələ keçirmiş diktator sayır. Milli.Az APA-ya istinadən xəbər verir ki, bunu ABŞ prezidentinin mili təhlükəsizlik üzrə müşaviri Herbert Makmaster deyib. \\xa0 \"Maduro rejiminin Konstitusiya Assambleyasına saxta seçkilər vasitəsilə mütləq hakimiyyəti ələ keçirməsi bizim yarımkürədə demokratiyaya çox ciddi zərbədir. Maduro indi nəinki pis oğlan, həm də diktatordur\", - deyə Trampın bəyanatında bildirilir. \\xa0 Bəyanatda Venesuela hakimiyyəti Konstitusiyaya hörmət etməyə, azad seçkilər keçirməyə, siyasi məhbusları azadlığa buraxmağa, repressiyalara son qoymağa və xalqın humanitar problemlərini həll etməyə çağırılır. Eyni zamanda, Tramp bəyan edib ki, ABŞ öz müttəfiqləri ilə birlikdə Venesuelada insan haqları pozuntuları və zorakılıqda günahkar olanların məsuliyyətə cəlb edilməsinə çalışacaq. \\xa0\\xa0 \\xa0 Xatırladaq ki, iyulun 30-da Venesuelada hakimiyyətin təşəbbüsü ilə Konstitusiya Assambleyasının formalaşdırılması üçün seçki keçirilib. Bu orqan hazırda müxalifətin çoxluqda olduğu Milli Assambleyanı - parlamenti əvəz etməlidir. ABŞ bu seçkiləri tanımayaraq N. Maduroya qarşı sanksiya tətbiq edib. Latın Amerikası ölkələri də seçkiləri tanımayıblar.  ',\n",
       " 'Məşhur otel rüsvay oldu - VİDEO - FOTO  Kanar arxipelaqındakı Qran-Kanariya adasında, populyar Playya del İnqles kurortunda yerləşən \"Servatur Waikiki Canaria\" otelinin nüfuzuna ciddi xələl gəlib. Səbəbsə oteldə istirahət edən turistlərdən birinin çəkdiyi və sonradan sosial şəbəkələrdə paylaşdığı videodur. Milli.Az Daily Mail-ə istinadən bildirir ki, otelin hovuzu müştərilərin xidmətinə səhər saat 8-də verilir. Əksəriyyəti britaniyalılar, irland\\xa0 və almanlar olan turistlər də hovuzun kənarındakı şezlonqlarda yer tutmaq üçün növbə tutaraq siqnal gözləyiblər. Otelin əməkdaşları \"Hovuz açıqdır!\" deyən kimi onlar irəli şığıyıblar. Otel rəhbərliyi bu rüsvayçı olayla bağlı heç bir açıqlama verməyib. Milli.Az Videonu izləmək üçün şəklə klikləyin:  ',\n",
       " '\"Eşkıya Dünyaya Hükümdar Olmaz\" nə zaman başlayır?  \"Eşkıya Dünyaya Hükümdar Olmaz\"ın yeni mövsüm çəkilişləri başlayır. Milli.Az\\xa0axşam.az-a istinadən bildirir ki,\\xa0üçüncü mövsümün hazırlıqları digər seriallara nəzərən daha erkən start götürüb. Baş rollarda olan Oktay Kaynarca, Deniz Çakır, Tarık Ünlüoğlu, Ozan Akbaba, Yunus Emre Yıldırımer və digərləri\\xa0avqustun 8-dən etibarən çəkiliş meydançasında olacaqlar.\\xa0 Çəkilişlərin tez başlamasına bir səbəb də serialda Zeynəb obrazını canlandıran Ece Hakimin universitet təhsili üçün ABŞ-a köçməyə hazırlaşmasıdır. Yeni seriyalar sentyabrdan etibarən ekranda olacaq. Milli.Az Digər maraqlı xəbərlər\\xa0Milli.Az-ın Facebook\\xa0səhifəsində ',\n",
       " 'Serial dələduzlarına rusiyalı futbolçuların adları qoyuldu  ABŞ-da çəkilən \"Amerikalılar\" serialı maraqlı məqamla yadda qalıb. Apasport.az\\xa0saytının xarici mətbuata istinadən məlumatına görə, ssenari müəllifi rusiyalı futbolçulara ilişib.\\xa0 Belə ki, serialın 5-ci mövsümü fırıldaqçılıqla məşğul olan cinayətkar dəstənin liderinin axtarışına həsr olunub. Diqqətçəkən məqam ondan ibarətdi ki, dələduz dəstənin üzvlərinə rusiyalı futbolçular Yuri Jirkov, Dmitri Kiriçenko və Aleksey Arifullinin adı qoyulub. Müğənni Valeri Meladzenin adı da cinayətkarlardan birinə verilib. Milli.Az Digər maraqlı xəbərlər\\xa0Milli.Az-ın Facebook\\xa0səhifəsində ',\n",
       " 'Meksikada son yeddi ayda 9 jurnalist öldürülüb  Meksikada son yeddi ayda 9 jurnalist öldürülüb. Milli.Az report-a istinadən xəbər verir ki, ötən gün \"Aşağı Kaliforniya ştatının Rosarito şəhərində CNR telekanalının reportyoru Luçano Rivera güllələnərək qətlə yetirilib. Yerli bələdiyyənin İctimai təhlükəsizlik idarəsindən bildirilib ki, Rivera gecə klublarından birində ziyarətçilərlə mübahisə zamanı öldürülüb. Cinayəti törədənlər hadisə yerindən qaçıblar. Onlar taksiyə oturaraq Meksika-ABŞ sərhədinə doğru hərəkət ediblər. Maşın və taksi sürücüsü saxlanılıb. Avtomobildən odlu silah aşkar olunub. Rivera bu il öldürülən 9-cu jurnalistdir. Bir müddət əvvəl oğurlanan Salvador Adam adlı jurnalistin yandırlımış meyitinin qalıqları aşkar olunub. Sinaloa ştatının Kuliakan şəhərində narkotik maddələrin satışı işıqlandıran Xaver Valdes də qətlə yetirilib. Meksika Jurnalist Cəmiyyətinin məlumatına görə, 2000-ci ildən etibarən ölkədə KİV-in 120 əməkdaşı öldürülüb, 20-si itkin düşüb, təxminən 50 dəfə informasiya vasitəsinin yerləşdiyi binaya hücum edilib. \\xa0  ',\n",
       " '\"Bavariya\"nı keçmiş oyunçusu Türkiyəyə doğru addımlayır  \"Fənərbağça\" almaniyalı Holger Badştuberi transfer etmək istəyir. Milli.Az bildirir ki, istanbullular müdafiə xəttinin əsas oyunçularından olan Simon Kyaeri \"Sevilya\"ya göndərdikdən sonra boşalan mövqeyə yeni oyunçu almaq istəyir. Hazırda azad agent olan mərkəz müdafiəçisinin türk klubuna keçidi real görsənir. Qeyd edək ki,\\xa028 yaşında olan Badştuber uzun illər Münhen\\xa0\"Bavariya\"sının şərəfini qoruduqdan sonra keçən mövsümü icarə əsasında\\xa0\"Şalke\"də çıxış edib və\\xa0transfer dəyəri 2,5 milyon avrodur. Adil Nəcəfov Milli.Az Digər maraqlı xəbərlər\\xa0Milli.Az-ın Facebook\\xa0səhifəsində ',\n",
       " 'Xoşqədəm: \"Ailənizin başına gəlsin\"  Aparıcı Xoşqədəm Hidayətqızı \"Səni axtarıram\" proqramının mövsüm finalında bacısının dünyasını dəyişən övladından danışıb.\\xa0 Milli.Az\\xa0axşam.az-a istinadən bildirir ki,\\xa0sosial şəbəkədə məsələ ilə bağlı müzakirələr aparılıb. Bəzi yerlərdə isə onun fikirləri yanlış yazılaraq, başlıqda öz övladı dünyasını dəyişmiş kimi verilib.\\xa0 Xəbərdən əsəbiləşən X.Hidayətqızı qarğış edib:\\xa0 \"Ey, bu başlığı yazan insan!!! Sənin ailən, anan, atan, bacın, qardaşın varmı? Varsa, bu xəbərə başlığı hansı vicdanla yazırsan?! Bilirsənmi, bu başlığı bu gün oxuyub halı pisləşən nə qədər yaxınım olub? Bəli, \"Xoşqədəm Hidayətqızı\" adı reytinqdir, milyonlarla oxucu deməkdir... Amma daha bu cür başlıqla onun yaxınlarına, ailəsinə acı yaşadacaq halda yox.\\xa0 Yazıqlar olsun! Bu cür başlıqları yazaraq bu gün mənim ailəmə həyəcan, qorxu hissi yaşadanlar, bu hadisə sizin başınıza həqiqətən\\xa0gəlsin və ailəniz, yaxınlarınız mənim ailəmin bu gün yaşadıqlarını yaşasın. Məni bu bəddua üçün kimsə qınamasın. Bu gün övladım yanımda olmasaydı, bəlkə mənim də bu başlığı oxuyub ürəyim dayanacaqdı. Ona görə də, bu duaya görə kimsə məni qınamasın\". Milli.Az Digər maraqlı xəbərlər\\xa0Milli.Az-ın Facebook\\xa0səhifəsində ',\n",
       " '\"Azərbaycan Güləş Federasiyasının idmançılara maaş vermək öhdəliyi yoxdur\" - BƏYANAT  Azərbaycan Güləş Federasiyası son günlər ölkə mətbuatında Federasiyanın fəaliyyəti, o cümlədən milli komandanın üzvlərinin üzləşdiyi çətinliklərlə bağlı dərc edilmiş məlumatlarla əlaqədar bəynata yayıb. Milli.az goal.az-a istinadən sizi mətnlə tanış edir: \"Məlum olduğu kimi, ölkəmizdə idman sahəsi, o cümlədən idmançılarımız dövlətimizin xüsusi diqqət və qayğısı ilə əhatə olunub, ayrı-ayrı idman növlərinin inkişafı, maddi-texniki bazasının təşkmilləşdirilməsi və milli idmançılarımızın yetişdirilməsi sahəsində mütəmadi olaraq çoxsaylı işlər görülür. Bu idman növləri arasında Azərbaycanda qadim ənənələrə, formalaşmış məktəbə malik güləş xüsusi yer tutur. Ölkə rəhbərliyinin bu sahəyə xüsusi diqqət yetirməsi, Azərbaycan Güləş Federasiyasının yaradılması, bu idman növünün inkişaf etdirilməsi, ölkəmizin güləş üzrə yığma komandalarının formalaşdırılması, maddi-texniki bazanın yaradılması, milli güləşçilərimizin yetişdirilməsi istiqamətində Federasiyanın həyata keçirdiyi işlər nəticəsində bu gün Azərbaycan dünyada bu idman növü üzrə öz sözünü deyən, bu sahədə liderlər sırasında yer alan bir ölkəyə çevrilib. Son 10 il ərzində Azərbaycan güləşçiləri qatıldıqları bütün beynəlxalq yarışlarda, o cümlədən Olimpiya Oyunlarında, Avropa və Dünya Çempionatlarında daim yüksək nəticələr göstəriblər. Azərbaycanın müstəqillik dövründə iştirak etdiyi Olimpiya Oyunlarında qazandığı 44 medaldan 23-ü məhz güləş yığmalarının payına düşür. Son 3 Olimpiya Oyunlarında güləşçilərimiz 20 medal əldə ediblər. Şübhəsiz ki, bütün bu uğurlar bir tərəfdən dövlət rəhbərliyi tərəfindən göstərilən diqqət və qayğının, digər tərəfdən milli komandanın üzvlərinin və Federasiyanın birgə əməyi və zəhməti hesabına başa gəlib. Bununla yanaşı, nəzərə almaq lazımdır ki, Azərbaycan Güləş Federasiyası ictimai birlik statusu daşıyır və öz fəaliyyətini məhz \"İctimai birliklər haqqında\" Qanunun tələbləri əsasında qurur. Federasiyanın vəzifəsi güləş idman növünün inkişafına dəstək vermək, ölkə yığma komandalarının heyətini formalaşdırmaq, onların ölkədaxili və beynəlxalq yarışlarda iştirakını təşkil etmək, ölkəmizin beynəlxalq arenalarda layiqincə təmsil etməsinə şərait yaratmaqdır. Federasiya öz fəaliyyətini dövlət maliyyəsi ilə deyil, sponsor təşkilatların ayırdığı maliyyə ilə tənzimləyir. Federasiyaların sponsorların hesabına fəaliyyət göstərməsi qəbul edilmiş və geniş tətbiq edilən praktikadır. Bu baxımdan Federasiyaların maliyyə durumu bir çox hallarda məhz sponsorların maliyyə vəsaitlərindən asılı olur və bəzən müəyyən çətinliklərin yaranması, maliyyələşmənin azalması təbii və anlaşılan haldır və şübhəsiz ki, müvəqqəti xarakter daşıyır.\\xa0 İdmançılarla bağlı yaranmış vəziyyətə aydınlıq gətirərək bildiririk ki, ictimai birlik olaraq Azərbaycan Güləş Federasiyasının idmançılara maaş vermək kimi bir öhdəliyi yoxdur. Sponsorlar tərəfindən maliyyə ayrıldığı zaman Federasiya rəhbərliyinin təşəbbüsü ilə idmançıların əldə etdiyi nəticələrə uyğun olaraq yığma komandanın üzvlərinə maddi yardımlar verilib. Belə yardımların verilməsi idmançıların ailə, məişət problemlərinin həllində onlara dəstək vermək məqsədi daşıyıb. Eyni zamanda, bildiririk ki, yığma komandanın üzvləri Avropa və Dünya Çempionatlarında, eləcə də Olimpiya Oyunlarında əldə etdikləri nəticələrə görə ölkə başçısı, Milli Olimpiya Komitəsinin prezidenti cənab İlham Əliyevin imzaladığı sərəncamlara uyğun olaraq həm Milli Olimpiya Komitəsi, həm də Gənclər və İdman Nazirliyi tərəfindən mükafatlandırılır. Eyni zamanda, məlumat üçün bildirmək istəyirik ki, Rio-de-Janeyro Yay Olimpiya Oyunları və paytaxtımızda baş tutan IV İslam Həmrəyliyi Oyunlarında qazanılan nailiyyətlərə görə mükafatlar da hər bir idmançıya ödənilib. Təlim-məşq toplantıları ilə bağlı məsələ ilə əlaqədar bildiririk ki, Azərbaycan Güləş Federasiyası ictimai birlik kimi bu sahədə fəaliyyətini müvafiq strukturlarla qarşılıqlı əməkdaşlıq şəraitində həyata keçirir. Yığma komandaların təlim-məşq toplantıları, idmançıların vitaminlə təmin olunması, sağlamlıqlarına nəzarət və digər məsələlər məhz aidiyyəti\\xa0qurumlarla birlikdə həll olunur. Bir sıra texniki çətinliklərin mövcudluğunu inkar etmirik, lakin bunlar həll olunan məsələlərdir və tezliklə aradan qaldırılacaqdır.\\xa0 Azərbaycan Güləş Federasiyası idmançıların narahatlığını anlayır, təbii qəbul edir və üzərinə düşən öhdəliklər çərçivəsində mövcud çətinliklərin tezliklə aradan qalxacağını bildirir, ölkəmiz üçün hər birinin ayrıca dəyəri və yeri olan güləşçilərimizi səbrli olmağa dəvət edir. Yaranmış kiçik narahatlıqları böyütməyə, əldə olunan naliyyətlərə kölgə salmağa çalışanlara isə bildiririk ki, idman çirkli oyunların yeri deyil. Bu vətən hamımızındır və onun adının, bayrağının və nüfuzunun yüksəldilməsi üçün həm güləşçilərimiz, həm də Federasiya rəhbərliyi indiyədək əlindən gələni edib və yenə də edəcəkdir\". Milli.Az Digər maraqlı xəbərlər\\xa0Milli.Az-ın Facebook\\xa0səhifəsində ',\n",
       " 'Sılanın konsertini ləğv edən universitetə HƏBS ŞOKU  Türkiyənin Abant İzzet Baysal Universitetində nəzərdə tutulan xanım sənətçi\\xa0Sılanın konserti ləğv edilincə təşkilati şirkət\\xa0rektorluğun avtomobilinə həbs qoyulmasını tələb edib. Universitet\\xa02013-cü ildə bahar şənlikləri üçün təşkilati şirkət ilə razılaşıb. Ancaq Sılanın konsertinin keçiriləcəyi 14 may tarixində yağan güclü yağış səhnənin damını riskli hala gətirib. Səhnə və konsert zalının təhlükə yaradacaq dərəcədə islanması səbəbiylə planlaşdırılan konsert ləğv edilib. Təşkilatçılar konsertin\\xa0başqa bir gün edilməsi barədə yazılı və şifahi olaraq universitet rəhbərliyinə təklif verib. Ancaq rəhbərlik geri addım atıb. Habertürk-ün xəbərinə görə,\\xa0şirkət\\xa0iniversitet barədə məhkəmədə iddia qaldırıb. Məhkəmə universiteti haqsız bilərək 48 min TL-ni faiziylə birgə ödəməsinə qərar verib. 55 min TL alacaqlarının olduğunu ifadə edən şirkətin vəkili Tahir Kamal Bozkır rektorluğun 4 avtomobilinə həbs qoydurub. Məhəmməd Vaqif  ',\n",
       " 'Şenol Günəş millini çalışdırmaqdan imtina etdi - RƏSMİ  Türkiyə Futbol Federasiyası millini çalışdırmaq üçün \"Beşiktaş\"ın baş məşqçisi Şenol Günəşlə görüşüb. Milli.Az\\xa0qol.az-a istinadən xəbər verir ki,\\xa0görüş zamanı 51 yaşlı mütəxəssisə \"Beşiktaş\"da işləməklə yanaşı, millini DÇ-2018-in seçmə mərhələsində 4 oyuna çıxarması təklif olunub. Ancaq bu təklif \"Beşiktaş\" rəhbərliyi və Ş.Günəş tərəfindən müsbət cavablandırılmayıb. İstanbul klubu rəsmi saytı vasitəsi ilə təklifi rədd etdiklərini bildirib. Qeyd olunub ki, Ş.Günəşin hər iki yerdə işləməsi həm milliyə, \\xa0həm də \"Beşiktaş\"a faydası olmayacaq. Milli.Az Digər maraqlı xəbərlər\\xa0Milli.Az-ın Facebook\\xa0səhifəsində ',\n",
       " 'Azərbaycanda 4 bağlanmış bankın qorunan əmanətçilərinə kompensasiya ödənişi üzrə ərizə qəbulu başa çatır   Azərbaycan Əmanətlərin Sığortalanması Fondu (ADIF) ləğvedicisi olduğu 4 bankın qorunan əmanətçilərinə müraciət edib.“Report”un məlumatına görə, müraciətdə bildirilir ki, “Dekabank”,\\xa0“Kredobank”, \"Parabank” və \"Zaminbank” ASC-lərdə 25 iyul 2016-cı il tarixində sığorta hadisəsi baş verib. “Əmanətlərin sığortalanması haqqında” qanuna əsasən fond əmanətçilərin ərizələrini kompensasiya ödənişi haqqında bildirişin ilk dəfə dərc edildiyi gündən başlayaraq bir il ərzində qəbul edir. Adı çəkilən bankların qorunan əmanətçilərinə kompensasiya ödənişi məqsədi ilə\\xa0ərizələrin qəbulu üçün son gün bu gün - 1 avqust 2017-ci il hesab olunur. Bununla əlaqədar kompensasiya almaq üçün müraciət etməyən qorunan əmanətçilərdən bu gün ərzində fonda müraciət etmələri xahiş olunur.“Əmanətlərin Sığortalanması haqqında” qanuna əsasən əmanətçinin müraciətini qeyri-mümkün etmiş halların mövcud olduğunu təsdiq edən sənədlər təqdim edildikdə göstərilən müddət əmanətçinin ərizəsinə əsasən uzadıla bilər. Lakin bundan asılı olmayaraq bütün hallarda əmanətçinin kompensasiya almaq hüququ fondun kompensasiyaların ödənilməsi haqqında bildirişin ilk dəfə dərc edildiyi gündən başlayaraq beş il müddətində saxlanılır.Fondun “Kompensasiyaların ödənilməsi proseduruna dair” qaydalarına uyğun olaraq əmanətçinin müraciətini qeyri-mümkün etmiş hallara əmanətçinin Silahlı Qüvvələrin tərkibində həqiqi hərbi xidmətdə olması, ağır xəstəliyi, qarşısı alınmaz qüvvənin təsiri, məhkəmə qərarı ilə müraciət müddətinin uzadılması aiddir. Bu kimi hallar müvafiq sənədlərlə təsdiq edilməlidir. Qeyd edilən sənədlər təqdim edilmədiyi halda əmanətçiyə müraciət müddətini ötürməsi ilə əlaqədar kompensasiya ödənilməsindən imtina olunacaq. ',\n",
       " 'Ramil Usubov ABŞ-ın Arizona ştatının Nümayəndələr Palatasının spikerini qəbul edib   Azərbaycanın daxili işlər naziri, general-polkovnik Ramil Usubov ölkədə səfərdə olan ABŞ-ın Arizona ştatının Nümayəndələr Palatasının spikeri Cavan Mesnardı qəbul edib.Daxili İşlər Nazirliyinin mətbuat xidmətindən \"Report\"a verilən məlumata görə, Azərbaycanın ABŞ ilə münasibətlərin inkişafına böyük əhəmiyyət verdiyini diqqətə çatdıran nazir iki dövlət arasında qarşılıqlı etimada əsaslanan əlaqələrin yaradılmasında ümummilli lider Heydər Əliyevin müstəsna xidmətlərini və onun 1997-ci ilin yayında ikitərəfli münasibətlərin zirvəsi hesab olunan ABŞ-a rəsmi səfərini məmnunluqla xatırladıb. Ulu Öndərin ölkəmizin dünyaya inteqrasiyasının, bölgədə lider dövlətə çevrilməsinin, müstəqil siyasət yeritməsinin əsasını qoymuş kursunun Azərbaycan Respublikasının Prezidenti İlham Əliyev tərəfindən uğurla davam etdirildiyini, Birləşmiş Ştatlarla bütün sahələrdə əlaqələrin bu gün yüksələn xətt üzrə inkişaf etdiyini vurğulayıb.Daxili işlər orqanlarının fəaliyyətinin beynəlxalq norma və standartlara uyğun təkmilləşdirilməsi, insan hüquq və azadlıqlarının önə çəkildiyi yeni normativ hüquqi bazanın yaradılması, bu işdə xarici ekspertlərin yaxından iştirakı və digər sahələrdə görülən işlər də diqqətə çatdırılıb.Cavan Mesnard Azərbaycanda ilk dəfə olduğunu, səfəri çərçivəsində Bakı və regionlar ilə tanışlığının, ölkəmizin ecazkar təbiətinin, sürətli iqtisadi inkişafının, hər yerdə insanların dostluq və qonaqpərvərlik nümayiş etdirməsinin onda dərin təəssüratlar yaratdığını bildirib. Görüşdə tərəfləri maraqlandıran bir sıra digər məsələlər də müzakirə edilib. ',\n",
       " 'Venesuelada dollar yenidən bahalaşmağa başlayıb   Venesuelada ABŞ dollarının qiyməti\\xa0\"qara bazar\"da 8% artaraq 11 min bolivarı ötüb.\"Report\" Rusiya mətbuatına istinadən xəbər verir ki,\\xa0iyulun 28-də 1 dollar 10 400 bolivara bərabər olsa\\xa0da, bazar günü keçirilmiş seçkilərdən sonra qiymət bir qədər də artıb.\\xa0Buna səbəb isə\\xa0seçkilər zamanı iqtidarla müxalifət arasında\\xa0fikir ayrılığının yaranmasıdır. Belə ki,\\xa0Prezident Nikolas Maduronun təşəbbüsü ilə keçirilən parlament seçkilərinin nəticələrini müxalifət qəbul etməyib və hakimiyyətdən\\xa0referendumun keçirilməsi tələb olunub. Yaranan qarşıdurmalar insan tələfatı ilə nəticələnib və bundan sonra\\xa0ABŞ hökuməti Venesuelanı ona qarşı\\xa0sanksiyalar tətbiq edə biləcəyi ilə hədələyib. Bütün bunlar da ölkənin milli valyutasını bir qədər də dəyərdən salıb.\\xa0Qeyd edək ki, Venesuelada dolların rəsmi məzənnəsi 9,985 bolivardır. Başqa sözlə, Amerika valyutasının satış qiyməti\\xa0rəsmi məzənnədən 1 100 dəfə çoxdur.\\xa0 ',\n",
       " 'Azərbaycan Moda Həftəsi \"Forbes\" jurnalında işıqlandırılıb   \"Forbes\" jurnalı Bakı haqqında məqalələr silsiləsindən ikinci materialı dərc edib.\"Report\" xəbər verir ki, bu dəfə müəllif Stefan Rabimov məqaləni memarlığa, Bakıda keçirilən idman tədbirlərinə həsr edib, eyni zamanda, Azərbaycan Moda Həftəsinə xüsusi diqqət yetirib.Məqalədə qeyd olunur ki, bu dünyəvi müsəlman ölkəsi Sovet dövrünün avtoritar idarə üsulunun qalıqlarını ləğv edib. Ardından S.Rabimov yerli modelyerlərdən və onların işlərindən yazıb. O qeyd edib ki, əvvəlcə heç kim Azərbaycanda Moda Həftəsinin beşinci dəfə təşkil olunacağına inana bilməyib. Sonda müəllif Azərbaycanın ən məşhur moda dizaynerləri və onların dünya bazarına çıxış üçün səylərini barədə məlumat verib. ',\n",
       " 'Azərbaycan Güləş Federasiyası güləşçilərin etiraz aksiyası ilə bağlı bəyanat yayıb   Azərbaycan Güləş Federasiyası (AGF) son günlər ölkə mətbuatında federasiyanın fəaliyyəti, o cümlədən milli komandanın üzvlərinin üzləşdiyi çətinliklərlə bağlı dərc edilmiş məlumatlarla əlaqədar bəyanat yayıb.AGF-in “Facebook” səhifəsində dərc olunan açıqlamada bildirilir ki, federasiya ictimai birlik statusu daşıyır və öz fəaliyyətini məhz “İctimai birliklər haqqında” Qanunun tələbləri əsasında qurur: “Federasiyanın vəzifəsi güləş idman növünün inkişafına dəstək vermək, ölkə yığma komandalarının heyətini formalaşdırmaq, onların ölkədaxili və beynəlxalq yarışlarda iştirakını təşkil etmək, ölkəmizin beynəlxalq arenalarda layiqincə təmsil etməsinə şərait yaratmaqdır. Federasiya öz fəaliyyətini dövlət maliyyəsi ilə deyil, sponsor təşkilatların ayırdığı maliyyə ilə tənzimləyir. Federasiyaların sponsorların hesabına fəaliyyət göstərməsi qəbul edilmiş və geniş tətbiq edilən praktikadır. Bu baxımdan federasiyaların maliyyə durumu bir çox hallarda məhz sponsorların maliyyə vəsaitlərindən asılı olur. Bəzən müəyyən çətinliklərin yaranması, maliyyələşmənin azalması təbii və anlaşılan haldır və şübhəsiz ki, müvəqqəti xarakter daşıyır. Bəyanatda idmançılarla bağlı yaranmış vəziyyətə aydınlıq gətirilərək bildirilir ki, ictimai birlik olaraq AGF-in idmançılara maaş vermək kimi bir öhdəliyi yoxdur: “Sponsorlar tərəfindən maliyyə ayrıldığı zaman federasiya rəhbərliyinin təşəbbüsü ilə idmançıların əldə etdiyi nəticələrə uyğun olaraq yığma komandanın üzvlərinə maddi yardımlar verilib. Belə yardımların verilməsi idmançıların ailə, məişət problemlərinin həllində onlara dəstək vermək məqsədi daşıyıb. Eyni zamanda bildiririk ki, yığma komandanın üzvləri Avropa və dünya çempionatlarında, eləcə də Olimpiya Oyunlarında əldə etdikləri nəticələrə görə ölkə başçısı, Milli Olimpiya Komitəsinin prezidenti cənab İlham Əliyevin imzaladığı sərəncamlara uyğun olaraq həm Milli Olimpiya Komitəsi, həm də Gənclər və İdman nazirliyi tərəfindən mükafatlandırılır. Məlumat üçün bildirmək istəyirik ki, Rio-de-Janeyro Yay Olimpiya Oyunları və paytaxtımızda baş tutan IV İslam Həmrəyliyi Oyunlarında qazanılan nailiyyətlərə görə mükafatlar da hər bir idmançıya ödənilib”.Təlim-məşq toplanışlarının təşkilində problemlərin olması ilə bağlı iradlara cavab olaraq isə qeyd edilib ki, AGF ictimai birlik kimi bu sahədə fəaliyyətini müvafiq strukturlarla qarşılıqlı əməkdaşlıq şəraitində həyata keçirir: “Yığma komandaların təlim-məşq toplantıları, idmançıların vitaminlə təmin olunması, sağlamlıqlarına nəzarət və digər məsələlər məhz aidiyyatı qurumlarla birlikdə həll olunur. Bir sıra texniki çətinliklərin mövcudluğunu inkar etmirik, lakin bunlar həll olunan məsələlərdir və tezliklə aradan qaldırılacaqdır. AGF idmançıların narahatlığını anlayır, təbii qəbul edir və üzərinə düşən öhdəliklər çərçivəsində mövcud çətinliklərin tezliklə aradan qalxacağını bildirir. Federasiya ölkəmiz üçün hər birinin ayrıca dəyəri və yeri olan güləşçilərimizi səbrli olmağa dəvət edir. Yaranmış kiçik narahatlıqları böyütməyə, əldə olunan naliyyətlərə kölgə salmağa çalışanlara isə bildiririk ki, idman çirkli oyunların yeri deyil. Bu vətən hamımızındır və onun adının, bayrağının və nüfuzunun yüksəldilməsi üçün həm güləşçilərimiz, həm də federasiya rəhbərliyi indiyədək əlindən gələni edib və yenə də edəcəkdir”.Qeyd edək ki, Azərbaycanın güləş yığmasının üzvləri iyulun 28-də əmək haqqlarının və mükafatlarının ödənilməməsini, eləcə də Azərbaycan Güləş Federasiyası tərəfindən təlim-məşq toplanışı keçmək üçün şərait yaradılmadığını əsas gətirərək, etiraz aksiyası keçiriblər.\\xa0 ',\n",
       " 'Almaniyada dizel yanacağı ilə işləyən maşınların istismarı qadağan edilir   Gələn il yanvarın 1-dən\\xa0Almaniyanın Ştutqart şəhərində dizel mühərrikli nəqliyyat vasitələrinin istismarı qadağan ediləcək.\\xa0\"Report\" Türkiyə mətbuatına\\xa0istinadən xəbər verir ki, qərar Almaniyanın Ətraf Mühiti Qoruma Təşkilatının tələbi əsasında Ştutqart İnzibati Məhkəməsi tərəfindən qəbul edilib. Buna səbəb, dizel mühərrikli nəqliyyat vasitələrinin insan orqanizmi üçün zərərli olan nitrit oksid emissiya etməsidir. Məhkəmə qərarında deyilir ki, həmin\\xa0zərərli maddələrin azaldılması mümkün deyil.\\xa0Buna görə də, dizel mühərrikli avtomobillərin\\xa0ümumiyyətlə, yollara çıxmasına qadağa qoyulacaq.\\xa0 ',\n",
       " 'Çingiz Qənizadə: \"Görünür, bu, prezidentimizin də diqqətini cəlb edib...\" - MÜSAHİBƏ   Milli Məclisin Hüquq siyasəti və dövlət quruculuğu komitəsinin üzvü, millət vəkili Çingiz Qənizadənin bu gün 60 yaşı tamam olur. Həmçinin o ictimai-siyasi fəliyyətinə görə, ötən gün prezident İlham Əliyev tərəfindən “Şöhrət” ordeni ilə təltif olunub. “Qafqazinfo” bu münasibətlə millət vəkilini təbrik edir və onun keçdiyi həyat yollarından, ailə həyatından, tələbəlik illərindən \\xa0və fəaliyyəti ilə bağlı müsahibəni təqdim edir:\\xa0 \\xa0 - 60 yaşınız tamam oldu. Bu yaş ömrün elə bir çağıdır ki, \\xa0geriyə dönüb müəyyən qiymətləndirmələr aparmaq olar. Bu baxımdan, yaşadığınız ömrü necə dəyərləndirirsiniz? \\xa0 - Hələ məktəbdə oxuyarkən hüquqşünas olmaq arzusunda idim. Bu istək həyatımın gələcəkdə istiqamətlənməsində mühüm faktor oldu. Universitet ilim təzəcə başa çatmışdı ki, ölkədə Milli Azadlıq Hərəkatı başladı. Mən də bu hərəkatdan kənarda qala bilməzdim. Çünki daxilən haqq-ədalət uğrunda çarpışmağa hazır olan birisiyəm. Ona görə də, bu hərəkatın ən yüksək pillələrinə qədər gedib çıxa bildim. 1991- ci ilin oktyabrın 18-də Müstəqillik Aktı qəbul olundu. \\xa0Hesab edirəm ki, ölkənin bugünkü müstəqilliyinin əldə olunmasında milyonlardan biri kimi \\xa0mənim də kiçik də olsa payım var. Bu da mənim həyatımın ən şərəfli hissəsidir. Sonrakı dövrlərdə vəkil, prokuror və hüquq müdafiəçisi kimi fəaliyyət göstərdim. \\xa0 Geriyə baxdığımda görürəm ki, şərəfli yaşamış, çoxlu insanlara yaxşılıq etmiş, ədalətin bərpası üzərində apardığım çətin işlərdə uğur əldə etmişəm. İndi də bu fəaliyyətim davam edir. Bu da mənə başucalığı gətirən məqamlardan biridir.\\xa0 Normal həyat tərzi keçirmişəm. Təbii ki, müəyyən sıxıntılı zamanlar olur, amma 60 illik həyatımdan demək olar ki, tam razıyam. \\xa0 - Rayonda böyüyən bir gənc Bakıda tələbəlik həyatı keçirib. Ölkənin o dövrdə baş verən ictimai-siyasi-hüquqi həyatında fəallıq nümayiş etdirib. Bilmək istəyirəm ki, bu yolda sizə kimlər kömək edib? Çünki təkbaşına bunları etmək çətin olardı… \\xa0 - Hər bir şəxsin ailəsində ona dəstək olmasa, bu onun üçün olduqca çətin ola bilər. Bayırda baş verən proseslərin acısını insan gəlib evdə çıxarır. Evdə dəstək olmasa ağrını-acını kiminsə üstünə tökə bilir. Ailəm, dostlarım tərəfimdən mənə dəstək olunubsa, o çətinliklərə sinə gərə bilmişəmsə mənə dəstək olan hər kəsə təşəkkür düşür. Bu günə qədər həyatda arzuladığım hər bir şeyə nail olmuşam. Mən 20 il ərzində beş dəfə parlament seçkilərində iştirak etmişəm. Hər dəfə ikinci yerə çıxmışam. 2010- cu ildə isə bu baryeri aşıb birinci yerə çıxmışam. Demək istəyirəm ki, hər bir insan çətinliklərə qarşı mübarizəni axıra qədər aparmalıdır. Onda istək və arzular reallığa çevrilir. \\xa0 - Ailənizin \\xa0maddi cəhətdən imkanı necə olub?\\xa0 \\xa0 - Adi, zəhmətkeş bir ailənin övladı olmuşam. Bakıda universitetin hüquq fakültəsinə qəbul oldum. Həmin illərdə ulu öndər Heydər Əliyev Azərbaycana rəhbərlik edirdi. Qəbul imtahanlarından bir az əvvəl ulu öndər Rusiyanın “Nezavisimaya” qəzetinə müsahibə vermişdi. Başlıq belə idi: “Qoy ədalət zəfər çalsın”. Həmin müsahibədə qeyd olunurdu ki, hüquq fakültəsinə əsasən fəhlə və kəndli balaları daxil olmalıdırlar. Həqiqətən də həmin illərdə bizim qrupa daxil olan tələbələrin 80-90 faizi fəhlə və \\xa0kəndli balaları idi. Qeyd etmək istəyirəm ki, mənim də hüquq fakültəsinə daxil olmağımda ulu öndərin payı vardır. Tələbə ikən çoxları kimi kirayədə qalırdım. \\xa0Ailə qurduğum ilk illərdə də kirayədə yaşamışıq. Sonra yavaş-yavaş həyatımı və şəraitimi dəyişə bilmişəm. Rayondan gələn minlərcə insanın həyatı bu yoldan keçib. Eyni zamanda valideynlərimin də dəstəyini həmişə hiss etmişəm.\\xa0 \\xa0 - Neçə övladınız var, hansı işlə məşğuldurlar?\\xa0 \\xa0 - Oğlum hüquq-mühafizə orqanlarında çalışır. Hazırda Binəqədi rayon prokurorunun müavinidir. Ümid edirəm ki, ona göstərilən etimadı layiqincə doğruldur və doğruldacaq. Qızım həkimdir. Sadə azərbaycanlı ailəsiyik.\\xa0 \\xa0 - Nəvələrinizlə necə vaxt keçirirsiniz?\\xa0 \\xa0 - Nəvələrimin sayı maşallah çoxdur. Onlarla nəfəs alıram. Oğlan nəvələrim mənimlə qalırlar, ikisi əkizdirlər. Onları hər gün görməsəm, darıxıram. \\xa0 \\xa0 - İndi deputatların istirahət vaxtıdır. Siz necə, dincəlmisiniz? Yoxsa elə burda qalacaqsınız?\\xa0 \\xa0 - Yaşayış səviyyəmiz orta azərbaycanlı ailəsinin yaşayış səviyyəsidir. Əməkhaqqımızla ailənin tələblərini ödəyir və bunun üzərində də planlarımızı qururuq. Mən tətildə olsam da, iyulun 31-də seçildiyim İmişli-Beyləqan rayonlarının 6 aylıq hesabat yığıncaqlarında iştirak etmişəm. Seçicilərimlə məzuniyyətdə olarkən də əlaqələri kəsmirəm. Bir neçə gündən sonra isə Ağdaşa qohum-əqrəbamın yanına gedəcəm. Sonra isə Şamaxıda istirahət etməyi fikirləşirik. Ölkədən kənarda istirahət etmək bu il yəqin ki, mümkün olmayacaq.\\xa0 \\xa0 - Maddi cəhətdən mümkün deyil?\\xa0 \\xa0 - Bəli, səbəblərdən biri də budur.\\xa0 \\xa0 - Özünüzün fiziki sağlamlığınıza vaxt ayıra bilirsizmi? 60 yaşınız var. Amma, maşallah, sizə o yaşı vermək olmur… \\xa0 - Konkret idman növü ilə məşğul deyiləm. Hər gün bir saatdan çox piyada gəzməyi xoşlayıram. Bəzən müddət daha çox olur. İnsan üçün ən böyük sağlamlıq piyada gəzməkdir. Düzdür, yaşımı mənə heç kim vermir. Bəlkə də ola bilər ki, genetikdir. Bütün həyatım boyu fəaliyyətdə olmuşam, zəhmət çəkmişəm, işləmişəm.\\xa0 \\xa0 - Belə \\xa0çıxır ki, çox işləmək adamı yormur… \\xa0 - Mən tətil zamanı da tez-tez parlamentdə, iş yerində oluram. İşləməkdən heç vaxt qorxmamışam. Həmişə hər şeyi özüm nəzarətdə saxlamışam. İnsanlara yaxşılıq etməklə qidalanıram. Bəlkə də belə cavan qalmağımın səbəbi insanlara etdiyim yaxşılıqların cavabı olaraq mənə edilən xoş dualardır.\\xa0 \\xa0 - Bildiyimə görə, tələbə yoldaşlarınız arasında həmişə fərqlənmisiniz. Yəni birinci olmusunuz… \\xa0 - Bəli. Qrupda ilk prokuror, ilk ədliyyə generalı, ilk hüquq üzrə fəlsəfə doktoru, ilk deputat mən olmuşam. Bu həm çəkdiyim zəhmətlərin, həm də taleyimin qismətidir.\\xa0 \\xa0 - Xarakter olaraq necə birisiniz? Kövrəksiniz? Sizi kövrəldən anlar çox olurmu?\\xa0 \\xa0 - Çox kövrək insanam, ancaq bu anı təklikdə yaşayıram. Nələrisə xatırlayıb kövrəlirsən, bu \\xa0kövrəklik sevincdən də ola bilər. Həddən artıq kasıb və xəstə insanlara qarşı çox həssasam. Bu da mənə bəzən əziyyət verir. Amma sonradan fikirləşirəm ki, Allah-təala hərəyə bir ömür nəsib edib.\\xa0 Təbii ki, hər bir insanın həyatında sevincli və kədərli günlərlə bağlı göz yaşları olur. Ali məktəbə daxil olanda sevincdən kövrəlmişəm, daha çox sevinc göz yaşlarımı 18 oktyabr 1991-ci ildə Müstəqillik Aktının qəbul olunması zamanı axıtmışam. \\xa02006-cı ildə 9 saylı seçki dairəsində təkrar seçki keçirilərəkən gecə məlum oldu ki, mən 641 səslə ikinci yerdəyəm. O zaman da kövrək hislərim olub. 2007-ci ildə atamı itirərkən də ağlamışam. Ancaq 2010-cu ildə deputat seçilərkən onun əksinə, sevincdən kövrəlmişəm.\\xa0 Və nəhayət möhtərəm prezident İlham Əliyev dünən mənə “Şöhrət” ordeni ilə təltif edərkən sevincdən kövrəlmişəm. \\xa0 - Siz belə bir təltif gözləyirdinizmi? \\xa0 - Düzü, “Şöhrət” ordeni ilə təltif olunacağımı gözləmirdim. Mənim bütün həyat fəaliyyətim, ictimai-siyasi fəaliyyətim göz qabağında olub və görünür bu prezidentimizin də diqqətini cəlb edib. İctimai-siyasi fəaliyyətimə belə yüksək qiymət verdiyinə görə möhtərəm prezidentimizə öz adımdan və ailəm adından dərin təşəkkürümü bildirirəm. Əmin etmək istəyirəm ki, bundan sonrakı bütün fəaliyyətimdə yalnız dövlətin maraqlarından çıxış edəcəyəm. \\xa0 - Əsəbiləşəndə vurub dağıtmaq xüsusiyyətiniz var?\\xa0 \\xa0 - Vurub-dağıtmaq zəiflik əlamətidir. Mən isə özümü güclü şəxsiyyət hesab edirəm. \\xa0 - Özünüzə bağışlamadığınız səhviniz var?\\xa0 \\xa0 - Xeyr. Həyatda hər şeyi ölçüb-biçmək lazımdır. 60 illik həyatımda mənə qəbahət, əziyyət verəcək hansısa addım atmamışam.\\xa0 \\xa0 - Hər sahədən çoxlu dostlarınız var. Amma \\xa0insanın ona daha doğma olan bir neçə dostu ola bilər. Bu baxımdan sizin əsl, ən yaxın dostlarınız kimlərdir?\\xa0 \\xa0 - Ən çox tələbə yoldaşlarımızla dostluq edirəm. Boş vaxtlarımız olanda, onu tələbə yoldaşlarımızla keçirməyə üstünlük veririk. 30 il bundan öncə bir-birimizi qazanmışıq. Həftədə bir ya iki dəfə yığışır, görüşür və nələrisə müzakirə edirik.\\xa0 \\xa0 - Yığışmaq deyəndə, bu evdə \\xa0olur? Bir məqam yadıma düşdü. Görkəmli şairimiz Musa Yaqubla müsahibədə o demişdi ki, biz bir neçə dost qərara almışdıq ki, gərək elə qadınlarla ailə həyatı quraq ki, onlar bizim qonaq-qaralı olmağımıza razı olsun, xoş üzlə qarşılanaq həmişə… \\xa0 - Çox az hallarda evdə toplaşırıq. Evdə hər bir məsələnin tənzimlənməsi kişidən asılıdır. Ortada səmimi münasibətlər olanda belə şey ola bilməz. Mən belə bir problem yaşamamışam.\\xa0 \\xa0 - Uzun illərdir ki, hüquq sahəsində fəaliyyət göstərirsiniz. Milli Məclisin Hüquq siyasəti və dövlət quruculuğu komitəsinin üzvüsünüz. Bizdə qanunlarda hansı boşluqlar görürsünüz? \\xa0Vacib boşluqlar nələrdir?\\xa0 \\xa0 - Qanunlarda həddən çox boşluqlar olur. Zaman keçdikdə qanunlar mütləq tənzimlənməli və təzələnməlidir. Biz parlamentdə çoxsaylı qanunlara əlavə və dəyişikliklər edirik. Cinayət, inzibati, mülki, cinayət prosessual, mülki prosessual və s. kimi çoxlu qanunlara əlavə və dəyişikliklər etməklə bu boşluqları doldurmuşuq. Yol hərəkəti haqqında qanunlara nə qədər müsbət dəyişikliklər etmişik. Addım-addım boşluqların dalınca gedirik, onları bərpa edirik. Mənim təşəbbüsümlə 4 qanuna əlavə və dəyişikliklər edilmişdir. Bu gün məni daha çox narahat edən Cinayət Məcəlləsinin 234.1-ci maddəsidir. Bu narkotikdən istifadəyə görə cinayət məsuliyyətidir. Hesab edirəm ki, bu insanlar xəstədir. Onlar cinayət \\xa0məsuliyyətinə cəlb edilməməlidirlər. Siqaret çəkən, içki içən necə ki həbs edilmirlərsə, narkotik qəbul edəni də həbs etmək düzgün deyil. Amma onun satışı ilə, əkilib-becərilməsi ilə məşğul olanlar daha ağır cəzalara layiqdirlər. \\xa0Bundan əlavə, avtoxuliqanlıqla bağlı Cinayət Məcəlləsinə əlavələrin edilməsinin tərəfdarıyam. Kimsə avtoxuliqanlıq edirsə, biz onu inzibati qaydada cəzalandırırıq. Hesab edirəm ki, təkrar avtoxuliqanlıq cinayət məsuliyyəti yaratmalı, sürücü ən azı 6 ay müddətində həbsdə yatmalıdır.\\xa0 \\xa0 - Ümumiyyətlə son zamanlar dəhşətli cinayət hadisələrinin şahidi oluruq. Hansı ki biz o cinayətləri filmlərdə görmüşük. Heç güman etmək olmazdı ki, Azərbaycanın hansısa rayonunda, kəndində belə cinayətlər baş verə bilər… \\xa0 - Bəzi cinayətlər milli mentalitetimizə yad olan hadisələr olduğuna görə, biz bir hadisəni də çox böyük hadisə kimi qəbul edirik. Amma insan çox qapalı bir canlı varlıqdır. Onun beyni nə düşünürsə, heç kim onu öncədən bilmir.\\xa0 \\xa0 - Azərbaycanda hüquq müdafiəçiliyi sistemi bir vaxtlar iqtidar və müxalifət kimi xarakterizə olunurdu, sonralar daha da konkretləşdi sanki. Bu baxımdan yanaşsaq, müxalifətdən hüquqlarını müdafiə etdiyiniz olubmu?\\xa0 \\xa0 - Bizim üçün hüquqları pozulan şəxsin iqtidar, yaxud da müxalifət nümayəndəsi olması anlayışı yoxdur. Biz insanlara siyasi baxışına görə fərq qoysaq, onda hüquq müdafiəçisi ola bilmərik. Hüquq müdafiəçisi tərəfsiz olmalı və qərəzli olmamalıdır. \\xa0 - Cəmiyyətdə insanlar daha çox öz hüquqlarının tapdalanmasından şikayətçidirlər. Müəyyən yerə qədər gedib çıxa bilsələr də, sonrasına nail ola bilmirlər v.s. Bu şikayətlər indi azalıb, yoxsa daha da çoxalır?\\xa0 \\xa0 - Şikayətlər xeyli azalıb. Əvvəllər bizə şikayət edənlərin sayı daha çox idi. Ölkənin hüquq-mühafizə orqanlarında çoxsaylı islahatlar aparılıb. Prokurorluq və polis orqanlarında hansısa məsələ ilə bağlı şikayət varsa dərhal reaksiya verilir, vətəndaşlar qəbul edilirlər. Dövlət Təhlükəsizlik Xidməti yenidən qurulub və formalaşıb. Onu da qeyd edim ki, məhkəmələrdə mülki işlərə baxılan zaman təbii ki, tərəflərin biri məhkəmədən narazı qalır və şikayətçi olurlar. Axı məhkəmə hər iki tərəfin iddiasını təmin edə bilməz. Deməli tərəflərin biri şikayətçi olur. Lakin bu o demək deyil ki, məhkəmə hakimiyyəti düzgün işləmir.\\xa0 \\xa0 - Ölkənin ən qalmaqallı məhkəmə proseslərindən olan MTN işi və rabitə işi üzrə məhkəmə yekunlaşıb, bir qismi isə yekunlaşmaq üzrədir. Bu istiqamət üzrə keçmiş məmurların ifadələrini \\xa0oxumusunuz yəqin. Prosesin yekunu olaraq sizdə təəssürat necə oldu?\\xa0 \\xa0 - Hər kəs öz əməlinə görə cavab verir. Sən cinayət əməli hesab olunan hərəkətlərin iştirakçısısansa, məsuliyyət daşımalısan. Mənim üçün önəmli olanlardan biri də odur ki, artıq dövlətə dəymiş ziyanın böyük hissəsi ödənilib. Bu cür insanların hərəkətinə hüquqi qiymət verilməsi üçün xeyli müddət istintaq aparıldı. Amma baş verənlər onu göstərdi ki, ölkənin bu strukturunda böyük problemlər olub. Çox yaxşı ki, bizim hüquq-mühafizə orqanları bu əməllərin qarşısını gec də olsa, ala bildilər.\\xa0 \\xa0 - Hazırkı postunuzdan razısınızmı? İcra strukturlarında təmsil olmaq istəyiniz var?\\xa0 \\xa0 - İnsan daima arzularla yaşayır. Bu arzular böyük kapital, var-dövlət əldə etmək arzusu olanda, məncə o insan artıq xəstələnir. Səhv yola düşə bilir. İnsanlar öz gücünü görərək özünü \\xa0daha başqa yerlərdə görmək arzusu ilə də yaşaya bilər. Mən belə hesab edirəm ki, indiki potensialım istənilən işin öhdəsindən gəlməyə imkan verir. İcra strukturlarında kimisə hansı vəzifədə görmək səlahiyyəti möhtərəm prezidentimizə aiddir. Amma \\xa0parlamentari kimi fəaliyyətim məni qane edir.\\xa0 ',\n",
       " '14 illik həyat yoldaşına görün kimlə xəyanət etdi – FOTO  Ayhan Bermekin qızı Hande Bermekin 2003-cü ildə ərə getdiyi aparıcı Murat Başoğlunun\\xa0Bodrum-Yalıkavakdakı\\xa0yaxta səyahətində sarışın bir qızla öpüşərkən çəkilən fotoları\\xa0maqazin gündəminə damğa vurub. Murat Başoğlu sarışın gözəllə həyat yoldaşı Hande Bermek və oğlu Canla qaldığı bağ evinə yaxın bir yerdə gün keçirib. Milli.Az Posta-ya istinadən xəbər verir ki, Murat Başoğlu bu kadrların ortaya çıxmasından sonra gözdən itib. Gəmidə öpüşdüyü qızın kim olduğu, Hande Bermekin ailə həyatı ilə bağlı gələcək qərarı maraq mövzusu olub. Murat Başoğlu keçən qış Etilerdə\\xa0bir idman salonu açıb. Sarışın sevgilisinin bu salonda fitness müəllimliyi etdiyi ortaya çıxıb. Məhəmməd Vaqif Milli.Az Digər maraqlı xəbərlər Milli.Az-ın Facebook səhifəsində Mənbə: milli.az ',\n",
       " 'Populyar xanım şəffaf geyinib kluba yollandı – FOTO  Tanınmış reper Trevis Skott və dizayner Helmut Lanqın müştərək hazırladıqları \"bomber\" tipli gödəkçənin ilk alıcıları arasında məşhur supermodel Bella Hədid də var. Milli.Az TMZ-yə istinadən bildirir ki, 800 dollarlıq gödəkçəni almış 20 yaşlı model dünən Nyu-Yorkdakı gecə klublarından birinə yollanmışdı. B.Hədid qara, şəffaf rəngli geyimdə idi və yenə də alt paltarsızdı. Milli.Az Digər maraqlı xəbərlər Milli.Az-ın Facebook səhifəsində Mənbə: milli.az ',\n",
       " 'Tramp: “Maduro indi nəinki pis oğlan, həm də diktatordur”  ABŞ prezidenti Donald Tramp Venesuela prezidenti Nikolas Maduronu mütləq hakimiyyəti ələ keçirmiş diktator sayır. Milli.Az APA-ya istinadən xəbər verir ki, bunu ABŞ prezidentinin mili təhlükəsizlik üzrə müşaviri Herbert Makmaster deyib. \\xa0 \"Maduro rejiminin Konstitusiya Assambleyasına saxta seçkilər vasitəsilə mütləq hakimiyyəti ələ keçirməsi bizim yarımkürədə demokratiyaya çox ciddi zərbədir. Maduro indi nəinki pis oğlan, həm də diktatordur\", – deyə Trampın bəyanatında bildirilir. \\xa0 Bəyanatda Venesuela hakimiyyəti Konstitusiyaya hörmət etməyə, azad seçkilər keçirməyə, siyasi məhbusları azadlığa buraxmağa, repressiyalara son qoymağa və xalqın humanitar problemlərini həll etməyə çağırılır. Eyni zamanda, Tramp bəyan edib ki, ABŞ öz müttəfiqləri ilə birlikdə Venesuelada insan haqları pozuntuları və zorakılıqda günahkar olanların məsuliyyətə cəlb edilməsinə çalışacaq. \\xa0\\xa0 \\xa0 Xatırladaq ki, iyulun 30-da Venesuelada hakimiyyətin təşəbbüsü ilə Konstitusiya Assambleyasının formalaşdırılması üçün seçki keçirilib. Bu orqan hazırda müxalifətin çoxluqda olduğu Milli Assambleyanı – parlamenti əvəz etməlidir. ABŞ bu seçkiləri tanımayaraq N. Maduroya qarşı sanksiya tətbiq edib. Latın Amerikası ölkələri də seçkiləri tanımayıblar. Milli.Az Digər maraqlı xəbərlər Milli.Az-ın Facebook səhifəsində Mənbə: milli.az ',\n",
       " 'Məşhur otel rüsvay oldu – VİDEO – FOTO  Kanar arxipelaqındakı Qran-Kanariya adasında, populyar Playya del İnqles kurortunda yerləşən \"Servatur Waikiki Canaria\" otelinin nüfuzuna ciddi xələl gəlib. Səbəbsə oteldə istirahət edən turistlərdən birinin çəkdiyi və sonradan sosial şəbəkələrdə paylaşdığı videodur. Milli.Az Daily Mail-ə istinadən bildirir ki, otelin hovuzu müştərilərin xidmətinə səhər saat 8-də verilir. Əksəriyyəti britaniyalılar, irland\\xa0 və almanlar olan turistlər də hovuzun kənarındakı şezlonqlarda yer tutmaq üçün növbə tutaraq siqnal gözləyiblər. Otelin əməkdaşları \"Hovuz açıqdır!\" deyən kimi onlar irəli şığıyıblar. Otel rəhbərliyi bu rüsvayçı olayla bağlı heç bir açıqlama verməyib. Milli.Az Videonu izləmək üçün şəklə klikləyin: Digər maraqlı xəbərlər Milli.Az-ın Facebook səhifəsində Mənbə: milli.az ',\n",
       " '“Eşkıya Dünyaya Hükümdar Olmaz” nə zaman başlayır?  \"Eşkıya Dünyaya Hükümdar Olmaz\"ın yeni mövsüm çəkilişləri başlayır. Milli.Az\\xa0axşam.az-a istinadən bildirir ki,\\xa0üçüncü mövsümün hazırlıqları digər seriallara nəzərən daha erkən start götürüb. Baş rollarda olan Oktay Kaynarca, Deniz Çakır, Tarık Ünlüoğlu, Ozan Akbaba, Yunus Emre Yıldırımer və digərləri\\xa0avqustun 8-dən etibarən çəkiliş meydançasında olacaqlar.\\xa0 Çəkilişlərin tez başlamasına bir səbəb də serialda Zeynəb obrazını canlandıran Ece Hakimin universitet təhsili üçün ABŞ-a köçməyə hazırlaşmasıdır. Yeni seriyalar sentyabrdan etibarən ekranda olacaq. Milli.Az Digər maraqlı xəbərlər\\xa0Milli.Az-ın Facebook\\xa0səhifəsində Mənbə: milli.az ',\n",
       " 'Şuşanın son görüntüləri – VİDEO  Sosial şəbəkələrdə Şuşa küçələrinin görüntüləri yayılıb. Milli.Az oxu.az-a istinadən həmin görüntüləri təqdim edir: Milli.Az Digər maraqlı xəbərlər Milli.Az-ın Facebook səhifəsində Mənbə: milli.az ',\n",
       " 'Xoşqədəm: “Ailənizin başına gəlsin”  Aparıcı Xoşqədəm Hidayətqızı \"Səni axtarıram\" proqramının mövsüm finalında bacısının dünyasını dəyişən övladından danışıb.\\xa0 Milli.Az\\xa0axşam.az-a istinadən bildirir ki,\\xa0sosial şəbəkədə məsələ ilə bağlı müzakirələr aparılıb. Bəzi yerlərdə isə onun fikirləri yanlış yazılaraq, başlıqda öz övladı dünyasını dəyişmiş kimi verilib.\\xa0 Xəbərdən əsəbiləşən X.Hidayətqızı qarğış edib:\\xa0 \"Ey, bu başlığı yazan insan!!! Sənin ailən, anan, atan, bacın, qardaşın varmı? Varsa, bu xəbərə başlığı hansı vicdanla yazırsan?! Bilirsənmi, bu başlığı bu gün oxuyub halı pisləşən nə qədər yaxınım olub? Bəli, \"Xoşqədəm Hidayətqızı\" adı reytinqdir, milyonlarla oxucu deməkdir… Amma daha bu cür başlıqla onun yaxınlarına, ailəsinə acı yaşadacaq halda yox.\\xa0 Yazıqlar olsun! Bu cür başlıqları yazaraq bu gün mənim ailəmə həyəcan, qorxu hissi yaşadanlar, bu hadisə sizin başınıza həqiqətən\\xa0gəlsin və ailəniz, yaxınlarınız mənim ailəmin bu gün yaşadıqlarını yaşasın. Məni bu bəddua üçün kimsə qınamasın. Bu gün övladım yanımda olmasaydı, bəlkə mənim də bu başlığı oxuyub ürəyim dayanacaqdı. Ona görə də, bu duaya görə kimsə məni qınamasın\". Milli.Az Digər maraqlı xəbərlər\\xa0Milli.Az-ın Facebook\\xa0səhifəsində Mənbə: milli.az ']"
      ]
     },
     "execution_count": 8,
     "metadata": {},
     "output_type": "execute_result"
    }
   ],
   "source": [
    "#Displaying first 100 data from raw_data\n",
    "raw_data[:100]"
   ]
  },
  {
   "cell_type": "markdown",
   "metadata": {
    "id": "O-AnFm6US_Qk"
   },
   "source": [
    "# BoW (Bag of Words)"
   ]
  },
  {
   "cell_type": "markdown",
   "metadata": {
    "id": "ioXmbTUJTEMC"
   },
   "source": [
    "In this section, we will firstly exctract features using BoW method and then do 3 different modeling tasks (Decision Tree, Naive Bayes, and SVC) using sklearn libraries."
   ]
  },
  {
   "cell_type": "code",
   "execution_count": null,
   "metadata": {
    "id": "orY1piXIGTmr"
   },
   "outputs": [],
   "source": [
    "#Initializing the vectorizer\n",
    "vectorizerBoW = CountVectorizer()\n",
    "#Fitting vocabulary into vectorizer\n",
    "vectorizerBoW.fit([vocabulary])\n",
    "#Vectorizing our raw_data by transforming it using the vectorizer and naming as X\n",
    "X = vectorizerBoW.transform(raw_data)"
   ]
  },
  {
   "cell_type": "code",
   "execution_count": null,
   "metadata": {
    "colab": {
     "base_uri": "https://localhost:8080/"
    },
    "id": "Dxk6fch5G1KQ",
    "outputId": "86e582c9-d539-4d1c-ed36-e95eb043e0dc"
   },
   "outputs": [
    {
     "data": {
      "text/plain": [
       "233141"
      ]
     },
     "execution_count": 10,
     "metadata": {},
     "output_type": "execute_result"
    }
   ],
   "source": [
    "#Printing the number of features\n",
    "len(vectorizerBoW.get_feature_names_out())"
   ]
  },
  {
   "cell_type": "markdown",
   "metadata": {
    "id": "XjC3QjreyIVF"
   },
   "source": [
    "## Train-Test Split"
   ]
  },
  {
   "cell_type": "code",
   "execution_count": null,
   "metadata": {
    "id": "uBE6QwPVI_sP"
   },
   "outputs": [],
   "source": [
    "#Separating the data into train and test sets. We give 20% of the dataset to test set\n",
    "X_train, X_test, y_train, y_test = train_test_split(X, categories, test_size = 0.2, random_state = 123)"
   ]
  },
  {
   "cell_type": "markdown",
   "metadata": {
    "id": "kZk5R1_byMf1"
   },
   "source": [
    "## Decision Tree"
   ]
  },
  {
   "cell_type": "markdown",
   "metadata": {
    "id": "-5dhB3dNcNmw"
   },
   "source": [
    "### Hyperparameter Tuning"
   ]
  },
  {
   "cell_type": "code",
   "execution_count": null,
   "metadata": {
    "id": "WhxokvLsbQhK"
   },
   "outputs": [],
   "source": [
    "#Setting parameters which will be tuned\n",
    "parameters = {\"max_depth\": [None, 10, 20, 40], \n",
    "              \"criterion\": [\"gini\", \"entropy\"]}\n",
    "#Setting model\n",
    "classifierDT = DecisionTreeClassifier()"
   ]
  },
  {
   "cell_type": "code",
   "execution_count": null,
   "metadata": {
    "colab": {
     "base_uri": "https://localhost:8080/"
    },
    "id": "dv3q3fYndgTl",
    "outputId": "fb982a6c-c8d1-4e46-9d68-fc13e5c1ffa0"
   },
   "outputs": [
    {
     "data": {
      "text/plain": [
       "GridSearchCV(estimator=DecisionTreeClassifier(),\n",
       "             param_grid={'criterion': ['gini', 'entropy'],\n",
       "                         'max_depth': [None, 10, 20, 40]})"
      ]
     },
     "execution_count": 13,
     "metadata": {},
     "output_type": "execute_result"
    }
   ],
   "source": [
    "#Initializing GridSearchCV optimizer\n",
    "optimizerDT = GridSearchCV(classifierDT, parameters)\n",
    "#Fitting train data into optimizer\n",
    "optimizerDT.fit(X_train, y_train)"
   ]
  },
  {
   "cell_type": "code",
   "execution_count": null,
   "metadata": {
    "colab": {
     "base_uri": "https://localhost:8080/"
    },
    "id": "1eFC3dYWdgPn",
    "outputId": "e8b1e775-0674-487c-c586-207400dc17eb"
   },
   "outputs": [
    {
     "data": {
      "text/plain": [
       "0.9234"
      ]
     },
     "execution_count": 14,
     "metadata": {},
     "output_type": "execute_result"
    }
   ],
   "source": [
    "#Printing best train accuracy score coming from the optimizer\n",
    "accuracy_score(optimizerDT.predict(X_train), y_train)"
   ]
  },
  {
   "cell_type": "code",
   "execution_count": null,
   "metadata": {
    "colab": {
     "base_uri": "https://localhost:8080/"
    },
    "id": "VnpaXqBzdgM6",
    "outputId": "38b382b4-33b3-4c13-cba5-2d6e51ca4e12"
   },
   "outputs": [
    {
     "data": {
      "text/plain": [
       "0.7458"
      ]
     },
     "execution_count": 15,
     "metadata": {},
     "output_type": "execute_result"
    }
   ],
   "source": [
    "#Printing best test accuracy score coming from the optimizer\n",
    "accuracy_score(optimizerDT.predict(X_test), y_test)"
   ]
  },
  {
   "cell_type": "code",
   "execution_count": null,
   "metadata": {
    "colab": {
     "base_uri": "https://localhost:8080/"
    },
    "id": "CgHnOjA1zI9j",
    "outputId": "23836aaa-c033-45ba-a876-9b1daa157dda"
   },
   "outputs": [
    {
     "data": {
      "text/plain": [
       "{'criterion': 'gini', 'max_depth': 40}"
      ]
     },
     "execution_count": 16,
     "metadata": {},
     "output_type": "execute_result"
    }
   ],
   "source": [
    "#Printing best parameters coming from the optimizer\n",
    "optimizerDT.best_params_"
   ]
  },
  {
   "cell_type": "markdown",
   "metadata": {
    "id": "apjULvQ4bgIR"
   },
   "source": [
    "We see that the best parameters for this data are \"gini\" for 'criterion' and 40 for 'max_depth'. However, trained model perfectly performs in train data but not in test data which means overfitting. Below, we will do train a Decision Tree model with 'gini' citerion and 40 max_depth and then use Post-Pruning method to prevent overfitting."
   ]
  },
  {
   "cell_type": "markdown",
   "metadata": {
    "id": "19pIIAjIFaEe"
   },
   "source": [
    "### Preventing Overfitting"
   ]
  },
  {
   "cell_type": "code",
   "execution_count": null,
   "metadata": {
    "colab": {
     "base_uri": "https://localhost:8080/"
    },
    "id": "-RgRmNBRc-uJ",
    "outputId": "f843b420-7825-45b2-f4c0-c697ccee90c0"
   },
   "outputs": [
    {
     "data": {
      "text/plain": [
       "DecisionTreeClassifier(ccp_alpha=0.0001, max_depth=40)"
      ]
     },
     "execution_count": 12,
     "metadata": {},
     "output_type": "execute_result"
    }
   ],
   "source": [
    "#Initializing the classifier with \"gini\" criterion, 40 max_depth and ccp_alpha 0.0001 which stands for cost complexity\n",
    "#pruning. It plays a role of regularization parameter and drop some of the branches in the tree to prevent overfitting.\n",
    "classifierDT = DecisionTreeClassifier(criterion = 'gini', max_depth = 40, ccp_alpha = 0.0001)\n",
    "#Training the model\n",
    "classifierDT.fit(X_train, y_train)"
   ]
  },
  {
   "cell_type": "code",
   "execution_count": null,
   "metadata": {
    "colab": {
     "base_uri": "https://localhost:8080/"
    },
    "id": "DShttou5c-qB",
    "outputId": "dd59828b-2390-48b1-aade-02d053490d19"
   },
   "outputs": [
    {
     "data": {
      "text/plain": [
       "0.834825"
      ]
     },
     "execution_count": 13,
     "metadata": {},
     "output_type": "execute_result"
    }
   ],
   "source": [
    "#Printing accuracy score for train set\n",
    "accuracy_score(classifierDT.predict(X_train), y_train)"
   ]
  },
  {
   "cell_type": "markdown",
   "metadata": {
    "id": "ILQg2xo4Fon2"
   },
   "source": [
    "### Testing the model with test set"
   ]
  },
  {
   "cell_type": "code",
   "execution_count": null,
   "metadata": {
    "colab": {
     "base_uri": "https://localhost:8080/"
    },
    "id": "lFTDx2Zlc-oJ",
    "outputId": "acd86a1e-5215-4161-bbc6-b4a06129618f"
   },
   "outputs": [
    {
     "data": {
      "text/plain": [
       "0.7681"
      ]
     },
     "execution_count": 14,
     "metadata": {},
     "output_type": "execute_result"
    }
   ],
   "source": [
    "#Printing accuracy score for test set\n",
    "accuracy_score(classifierDT.predict(X_test), y_test)"
   ]
  },
  {
   "cell_type": "markdown",
   "metadata": {
    "id": "wNnfykKeFukr"
   },
   "source": [
    "### Accuracy Rate of minimum 80%"
   ]
  },
  {
   "cell_type": "code",
   "execution_count": null,
   "metadata": {
    "colab": {
     "base_uri": "https://localhost:8080/"
    },
    "id": "So0pi68p44_K",
    "outputId": "b33a5ecc-95c7-42aa-80d8-666d33140320"
   },
   "outputs": [
    {
     "data": {
      "text/plain": [
       "0.82148"
      ]
     },
     "execution_count": 15,
     "metadata": {},
     "output_type": "execute_result"
    }
   ],
   "source": [
    "#Printing Accuracy score of the model\n",
    "accuracy_score(classifierDT.predict(X), categories)"
   ]
  },
  {
   "cell_type": "markdown",
   "metadata": {
    "id": "D0Cv-lAgF32Z"
   },
   "source": [
    "### Evaluating Precision, Recall and F1 Scores using Classification Report"
   ]
  },
  {
   "cell_type": "code",
   "execution_count": null,
   "metadata": {
    "colab": {
     "base_uri": "https://localhost:8080/"
    },
    "id": "7z0jsgn9448Y",
    "outputId": "19c8963c-04bc-436b-aadb-735e0da69d93"
   },
   "outputs": [
    {
     "name": "stdout",
     "output_type": "stream",
     "text": [
      "              precision    recall  f1-score   support\n",
      "\n",
      "       Dünya       0.82      0.82      0.82     13522\n",
      "     Maraqlı       0.83      0.79      0.81     16589\n",
      "  Mədəniyyət       0.52      0.77      0.62      1050\n",
      "     Siyasət       0.82      0.82      0.82      6555\n",
      "       İdman       0.88      0.90      0.89      6073\n",
      "İqtisadiyyat       0.82      0.84      0.83      6211\n",
      "\n",
      "    accuracy                           0.82     50000\n",
      "   macro avg       0.78      0.82      0.80     50000\n",
      "weighted avg       0.82      0.82      0.82     50000\n",
      "\n"
     ]
    }
   ],
   "source": [
    "print(classification_report(classifierDT.predict(X), categories))"
   ]
  },
  {
   "cell_type": "markdown",
   "metadata": {
    "id": "Rheqy2rJF_ZX"
   },
   "source": [
    "### Constructing Confusion Matrix"
   ]
  },
  {
   "cell_type": "code",
   "execution_count": null,
   "metadata": {
    "colab": {
     "base_uri": "https://localhost:8080/"
    },
    "id": "8vndraSD446A",
    "outputId": "3418e144-caa0-4cc3-c373-81babfdddf45"
   },
   "outputs": [
    {
     "name": "stdout",
     "output_type": "stream",
     "text": [
      "[[11086  1537   113   266   254   266]\n",
      " [ 1717 13157   394   525   308   488]\n",
      " [   63    80   804    57    11    35]\n",
      " [  253   370   144  5358    98   332]\n",
      " [  196   324    14    39  5461    39]\n",
      " [  159   397    78   296    73  5208]]\n"
     ]
    }
   ],
   "source": [
    "print(confusion_matrix(classifierDT.predict(X), categories))"
   ]
  },
  {
   "cell_type": "code",
   "execution_count": null,
   "metadata": {
    "colab": {
     "base_uri": "https://localhost:8080/",
     "height": 269
    },
    "id": "bw29RxtD444K",
    "outputId": "87c61f9b-c3dc-4e0d-ae8d-56e4e5b5c111"
   },
   "outputs": [
    {
     "data": {
      "image/png": "[encoded data removed]",
      "text/plain": [
       "<Figure size 432x288 with 2 Axes>"
      ]
     },
     "metadata": {
      "needs_background": "light"
     },
     "output_type": "display_data"
    }
   ],
   "source": [
    "#Plotting Confusion Matrix for better understanding using seaborn heatmat plot\n",
    "sns.heatmap(confusion_matrix(classifierDT.predict(X), categories), annot = True,  vmin = -1, vmax = 1, center = 0, cmap = \"RdBu_r\")\n",
    "plt.show()"
   ]
  },
  {
   "cell_type": "code",
   "execution_count": null,
   "metadata": {
    "id": "PRrUZ0Dbc8TJ"
   },
   "outputs": [],
   "source": [
    "#Saving the model for Extra Task 2\n",
    "\n",
    "#Opening a file\n",
    "file = open('DTBoW.txt', 'wb')\n",
    "#Dumping the model to the created binary file\n",
    "pickle.dump(classifierDT, file)\n",
    "#Closing the file\n",
    "file.close()"
   ]
  },
  {
   "cell_type": "markdown",
   "metadata": {
    "id": "1zffVjJqHbKx"
   },
   "source": [
    "So, we are done with Decision Tree modelling in BoW method. Now, we can move to the second model which is Naive Bayes."
   ]
  },
  {
   "cell_type": "markdown",
   "metadata": {
    "id": "YcWOMKrYIHFf"
   },
   "source": [
    "## Naive Bayes"
   ]
  },
  {
   "cell_type": "markdown",
   "metadata": {
    "id": "EoXvlI9Q2VJb"
   },
   "source": [
    "In Naive Bayes algorithm, we get some problems related to size of data and sparsity of the input matrix. This algorithm does not accept sparse matrix, we need to convert it to numpy array using toarray() function before fitting it into model. However, when we try to implement this function, we get memory error due to size of data. The last option to help us in this case is to decrease size of the data. We take first 5000 rows from the actual data and to avoid imbalance problem, we also increase the number of \"Mədəniyyət\" labeled data."
   ]
  },
  {
   "cell_type": "code",
   "execution_count": null,
   "metadata": {
    "id": "kptMnO-YIN-F"
   },
   "outputs": [],
   "source": [
    "#Getting first 5000 rows of the data\n",
    "data = pd.concat([data.iloc[:5000, :], data[data[\"Category\"] == \"Mədəniyyət\"].iloc[:400, :]])"
   ]
  },
  {
   "cell_type": "code",
   "execution_count": null,
   "metadata": {
    "id": "vEfAOIXDj-Qw"
   },
   "outputs": [],
   "source": [
    "#Resetting index and dropping new \"index\" column\n",
    "data.reset_index(inplace = True)\n",
    "data.drop(\"index\", axis = 1, inplace = True)"
   ]
  },
  {
   "cell_type": "code",
   "execution_count": null,
   "metadata": {
    "colab": {
     "base_uri": "https://localhost:8080/",
     "height": 424
    },
    "id": "Qg_Vl4A1vt5g",
    "outputId": "dc843f4c-5812-4421-fe3e-87bee832ac68"
   },
   "outputs": [
    {
     "data": {
      "text/html": [
       "\n",
       "  <div id=\"df-1091bc3a-127a-43c3-9dc6-b26da6224bf9\">\n",
       "    <div class=\"colab-df-container\">\n",
       "      <div>\n",
       "<style scoped>\n",
       "    .dataframe tbody tr th:only-of-type {\n",
       "        vertical-align: middle;\n",
       "    }\n",
       "\n",
       "    .dataframe tbody tr th {\n",
       "        vertical-align: top;\n",
       "    }\n",
       "\n",
       "    .dataframe thead th {\n",
       "        text-align: right;\n",
       "    }\n",
       "</style>\n",
       "<table border=\"1\" class=\"dataframe\">\n",
       "  <thead>\n",
       "    <tr style=\"text-align: right;\">\n",
       "      <th></th>\n",
       "      <th>Category</th>\n",
       "      <th>Title</th>\n",
       "      <th>News_Article</th>\n",
       "    </tr>\n",
       "  </thead>\n",
       "  <tbody>\n",
       "    <tr>\n",
       "      <th>0</th>\n",
       "      <td>Maraqlı</td>\n",
       "      <td>Naviforce Sport Saat 2016 ilə zövqlərin ahəngi</td>\n",
       "      <td>Naviforce Sport Saat 2016 Yapon Mexanizmi Yapo...</td>\n",
       "    </tr>\n",
       "    <tr>\n",
       "      <th>1</th>\n",
       "      <td>Maraqlı</td>\n",
       "      <td>Sinir ,oynaq , sinir bel ağrılarına 3 gündə son !</td>\n",
       "      <td>ŞOK ! ŞOK ! ŞOK ! Xanımlar və bəylər , bel və ...</td>\n",
       "    </tr>\n",
       "    <tr>\n",
       "      <th>2</th>\n",
       "      <td>Maraqlı</td>\n",
       "      <td>Dəyərindən qat-qat aşağı qiymətə Mənzil</td>\n",
       "      <td>Dəyərindən qat-qat Aşağı Qiymətə. Həzi Aslanov...</td>\n",
       "    </tr>\n",
       "    <tr>\n",
       "      <th>3</th>\n",
       "      <td>İdman</td>\n",
       "      <td>2024 və 2028-ci il olimpiadalarının keçiriləcə...</td>\n",
       "      <td>2028-ci il Yay Olimpiya və Paralimpiya Oyunla...</td>\n",
       "    </tr>\n",
       "    <tr>\n",
       "      <th>4</th>\n",
       "      <td>Dünya</td>\n",
       "      <td>Türkiyədə zəlzələ</td>\n",
       "      <td>Türkiyədə daha bir zəlzələ meydana gəlib.   L...</td>\n",
       "    </tr>\n",
       "    <tr>\n",
       "      <th>...</th>\n",
       "      <td>...</td>\n",
       "      <td>...</td>\n",
       "      <td>...</td>\n",
       "    </tr>\n",
       "    <tr>\n",
       "      <th>5395</th>\n",
       "      <td>Mədəniyyət</td>\n",
       "      <td>108 – ci mövsümdə bir neçə premyera gözlənilir</td>\n",
       "      <td>Musiqili Teatrı 108-ci mövsümün ilk dörd ayı...</td>\n",
       "    </tr>\n",
       "    <tr>\n",
       "      <th>5396</th>\n",
       "      <td>Mədəniyyət</td>\n",
       "      <td>İndoneziyada Azərbaycan mədəniyyət günləri keç...</td>\n",
       "      <td>İndoneziyanın Azərbaycandakı səfiri Hüsnan B...</td>\n",
       "    </tr>\n",
       "    <tr>\n",
       "      <th>5397</th>\n",
       "      <td>Mədəniyyət</td>\n",
       "      <td>Tarix Muzeyində arxeoloji xəzinə</td>\n",
       "      <td>AMEA Milli Azərbaycan Tarixi Muzeyi arxeoloj...</td>\n",
       "    </tr>\n",
       "    <tr>\n",
       "      <th>5398</th>\n",
       "      <td>Mədəniyyət</td>\n",
       "      <td>Musiqili Teatr yeni mövsümün ilk 4 ayı üçün re...</td>\n",
       "      <td>Azərbaycan Dövlət Musiqili Teatrı 108-ci mövs...</td>\n",
       "    </tr>\n",
       "    <tr>\n",
       "      <th>5399</th>\n",
       "      <td>Mədəniyyət</td>\n",
       "      <td>Beynəlxalq Muğam Mərkəzində \"Etnik Musiqi İnci...</td>\n",
       "      <td>Beynəlxalq Muğam Mərkəzi yeni mövsümdə də \"Et...</td>\n",
       "    </tr>\n",
       "  </tbody>\n",
       "</table>\n",
       "<p>5400 rows × 3 columns</p>\n",
       "</div>\n",
       "      <button class=\"colab-df-convert\" onclick=\"convertToInteractive('df-1091bc3a-127a-43c3-9dc6-b26da6224bf9')\"\n",
       "              title=\"Convert this dataframe to an interactive table.\"\n",
       "              style=\"display:none;\">\n",
       "        \n",
       "  <svg xmlns=\"http://www.w3.org/2000/svg\" height=\"24px\"viewBox=\"0 0 24 24\"\n",
       "       width=\"24px\">\n",
       "    <path d=\"M0 0h24v24H0V0z\" fill=\"none\"/>\n",
       "    <path d=\"M18.56 5.44l.94 2.06.94-2.06 2.06-.94-2.06-.94-.94-2.06-.94 2.06-2.06.94zm-11 1L8.5 8.5l.94-2.06 2.06-.94-2.06-.94L8.5 2.5l-.94 2.06-2.06.94zm10 10l.94 2.06.94-2.06 2.06-.94-2.06-.94-.94-2.06-.94 2.06-2.06.94z\"/><path d=\"M17.41 7.96l-1.37-1.37c-.4-.4-.92-.59-1.43-.59-.52 0-1.04.2-1.43.59L10.3 9.45l-7.72 7.72c-.78.78-.78 2.05 0 2.83L4 21.41c.39.39.9.59 1.41.59.51 0 1.02-.2 1.41-.59l7.78-7.78 2.81-2.81c.8-.78.8-2.07 0-2.86zM5.41 20L4 18.59l7.72-7.72 1.47 1.35L5.41 20z\"/>\n",
       "  </svg>\n",
       "      </button>\n",
       "      \n",
       "  <style>\n",
       "    .colab-df-container {\n",
       "      display:flex;\n",
       "      flex-wrap:wrap;\n",
       "      gap: 12px;\n",
       "    }\n",
       "\n",
       "    .colab-df-convert {\n",
       "      background-color: #E8F0FE;\n",
       "      border: none;\n",
       "      border-radius: 50%;\n",
       "      cursor: pointer;\n",
       "      display: none;\n",
       "      fill: #1967D2;\n",
       "      height: 32px;\n",
       "      padding: 0 0 0 0;\n",
       "      width: 32px;\n",
       "    }\n",
       "\n",
       "    .colab-df-convert:hover {\n",
       "      background-color: #E2EBFA;\n",
       "      box-shadow: 0px 1px 2px rgba(60, 64, 67, 0.3), 0px 1px 3px 1px rgba(60, 64, 67, 0.15);\n",
       "      fill: #174EA6;\n",
       "    }\n",
       "\n",
       "    [theme=dark] .colab-df-convert {\n",
       "      background-color: #3B4455;\n",
       "      fill: #D2E3FC;\n",
       "    }\n",
       "\n",
       "    [theme=dark] .colab-df-convert:hover {\n",
       "      background-color: #434B5C;\n",
       "      box-shadow: 0px 1px 3px 1px rgba(0, 0, 0, 0.15);\n",
       "      filter: drop-shadow(0px 1px 2px rgba(0, 0, 0, 0.3));\n",
       "      fill: #FFFFFF;\n",
       "    }\n",
       "  </style>\n",
       "\n",
       "      <script>\n",
       "        const buttonEl =\n",
       "          document.querySelector('#df-1091bc3a-127a-43c3-9dc6-b26da6224bf9 button.colab-df-convert');\n",
       "        buttonEl.style.display =\n",
       "          google.colab.kernel.accessAllowed ? 'block' : 'none';\n",
       "\n",
       "        async function convertToInteractive(key) {\n",
       "          const element = document.querySelector('#df-1091bc3a-127a-43c3-9dc6-b26da6224bf9');\n",
       "          const dataTable =\n",
       "            await google.colab.kernel.invokeFunction('convertToInteractive',\n",
       "                                                     [key], {});\n",
       "          if (!dataTable) return;\n",
       "\n",
       "          const docLinkHtml = 'Like what you see? Visit the ' +\n",
       "            '<a target=\"_blank\" href=https://colab.research.google.com/notebooks/data_table.ipynb>data table notebook</a>'\n",
       "            + ' to learn more about interactive tables.';\n",
       "          element.innerHTML = '';\n",
       "          dataTable['output_type'] = 'display_data';\n",
       "          await google.colab.output.renderOutput(dataTable, element);\n",
       "          const docLink = document.createElement('div');\n",
       "          docLink.innerHTML = docLinkHtml;\n",
       "          element.appendChild(docLink);\n",
       "        }\n",
       "      </script>\n",
       "    </div>\n",
       "  </div>\n",
       "  "
      ],
      "text/plain": [
       "        Category                                              Title  \\\n",
       "0        Maraqlı     Naviforce Sport Saat 2016 ilə zövqlərin ahəngi   \n",
       "1        Maraqlı  Sinir ,oynaq , sinir bel ağrılarına 3 gündə son !   \n",
       "2        Maraqlı            Dəyərindən qat-qat aşağı qiymətə Mənzil   \n",
       "3          İdman  2024 və 2028-ci il olimpiadalarının keçiriləcə...   \n",
       "4          Dünya                                 Türkiyədə zəlzələ    \n",
       "...          ...                                                ...   \n",
       "5395  Mədəniyyət     108 – ci mövsümdə bir neçə premyera gözlənilir   \n",
       "5396  Mədəniyyət  İndoneziyada Azərbaycan mədəniyyət günləri keç...   \n",
       "5397  Mədəniyyət                   Tarix Muzeyində arxeoloji xəzinə   \n",
       "5398  Mədəniyyət  Musiqili Teatr yeni mövsümün ilk 4 ayı üçün re...   \n",
       "5399  Mədəniyyət  Beynəlxalq Muğam Mərkəzində \"Etnik Musiqi İnci...   \n",
       "\n",
       "                                           News_Article  \n",
       "0     Naviforce Sport Saat 2016 Yapon Mexanizmi Yapo...  \n",
       "1     ŞOK ! ŞOK ! ŞOK ! Xanımlar və bəylər , bel və ...  \n",
       "2     Dəyərindən qat-qat Aşağı Qiymətə. Həzi Aslanov...  \n",
       "3      2028-ci il Yay Olimpiya və Paralimpiya Oyunla...  \n",
       "4      Türkiyədə daha bir zəlzələ meydana gəlib.   L...  \n",
       "...                                                 ...  \n",
       "5395    Musiqili Teatrı 108-ci mövsümün ilk dörd ayı...  \n",
       "5396    İndoneziyanın Azərbaycandakı səfiri Hüsnan B...  \n",
       "5397    AMEA Milli Azərbaycan Tarixi Muzeyi arxeoloj...  \n",
       "5398   Azərbaycan Dövlət Musiqili Teatrı 108-ci mövs...  \n",
       "5399   Beynəlxalq Muğam Mərkəzi yeni mövsümdə də \"Et...  \n",
       "\n",
       "[5400 rows x 3 columns]"
      ]
     },
     "execution_count": 22,
     "metadata": {},
     "output_type": "execute_result"
    }
   ],
   "source": [
    "#Displaying data\n",
    "data"
   ]
  },
  {
   "cell_type": "code",
   "execution_count": null,
   "metadata": {
    "colab": {
     "base_uri": "https://localhost:8080/",
     "height": 269
    },
    "id": "vJ_1Ul2FsRJS",
    "outputId": "9d5fc12d-ea84-4a6d-ff68-b218625ceb30"
   },
   "outputs": [
    {
     "data": {
      "text/html": [
       "\n",
       "  <div id=\"df-c801b713-1b5c-464f-829a-d7524179cc03\">\n",
       "    <div class=\"colab-df-container\">\n",
       "      <div>\n",
       "<style scoped>\n",
       "    .dataframe tbody tr th:only-of-type {\n",
       "        vertical-align: middle;\n",
       "    }\n",
       "\n",
       "    .dataframe tbody tr th {\n",
       "        vertical-align: top;\n",
       "    }\n",
       "\n",
       "    .dataframe thead th {\n",
       "        text-align: right;\n",
       "    }\n",
       "</style>\n",
       "<table border=\"1\" class=\"dataframe\">\n",
       "  <thead>\n",
       "    <tr style=\"text-align: right;\">\n",
       "      <th></th>\n",
       "      <th>Title</th>\n",
       "      <th>News_Article</th>\n",
       "    </tr>\n",
       "    <tr>\n",
       "      <th>Category</th>\n",
       "      <th></th>\n",
       "      <th></th>\n",
       "    </tr>\n",
       "  </thead>\n",
       "  <tbody>\n",
       "    <tr>\n",
       "      <th>Dünya</th>\n",
       "      <td>1523</td>\n",
       "      <td>1523</td>\n",
       "    </tr>\n",
       "    <tr>\n",
       "      <th>Maraqlı</th>\n",
       "      <td>1440</td>\n",
       "      <td>1440</td>\n",
       "    </tr>\n",
       "    <tr>\n",
       "      <th>Mədəniyyət</th>\n",
       "      <td>519</td>\n",
       "      <td>519</td>\n",
       "    </tr>\n",
       "    <tr>\n",
       "      <th>Siyasət</th>\n",
       "      <td>553</td>\n",
       "      <td>553</td>\n",
       "    </tr>\n",
       "    <tr>\n",
       "      <th>İdman</th>\n",
       "      <td>775</td>\n",
       "      <td>775</td>\n",
       "    </tr>\n",
       "    <tr>\n",
       "      <th>İqtisadiyyat</th>\n",
       "      <td>590</td>\n",
       "      <td>590</td>\n",
       "    </tr>\n",
       "  </tbody>\n",
       "</table>\n",
       "</div>\n",
       "      <button class=\"colab-df-convert\" onclick=\"convertToInteractive('df-c801b713-1b5c-464f-829a-d7524179cc03')\"\n",
       "              title=\"Convert this dataframe to an interactive table.\"\n",
       "              style=\"display:none;\">\n",
       "        \n",
       "  <svg xmlns=\"http://www.w3.org/2000/svg\" height=\"24px\"viewBox=\"0 0 24 24\"\n",
       "       width=\"24px\">\n",
       "    <path d=\"M0 0h24v24H0V0z\" fill=\"none\"/>\n",
       "    <path d=\"M18.56 5.44l.94 2.06.94-2.06 2.06-.94-2.06-.94-.94-2.06-.94 2.06-2.06.94zm-11 1L8.5 8.5l.94-2.06 2.06-.94-2.06-.94L8.5 2.5l-.94 2.06-2.06.94zm10 10l.94 2.06.94-2.06 2.06-.94-2.06-.94-.94-2.06-.94 2.06-2.06.94z\"/><path d=\"M17.41 7.96l-1.37-1.37c-.4-.4-.92-.59-1.43-.59-.52 0-1.04.2-1.43.59L10.3 9.45l-7.72 7.72c-.78.78-.78 2.05 0 2.83L4 21.41c.39.39.9.59 1.41.59.51 0 1.02-.2 1.41-.59l7.78-7.78 2.81-2.81c.8-.78.8-2.07 0-2.86zM5.41 20L4 18.59l7.72-7.72 1.47 1.35L5.41 20z\"/>\n",
       "  </svg>\n",
       "      </button>\n",
       "      \n",
       "  <style>\n",
       "    .colab-df-container {\n",
       "      display:flex;\n",
       "      flex-wrap:wrap;\n",
       "      gap: 12px;\n",
       "    }\n",
       "\n",
       "    .colab-df-convert {\n",
       "      background-color: #E8F0FE;\n",
       "      border: none;\n",
       "      border-radius: 50%;\n",
       "      cursor: pointer;\n",
       "      display: none;\n",
       "      fill: #1967D2;\n",
       "      height: 32px;\n",
       "      padding: 0 0 0 0;\n",
       "      width: 32px;\n",
       "    }\n",
       "\n",
       "    .colab-df-convert:hover {\n",
       "      background-color: #E2EBFA;\n",
       "      box-shadow: 0px 1px 2px rgba(60, 64, 67, 0.3), 0px 1px 3px 1px rgba(60, 64, 67, 0.15);\n",
       "      fill: #174EA6;\n",
       "    }\n",
       "\n",
       "    [theme=dark] .colab-df-convert {\n",
       "      background-color: #3B4455;\n",
       "      fill: #D2E3FC;\n",
       "    }\n",
       "\n",
       "    [theme=dark] .colab-df-convert:hover {\n",
       "      background-color: #434B5C;\n",
       "      box-shadow: 0px 1px 3px 1px rgba(0, 0, 0, 0.15);\n",
       "      filter: drop-shadow(0px 1px 2px rgba(0, 0, 0, 0.3));\n",
       "      fill: #FFFFFF;\n",
       "    }\n",
       "  </style>\n",
       "\n",
       "      <script>\n",
       "        const buttonEl =\n",
       "          document.querySelector('#df-c801b713-1b5c-464f-829a-d7524179cc03 button.colab-df-convert');\n",
       "        buttonEl.style.display =\n",
       "          google.colab.kernel.accessAllowed ? 'block' : 'none';\n",
       "\n",
       "        async function convertToInteractive(key) {\n",
       "          const element = document.querySelector('#df-c801b713-1b5c-464f-829a-d7524179cc03');\n",
       "          const dataTable =\n",
       "            await google.colab.kernel.invokeFunction('convertToInteractive',\n",
       "                                                     [key], {});\n",
       "          if (!dataTable) return;\n",
       "\n",
       "          const docLinkHtml = 'Like what you see? Visit the ' +\n",
       "            '<a target=\"_blank\" href=https://colab.research.google.com/notebooks/data_table.ipynb>data table notebook</a>'\n",
       "            + ' to learn more about interactive tables.';\n",
       "          element.innerHTML = '';\n",
       "          dataTable['output_type'] = 'display_data';\n",
       "          await google.colab.output.renderOutput(dataTable, element);\n",
       "          const docLink = document.createElement('div');\n",
       "          docLink.innerHTML = docLinkHtml;\n",
       "          element.appendChild(docLink);\n",
       "        }\n",
       "      </script>\n",
       "    </div>\n",
       "  </div>\n",
       "  "
      ],
      "text/plain": [
       "              Title  News_Article\n",
       "Category                         \n",
       "Dünya          1523          1523\n",
       "Maraqlı        1440          1440\n",
       "Mədəniyyət      519           519\n",
       "Siyasət         553           553\n",
       "İdman           775           775\n",
       "İqtisadiyyat    590           590"
      ]
     },
     "execution_count": 23,
     "metadata": {},
     "output_type": "execute_result"
    }
   ],
   "source": [
    "#Using groupby function, observing number of each labels\n",
    "data.groupby(\"Category\").count()"
   ]
  },
  {
   "cell_type": "code",
   "execution_count": null,
   "metadata": {
    "id": "-344QpucIN6w"
   },
   "outputs": [],
   "source": [
    "#Here, we separate each columns to their corresponding variables.\n",
    "#It will help us join titles and articles.\n",
    "titles = data['Title']\n",
    "articles = data['News_Article']\n",
    "categories = data['Category']"
   ]
  },
  {
   "cell_type": "code",
   "execution_count": null,
   "metadata": {
    "id": "W1jc_pjFIN2t"
   },
   "outputs": [],
   "source": [
    "#Here, we generate vocabulary of our dataset.\n",
    "\n",
    "#Initialzing vocabulary which is empty string for now\n",
    "vocabulary = ''\n",
    "#Declaring the separator that will separate titles' last and articles' first words\n",
    "separator = ' '\n",
    "#Generating vocabulary by joining titles and separator\n",
    "vocabulary = separator.join(titles) + separator.join(articles)"
   ]
  },
  {
   "cell_type": "code",
   "execution_count": null,
   "metadata": {
    "id": "jZH88jKmINxB"
   },
   "outputs": [],
   "source": [
    "#In this cell, we create raw_data that consists of string values which are joining of titles and their corresponding articles.\n",
    "\n",
    "#Initialing empty list for storing the data\n",
    "raw_data = []\n",
    "#Iterating over the length of data\n",
    "for i in range(len(data)):\n",
    "    #Appending titles and articles to raw_data by joining them by empty space\n",
    "    raw_data.append(titles[i] + ' ' + articles[i])"
   ]
  },
  {
   "cell_type": "code",
   "execution_count": null,
   "metadata": {
    "id": "AYCo55_zINtZ"
   },
   "outputs": [],
   "source": [
    "#Initializing the vectorizer\n",
    "vectorizer = CountVectorizer()\n",
    "#Fitting vocabulary into vectorizer\n",
    "vectorizer.fit([vocabulary])\n",
    "#Vectorizing our raw_data by transforming it using the vectorizer and naming as X\n",
    "X = vectorizer.transform(raw_data)"
   ]
  },
  {
   "cell_type": "code",
   "execution_count": null,
   "metadata": {
    "colab": {
     "base_uri": "https://localhost:8080/"
    },
    "id": "Uz5TPYxxINqS",
    "outputId": "c3166eb9-c44c-4b8d-afca-99eb7ceb5c97"
   },
   "outputs": [
    {
     "data": {
      "text/plain": [
       "70622"
      ]
     },
     "execution_count": 28,
     "metadata": {},
     "output_type": "execute_result"
    }
   ],
   "source": [
    "#Printing the number of features\n",
    "len(vectorizer.get_feature_names_out())"
   ]
  },
  {
   "cell_type": "code",
   "execution_count": null,
   "metadata": {
    "id": "g_so3PSUINnh"
   },
   "outputs": [],
   "source": [
    "#Converting sparse matrix into numpy array\n",
    "X = X.toarray()"
   ]
  },
  {
   "cell_type": "code",
   "execution_count": null,
   "metadata": {
    "id": "vnDeGMiAINh9"
   },
   "outputs": [],
   "source": [
    "#Separating the data into train and test sets. We give 20% of the dataset to test set\n",
    "X_train, X_test, y_train, y_test = train_test_split(X, categories, test_size = 0.2, random_state = 123)"
   ]
  },
  {
   "cell_type": "code",
   "execution_count": null,
   "metadata": {
    "colab": {
     "base_uri": "https://localhost:8080/"
    },
    "id": "GNp7kT0ZINew",
    "outputId": "39f3b5e0-1928-4491-89f7-220609eb8f87"
   },
   "outputs": [
    {
     "data": {
      "text/plain": [
       "GaussianNB()"
      ]
     },
     "execution_count": 31,
     "metadata": {},
     "output_type": "execute_result"
    }
   ],
   "source": [
    "classifierNB = GaussianNB()\n",
    "classifierNB.fit(X_train, y_train)"
   ]
  },
  {
   "cell_type": "code",
   "execution_count": null,
   "metadata": {
    "colab": {
     "base_uri": "https://localhost:8080/"
    },
    "id": "HDuSHhx7INc_",
    "outputId": "615c1389-30a4-4dfd-9037-5a3ce32bcdd0"
   },
   "outputs": [
    {
     "data": {
      "text/plain": [
       "0.9599537037037037"
      ]
     },
     "execution_count": 13,
     "metadata": {},
     "output_type": "execute_result"
    }
   ],
   "source": [
    "pred_train = classifierNB.predict(X_train)\n",
    "#Printing accuracy score for train set\n",
    "accuracy_score(pred_train, y_train)"
   ]
  },
  {
   "cell_type": "markdown",
   "metadata": {
    "id": "ENEXm7ps5_BG"
   },
   "source": [
    "### Testing with Test Set"
   ]
  },
  {
   "cell_type": "code",
   "execution_count": null,
   "metadata": {
    "colab": {
     "base_uri": "https://localhost:8080/"
    },
    "id": "R-VrY5ggmHH-",
    "outputId": "85ee93fc-5e6a-4a00-e166-dce7821516cd"
   },
   "outputs": [
    {
     "data": {
      "text/plain": [
       "0.8037037037037037"
      ]
     },
     "execution_count": 14,
     "metadata": {},
     "output_type": "execute_result"
    }
   ],
   "source": [
    "pred_test = classifierNB.predict(X_test)\n",
    "#Printing accuracy score for train set\n",
    "accuracy_score(pred_test, y_test)"
   ]
  },
  {
   "cell_type": "markdown",
   "metadata": {
    "id": "Yd7S6jlm2EKv"
   },
   "source": [
    "### Hyperparameter Tuning and Preventing Overfitting\n",
    "\n",
    "We got 80% accuracy for test set. However, as we do not have hyperparameters in Naive Bayes, we cannot do tuning and prevent overfitting."
   ]
  },
  {
   "cell_type": "markdown",
   "metadata": {
    "id": "S1kmps6d8YEX"
   },
   "source": [
    "### Evaluating Precision, Recall and F1 Scores using Classification Report"
   ]
  },
  {
   "cell_type": "code",
   "execution_count": null,
   "metadata": {
    "colab": {
     "base_uri": "https://localhost:8080/"
    },
    "id": "l4VvLIqamHMg",
    "outputId": "418f0ee1-3281-4740-a38a-c00b23150811"
   },
   "outputs": [
    {
     "name": "stdout",
     "output_type": "stream",
     "text": [
      "              precision    recall  f1-score   support\n",
      "\n",
      "       Dünya       0.80      0.72      0.76       317\n",
      "     Maraqlı       0.74      0.75      0.74       297\n",
      "  Mədəniyyət       0.78      0.87      0.83       103\n",
      "     Siyasət       0.77      0.79      0.78        95\n",
      "       İdman       0.92      0.97      0.94       148\n",
      "İqtisadiyyat       0.87      0.91      0.89       120\n",
      "\n",
      "    accuracy                           0.80      1080\n",
      "   macro avg       0.81      0.83      0.82      1080\n",
      "weighted avg       0.80      0.80      0.80      1080\n",
      "\n"
     ]
    }
   ],
   "source": [
    "print(classification_report(pred_test, y_test))"
   ]
  },
  {
   "cell_type": "markdown",
   "metadata": {
    "id": "Qnv_knun8kPD"
   },
   "source": [
    "### Constructing Confusion Matrix"
   ]
  },
  {
   "cell_type": "code",
   "execution_count": null,
   "metadata": {
    "colab": {
     "base_uri": "https://localhost:8080/"
    },
    "id": "X9V3emmhmHQK",
    "outputId": "019ea872-919e-46d9-ae5f-442434ef5acf"
   },
   "outputs": [
    {
     "name": "stdout",
     "output_type": "stream",
     "text": [
      "[[228  70   0   8   4   7]\n",
      " [ 43 223  23   2   5   1]\n",
      " [  2   7  90   3   1   0]\n",
      " [  7   1   1  75   3   8]\n",
      " [  2   2   1   0 143   0]\n",
      " [  2   0   0   9   0 109]]\n"
     ]
    }
   ],
   "source": [
    "print(confusion_matrix(pred_test, y_test))"
   ]
  },
  {
   "cell_type": "code",
   "execution_count": null,
   "metadata": {
    "colab": {
     "base_uri": "https://localhost:8080/",
     "height": 269
    },
    "id": "bngQ_fDHmHSW",
    "outputId": "2e89de0d-e850-487e-bb21-17c7bb6cad2a"
   },
   "outputs": [
    {
     "data": {
      "image/png": "[encoded data removed]",
      "text/plain": [
       "<Figure size 432x288 with 2 Axes>"
      ]
     },
     "metadata": {
      "needs_background": "light"
     },
     "output_type": "display_data"
    }
   ],
   "source": [
    "#Plotting Confusion Matrix for better understanding using seaborn heatmat plot\n",
    "sns.heatmap(confusion_matrix(pred_test, y_test), annot = True,  vmin = -1, vmax = 1, center = 0, cmap = \"RdBu_r\")\n",
    "plt.show()"
   ]
  },
  {
   "cell_type": "markdown",
   "metadata": {
    "id": "8gSH_j3oDEme"
   },
   "source": [
    "Again, because of data size, I did classification report, and confusion matrix tasks on test set becuase it has smaller size. And we are done with Naive Bayes algorithm using BoW method."
   ]
  },
  {
   "cell_type": "code",
   "execution_count": null,
   "metadata": {
    "id": "OqN2i_WGeUMN"
   },
   "outputs": [],
   "source": [
    "#Saving the model for Extra Task 2\n",
    "\n",
    "#Opening a file\n",
    "file = open('NBBoW.txt', 'wb')\n",
    "#Dumping the model to the created binary file\n",
    "pickle.dump(classifierNB, file)\n",
    "#Closing the file\n",
    "file.close()"
   ]
  },
  {
   "cell_type": "markdown",
   "metadata": {
    "id": "Rti0MLLtF5u5"
   },
   "source": [
    "## SVC\n",
    "\n",
    "We will again use low sized data as in Naive Bayes because SVC has also lots of steps and sending whole data into this model will crash the RAM or will take hours to train and we will not be able to train the model."
   ]
  },
  {
   "cell_type": "code",
   "execution_count": null,
   "metadata": {
    "id": "S20k-7QCOMDH"
   },
   "outputs": [],
   "source": [
    "#Getting first 5000 rows of the data\n",
    "data = pd.concat([data.iloc[:5000, :], data[data[\"Category\"] == \"Mədəniyyət\"].iloc[:400, :]])"
   ]
  },
  {
   "cell_type": "code",
   "execution_count": null,
   "metadata": {
    "id": "1oz3wobQOL-B"
   },
   "outputs": [],
   "source": [
    "#Resetting index and dropping new \"index\" column\n",
    "data.reset_index(inplace = True)\n",
    "data.drop(\"index\", axis = 1, inplace = True)"
   ]
  },
  {
   "cell_type": "code",
   "execution_count": null,
   "metadata": {
    "colab": {
     "base_uri": "https://localhost:8080/",
     "height": 424
    },
    "id": "g56pbIE9OL7m",
    "outputId": "e2fe8e22-7cc6-4374-b523-5f1f0ec864d1"
   },
   "outputs": [
    {
     "data": {
      "text/html": [
       "\n",
       "  <div id=\"df-ff78e281-9083-46c6-b23f-94705a17f61a\">\n",
       "    <div class=\"colab-df-container\">\n",
       "      <div>\n",
       "<style scoped>\n",
       "    .dataframe tbody tr th:only-of-type {\n",
       "        vertical-align: middle;\n",
       "    }\n",
       "\n",
       "    .dataframe tbody tr th {\n",
       "        vertical-align: top;\n",
       "    }\n",
       "\n",
       "    .dataframe thead th {\n",
       "        text-align: right;\n",
       "    }\n",
       "</style>\n",
       "<table border=\"1\" class=\"dataframe\">\n",
       "  <thead>\n",
       "    <tr style=\"text-align: right;\">\n",
       "      <th></th>\n",
       "      <th>Category</th>\n",
       "      <th>Title</th>\n",
       "      <th>News_Article</th>\n",
       "    </tr>\n",
       "  </thead>\n",
       "  <tbody>\n",
       "    <tr>\n",
       "      <th>0</th>\n",
       "      <td>Maraqlı</td>\n",
       "      <td>Naviforce Sport Saat 2016 ilə zövqlərin ahəngi</td>\n",
       "      <td>Naviforce Sport Saat 2016 Yapon Mexanizmi Yapo...</td>\n",
       "    </tr>\n",
       "    <tr>\n",
       "      <th>1</th>\n",
       "      <td>Maraqlı</td>\n",
       "      <td>Sinir ,oynaq , sinir bel ağrılarına 3 gündə son !</td>\n",
       "      <td>ŞOK ! ŞOK ! ŞOK ! Xanımlar və bəylər , bel və ...</td>\n",
       "    </tr>\n",
       "    <tr>\n",
       "      <th>2</th>\n",
       "      <td>Maraqlı</td>\n",
       "      <td>Dəyərindən qat-qat aşağı qiymətə Mənzil</td>\n",
       "      <td>Dəyərindən qat-qat Aşağı Qiymətə. Həzi Aslanov...</td>\n",
       "    </tr>\n",
       "    <tr>\n",
       "      <th>3</th>\n",
       "      <td>İdman</td>\n",
       "      <td>2024 və 2028-ci il olimpiadalarının keçiriləcə...</td>\n",
       "      <td>2028-ci il Yay Olimpiya və Paralimpiya Oyunla...</td>\n",
       "    </tr>\n",
       "    <tr>\n",
       "      <th>4</th>\n",
       "      <td>Dünya</td>\n",
       "      <td>Türkiyədə zəlzələ</td>\n",
       "      <td>Türkiyədə daha bir zəlzələ meydana gəlib.   L...</td>\n",
       "    </tr>\n",
       "    <tr>\n",
       "      <th>...</th>\n",
       "      <td>...</td>\n",
       "      <td>...</td>\n",
       "      <td>...</td>\n",
       "    </tr>\n",
       "    <tr>\n",
       "      <th>5395</th>\n",
       "      <td>Mədəniyyət</td>\n",
       "      <td>108 – ci mövsümdə bir neçə premyera gözlənilir</td>\n",
       "      <td>Musiqili Teatrı 108-ci mövsümün ilk dörd ayı...</td>\n",
       "    </tr>\n",
       "    <tr>\n",
       "      <th>5396</th>\n",
       "      <td>Mədəniyyət</td>\n",
       "      <td>İndoneziyada Azərbaycan mədəniyyət günləri keç...</td>\n",
       "      <td>İndoneziyanın Azərbaycandakı səfiri Hüsnan B...</td>\n",
       "    </tr>\n",
       "    <tr>\n",
       "      <th>5397</th>\n",
       "      <td>Mədəniyyət</td>\n",
       "      <td>Tarix Muzeyində arxeoloji xəzinə</td>\n",
       "      <td>AMEA Milli Azərbaycan Tarixi Muzeyi arxeoloj...</td>\n",
       "    </tr>\n",
       "    <tr>\n",
       "      <th>5398</th>\n",
       "      <td>Mədəniyyət</td>\n",
       "      <td>Musiqili Teatr yeni mövsümün ilk 4 ayı üçün re...</td>\n",
       "      <td>Azərbaycan Dövlət Musiqili Teatrı 108-ci mövs...</td>\n",
       "    </tr>\n",
       "    <tr>\n",
       "      <th>5399</th>\n",
       "      <td>Mədəniyyət</td>\n",
       "      <td>Beynəlxalq Muğam Mərkəzində \"Etnik Musiqi İnci...</td>\n",
       "      <td>Beynəlxalq Muğam Mərkəzi yeni mövsümdə də \"Et...</td>\n",
       "    </tr>\n",
       "  </tbody>\n",
       "</table>\n",
       "<p>5400 rows × 3 columns</p>\n",
       "</div>\n",
       "      <button class=\"colab-df-convert\" onclick=\"convertToInteractive('df-ff78e281-9083-46c6-b23f-94705a17f61a')\"\n",
       "              title=\"Convert this dataframe to an interactive table.\"\n",
       "              style=\"display:none;\">\n",
       "        \n",
       "  <svg xmlns=\"http://www.w3.org/2000/svg\" height=\"24px\"viewBox=\"0 0 24 24\"\n",
       "       width=\"24px\">\n",
       "    <path d=\"M0 0h24v24H0V0z\" fill=\"none\"/>\n",
       "    <path d=\"M18.56 5.44l.94 2.06.94-2.06 2.06-.94-2.06-.94-.94-2.06-.94 2.06-2.06.94zm-11 1L8.5 8.5l.94-2.06 2.06-.94-2.06-.94L8.5 2.5l-.94 2.06-2.06.94zm10 10l.94 2.06.94-2.06 2.06-.94-2.06-.94-.94-2.06-.94 2.06-2.06.94z\"/><path d=\"M17.41 7.96l-1.37-1.37c-.4-.4-.92-.59-1.43-.59-.52 0-1.04.2-1.43.59L10.3 9.45l-7.72 7.72c-.78.78-.78 2.05 0 2.83L4 21.41c.39.39.9.59 1.41.59.51 0 1.02-.2 1.41-.59l7.78-7.78 2.81-2.81c.8-.78.8-2.07 0-2.86zM5.41 20L4 18.59l7.72-7.72 1.47 1.35L5.41 20z\"/>\n",
       "  </svg>\n",
       "      </button>\n",
       "      \n",
       "  <style>\n",
       "    .colab-df-container {\n",
       "      display:flex;\n",
       "      flex-wrap:wrap;\n",
       "      gap: 12px;\n",
       "    }\n",
       "\n",
       "    .colab-df-convert {\n",
       "      background-color: #E8F0FE;\n",
       "      border: none;\n",
       "      border-radius: 50%;\n",
       "      cursor: pointer;\n",
       "      display: none;\n",
       "      fill: #1967D2;\n",
       "      height: 32px;\n",
       "      padding: 0 0 0 0;\n",
       "      width: 32px;\n",
       "    }\n",
       "\n",
       "    .colab-df-convert:hover {\n",
       "      background-color: #E2EBFA;\n",
       "      box-shadow: 0px 1px 2px rgba(60, 64, 67, 0.3), 0px 1px 3px 1px rgba(60, 64, 67, 0.15);\n",
       "      fill: #174EA6;\n",
       "    }\n",
       "\n",
       "    [theme=dark] .colab-df-convert {\n",
       "      background-color: #3B4455;\n",
       "      fill: #D2E3FC;\n",
       "    }\n",
       "\n",
       "    [theme=dark] .colab-df-convert:hover {\n",
       "      background-color: #434B5C;\n",
       "      box-shadow: 0px 1px 3px 1px rgba(0, 0, 0, 0.15);\n",
       "      filter: drop-shadow(0px 1px 2px rgba(0, 0, 0, 0.3));\n",
       "      fill: #FFFFFF;\n",
       "    }\n",
       "  </style>\n",
       "\n",
       "      <script>\n",
       "        const buttonEl =\n",
       "          document.querySelector('#df-ff78e281-9083-46c6-b23f-94705a17f61a button.colab-df-convert');\n",
       "        buttonEl.style.display =\n",
       "          google.colab.kernel.accessAllowed ? 'block' : 'none';\n",
       "\n",
       "        async function convertToInteractive(key) {\n",
       "          const element = document.querySelector('#df-ff78e281-9083-46c6-b23f-94705a17f61a');\n",
       "          const dataTable =\n",
       "            await google.colab.kernel.invokeFunction('convertToInteractive',\n",
       "                                                     [key], {});\n",
       "          if (!dataTable) return;\n",
       "\n",
       "          const docLinkHtml = 'Like what you see? Visit the ' +\n",
       "            '<a target=\"_blank\" href=https://colab.research.google.com/notebooks/data_table.ipynb>data table notebook</a>'\n",
       "            + ' to learn more about interactive tables.';\n",
       "          element.innerHTML = '';\n",
       "          dataTable['output_type'] = 'display_data';\n",
       "          await google.colab.output.renderOutput(dataTable, element);\n",
       "          const docLink = document.createElement('div');\n",
       "          docLink.innerHTML = docLinkHtml;\n",
       "          element.appendChild(docLink);\n",
       "        }\n",
       "      </script>\n",
       "    </div>\n",
       "  </div>\n",
       "  "
      ],
      "text/plain": [
       "        Category                                              Title  \\\n",
       "0        Maraqlı     Naviforce Sport Saat 2016 ilə zövqlərin ahəngi   \n",
       "1        Maraqlı  Sinir ,oynaq , sinir bel ağrılarına 3 gündə son !   \n",
       "2        Maraqlı            Dəyərindən qat-qat aşağı qiymətə Mənzil   \n",
       "3          İdman  2024 və 2028-ci il olimpiadalarının keçiriləcə...   \n",
       "4          Dünya                                 Türkiyədə zəlzələ    \n",
       "...          ...                                                ...   \n",
       "5395  Mədəniyyət     108 – ci mövsümdə bir neçə premyera gözlənilir   \n",
       "5396  Mədəniyyət  İndoneziyada Azərbaycan mədəniyyət günləri keç...   \n",
       "5397  Mədəniyyət                   Tarix Muzeyində arxeoloji xəzinə   \n",
       "5398  Mədəniyyət  Musiqili Teatr yeni mövsümün ilk 4 ayı üçün re...   \n",
       "5399  Mədəniyyət  Beynəlxalq Muğam Mərkəzində \"Etnik Musiqi İnci...   \n",
       "\n",
       "                                           News_Article  \n",
       "0     Naviforce Sport Saat 2016 Yapon Mexanizmi Yapo...  \n",
       "1     ŞOK ! ŞOK ! ŞOK ! Xanımlar və bəylər , bel və ...  \n",
       "2     Dəyərindən qat-qat Aşağı Qiymətə. Həzi Aslanov...  \n",
       "3      2028-ci il Yay Olimpiya və Paralimpiya Oyunla...  \n",
       "4      Türkiyədə daha bir zəlzələ meydana gəlib.   L...  \n",
       "...                                                 ...  \n",
       "5395    Musiqili Teatrı 108-ci mövsümün ilk dörd ayı...  \n",
       "5396    İndoneziyanın Azərbaycandakı səfiri Hüsnan B...  \n",
       "5397    AMEA Milli Azərbaycan Tarixi Muzeyi arxeoloj...  \n",
       "5398   Azərbaycan Dövlət Musiqili Teatrı 108-ci mövs...  \n",
       "5399   Beynəlxalq Muğam Mərkəzi yeni mövsümdə də \"Et...  \n",
       "\n",
       "[5400 rows x 3 columns]"
      ]
     },
     "execution_count": 5,
     "metadata": {},
     "output_type": "execute_result"
    }
   ],
   "source": [
    "#Displaying data\n",
    "data"
   ]
  },
  {
   "cell_type": "code",
   "execution_count": null,
   "metadata": {
    "colab": {
     "base_uri": "https://localhost:8080/",
     "height": 269
    },
    "id": "yl5ugolEOL5K",
    "outputId": "8c3bbc60-e7f7-4265-cd5d-d4d348faa8df"
   },
   "outputs": [
    {
     "data": {
      "text/html": [
       "\n",
       "  <div id=\"df-9f8b061a-25f1-4220-9517-ea8d3d269bab\">\n",
       "    <div class=\"colab-df-container\">\n",
       "      <div>\n",
       "<style scoped>\n",
       "    .dataframe tbody tr th:only-of-type {\n",
       "        vertical-align: middle;\n",
       "    }\n",
       "\n",
       "    .dataframe tbody tr th {\n",
       "        vertical-align: top;\n",
       "    }\n",
       "\n",
       "    .dataframe thead th {\n",
       "        text-align: right;\n",
       "    }\n",
       "</style>\n",
       "<table border=\"1\" class=\"dataframe\">\n",
       "  <thead>\n",
       "    <tr style=\"text-align: right;\">\n",
       "      <th></th>\n",
       "      <th>Title</th>\n",
       "      <th>News_Article</th>\n",
       "    </tr>\n",
       "    <tr>\n",
       "      <th>Category</th>\n",
       "      <th></th>\n",
       "      <th></th>\n",
       "    </tr>\n",
       "  </thead>\n",
       "  <tbody>\n",
       "    <tr>\n",
       "      <th>Dünya</th>\n",
       "      <td>1523</td>\n",
       "      <td>1523</td>\n",
       "    </tr>\n",
       "    <tr>\n",
       "      <th>Maraqlı</th>\n",
       "      <td>1440</td>\n",
       "      <td>1440</td>\n",
       "    </tr>\n",
       "    <tr>\n",
       "      <th>Mədəniyyət</th>\n",
       "      <td>519</td>\n",
       "      <td>519</td>\n",
       "    </tr>\n",
       "    <tr>\n",
       "      <th>Siyasət</th>\n",
       "      <td>553</td>\n",
       "      <td>553</td>\n",
       "    </tr>\n",
       "    <tr>\n",
       "      <th>İdman</th>\n",
       "      <td>775</td>\n",
       "      <td>775</td>\n",
       "    </tr>\n",
       "    <tr>\n",
       "      <th>İqtisadiyyat</th>\n",
       "      <td>590</td>\n",
       "      <td>590</td>\n",
       "    </tr>\n",
       "  </tbody>\n",
       "</table>\n",
       "</div>\n",
       "      <button class=\"colab-df-convert\" onclick=\"convertToInteractive('df-9f8b061a-25f1-4220-9517-ea8d3d269bab')\"\n",
       "              title=\"Convert this dataframe to an interactive table.\"\n",
       "              style=\"display:none;\">\n",
       "        \n",
       "  <svg xmlns=\"http://www.w3.org/2000/svg\" height=\"24px\"viewBox=\"0 0 24 24\"\n",
       "       width=\"24px\">\n",
       "    <path d=\"M0 0h24v24H0V0z\" fill=\"none\"/>\n",
       "    <path d=\"M18.56 5.44l.94 2.06.94-2.06 2.06-.94-2.06-.94-.94-2.06-.94 2.06-2.06.94zm-11 1L8.5 8.5l.94-2.06 2.06-.94-2.06-.94L8.5 2.5l-.94 2.06-2.06.94zm10 10l.94 2.06.94-2.06 2.06-.94-2.06-.94-.94-2.06-.94 2.06-2.06.94z\"/><path d=\"M17.41 7.96l-1.37-1.37c-.4-.4-.92-.59-1.43-.59-.52 0-1.04.2-1.43.59L10.3 9.45l-7.72 7.72c-.78.78-.78 2.05 0 2.83L4 21.41c.39.39.9.59 1.41.59.51 0 1.02-.2 1.41-.59l7.78-7.78 2.81-2.81c.8-.78.8-2.07 0-2.86zM5.41 20L4 18.59l7.72-7.72 1.47 1.35L5.41 20z\"/>\n",
       "  </svg>\n",
       "      </button>\n",
       "      \n",
       "  <style>\n",
       "    .colab-df-container {\n",
       "      display:flex;\n",
       "      flex-wrap:wrap;\n",
       "      gap: 12px;\n",
       "    }\n",
       "\n",
       "    .colab-df-convert {\n",
       "      background-color: #E8F0FE;\n",
       "      border: none;\n",
       "      border-radius: 50%;\n",
       "      cursor: pointer;\n",
       "      display: none;\n",
       "      fill: #1967D2;\n",
       "      height: 32px;\n",
       "      padding: 0 0 0 0;\n",
       "      width: 32px;\n",
       "    }\n",
       "\n",
       "    .colab-df-convert:hover {\n",
       "      background-color: #E2EBFA;\n",
       "      box-shadow: 0px 1px 2px rgba(60, 64, 67, 0.3), 0px 1px 3px 1px rgba(60, 64, 67, 0.15);\n",
       "      fill: #174EA6;\n",
       "    }\n",
       "\n",
       "    [theme=dark] .colab-df-convert {\n",
       "      background-color: #3B4455;\n",
       "      fill: #D2E3FC;\n",
       "    }\n",
       "\n",
       "    [theme=dark] .colab-df-convert:hover {\n",
       "      background-color: #434B5C;\n",
       "      box-shadow: 0px 1px 3px 1px rgba(0, 0, 0, 0.15);\n",
       "      filter: drop-shadow(0px 1px 2px rgba(0, 0, 0, 0.3));\n",
       "      fill: #FFFFFF;\n",
       "    }\n",
       "  </style>\n",
       "\n",
       "      <script>\n",
       "        const buttonEl =\n",
       "          document.querySelector('#df-9f8b061a-25f1-4220-9517-ea8d3d269bab button.colab-df-convert');\n",
       "        buttonEl.style.display =\n",
       "          google.colab.kernel.accessAllowed ? 'block' : 'none';\n",
       "\n",
       "        async function convertToInteractive(key) {\n",
       "          const element = document.querySelector('#df-9f8b061a-25f1-4220-9517-ea8d3d269bab');\n",
       "          const dataTable =\n",
       "            await google.colab.kernel.invokeFunction('convertToInteractive',\n",
       "                                                     [key], {});\n",
       "          if (!dataTable) return;\n",
       "\n",
       "          const docLinkHtml = 'Like what you see? Visit the ' +\n",
       "            '<a target=\"_blank\" href=https://colab.research.google.com/notebooks/data_table.ipynb>data table notebook</a>'\n",
       "            + ' to learn more about interactive tables.';\n",
       "          element.innerHTML = '';\n",
       "          dataTable['output_type'] = 'display_data';\n",
       "          await google.colab.output.renderOutput(dataTable, element);\n",
       "          const docLink = document.createElement('div');\n",
       "          docLink.innerHTML = docLinkHtml;\n",
       "          element.appendChild(docLink);\n",
       "        }\n",
       "      </script>\n",
       "    </div>\n",
       "  </div>\n",
       "  "
      ],
      "text/plain": [
       "              Title  News_Article\n",
       "Category                         \n",
       "Dünya          1523          1523\n",
       "Maraqlı        1440          1440\n",
       "Mədəniyyət      519           519\n",
       "Siyasət         553           553\n",
       "İdman           775           775\n",
       "İqtisadiyyat    590           590"
      ]
     },
     "execution_count": 6,
     "metadata": {},
     "output_type": "execute_result"
    }
   ],
   "source": [
    "#Using groupby function, observing number of each labels\n",
    "data.groupby(\"Category\").count()"
   ]
  },
  {
   "cell_type": "code",
   "execution_count": null,
   "metadata": {
    "id": "PLT59cWNOo84"
   },
   "outputs": [],
   "source": [
    "#Here, we separate each columns to their corresponding variables.\n",
    "#It will help us join titles and articles.\n",
    "titles = data['Title']\n",
    "articles = data['News_Article']\n",
    "categories = data['Category']"
   ]
  },
  {
   "cell_type": "code",
   "execution_count": null,
   "metadata": {
    "id": "5NvTIg1fOo4F"
   },
   "outputs": [],
   "source": [
    "#Here, we generate vocabulary of our dataset.\n",
    "\n",
    "#Initialzing vocabulary which is empty string for now\n",
    "vocabulary = ''\n",
    "#Declaring the separator that will separate titles' last and articles' first words\n",
    "separator = ' '\n",
    "#Generating vocabulary by joining titles and separator\n",
    "vocabulary = separator.join(titles) + separator.join(articles)"
   ]
  },
  {
   "cell_type": "code",
   "execution_count": null,
   "metadata": {
    "id": "2PfjkmapOo1m"
   },
   "outputs": [],
   "source": [
    "#In this cell, we create raw_data that consists of string values which are joining of titles and their corresponding articles.\n",
    "\n",
    "#Initialing empty list for storing the data\n",
    "raw_data = []\n",
    "#Iterating over the length of data\n",
    "for i in range(len(data)):\n",
    "    #Appending titles and articles to raw_data by joining them by empty space\n",
    "    raw_data.append(titles[i] + ' ' + articles[i])"
   ]
  },
  {
   "cell_type": "code",
   "execution_count": null,
   "metadata": {
    "id": "D6ae1hGWOozb"
   },
   "outputs": [],
   "source": [
    "#Initializing the vectorizer\n",
    "vectorizer = CountVectorizer()\n",
    "#Fitting vocabulary into vectorizer\n",
    "vectorizer.fit([vocabulary])\n",
    "#Vectorizing our raw_data by transforming it using the vectorizer and naming as X\n",
    "X = vectorizer.transform(raw_data)"
   ]
  },
  {
   "cell_type": "code",
   "execution_count": null,
   "metadata": {
    "colab": {
     "base_uri": "https://localhost:8080/"
    },
    "id": "YFMcpCDLOoxA",
    "outputId": "4f799b22-429f-4bf5-acbc-b73aa6a9e867"
   },
   "outputs": [
    {
     "data": {
      "text/plain": [
       "70622"
      ]
     },
     "execution_count": 11,
     "metadata": {},
     "output_type": "execute_result"
    }
   ],
   "source": [
    "#Printing the number of features\n",
    "len(vectorizer.get_feature_names_out())"
   ]
  },
  {
   "cell_type": "code",
   "execution_count": null,
   "metadata": {
    "id": "LBnhowxAOLr3"
   },
   "outputs": [],
   "source": [
    "#Separating the data into train and test sets. We give 20% of the dataset to test set\n",
    "X_train, X_test, y_train, y_test = train_test_split(X, categories, test_size = 0.2, random_state = 123)"
   ]
  },
  {
   "cell_type": "code",
   "execution_count": null,
   "metadata": {
    "colab": {
     "base_uri": "https://localhost:8080/"
    },
    "id": "BGBdbGfBmHWu",
    "outputId": "dc4bd604-4b60-4842-d984-00bac2688866"
   },
   "outputs": [
    {
     "data": {
      "text/plain": [
       "SVC()"
      ]
     },
     "execution_count": 34,
     "metadata": {},
     "output_type": "execute_result"
    }
   ],
   "source": [
    "#Initializing SVC\n",
    "classifierSVC = SVC()\n",
    "#Fitting train data into the classifier\n",
    "classifierSVC.fit(X_train, y_train)"
   ]
  },
  {
   "cell_type": "code",
   "execution_count": null,
   "metadata": {
    "colab": {
     "base_uri": "https://localhost:8080/"
    },
    "id": "qlIICd6VINa4",
    "outputId": "fa845d99-ddda-43e7-dab2-2d80199abed4"
   },
   "outputs": [
    {
     "data": {
      "text/plain": [
       "0.9180555555555555"
      ]
     },
     "execution_count": 35,
     "metadata": {},
     "output_type": "execute_result"
    }
   ],
   "source": [
    "#Predicting train data\n",
    "pred_train = classifierSVC.predict(X_train)\n",
    "#Printing accuracy score for train set\n",
    "accuracy_score(pred_train, y_train)"
   ]
  },
  {
   "cell_type": "code",
   "execution_count": null,
   "metadata": {
    "colab": {
     "base_uri": "https://localhost:8080/"
    },
    "id": "XV-GQQpfINXG",
    "outputId": "39264654-2f6b-4ba4-ed4d-7ed56872552b"
   },
   "outputs": [
    {
     "data": {
      "text/plain": [
       "0.8342592592592593"
      ]
     },
     "execution_count": 36,
     "metadata": {},
     "output_type": "execute_result"
    }
   ],
   "source": [
    "#Predicting test data\n",
    "pred_test = classifierSVC.predict(X_test)\n",
    "#Printing accuracy score for train set\n",
    "accuracy_score(pred_test, y_test)"
   ]
  },
  {
   "cell_type": "markdown",
   "metadata": {
    "id": "s21MYVDQHUMZ"
   },
   "source": [
    "The model performs well but we still see some minor overfitting here. Below, we will try to do hyperparameter tuning to find best parameters and to avoid overfitting."
   ]
  },
  {
   "cell_type": "markdown",
   "metadata": {
    "id": "c69rPWXXNr_1"
   },
   "source": [
    "### Hyperparameter Tuning"
   ]
  },
  {
   "cell_type": "code",
   "execution_count": null,
   "metadata": {
    "id": "rk8ZLJt8EBHu"
   },
   "outputs": [],
   "source": [
    "#Setting parameters which will be tuned\n",
    "parameters = {'C': [0.1, 1, 2, 5, 10, 100],\n",
    "              'kernel': ['rbf']}\n",
    "#Setting model\n",
    "classifierSVC = SVC()"
   ]
  },
  {
   "cell_type": "code",
   "execution_count": null,
   "metadata": {
    "colab": {
     "base_uri": "https://localhost:8080/"
    },
    "id": "3AdSYa1ePXz8",
    "outputId": "ee52f72a-a860-4a2c-a88f-497824c8333a"
   },
   "outputs": [
    {
     "data": {
      "text/plain": [
       "GridSearchCV(estimator=SVC(),\n",
       "             param_grid={'C': [0.1, 1, 2, 5, 10, 100], 'kernel': ['rbf']})"
      ]
     },
     "execution_count": 38,
     "metadata": {},
     "output_type": "execute_result"
    }
   ],
   "source": [
    "#initializing optimizer\n",
    "optimizerSVC = GridSearchCV(classifierSVC, parameters)\n",
    "#Fitting train data into the optimizer\n",
    "optimizerSVC.fit(X_train, y_train)"
   ]
  },
  {
   "cell_type": "code",
   "execution_count": null,
   "metadata": {
    "colab": {
     "base_uri": "https://localhost:8080/"
    },
    "id": "bETIpCsjPXvn",
    "outputId": "fa214f88-ffa9-452c-b88f-2a845e0aca69"
   },
   "outputs": [
    {
     "data": {
      "text/plain": [
       "{'C': 5, 'kernel': 'rbf'}"
      ]
     },
     "execution_count": 39,
     "metadata": {},
     "output_type": "execute_result"
    }
   ],
   "source": [
    "optimizerSVC.best_params_"
   ]
  },
  {
   "cell_type": "code",
   "execution_count": null,
   "metadata": {
    "colab": {
     "base_uri": "https://localhost:8080/"
    },
    "id": "4zjOdeIoPXsg",
    "outputId": "fc1bfd6a-03bf-44cc-b1d9-22806aae5691"
   },
   "outputs": [
    {
     "data": {
      "text/plain": [
       "0.9791666666666666"
      ]
     },
     "execution_count": 40,
     "metadata": {},
     "output_type": "execute_result"
    }
   ],
   "source": [
    "#Predicting train data\n",
    "pred_train = optimizerSVC.predict(X_train)\n",
    "#Printing accuracy score for train set\n",
    "accuracy_score(pred_train, y_train)"
   ]
  },
  {
   "cell_type": "markdown",
   "metadata": {
    "id": "m6emZk-XQnPC"
   },
   "source": [
    "### Testing with Test Set"
   ]
  },
  {
   "cell_type": "code",
   "execution_count": null,
   "metadata": {
    "colab": {
     "base_uri": "https://localhost:8080/"
    },
    "id": "W9-mzTIzPXpp",
    "outputId": "3f273b4b-0c76-408e-c1c8-b883f669455b"
   },
   "outputs": [
    {
     "data": {
      "text/plain": [
       "0.8472222222222222"
      ]
     },
     "execution_count": 41,
     "metadata": {},
     "output_type": "execute_result"
    }
   ],
   "source": [
    "#Predicting test data\n",
    "pred_test = optimizerSVC.predict(X_test)\n",
    "#Printing accuracy score for train set\n",
    "accuracy_score(pred_test, y_test)"
   ]
  },
  {
   "cell_type": "markdown",
   "metadata": {
    "id": "5mFv8Y4PRFHx"
   },
   "source": [
    "### Accuracy of Minimum 80%"
   ]
  },
  {
   "cell_type": "code",
   "execution_count": null,
   "metadata": {
    "colab": {
     "base_uri": "https://localhost:8080/"
    },
    "id": "p4A5hAfNPXml",
    "outputId": "217e2224-e3b7-4a5a-df4d-1d360d2154c8"
   },
   "outputs": [
    {
     "data": {
      "text/plain": [
       "0.9527777777777777"
      ]
     },
     "execution_count": 42,
     "metadata": {},
     "output_type": "execute_result"
    }
   ],
   "source": [
    "predictions = optimizerSVC.predict(X)\n",
    "#Printing accuracy score for train set\n",
    "accuracy_score(predictions, categories)"
   ]
  },
  {
   "cell_type": "markdown",
   "metadata": {
    "id": "07pOYIPJRQAM"
   },
   "source": [
    "### Evaluating Precision, Recall and F1 Scores using Classification Report"
   ]
  },
  {
   "cell_type": "code",
   "execution_count": null,
   "metadata": {
    "colab": {
     "base_uri": "https://localhost:8080/"
    },
    "id": "TyR3ywIhPXjm",
    "outputId": "6e8d7d7c-ba70-4169-83c9-713a53aefbf3"
   },
   "outputs": [
    {
     "name": "stdout",
     "output_type": "stream",
     "text": [
      "              precision    recall  f1-score   support\n",
      "\n",
      "       Dünya       0.95      0.94      0.94      1530\n",
      "     Maraqlı       0.95      0.94      0.95      1457\n",
      "  Mədəniyyət       0.94      0.97      0.95       503\n",
      "     Siyasət       0.95      0.93      0.94       564\n",
      "       İdman       0.98      0.99      0.98       768\n",
      "İqtisadiyyat       0.95      0.97      0.96       578\n",
      "\n",
      "    accuracy                           0.95      5400\n",
      "   macro avg       0.95      0.96      0.95      5400\n",
      "weighted avg       0.95      0.95      0.95      5400\n",
      "\n"
     ]
    }
   ],
   "source": [
    "print(classification_report(predictions, categories))"
   ]
  },
  {
   "cell_type": "markdown",
   "metadata": {
    "id": "P018HogyReJg"
   },
   "source": [
    "### Constructing Confusion Matrix"
   ]
  },
  {
   "cell_type": "code",
   "execution_count": null,
   "metadata": {
    "colab": {
     "base_uri": "https://localhost:8080/"
    },
    "id": "Wes0is4jPXgv",
    "outputId": "f0eef04b-338e-4f2f-f501-296886012232"
   },
   "outputs": [
    {
     "name": "stdout",
     "output_type": "stream",
     "text": [
      "[[1442   47    2   14    5   20]\n",
      " [  55 1371   24    1    5    1]\n",
      " [   2    9  488    3    1    0]\n",
      " [  12    9    5  525    6    7]\n",
      " [   9    1    0    1  757    0]\n",
      " [   3    3    0    9    1  562]]\n"
     ]
    }
   ],
   "source": [
    "print(confusion_matrix(predictions, categories))"
   ]
  },
  {
   "cell_type": "code",
   "execution_count": null,
   "metadata": {
    "colab": {
     "base_uri": "https://localhost:8080/",
     "height": 269
    },
    "id": "eXbIo32MPXd6",
    "outputId": "c95e18c8-9fe6-4824-f9dc-dd2f53fcc83e"
   },
   "outputs": [
    {
     "data": {
      "image/png": "[encoded data removed]",
      "text/plain": [
       "<Figure size 432x288 with 2 Axes>"
      ]
     },
     "metadata": {
      "needs_background": "light"
     },
     "output_type": "display_data"
    }
   ],
   "source": [
    "#Plotting Confusion Matrix for better understanding using seaborn heatmat plot\n",
    "sns.heatmap(confusion_matrix(predictions, categories), annot = True,  vmin = -1, vmax = 1, center = 0, cmap = \"RdBu_r\")\n",
    "plt.show()"
   ]
  },
  {
   "cell_type": "code",
   "execution_count": null,
   "metadata": {
    "colab": {
     "base_uri": "https://localhost:8080/"
    },
    "id": "LrMU7s08fnR6",
    "outputId": "9d5d7505-0e9c-45a0-da72-db7af7773f68"
   },
   "outputs": [
    {
     "data": {
      "text/plain": [
       "SVC(C=5)"
      ]
     },
     "execution_count": 13,
     "metadata": {},
     "output_type": "execute_result"
    }
   ],
   "source": [
    "#Building final model for saving\n",
    "\n",
    "#Initializing SVC\n",
    "classifierSVC = SVC(C = 5, kernel = \"rbf\")\n",
    "#Fitting train data into the classifier\n",
    "classifierSVC.fit(X_train, y_train)"
   ]
  },
  {
   "cell_type": "code",
   "execution_count": null,
   "metadata": {
    "id": "g67X8FFXfvhq"
   },
   "outputs": [],
   "source": [
    "#Saving the model for Extra Task 2\n",
    "\n",
    "#Opening a file\n",
    "file = open('SVCBoW.txt', 'wb')\n",
    "#Dumping the model to the created binary file\n",
    "pickle.dump(classifierSVC, file)\n",
    "#Closing the file\n",
    "file.close()"
   ]
  },
  {
   "cell_type": "markdown",
   "metadata": {
    "id": "Dzb5W6RMRwHa"
   },
   "source": [
    "So, we finished all 3 models using BoW methods. Now, we can switch to TF-IDF method to do these models, again."
   ]
  },
  {
   "cell_type": "code",
   "execution_count": null,
   "metadata": {
    "id": "-RgPt_Ovfc8u"
   },
   "outputs": [],
   "source": [
    "#Initializing SVC\n",
    "classifierSVC = SVC()\n",
    "#Fitting train data into the classifier\n",
    "classifierSVC.fit(X_train, y_train)"
   ]
  },
  {
   "cell_type": "markdown",
   "metadata": {
    "id": "YjkgicpBR7me"
   },
   "source": [
    "# TF-IDF (Term Frequency-Inverse Document Frequency)"
   ]
  },
  {
   "cell_type": "code",
   "execution_count": null,
   "metadata": {
    "id": "ippTMcTXYqcj"
   },
   "outputs": [],
   "source": [
    "#Reading Dataset using Pandas read_excel function\n",
    "data = pd.read_excel(\"news.xlsx\")"
   ]
  },
  {
   "cell_type": "code",
   "execution_count": null,
   "metadata": {
    "id": "4AKtQSzWcmZF"
   },
   "outputs": [],
   "source": [
    "#Getting first 5000 rows of the data\n",
    "data = pd.concat([data.iloc[:5000, :], data[data[\"Category\"] == \"Mədəniyyət\"].iloc[:400, :]])"
   ]
  },
  {
   "cell_type": "code",
   "execution_count": null,
   "metadata": {
    "id": "8d69-71Phfg8"
   },
   "outputs": [],
   "source": [
    "#Reading Dataset using Pandas read_excel function\n",
    "data = pd.read_excel(\"news.xlsx\")\n",
    "\n",
    "#Getting first 5000 rows of the data\n",
    "data = pd.concat([data.iloc[:5000, :], data[data[\"Category\"] == \"Mədəniyyət\"].iloc[:400, :]])\n",
    "\n",
    "#Preparing data for TF-IDF vectorizer\n",
    "\n",
    "#Joining title and news_article columns\n",
    "data['Corpus'] = data[['Title', 'News_Article']].agg(''.join, axis = 1)\n",
    "#Removing some unnecessary characters\n",
    "data['Corpus'] = data['Corpus'].str.replace('[^\\w\\s]', '')\n",
    "#Making all characters lowercase\n",
    "data['Corpus'] = data['Corpus'].str.lower()"
   ]
  },
  {
   "cell_type": "code",
   "execution_count": null,
   "metadata": {
    "colab": {
     "base_uri": "https://localhost:8080/",
     "height": 641
    },
    "id": "dAgzd3R2Y-pm",
    "outputId": "73b65408-28ab-4f51-cc04-100d536cb4f0"
   },
   "outputs": [
    {
     "data": {
      "text/html": [
       "\n",
       "  <div id=\"df-56c0f75e-5e64-4ce3-a1f4-66219687b0e0\">\n",
       "    <div class=\"colab-df-container\">\n",
       "      <div>\n",
       "<style scoped>\n",
       "    .dataframe tbody tr th:only-of-type {\n",
       "        vertical-align: middle;\n",
       "    }\n",
       "\n",
       "    .dataframe tbody tr th {\n",
       "        vertical-align: top;\n",
       "    }\n",
       "\n",
       "    .dataframe thead th {\n",
       "        text-align: right;\n",
       "    }\n",
       "</style>\n",
       "<table border=\"1\" class=\"dataframe\">\n",
       "  <thead>\n",
       "    <tr style=\"text-align: right;\">\n",
       "      <th></th>\n",
       "      <th>Category</th>\n",
       "      <th>Title</th>\n",
       "      <th>News_Article</th>\n",
       "      <th>Corpus</th>\n",
       "    </tr>\n",
       "  </thead>\n",
       "  <tbody>\n",
       "    <tr>\n",
       "      <th>0</th>\n",
       "      <td>Maraqlı</td>\n",
       "      <td>Naviforce Sport Saat 2016 ilə zövqlərin ahəngi</td>\n",
       "      <td>Naviforce Sport Saat 2016 Yapon Mexanizmi Yapo...</td>\n",
       "      <td>naviforce sport saat 2016 ilə zövqlərin ahəngi...</td>\n",
       "    </tr>\n",
       "    <tr>\n",
       "      <th>1</th>\n",
       "      <td>Maraqlı</td>\n",
       "      <td>Sinir ,oynaq , sinir bel ağrılarına 3 gündə son !</td>\n",
       "      <td>ŞOK ! ŞOK ! ŞOK ! Xanımlar və bəylər , bel və ...</td>\n",
       "      <td>sinir oynaq  sinir bel ağrılarına 3 gündə son ...</td>\n",
       "    </tr>\n",
       "    <tr>\n",
       "      <th>2</th>\n",
       "      <td>Maraqlı</td>\n",
       "      <td>Dəyərindən qat-qat aşağı qiymətə Mənzil</td>\n",
       "      <td>Dəyərindən qat-qat Aşağı Qiymətə. Həzi Aslanov...</td>\n",
       "      <td>dəyərindən qatqat aşağı qiymətə mənzildəyərind...</td>\n",
       "    </tr>\n",
       "    <tr>\n",
       "      <th>3</th>\n",
       "      <td>İdman</td>\n",
       "      <td>2024 və 2028-ci il olimpiadalarının keçiriləcə...</td>\n",
       "      <td>2028-ci il Yay Olimpiya və Paralimpiya Oyunla...</td>\n",
       "      <td>2024 və 2028ci il olimpiadalarının keçiriləcəy...</td>\n",
       "    </tr>\n",
       "    <tr>\n",
       "      <th>4</th>\n",
       "      <td>Dünya</td>\n",
       "      <td>Türkiyədə zəlzələ</td>\n",
       "      <td>Türkiyədə daha bir zəlzələ meydana gəlib.   L...</td>\n",
       "      <td>türkiyədə zəlzələ  türkiyədə daha bir zəlzələ ...</td>\n",
       "    </tr>\n",
       "    <tr>\n",
       "      <th>...</th>\n",
       "      <td>...</td>\n",
       "      <td>...</td>\n",
       "      <td>...</td>\n",
       "      <td>...</td>\n",
       "    </tr>\n",
       "    <tr>\n",
       "      <th>16558</th>\n",
       "      <td>Mədəniyyət</td>\n",
       "      <td>108 – ci mövsümdə bir neçə premyera gözlənilir</td>\n",
       "      <td>Musiqili Teatrı 108-ci mövsümün ilk dörd ayı...</td>\n",
       "      <td>108  ci mövsümdə bir neçə premyera gözlənilir ...</td>\n",
       "    </tr>\n",
       "    <tr>\n",
       "      <th>16587</th>\n",
       "      <td>Mədəniyyət</td>\n",
       "      <td>İndoneziyada Azərbaycan mədəniyyət günləri keç...</td>\n",
       "      <td>İndoneziyanın Azərbaycandakı səfiri Hüsnan B...</td>\n",
       "      <td>i̇ndoneziyada azərbaycan mədəniyyət günləri ke...</td>\n",
       "    </tr>\n",
       "    <tr>\n",
       "      <th>16624</th>\n",
       "      <td>Mədəniyyət</td>\n",
       "      <td>Tarix Muzeyində arxeoloji xəzinə</td>\n",
       "      <td>AMEA Milli Azərbaycan Tarixi Muzeyi arxeoloj...</td>\n",
       "      <td>tarix muzeyində arxeoloji xəzinə  amea milli a...</td>\n",
       "    </tr>\n",
       "    <tr>\n",
       "      <th>16657</th>\n",
       "      <td>Mədəniyyət</td>\n",
       "      <td>Musiqili Teatr yeni mövsümün ilk 4 ayı üçün re...</td>\n",
       "      <td>Azərbaycan Dövlət Musiqili Teatrı 108-ci mövs...</td>\n",
       "      <td>musiqili teatr yeni mövsümün ilk 4 ayı üçün re...</td>\n",
       "    </tr>\n",
       "    <tr>\n",
       "      <th>16660</th>\n",
       "      <td>Mədəniyyət</td>\n",
       "      <td>Beynəlxalq Muğam Mərkəzində \"Etnik Musiqi İnci...</td>\n",
       "      <td>Beynəlxalq Muğam Mərkəzi yeni mövsümdə də \"Et...</td>\n",
       "      <td>beynəlxalq muğam mərkəzində etnik musiqi i̇nci...</td>\n",
       "    </tr>\n",
       "  </tbody>\n",
       "</table>\n",
       "<p>5400 rows × 4 columns</p>\n",
       "</div>\n",
       "      <button class=\"colab-df-convert\" onclick=\"convertToInteractive('df-56c0f75e-5e64-4ce3-a1f4-66219687b0e0')\"\n",
       "              title=\"Convert this dataframe to an interactive table.\"\n",
       "              style=\"display:none;\">\n",
       "        \n",
       "  <svg xmlns=\"http://www.w3.org/2000/svg\" height=\"24px\"viewBox=\"0 0 24 24\"\n",
       "       width=\"24px\">\n",
       "    <path d=\"M0 0h24v24H0V0z\" fill=\"none\"/>\n",
       "    <path d=\"M18.56 5.44l.94 2.06.94-2.06 2.06-.94-2.06-.94-.94-2.06-.94 2.06-2.06.94zm-11 1L8.5 8.5l.94-2.06 2.06-.94-2.06-.94L8.5 2.5l-.94 2.06-2.06.94zm10 10l.94 2.06.94-2.06 2.06-.94-2.06-.94-.94-2.06-.94 2.06-2.06.94z\"/><path d=\"M17.41 7.96l-1.37-1.37c-.4-.4-.92-.59-1.43-.59-.52 0-1.04.2-1.43.59L10.3 9.45l-7.72 7.72c-.78.78-.78 2.05 0 2.83L4 21.41c.39.39.9.59 1.41.59.51 0 1.02-.2 1.41-.59l7.78-7.78 2.81-2.81c.8-.78.8-2.07 0-2.86zM5.41 20L4 18.59l7.72-7.72 1.47 1.35L5.41 20z\"/>\n",
       "  </svg>\n",
       "      </button>\n",
       "      \n",
       "  <style>\n",
       "    .colab-df-container {\n",
       "      display:flex;\n",
       "      flex-wrap:wrap;\n",
       "      gap: 12px;\n",
       "    }\n",
       "\n",
       "    .colab-df-convert {\n",
       "      background-color: #E8F0FE;\n",
       "      border: none;\n",
       "      border-radius: 50%;\n",
       "      cursor: pointer;\n",
       "      display: none;\n",
       "      fill: #1967D2;\n",
       "      height: 32px;\n",
       "      padding: 0 0 0 0;\n",
       "      width: 32px;\n",
       "    }\n",
       "\n",
       "    .colab-df-convert:hover {\n",
       "      background-color: #E2EBFA;\n",
       "      box-shadow: 0px 1px 2px rgba(60, 64, 67, 0.3), 0px 1px 3px 1px rgba(60, 64, 67, 0.15);\n",
       "      fill: #174EA6;\n",
       "    }\n",
       "\n",
       "    [theme=dark] .colab-df-convert {\n",
       "      background-color: #3B4455;\n",
       "      fill: #D2E3FC;\n",
       "    }\n",
       "\n",
       "    [theme=dark] .colab-df-convert:hover {\n",
       "      background-color: #434B5C;\n",
       "      box-shadow: 0px 1px 3px 1px rgba(0, 0, 0, 0.15);\n",
       "      filter: drop-shadow(0px 1px 2px rgba(0, 0, 0, 0.3));\n",
       "      fill: #FFFFFF;\n",
       "    }\n",
       "  </style>\n",
       "\n",
       "      <script>\n",
       "        const buttonEl =\n",
       "          document.querySelector('#df-56c0f75e-5e64-4ce3-a1f4-66219687b0e0 button.colab-df-convert');\n",
       "        buttonEl.style.display =\n",
       "          google.colab.kernel.accessAllowed ? 'block' : 'none';\n",
       "\n",
       "        async function convertToInteractive(key) {\n",
       "          const element = document.querySelector('#df-56c0f75e-5e64-4ce3-a1f4-66219687b0e0');\n",
       "          const dataTable =\n",
       "            await google.colab.kernel.invokeFunction('convertToInteractive',\n",
       "                                                     [key], {});\n",
       "          if (!dataTable) return;\n",
       "\n",
       "          const docLinkHtml = 'Like what you see? Visit the ' +\n",
       "            '<a target=\"_blank\" href=https://colab.research.google.com/notebooks/data_table.ipynb>data table notebook</a>'\n",
       "            + ' to learn more about interactive tables.';\n",
       "          element.innerHTML = '';\n",
       "          dataTable['output_type'] = 'display_data';\n",
       "          await google.colab.output.renderOutput(dataTable, element);\n",
       "          const docLink = document.createElement('div');\n",
       "          docLink.innerHTML = docLinkHtml;\n",
       "          element.appendChild(docLink);\n",
       "        }\n",
       "      </script>\n",
       "    </div>\n",
       "  </div>\n",
       "  "
      ],
      "text/plain": [
       "         Category                                              Title  \\\n",
       "0         Maraqlı     Naviforce Sport Saat 2016 ilə zövqlərin ahəngi   \n",
       "1         Maraqlı  Sinir ,oynaq , sinir bel ağrılarına 3 gündə son !   \n",
       "2         Maraqlı            Dəyərindən qat-qat aşağı qiymətə Mənzil   \n",
       "3           İdman  2024 və 2028-ci il olimpiadalarının keçiriləcə...   \n",
       "4           Dünya                                 Türkiyədə zəlzələ    \n",
       "...           ...                                                ...   \n",
       "16558  Mədəniyyət     108 – ci mövsümdə bir neçə premyera gözlənilir   \n",
       "16587  Mədəniyyət  İndoneziyada Azərbaycan mədəniyyət günləri keç...   \n",
       "16624  Mədəniyyət                   Tarix Muzeyində arxeoloji xəzinə   \n",
       "16657  Mədəniyyət  Musiqili Teatr yeni mövsümün ilk 4 ayı üçün re...   \n",
       "16660  Mədəniyyət  Beynəlxalq Muğam Mərkəzində \"Etnik Musiqi İnci...   \n",
       "\n",
       "                                            News_Article  \\\n",
       "0      Naviforce Sport Saat 2016 Yapon Mexanizmi Yapo...   \n",
       "1      ŞOK ! ŞOK ! ŞOK ! Xanımlar və bəylər , bel və ...   \n",
       "2      Dəyərindən qat-qat Aşağı Qiymətə. Həzi Aslanov...   \n",
       "3       2028-ci il Yay Olimpiya və Paralimpiya Oyunla...   \n",
       "4       Türkiyədə daha bir zəlzələ meydana gəlib.   L...   \n",
       "...                                                  ...   \n",
       "16558    Musiqili Teatrı 108-ci mövsümün ilk dörd ayı...   \n",
       "16587    İndoneziyanın Azərbaycandakı səfiri Hüsnan B...   \n",
       "16624    AMEA Milli Azərbaycan Tarixi Muzeyi arxeoloj...   \n",
       "16657   Azərbaycan Dövlət Musiqili Teatrı 108-ci mövs...   \n",
       "16660   Beynəlxalq Muğam Mərkəzi yeni mövsümdə də \"Et...   \n",
       "\n",
       "                                                  Corpus  \n",
       "0      naviforce sport saat 2016 ilə zövqlərin ahəngi...  \n",
       "1      sinir oynaq  sinir bel ağrılarına 3 gündə son ...  \n",
       "2      dəyərindən qatqat aşağı qiymətə mənzildəyərind...  \n",
       "3      2024 və 2028ci il olimpiadalarının keçiriləcəy...  \n",
       "4      türkiyədə zəlzələ  türkiyədə daha bir zəlzələ ...  \n",
       "...                                                  ...  \n",
       "16558  108  ci mövsümdə bir neçə premyera gözlənilir ...  \n",
       "16587  i̇ndoneziyada azərbaycan mədəniyyət günləri ke...  \n",
       "16624  tarix muzeyində arxeoloji xəzinə  amea milli a...  \n",
       "16657  musiqili teatr yeni mövsümün ilk 4 ayı üçün re...  \n",
       "16660  beynəlxalq muğam mərkəzində etnik musiqi i̇nci...  \n",
       "\n",
       "[5400 rows x 4 columns]"
      ]
     },
     "execution_count": 19,
     "metadata": {},
     "output_type": "execute_result"
    }
   ],
   "source": [
    "#Displaying the data\n",
    "data"
   ]
  },
  {
   "cell_type": "code",
   "execution_count": null,
   "metadata": {
    "id": "QYuwUbUlaJmO"
   },
   "outputs": [],
   "source": [
    "#Separating Corpus and Category data\n",
    "X = data[\"Corpus\"]\n",
    "y = data[\"Category\"]"
   ]
  },
  {
   "cell_type": "code",
   "execution_count": null,
   "metadata": {
    "id": "TwueGqm3PXbA"
   },
   "outputs": [],
   "source": [
    "#Using TF-IDF Method, Vectorizing the input data (Corpus)\n",
    "\n",
    "#Initializing the vectorizer\n",
    "vectorizerTFIDF = TfidfVectorizer()\n",
    "\n",
    "#Fitting X into vectorizer and transforming the corpus\n",
    "X = vectorizerTFIDF.fit_transform(X)"
   ]
  },
  {
   "cell_type": "code",
   "execution_count": null,
   "metadata": {
    "colab": {
     "base_uri": "https://localhost:8080/"
    },
    "id": "ROu-2weqPXYA",
    "outputId": "db74b475-099f-4712-d056-a1c2971f1ce3"
   },
   "outputs": [
    {
     "data": {
      "text/plain": [
       "<5400x78111 sparse matrix of type '<class 'numpy.float64'>'\n",
       "\twith 620866 stored elements in Compressed Sparse Row format>"
      ]
     },
     "execution_count": 24,
     "metadata": {},
     "output_type": "execute_result"
    }
   ],
   "source": [
    "X"
   ]
  },
  {
   "cell_type": "code",
   "execution_count": null,
   "metadata": {
    "id": "Q3k-c7k2PXV2"
   },
   "outputs": [],
   "source": [
    "#Separating the data into train and test sets. We give 20% of the dataset to test set\n",
    "X_train, X_test, y_train, y_test = train_test_split(X, y, test_size = 0.2, random_state = 123)"
   ]
  },
  {
   "cell_type": "markdown",
   "metadata": {
    "id": "uS1eWKpk0-KR"
   },
   "source": [
    "## Decision Tree"
   ]
  },
  {
   "cell_type": "markdown",
   "metadata": {
    "id": "6yKeYQCs3CGz"
   },
   "source": [
    "### Hyperparameter Tuning"
   ]
  },
  {
   "cell_type": "code",
   "execution_count": null,
   "metadata": {
    "id": "2C6kSI2h0rOo"
   },
   "outputs": [],
   "source": [
    "#Setting parameters which will be tuned\n",
    "parameters = {\"max_depth\": [None, 10, 20, 40], \n",
    "              \"criterion\": [\"gini\", \"entropy\"]}\n",
    "#Setting model\n",
    "classifierDT = DecisionTreeClassifier()"
   ]
  },
  {
   "cell_type": "code",
   "execution_count": null,
   "metadata": {
    "colab": {
     "base_uri": "https://localhost:8080/"
    },
    "id": "uQUa-RI-0rMF",
    "outputId": "992f2c41-6816-4538-f10c-e82948240220"
   },
   "outputs": [
    {
     "data": {
      "text/plain": [
       "GridSearchCV(estimator=DecisionTreeClassifier(),\n",
       "             param_grid={'criterion': ['gini', 'entropy'],\n",
       "                         'max_depth': [None, 10, 20, 40]})"
      ]
     },
     "execution_count": 79,
     "metadata": {},
     "output_type": "execute_result"
    }
   ],
   "source": [
    "#Initializing GridSearchCV optimizer\n",
    "optimizerDT = GridSearchCV(classifierDT, parameters)\n",
    "#Fitting train data into optimizer\n",
    "optimizerDT.fit(X_train, y_train)"
   ]
  },
  {
   "cell_type": "code",
   "execution_count": null,
   "metadata": {
    "colab": {
     "base_uri": "https://localhost:8080/"
    },
    "id": "LU9FbVJk0rJr",
    "outputId": "688f763e-db9e-4dba-8f9b-641f81428125"
   },
   "outputs": [
    {
     "data": {
      "text/plain": [
       "0.9997685185185186"
      ]
     },
     "execution_count": 80,
     "metadata": {},
     "output_type": "execute_result"
    }
   ],
   "source": [
    "#Printing best train accuracy score coming from the optimizer\n",
    "accuracy_score(optimizerDT.predict(X_train), y_train)"
   ]
  },
  {
   "cell_type": "code",
   "execution_count": null,
   "metadata": {
    "colab": {
     "base_uri": "https://localhost:8080/"
    },
    "id": "90AcTEA50rHU",
    "outputId": "7c4269f7-5d73-40ff-8451-b24c769e482c"
   },
   "outputs": [
    {
     "data": {
      "text/plain": [
       "0.7333333333333333"
      ]
     },
     "execution_count": 81,
     "metadata": {},
     "output_type": "execute_result"
    }
   ],
   "source": [
    "#Printing best test accuracy score coming from the optimizer\n",
    "accuracy_score(optimizerDT.predict(X_test), y_test)"
   ]
  },
  {
   "cell_type": "code",
   "execution_count": null,
   "metadata": {
    "colab": {
     "base_uri": "https://localhost:8080/"
    },
    "id": "ZbzO1l1y0rE4",
    "outputId": "5032b5ba-2e71-4378-a988-369ba41c03b1"
   },
   "outputs": [
    {
     "data": {
      "text/plain": [
       "{'criterion': 'gini', 'max_depth': None}"
      ]
     },
     "execution_count": 82,
     "metadata": {},
     "output_type": "execute_result"
    }
   ],
   "source": [
    "#Printing best parameters coming from the optimizer\n",
    "optimizerDT.best_params_"
   ]
  },
  {
   "cell_type": "markdown",
   "metadata": {
    "id": "Um-li0vq3f8H"
   },
   "source": [
    "### Preventing Overfitting"
   ]
  },
  {
   "cell_type": "code",
   "execution_count": null,
   "metadata": {
    "colab": {
     "base_uri": "https://localhost:8080/"
    },
    "id": "RtceM29k0rC0",
    "outputId": "8e4ee19c-89e1-452f-a18d-f31e00cf0ddb"
   },
   "outputs": [
    {
     "data": {
      "text/plain": [
       "DecisionTreeClassifier(ccp_alpha=0.0013)"
      ]
     },
     "execution_count": 26,
     "metadata": {},
     "output_type": "execute_result"
    }
   ],
   "source": [
    "#Initializing the classifier with \"gini\" criterion, None max_depth and ccp_alpha 0.0013 which stands for cost complexity\n",
    "#pruning. It plays a role of regularization parameter and drop some of the branches in the tree to prevent overfitting.\n",
    "classifierDT = DecisionTreeClassifier(criterion = 'gini', max_depth = None, ccp_alpha = 0.0013)\n",
    "#Training the model\n",
    "classifierDT.fit(X_train, y_train)"
   ]
  },
  {
   "cell_type": "code",
   "execution_count": null,
   "metadata": {
    "colab": {
     "base_uri": "https://localhost:8080/"
    },
    "id": "fAk7W5ph0rAt",
    "outputId": "2fd3a96e-08b8-44de-e3e2-b4efc3ad228e"
   },
   "outputs": [
    {
     "data": {
      "text/plain": [
       "0.8233796296296296"
      ]
     },
     "execution_count": 32,
     "metadata": {},
     "output_type": "execute_result"
    }
   ],
   "source": [
    "#Printing accuracy score for train set\n",
    "accuracy_score(classifierDT.predict(X_train), y_train)"
   ]
  },
  {
   "cell_type": "code",
   "execution_count": null,
   "metadata": {
    "colab": {
     "base_uri": "https://localhost:8080/"
    },
    "id": "Tw1gyH1K0q8x",
    "outputId": "85921019-d902-4f31-eeac-03df7c31a71b"
   },
   "outputs": [
    {
     "data": {
      "text/plain": [
       "0.7157407407407408"
      ]
     },
     "execution_count": 33,
     "metadata": {},
     "output_type": "execute_result"
    }
   ],
   "source": [
    "#Printing accuracy score for test set\n",
    "accuracy_score(classifierDT.predict(X_test), y_test)"
   ]
  },
  {
   "cell_type": "markdown",
   "metadata": {
    "id": "a2DQXV_g3OeP"
   },
   "source": [
    "### Accuracy Rate of Minimum 80%"
   ]
  },
  {
   "cell_type": "code",
   "execution_count": null,
   "metadata": {
    "colab": {
     "base_uri": "https://localhost:8080/"
    },
    "id": "77R51V2J0q2N",
    "outputId": "7ce04a71-31cf-4da3-bf46-bcc13c4f89e4"
   },
   "outputs": [
    {
     "data": {
      "text/plain": [
       "0.8018518518518518"
      ]
     },
     "execution_count": 34,
     "metadata": {},
     "output_type": "execute_result"
    }
   ],
   "source": [
    "#Printing Accuracy score of the model\n",
    "accuracy_score(classifierDT.predict(X), y)"
   ]
  },
  {
   "cell_type": "markdown",
   "metadata": {
    "id": "n-isF8O63r_v"
   },
   "source": [
    "### Evaluating Precision, Recall and F1 Scores using Classification Report"
   ]
  },
  {
   "cell_type": "code",
   "execution_count": null,
   "metadata": {
    "colab": {
     "base_uri": "https://localhost:8080/"
    },
    "id": "P5D85At70qu-",
    "outputId": "4640901b-32bc-4b06-ae1b-5f74b2771161"
   },
   "outputs": [
    {
     "name": "stdout",
     "output_type": "stream",
     "text": [
      "              precision    recall  f1-score   support\n",
      "\n",
      "       Dünya       0.84      0.81      0.83      1592\n",
      "     Maraqlı       0.83      0.79      0.81      1526\n",
      "  Mədəniyyət       0.67      0.69      0.68       504\n",
      "     Siyasət       0.74      0.82      0.78       498\n",
      "       İdman       0.84      0.86      0.85       753\n",
      "İqtisadiyyat       0.73      0.82      0.78       527\n",
      "\n",
      "    accuracy                           0.80      5400\n",
      "   macro avg       0.78      0.80      0.79      5400\n",
      "weighted avg       0.80      0.80      0.80      5400\n",
      "\n"
     ]
    }
   ],
   "source": [
    "print(classification_report(classifierDT.predict(X), y))"
   ]
  },
  {
   "cell_type": "markdown",
   "metadata": {
    "id": "RPu6muhf3ucY"
   },
   "source": [
    "### Constructing Confusion Matrix"
   ]
  },
  {
   "cell_type": "code",
   "execution_count": null,
   "metadata": {
    "colab": {
     "base_uri": "https://localhost:8080/"
    },
    "id": "h4nuZDcb0ql7",
    "outputId": "73be5165-6bd1-4717-ebb7-4cec551613af"
   },
   "outputs": [
    {
     "name": "stdout",
     "output_type": "stream",
     "text": [
      "[[1285  133   27   44   37   66]\n",
      " [ 157 1201   88   24   31   25]\n",
      " [  12   48  350   37   23   34]\n",
      " [  32    6   10  410   16   24]\n",
      " [  21   40   24    9  651    8]\n",
      " [  16   12   20   29   17  433]]\n"
     ]
    }
   ],
   "source": [
    "print(confusion_matrix(classifierDT.predict(X), y))"
   ]
  },
  {
   "cell_type": "code",
   "execution_count": null,
   "metadata": {
    "colab": {
     "base_uri": "https://localhost:8080/",
     "height": 269
    },
    "id": "0fCIX9Cn0qej",
    "outputId": "6618cefe-ebcb-4e8c-b2f3-5bfe3cee2312"
   },
   "outputs": [
    {
     "data": {
      "image/png": "[encoded data removed]",
      "text/plain": [
       "<Figure size 432x288 with 2 Axes>"
      ]
     },
     "metadata": {
      "needs_background": "light"
     },
     "output_type": "display_data"
    }
   ],
   "source": [
    "#Plotting Confusion Matrix for better understanding using seaborn heatmat plot\n",
    "sns.heatmap(confusion_matrix(classifierDT.predict(X), y), annot = True,  vmin = -1, vmax = 1, center = 0, cmap = \"RdBu_r\")\n",
    "plt.show()"
   ]
  },
  {
   "cell_type": "code",
   "execution_count": null,
   "metadata": {
    "id": "vD1wtLNegeoh"
   },
   "outputs": [],
   "source": [
    "#Saving the model for Extra Task 2\n",
    "\n",
    "#Opening a file\n",
    "file = open('DTTFIDF.txt', 'wb')\n",
    "#Dumping the model to the created binary file\n",
    "pickle.dump(classifierDT, file)\n",
    "#Closing the file\n",
    "file.close()"
   ]
  },
  {
   "cell_type": "markdown",
   "metadata": {
    "id": "Y-1yrhDz3-Mk"
   },
   "source": [
    "## Naive Bayes"
   ]
  },
  {
   "cell_type": "code",
   "execution_count": null,
   "metadata": {
    "id": "z9Jvlths58iT"
   },
   "outputs": [],
   "source": [
    "#Reading Dataset using Pandas read_excel function\n",
    "data = pd.read_excel(\"news.xlsx\")"
   ]
  },
  {
   "cell_type": "code",
   "execution_count": null,
   "metadata": {
    "id": "-w-rjpZw58dp"
   },
   "outputs": [],
   "source": [
    "#Getting first 4000 rows of the data\n",
    "data = pd.concat([data.iloc[:4000, :], data[data[\"Category\"] == \"Mədəniyyət\"].iloc[:400, :]])"
   ]
  },
  {
   "cell_type": "code",
   "execution_count": null,
   "metadata": {
    "colab": {
     "base_uri": "https://localhost:8080/"
    },
    "id": "F6LGPOfZ58bd",
    "outputId": "01a2dbb2-af07-4842-9d0e-d3cd27bad0f2"
   },
   "outputs": [
    {
     "name": "stderr",
     "output_type": "stream",
     "text": [
      "/usr/local/lib/python3.7/dist-packages/ipykernel_launcher.py:6: FutureWarning: The default value of regex will change from True to False in a future version.\n",
      "  \n"
     ]
    }
   ],
   "source": [
    "#Preparing data for TF-IDF vectorizer\n",
    "\n",
    "#Joining title and news_article columns\n",
    "data['Corpus'] = data[['Title', 'News_Article']].agg(''.join, axis = 1)\n",
    "#Removing some unnecessary characters\n",
    "data['Corpus'] = data['Corpus'].str.replace('[^\\w\\s]', '')\n",
    "#Making all characters lowercase\n",
    "data['Corpus'] = data['Corpus'].str.lower()"
   ]
  },
  {
   "cell_type": "code",
   "execution_count": null,
   "metadata": {
    "id": "gRgIWokc58Yl"
   },
   "outputs": [],
   "source": [
    "X = data[\"Corpus\"]\n",
    "y = data[\"Category\"]"
   ]
  },
  {
   "cell_type": "code",
   "execution_count": null,
   "metadata": {
    "id": "Lj7MvXmKhKVv"
   },
   "outputs": [],
   "source": [
    "#Using TF-IDF Method, Vectorizing the input data (Corpus)\n",
    "\n",
    "#Initializing the vectorizer\n",
    "vectorizerTFIDF = TfidfVectorizer()\n",
    "\n",
    "#Fitting X into vectorizer and transforming the corpus\n",
    "X = vectorizerTFIDF.fit_transform(X)"
   ]
  },
  {
   "cell_type": "code",
   "execution_count": null,
   "metadata": {
    "id": "lV5Qd3Ie0qbu"
   },
   "outputs": [],
   "source": [
    "#Converting sparse matrix into numpy array\n",
    "X = X.toarray()"
   ]
  },
  {
   "cell_type": "code",
   "execution_count": null,
   "metadata": {
    "id": "wVA7l9EB0qYz"
   },
   "outputs": [],
   "source": [
    "#Separating the data into train and test sets. We give 20% of the dataset to test set\n",
    "X_train, X_test, y_train, y_test = train_test_split(X, y, test_size = 0.2, random_state = 123)"
   ]
  },
  {
   "cell_type": "code",
   "execution_count": null,
   "metadata": {
    "colab": {
     "base_uri": "https://localhost:8080/"
    },
    "id": "iYaxjY530qUz",
    "outputId": "5d533c81-b8d6-4223-b303-afad828278db"
   },
   "outputs": [
    {
     "data": {
      "text/plain": [
       "GaussianNB()"
      ]
     },
     "execution_count": 36,
     "metadata": {},
     "output_type": "execute_result"
    }
   ],
   "source": [
    "classifierNB = GaussianNB()\n",
    "classifierNB.fit(X_train, y_train)"
   ]
  },
  {
   "cell_type": "code",
   "execution_count": null,
   "metadata": {
    "colab": {
     "base_uri": "https://localhost:8080/"
    },
    "id": "npYF7iQj0qRb",
    "outputId": "aed7f288-c103-46f2-ceb3-bb761bd3e998"
   },
   "outputs": [
    {
     "data": {
      "text/plain": [
       "0.9678977272727273"
      ]
     },
     "execution_count": 12,
     "metadata": {},
     "output_type": "execute_result"
    }
   ],
   "source": [
    "pred_train = classifierNB.predict(X_train)\n",
    "#Printing accuracy score for train set\n",
    "accuracy_score(pred_train, y_train)"
   ]
  },
  {
   "cell_type": "markdown",
   "metadata": {
    "id": "u_axCW526caH"
   },
   "source": [
    "### Testing with Test Set"
   ]
  },
  {
   "cell_type": "code",
   "execution_count": null,
   "metadata": {
    "colab": {
     "base_uri": "https://localhost:8080/"
    },
    "id": "P0B3aiIJ0qOe",
    "outputId": "e0d312f9-1c4c-43ea-eb9c-ab198890fff1"
   },
   "outputs": [
    {
     "data": {
      "text/plain": [
       "0.7863636363636364"
      ]
     },
     "execution_count": 13,
     "metadata": {},
     "output_type": "execute_result"
    }
   ],
   "source": [
    "pred_test = classifierNB.predict(X_test)\n",
    "#Printing accuracy score for train set\n",
    "accuracy_score(pred_test, y_test)"
   ]
  },
  {
   "cell_type": "markdown",
   "metadata": {
    "id": "i9Nm207W6YMY"
   },
   "source": [
    "### Hyperparameter Tuning and Preventing Overfitting\n",
    "\n",
    "As we do not have hyperparameters in Naive Bayes, we cannot do tuning and prevent overfitting."
   ]
  },
  {
   "cell_type": "code",
   "execution_count": null,
   "metadata": {
    "id": "yCqQ2PThg9kS"
   },
   "outputs": [],
   "source": [
    "#Saving the model for Extra Task 2\n",
    "\n",
    "#Opening a file\n",
    "file = open('NBTFIDF.txt', 'wb')\n",
    "#Dumping the model to the created binary file\n",
    "pickle.dump(classifierNB, file)\n",
    "#Closing the file\n",
    "file.close()"
   ]
  },
  {
   "cell_type": "markdown",
   "metadata": {
    "id": "2rA8dMB26WTV"
   },
   "source": [
    "## SVC"
   ]
  },
  {
   "cell_type": "code",
   "execution_count": null,
   "metadata": {
    "colab": {
     "base_uri": "https://localhost:8080/"
    },
    "id": "gpLVTxGrh1sK",
    "outputId": "49cf8dda-3796-4225-c29a-8ce475bff357"
   },
   "outputs": [
    {
     "name": "stderr",
     "output_type": "stream",
     "text": [
      "/usr/local/lib/python3.7/dist-packages/ipykernel_launcher.py:12: FutureWarning: The default value of regex will change from True to False in a future version.\n",
      "  if sys.path[0] == '':\n"
     ]
    }
   ],
   "source": [
    "#Reading Dataset using Pandas read_excel function\n",
    "data = pd.read_excel(\"news.xlsx\")\n",
    "\n",
    "#Getting first 5000 rows of the data\n",
    "data = pd.concat([data.iloc[:5000, :], data[data[\"Category\"] == \"Mədəniyyət\"].iloc[:400, :]])\n",
    "\n",
    "#Preparing data for TF-IDF vectorizer\n",
    "\n",
    "#Joining title and news_article columns\n",
    "data['Corpus'] = data[['Title', 'News_Article']].agg(''.join, axis = 1)\n",
    "#Removing some unnecessary characters\n",
    "data['Corpus'] = data['Corpus'].str.replace('[^\\w\\s]', '')\n",
    "#Making all characters lowercase\n",
    "data['Corpus'] = data['Corpus'].str.lower()\n",
    "#Separating Corpus and Category data\n",
    "X = data[\"Corpus\"]\n",
    "y = data[\"Category\"]"
   ]
  },
  {
   "cell_type": "code",
   "execution_count": null,
   "metadata": {
    "id": "j4kPo8WLiFCO"
   },
   "outputs": [],
   "source": [
    "#Using TF-IDF Method, Vectorizing the input data (Corpus)\n",
    "\n",
    "#Initializing the vectorizer\n",
    "vectorizerTFIDF = TfidfVectorizer()\n",
    "\n",
    "#Fitting X into vectorizer and transforming the corpus\n",
    "X = vectorizerTFIDF.fit_transform(X)"
   ]
  },
  {
   "cell_type": "code",
   "execution_count": null,
   "metadata": {
    "id": "gQV5mKPTiE_B"
   },
   "outputs": [],
   "source": [
    "#Separating the data into train and test sets. We give 20% of the dataset to test set\n",
    "X_train, X_test, y_train, y_test = train_test_split(X, y, test_size = 0.2, random_state = 123)"
   ]
  },
  {
   "cell_type": "code",
   "execution_count": null,
   "metadata": {
    "colab": {
     "base_uri": "https://localhost:8080/"
    },
    "id": "1sG8WaDvF3Ws",
    "outputId": "edaa59b9-31b6-41f5-b5e4-9e69290f88eb"
   },
   "outputs": [
    {
     "data": {
      "text/plain": [
       "SVC()"
      ]
     },
     "execution_count": 70,
     "metadata": {},
     "output_type": "execute_result"
    }
   ],
   "source": [
    "#Initializing SVC\n",
    "classifierSVC = SVC()\n",
    "#Fitting train data into the classifier\n",
    "classifierSVC.fit(X_train, y_train)"
   ]
  },
  {
   "cell_type": "code",
   "execution_count": null,
   "metadata": {
    "colab": {
     "base_uri": "https://localhost:8080/"
    },
    "id": "ZFhYApWWc961",
    "outputId": "8fc8038f-7b97-4244-9066-dcb62fe063e8"
   },
   "outputs": [
    {
     "data": {
      "text/plain": [
       "0.9590277777777778"
      ]
     },
     "execution_count": 71,
     "metadata": {},
     "output_type": "execute_result"
    }
   ],
   "source": [
    "#Predicting train data\n",
    "pred_train = classifierSVC.predict(X_train)\n",
    "#Printing accuracy score for train set\n",
    "accuracy_score(pred_train, y_train)"
   ]
  },
  {
   "cell_type": "code",
   "execution_count": null,
   "metadata": {
    "colab": {
     "base_uri": "https://localhost:8080/"
    },
    "id": "kGxPyzZ7dCcZ",
    "outputId": "869c626e-8d27-4acb-891e-79b377d7b1e9"
   },
   "outputs": [
    {
     "data": {
      "text/plain": [
       "0.8166666666666667"
      ]
     },
     "execution_count": 72,
     "metadata": {},
     "output_type": "execute_result"
    }
   ],
   "source": [
    "#Predicting test data\n",
    "pred_test = classifierSVC.predict(X_test)\n",
    "#Printing accuracy score for train set\n",
    "accuracy_score(pred_test, y_test)"
   ]
  },
  {
   "cell_type": "markdown",
   "metadata": {
    "id": "SRp9yc1_88Bt"
   },
   "source": [
    "We observe overfitting when training with default parameters. Therefore, we will try to to avoid it using hyperparameter tuning. It is also useful to find best parameters for our model."
   ]
  },
  {
   "cell_type": "markdown",
   "metadata": {
    "id": "WeQYESod9I5m"
   },
   "source": [
    "### Hyperparameter Tuning"
   ]
  },
  {
   "cell_type": "code",
   "execution_count": null,
   "metadata": {
    "id": "3bgWahSpdGTM"
   },
   "outputs": [],
   "source": [
    "#Setting parameters which will be tuned\n",
    "parameters = {'C': [0.1, 1, 2, 5, 10, 100],\n",
    "              'kernel': ['rbf']}\n",
    "#Setting model\n",
    "classifierSVC = SVC()"
   ]
  },
  {
   "cell_type": "code",
   "execution_count": null,
   "metadata": {
    "colab": {
     "base_uri": "https://localhost:8080/"
    },
    "id": "jKlkDZR8dTqh",
    "outputId": "ad81fc2f-6b20-4f6c-f9e1-586a31d4c454"
   },
   "outputs": [
    {
     "data": {
      "text/plain": [
       "GridSearchCV(estimator=SVC(),\n",
       "             param_grid={'C': [0.1, 1, 2, 5, 10, 100], 'kernel': ['rbf']})"
      ]
     },
     "execution_count": 74,
     "metadata": {},
     "output_type": "execute_result"
    }
   ],
   "source": [
    "#initializing optimizer\n",
    "optimizerSVC = GridSearchCV(classifierSVC, parameters)\n",
    "#Fitting train data into the optimizer\n",
    "optimizerSVC.fit(X_train, y_train)"
   ]
  },
  {
   "cell_type": "code",
   "execution_count": null,
   "metadata": {
    "colab": {
     "base_uri": "https://localhost:8080/"
    },
    "id": "FPthOYfBdbG3",
    "outputId": "aff147fd-33df-48e4-8813-a5549f540234"
   },
   "outputs": [
    {
     "data": {
      "text/plain": [
       "{'C': 10, 'kernel': 'rbf'}"
      ]
     },
     "execution_count": 75,
     "metadata": {},
     "output_type": "execute_result"
    }
   ],
   "source": [
    "optimizerSVC.best_params_"
   ]
  },
  {
   "cell_type": "code",
   "execution_count": null,
   "metadata": {
    "colab": {
     "base_uri": "https://localhost:8080/"
    },
    "id": "-LwAKPsc0VQF",
    "outputId": "d7fdde94-08b8-45ab-9381-ef9529bb5038"
   },
   "outputs": [
    {
     "data": {
      "text/plain": [
       "0.9900462962962963"
      ]
     },
     "execution_count": 76,
     "metadata": {},
     "output_type": "execute_result"
    }
   ],
   "source": [
    "#Predicting train data\n",
    "pred_train = optimizerSVC.predict(X_train)\n",
    "#Printing accuracy score for train set\n",
    "accuracy_score(pred_train, y_train)"
   ]
  },
  {
   "cell_type": "markdown",
   "metadata": {
    "id": "wq9WMQj69NjW"
   },
   "source": [
    "### Testing with Test Data"
   ]
  },
  {
   "cell_type": "code",
   "execution_count": null,
   "metadata": {
    "colab": {
     "base_uri": "https://localhost:8080/"
    },
    "id": "5506vB28dd4d",
    "outputId": "7c3ace7a-8f69-40f3-ceef-151c70b5e2bd"
   },
   "outputs": [
    {
     "data": {
      "text/plain": [
       "0.8379629629629629"
      ]
     },
     "execution_count": 77,
     "metadata": {},
     "output_type": "execute_result"
    }
   ],
   "source": [
    "#Predicting test data\n",
    "pred_test = optimizerSVC.predict(X_test)\n",
    "#Printing accuracy score for train set\n",
    "accuracy_score(pred_test, y_test)"
   ]
  },
  {
   "cell_type": "markdown",
   "metadata": {
    "id": "xElZLrZU9TtR"
   },
   "source": [
    "### Accuracy Rate of minimum 80%"
   ]
  },
  {
   "cell_type": "code",
   "execution_count": null,
   "metadata": {
    "colab": {
     "base_uri": "https://localhost:8080/"
    },
    "id": "4WkTldv_-57F",
    "outputId": "e91fa6ba-f921-44ff-ebf5-ac157f7c04b2"
   },
   "outputs": [
    {
     "data": {
      "text/plain": [
       "SVC(C=10)"
      ]
     },
     "execution_count": 41,
     "metadata": {},
     "output_type": "execute_result"
    }
   ],
   "source": [
    "#Initializing SVC\n",
    "classifierSVC = SVC(C = 10, kernel = 'rbf')\n",
    "#Fitting train data into the classifier\n",
    "classifierSVC.fit(X_train, y_train)"
   ]
  },
  {
   "cell_type": "code",
   "execution_count": null,
   "metadata": {
    "colab": {
     "base_uri": "https://localhost:8080/"
    },
    "id": "T8FxXbnT0amv",
    "outputId": "74ae8bcd-f1e6-4cab-95de-d57e28365ded"
   },
   "outputs": [
    {
     "data": {
      "text/plain": [
       "0.9596296296296296"
      ]
     },
     "execution_count": 26,
     "metadata": {},
     "output_type": "execute_result"
    }
   ],
   "source": [
    "#Predicting test data\n",
    "pred = classifierSVC.predict(X)\n",
    "#Printing accuracy score for train set\n",
    "accuracy_score(pred, y)"
   ]
  },
  {
   "cell_type": "markdown",
   "metadata": {
    "id": "j0rqJXhL9n-9"
   },
   "source": [
    "### Evaluating Precision, Recall and F1 Scores using Classification Report"
   ]
  },
  {
   "cell_type": "code",
   "execution_count": null,
   "metadata": {
    "colab": {
     "base_uri": "https://localhost:8080/"
    },
    "id": "e1xbju6A9phJ",
    "outputId": "30010f8c-c5d6-4d1a-a702-466e7fa524ea"
   },
   "outputs": [
    {
     "name": "stdout",
     "output_type": "stream",
     "text": [
      "              precision    recall  f1-score   support\n",
      "\n",
      "       Dünya       0.96      0.94      0.95      1542\n",
      "     Maraqlı       0.96      0.94      0.95      1476\n",
      "  Mədəniyyət       0.95      0.99      0.97       500\n",
      "     Siyasət       0.95      0.97      0.96       539\n",
      "       İdman       0.98      0.99      0.99       766\n",
      "İqtisadiyyat       0.96      0.98      0.97       577\n",
      "\n",
      "    accuracy                           0.96      5400\n",
      "   macro avg       0.96      0.97      0.96      5400\n",
      "weighted avg       0.96      0.96      0.96      5400\n",
      "\n"
     ]
    }
   ],
   "source": [
    "print(classification_report(classifierSVC.predict(X), y))"
   ]
  },
  {
   "cell_type": "markdown",
   "metadata": {
    "id": "sREMvsgQ9rqK"
   },
   "source": [
    "### Constructing Confusion Matrix"
   ]
  },
  {
   "cell_type": "code",
   "execution_count": null,
   "metadata": {
    "colab": {
     "base_uri": "https://localhost:8080/"
    },
    "id": "SPKZluFV9xJ_",
    "outputId": "8335a537-6f93-48fd-fec3-221d25eec8be"
   },
   "outputs": [
    {
     "name": "stdout",
     "output_type": "stream",
     "text": [
      "[[1456   48    0   17    6   15]\n",
      " [  54 1385   23    3    7    4]\n",
      " [   0    4  494    1    1    0]\n",
      " [   6    0    2  523    2    6]\n",
      " [   5    2    0    0  759    0]\n",
      " [   2    1    0    9    0  565]]\n"
     ]
    }
   ],
   "source": [
    "print(confusion_matrix(classifierSVC.predict(X), y))"
   ]
  },
  {
   "cell_type": "code",
   "execution_count": null,
   "metadata": {
    "colab": {
     "base_uri": "https://localhost:8080/",
     "height": 269
    },
    "id": "GWJNbFQu9yOI",
    "outputId": "454f6f31-a9ae-4562-b121-be26e2041eb6"
   },
   "outputs": [
    {
     "data": {
      "image/png": "[encoded data removed]",
      "text/plain": [
       "<Figure size 432x288 with 2 Axes>"
      ]
     },
     "metadata": {
      "needs_background": "light"
     },
     "output_type": "display_data"
    }
   ],
   "source": [
    "#Plotting Confusion Matrix for better understanding using seaborn heatmat plot\n",
    "sns.heatmap(confusion_matrix(classifierSVC.predict(X), y), annot = True,  vmin = -1, vmax = 1, center = 0, cmap = \"RdBu_r\")\n",
    "plt.show()"
   ]
  },
  {
   "cell_type": "code",
   "execution_count": null,
   "metadata": {
    "id": "xIjsHoPCiYOS"
   },
   "outputs": [],
   "source": [
    "#Saving the model for Extra Task 2\n",
    "\n",
    "#Opening a file\n",
    "file = open('SVCTFIDF.txt', 'wb')\n",
    "#Dumping the model to the created binary file\n",
    "pickle.dump(classifierSVC, file)\n",
    "#Closing the file\n",
    "file.close()"
   ]
  },
  {
   "cell_type": "markdown",
   "metadata": {
    "id": "H1cymT6s_2M7"
   },
   "source": [
    "# Extra 1"
   ]
  },
  {
   "cell_type": "code",
   "execution_count": null,
   "metadata": {
    "id": "PcghvrpHSGYA"
   },
   "outputs": [],
   "source": [
    "#Reading Dataset using Pandas read_excel function\n",
    "data = pd.read_excel(\"news.xlsx\")"
   ]
  },
  {
   "cell_type": "markdown",
   "metadata": {
    "id": "dP5C5mtAW0p9"
   },
   "source": [
    "Again, we use small portion of data because of memory problems."
   ]
  },
  {
   "cell_type": "code",
   "execution_count": null,
   "metadata": {
    "id": "2dm6NVjdSfDV"
   },
   "outputs": [],
   "source": [
    "#Getting first 5000 rows of the data\n",
    "data = pd.concat([data.iloc[:5000, :], data[data[\"Category\"] == \"Mədəniyyət\"].iloc[:400, :]])"
   ]
  },
  {
   "cell_type": "code",
   "execution_count": null,
   "metadata": {
    "colab": {
     "base_uri": "https://localhost:8080/"
    },
    "id": "p0sV3xhYSwEP",
    "outputId": "18f40496-163f-4af5-8d47-67ec98c6a763"
   },
   "outputs": [
    {
     "name": "stderr",
     "output_type": "stream",
     "text": [
      "/usr/local/lib/python3.7/dist-packages/ipykernel_launcher.py:6: FutureWarning: The default value of regex will change from True to False in a future version.\n",
      "  \n"
     ]
    }
   ],
   "source": [
    "#Preparing data for TF-IDF vectorizer\n",
    "\n",
    "#Joining title and news_article columns\n",
    "data['Corpus'] = data[['Title', 'News_Article']].agg(''.join, axis = 1)\n",
    "#Removing some unnecessary characters\n",
    "data['Corpus'] = data['Corpus'].str.replace('[^\\w\\s]', '')\n",
    "#Making all characters lowercase\n",
    "data['Corpus'] = data['Corpus'].str.lower()"
   ]
  },
  {
   "cell_type": "code",
   "execution_count": null,
   "metadata": {
    "id": "4DLV8HP4Se_q"
   },
   "outputs": [],
   "source": [
    "X = data[\"Corpus\"]\n",
    "y = data[\"Category\"]"
   ]
  },
  {
   "cell_type": "code",
   "execution_count": null,
   "metadata": {
    "id": "ytP06MrtSe9B"
   },
   "outputs": [],
   "source": [
    "#Using TF-IDF Method, Vectorizing the input data (Corpus)\n",
    "\n",
    "#Initializing the vectorizer\n",
    "vectorizerTFIDF = TfidfVectorizer()\n",
    "\n",
    "#Fitting X into vectorizer and transforming the corpus\n",
    "X = vectorizerTFIDF.fit_transform(X)"
   ]
  },
  {
   "cell_type": "code",
   "execution_count": null,
   "metadata": {
    "id": "zs5q4c4qTcpr"
   },
   "outputs": [],
   "source": [
    "#Converting sparse matrix into numpy array\n",
    "X = X.toarray()"
   ]
  },
  {
   "cell_type": "code",
   "execution_count": null,
   "metadata": {
    "colab": {
     "base_uri": "https://localhost:8080/"
    },
    "id": "vgzwR2waSe6e",
    "outputId": "3bbc21f0-7a24-4972-9343-815926b2aa7b"
   },
   "outputs": [
    {
     "data": {
      "text/plain": [
       "PCA(n_components=3)"
      ]
     },
     "execution_count": 10,
     "metadata": {},
     "output_type": "execute_result"
    }
   ],
   "source": [
    "#Initializing PCA\n",
    "pca = PCA(n_components = 3)\n",
    "#Fitting vectorized data into PCA\n",
    "pca.fit(X)"
   ]
  },
  {
   "cell_type": "code",
   "execution_count": null,
   "metadata": {
    "id": "nr5QqA1SUJut"
   },
   "outputs": [],
   "source": [
    "#Reducing dimension of X by transforming by the fitted PCA model\n",
    "pca_data = pca.transform(X)"
   ]
  },
  {
   "cell_type": "code",
   "execution_count": null,
   "metadata": {
    "colab": {
     "base_uri": "https://localhost:8080/",
     "height": 424
    },
    "id": "-tVWp5qMUWQs",
    "outputId": "4d7f4c07-1080-4557-c540-967b4c9e7760"
   },
   "outputs": [
    {
     "data": {
      "text/html": [
       "\n",
       "  <div id=\"df-fae66b50-9ed2-458d-b6b8-e6b57657c54b\">\n",
       "    <div class=\"colab-df-container\">\n",
       "      <div>\n",
       "<style scoped>\n",
       "    .dataframe tbody tr th:only-of-type {\n",
       "        vertical-align: middle;\n",
       "    }\n",
       "\n",
       "    .dataframe tbody tr th {\n",
       "        vertical-align: top;\n",
       "    }\n",
       "\n",
       "    .dataframe thead th {\n",
       "        text-align: right;\n",
       "    }\n",
       "</style>\n",
       "<table border=\"1\" class=\"dataframe\">\n",
       "  <thead>\n",
       "    <tr style=\"text-align: right;\">\n",
       "      <th></th>\n",
       "      <th>First</th>\n",
       "      <th>Second</th>\n",
       "      <th>Third</th>\n",
       "      <th>Category</th>\n",
       "    </tr>\n",
       "  </thead>\n",
       "  <tbody>\n",
       "    <tr>\n",
       "      <th>0</th>\n",
       "      <td>-0.042598</td>\n",
       "      <td>0.005052</td>\n",
       "      <td>0.004216</td>\n",
       "      <td>Maraqlı</td>\n",
       "    </tr>\n",
       "    <tr>\n",
       "      <th>1</th>\n",
       "      <td>0.049949</td>\n",
       "      <td>0.001016</td>\n",
       "      <td>-0.036429</td>\n",
       "      <td>Maraqlı</td>\n",
       "    </tr>\n",
       "    <tr>\n",
       "      <th>2</th>\n",
       "      <td>-0.019646</td>\n",
       "      <td>0.035166</td>\n",
       "      <td>0.019497</td>\n",
       "      <td>Maraqlı</td>\n",
       "    </tr>\n",
       "    <tr>\n",
       "      <th>3</th>\n",
       "      <td>0.030873</td>\n",
       "      <td>0.015656</td>\n",
       "      <td>0.044019</td>\n",
       "      <td>İdman</td>\n",
       "    </tr>\n",
       "    <tr>\n",
       "      <th>4</th>\n",
       "      <td>-0.073123</td>\n",
       "      <td>0.021605</td>\n",
       "      <td>0.051331</td>\n",
       "      <td>Dünya</td>\n",
       "    </tr>\n",
       "    <tr>\n",
       "      <th>...</th>\n",
       "      <td>...</td>\n",
       "      <td>...</td>\n",
       "      <td>...</td>\n",
       "      <td>...</td>\n",
       "    </tr>\n",
       "    <tr>\n",
       "      <th>5395</th>\n",
       "      <td>0.038596</td>\n",
       "      <td>0.005318</td>\n",
       "      <td>0.024523</td>\n",
       "      <td>Mədəniyyət</td>\n",
       "    </tr>\n",
       "    <tr>\n",
       "      <th>5396</th>\n",
       "      <td>0.166269</td>\n",
       "      <td>0.011356</td>\n",
       "      <td>0.061634</td>\n",
       "      <td>Mədəniyyət</td>\n",
       "    </tr>\n",
       "    <tr>\n",
       "      <th>5397</th>\n",
       "      <td>0.024234</td>\n",
       "      <td>0.017717</td>\n",
       "      <td>0.051625</td>\n",
       "      <td>Mədəniyyət</td>\n",
       "    </tr>\n",
       "    <tr>\n",
       "      <th>5398</th>\n",
       "      <td>0.059310</td>\n",
       "      <td>0.004468</td>\n",
       "      <td>0.013160</td>\n",
       "      <td>Mədəniyyət</td>\n",
       "    </tr>\n",
       "    <tr>\n",
       "      <th>5399</th>\n",
       "      <td>0.065446</td>\n",
       "      <td>0.014744</td>\n",
       "      <td>0.054800</td>\n",
       "      <td>Mədəniyyət</td>\n",
       "    </tr>\n",
       "  </tbody>\n",
       "</table>\n",
       "<p>5400 rows × 4 columns</p>\n",
       "</div>\n",
       "      <button class=\"colab-df-convert\" onclick=\"convertToInteractive('df-fae66b50-9ed2-458d-b6b8-e6b57657c54b')\"\n",
       "              title=\"Convert this dataframe to an interactive table.\"\n",
       "              style=\"display:none;\">\n",
       "        \n",
       "  <svg xmlns=\"http://www.w3.org/2000/svg\" height=\"24px\"viewBox=\"0 0 24 24\"\n",
       "       width=\"24px\">\n",
       "    <path d=\"M0 0h24v24H0V0z\" fill=\"none\"/>\n",
       "    <path d=\"M18.56 5.44l.94 2.06.94-2.06 2.06-.94-2.06-.94-.94-2.06-.94 2.06-2.06.94zm-11 1L8.5 8.5l.94-2.06 2.06-.94-2.06-.94L8.5 2.5l-.94 2.06-2.06.94zm10 10l.94 2.06.94-2.06 2.06-.94-2.06-.94-.94-2.06-.94 2.06-2.06.94z\"/><path d=\"M17.41 7.96l-1.37-1.37c-.4-.4-.92-.59-1.43-.59-.52 0-1.04.2-1.43.59L10.3 9.45l-7.72 7.72c-.78.78-.78 2.05 0 2.83L4 21.41c.39.39.9.59 1.41.59.51 0 1.02-.2 1.41-.59l7.78-7.78 2.81-2.81c.8-.78.8-2.07 0-2.86zM5.41 20L4 18.59l7.72-7.72 1.47 1.35L5.41 20z\"/>\n",
       "  </svg>\n",
       "      </button>\n",
       "      \n",
       "  <style>\n",
       "    .colab-df-container {\n",
       "      display:flex;\n",
       "      flex-wrap:wrap;\n",
       "      gap: 12px;\n",
       "    }\n",
       "\n",
       "    .colab-df-convert {\n",
       "      background-color: #E8F0FE;\n",
       "      border: none;\n",
       "      border-radius: 50%;\n",
       "      cursor: pointer;\n",
       "      display: none;\n",
       "      fill: #1967D2;\n",
       "      height: 32px;\n",
       "      padding: 0 0 0 0;\n",
       "      width: 32px;\n",
       "    }\n",
       "\n",
       "    .colab-df-convert:hover {\n",
       "      background-color: #E2EBFA;\n",
       "      box-shadow: 0px 1px 2px rgba(60, 64, 67, 0.3), 0px 1px 3px 1px rgba(60, 64, 67, 0.15);\n",
       "      fill: #174EA6;\n",
       "    }\n",
       "\n",
       "    [theme=dark] .colab-df-convert {\n",
       "      background-color: #3B4455;\n",
       "      fill: #D2E3FC;\n",
       "    }\n",
       "\n",
       "    [theme=dark] .colab-df-convert:hover {\n",
       "      background-color: #434B5C;\n",
       "      box-shadow: 0px 1px 3px 1px rgba(0, 0, 0, 0.15);\n",
       "      filter: drop-shadow(0px 1px 2px rgba(0, 0, 0, 0.3));\n",
       "      fill: #FFFFFF;\n",
       "    }\n",
       "  </style>\n",
       "\n",
       "      <script>\n",
       "        const buttonEl =\n",
       "          document.querySelector('#df-fae66b50-9ed2-458d-b6b8-e6b57657c54b button.colab-df-convert');\n",
       "        buttonEl.style.display =\n",
       "          google.colab.kernel.accessAllowed ? 'block' : 'none';\n",
       "\n",
       "        async function convertToInteractive(key) {\n",
       "          const element = document.querySelector('#df-fae66b50-9ed2-458d-b6b8-e6b57657c54b');\n",
       "          const dataTable =\n",
       "            await google.colab.kernel.invokeFunction('convertToInteractive',\n",
       "                                                     [key], {});\n",
       "          if (!dataTable) return;\n",
       "\n",
       "          const docLinkHtml = 'Like what you see? Visit the ' +\n",
       "            '<a target=\"_blank\" href=https://colab.research.google.com/notebooks/data_table.ipynb>data table notebook</a>'\n",
       "            + ' to learn more about interactive tables.';\n",
       "          element.innerHTML = '';\n",
       "          dataTable['output_type'] = 'display_data';\n",
       "          await google.colab.output.renderOutput(dataTable, element);\n",
       "          const docLink = document.createElement('div');\n",
       "          docLink.innerHTML = docLinkHtml;\n",
       "          element.appendChild(docLink);\n",
       "        }\n",
       "      </script>\n",
       "    </div>\n",
       "  </div>\n",
       "  "
      ],
      "text/plain": [
       "         First    Second     Third    Category\n",
       "0    -0.042598  0.005052  0.004216     Maraqlı\n",
       "1     0.049949  0.001016 -0.036429     Maraqlı\n",
       "2    -0.019646  0.035166  0.019497     Maraqlı\n",
       "3     0.030873  0.015656  0.044019       İdman\n",
       "4    -0.073123  0.021605  0.051331       Dünya\n",
       "...        ...       ...       ...         ...\n",
       "5395  0.038596  0.005318  0.024523  Mədəniyyət\n",
       "5396  0.166269  0.011356  0.061634  Mədəniyyət\n",
       "5397  0.024234  0.017717  0.051625  Mədəniyyət\n",
       "5398  0.059310  0.004468  0.013160  Mədəniyyət\n",
       "5399  0.065446  0.014744  0.054800  Mədəniyyət\n",
       "\n",
       "[5400 rows x 4 columns]"
      ]
     },
     "execution_count": 22,
     "metadata": {},
     "output_type": "execute_result"
    }
   ],
   "source": [
    "#Creating new dataframe to store newly reduced data and their categories\n",
    "\n",
    "#Initializing a new dataframe\n",
    "pca_df = pd.DataFrame()\n",
    "#Appending values to their corresponding columns\n",
    "pca_df[\"First\"] = pca_data[:, 0]\n",
    "pca_df[\"Second\"] = pca_data[:, 1]\n",
    "pca_df[\"Third\"] = pca_data[:, 2]\n",
    "pca_df[\"Category\"] = y.reset_index().drop(\"index\", axis = 1).values\n",
    "#Displaying the dataframe\n",
    "pca_df"
   ]
  },
  {
   "cell_type": "code",
   "execution_count": null,
   "metadata": {
    "colab": {
     "base_uri": "https://localhost:8080/"
    },
    "id": "QfPYFRoHSe3u",
    "outputId": "ce5ca1d3-9a71-4d62-c558-a51d2cbbd67b",
    "scrolled": false
   },
   "outputs": [
    {
     "data": {
      "text/html": [
       "<html>\n",
       "<head><meta charset=\"utf-8\" /></head>\n",
       "<body>\n",
       "    <div>            <script src=\"https://cdnjs.cloudflare.com/ajax/libs/mathjax/2.7.5/MathJax.js?config=TeX-AMS-MML_SVG\"></script><script type=\"text/javascript\">if (window.MathJax) {MathJax.Hub.Config({SVG: {font: \"STIX-Web\"}});}</script>                <script type=\"text/javascript\">window.PlotlyConfig = {MathJaxConfig: 'local'};</script>\n",
       "        <script src=\"https://cdn.plot.ly/plotly-2.8.3.min.js\"></script>                <div id=\"a39d74c9-85df-4c2e-ad54-7daa1f1c6c7a\" class=\"plotly-graph-div\" style=\"height:525px; width:100%;\"></div>            <script type=\"text/javascript\">                                    window.PLOTLYENV=window.PLOTLYENV || {};                                    if (document.getElementById(\"a39d74c9-85df-4c2e-ad54-7daa1f1c6c7a\")) {                    Plotly.newPlot(                        \"a39d74c9-85df-4c2e-ad54-7daa1f1c6c7a\",                        [{\"hovertemplate\":\"Category=Maraql\\u0131<br>First=%{x}<br>Second=%{y}<br>Third=%{z}<extra></extra>\",\"legendgroup\":\"Maraql\\u0131\",\"marker\":{\"color\":\"#636efa\",\"symbol\":\"circle\"},\"mode\":\"markers\",\"name\":\"Maraql\\u0131\",\"scene\":\"scene\",\"showlegend\":true,\"x\":[-0.04259786160826481,0.04994894978211209,-0.01964622354632489,-0.045707242297246146,0.04714223088972573,-0.07924536972104045,-0.0018007168355508778,-0.014137098835226982,-0.01771484818195233,0.045965930185911975,-0.027963787421266817,-0.021880982138921142,0.07008067774704012,-0.013766773874450175,-0.07788945398448137,0.02487068271173206,0.06158321381310638,0.004359818349105336,-0.003980580115017234,0.03548758125221578,-0.04921824418973422,-0.04629107273608959,-0.10544189700360483,-0.07870944273728707,-0.04131180413420406,-0.04499694008648984,-0.0433521065744879,-0.060275730346506004,-0.05966635770844709,0.04652541012559617,-0.018801627159090707,0.04203141064528653,-0.0537227776787592,-0.016277988477732867,-0.01391357795457144,0.023585772751553817,-0.05075914076700907,0.011176358089775414,0.0640181489415413,-0.06340509312129597,-0.092635835008223,0.012385681548701642,-0.07830883641625894,-0.013212716971398336,-0.07418679456322236,-0.05898462163982028,-0.12406260835567004,-0.02242949238422234,-0.0837786147423521,-0.1331078302373375,0.06250668574964593,-0.08867428934680432,0.03091348141981996,-0.07074216631704253,-0.07326985271438279,-0.0248086135854622,0.024707976600349443,0.1287509738610291,-0.01898773457155171,0.061160754576694565,-0.06669615125122513,-0.03720326791414612,0.020354961928640315,-0.13030237213722862,-0.13837918211445796,-0.08908447560389401,0.008653943692012644,-0.034230505262629864,-0.03495403840878992,-0.10430813351401935,-0.07965925661399573,0.09925342991642233,0.0398403111882957,-0.06403076642205836,-0.06320736548007538,-0.09364360693383954,-0.064376968874669,-0.030269571882409183,-0.04771001110424432,-0.08753911523681944,-0.007010034887660233,0.029620828457715236,-0.08137328562367548,-0.03368354863997763,-0.03575412321750614,-0.0952804052506348,-0.0141206252959929,0.026417666512433182,-0.022177652606755395,-0.016810303275610523,-0.00649482654099318,0.055897969995260394,0.011944839885865522,-0.015472876686523305,0.047225532645291474,0.00509445655341598,0.009635951000387244,0.0024744643047010136,0.16499724710756022,-0.032465273922280574,-0.06525950802544635,-0.03544997957602108,0.07304552817593249,-0.046519527760470455,-0.026919671801849097,0.03169329873999104,0.06491621577945669,0.07954122277335361,-0.06281179572284668,0.06540772589048058,-0.10950207484733566,0.049018020843428836,-0.03317890251518193,0.057531900312291696,0.14991390312326666,0.024271919300794025,-0.05991483107496198,0.03571525619511928,-0.013050346423694452,-0.024106192087717214,-0.017784828510445133,0.20956042875863254,0.15169741213674254,0.04699399587034755,-0.10567877141343231,0.02283145442491186,0.11034407847168895,0.14404766408591174,-0.06374863427734641,-0.05541700818112895,-0.05478222177367498,0.009029659672408222,-0.03590484081488406,0.17175116873216767,0.07455761008256835,-0.10224047772038133,-0.07196776127078332,-0.09121802873623137,-0.08961962794993418,0.11858393287789519,-0.05147080358193597,-0.0040872977203340825,-0.05719533161539157,0.12515377160441177,-0.02745817762817782,-0.08822891283265125,-0.03879239155973019,-0.10974851696745193,-0.0481475446181124,-0.09125477589275567,0.004477335978391704,0.06105095619856843,0.037787872477456456,-0.05286123195006988,-0.02893224528343047,-0.05014243728921373,-0.09666203345413121,-0.011170948238396773,-0.07113630793946508,0.012378087271616035,-0.036396129222751095,-0.026503923048180816,0.01663612910816937,0.07812647028057408,-0.09813360325057302,-0.05059379077498092,-0.09246476515042569,-0.018071681192224222,-0.047772918933883336,-0.03269649343268777,0.022796489399527626,-0.018216929778182914,0.01978386936892941,0.0040997899420066545,-0.0359999481438627,-0.08166922529439181,-0.06803914659057145,-0.1026781881722571,-0.056572416661209525,-0.025170763193115203,0.04740925055985228,-0.05422968236114308,-0.03849794525658755,-0.07368863095222689,-0.07867769636630571,-0.08593671335491421,-0.039197902241711595,0.009837882112507357,-0.0068727028965126415,-0.04963872737480298,-0.05170930838196903,-0.03741562636493065,-0.03796483456737342,-0.03640645274867395,0.00044080276902099354,-0.027204859910301634,-0.02690704157963076,-0.0305285225934895,-0.05806329149990085,-0.04587976432146545,-0.06394249098688112,-0.03890478582638549,-0.025176169859216186,-0.08295423793712554,-0.01733977145435614,-0.040223994593560575,-0.08816352887194422,-0.009610916924241429,-0.03695114292421945,0.0623705554189812,-0.006176913395438215,0.00792221771499856,-0.007256637384187806,0.026062218812000236,-0.009746657958517787,-0.03005443396921308,-0.06739202252870402,0.024714952643159704,-0.04776445877920883,0.02050332841103679,-0.061104960353288176,-0.025731635430404978,0.0430388347322326,-0.04077163329951333,-0.06359329951131397,-0.05827628974014489,-0.05764696903246164,-0.03489996601568757,-0.08183532381223993,-0.09161361302026157,-0.03727210283167103,0.05829844045570908,-0.0040929878210988,0.04642591343396742,0.032858181512760994,-0.05351847276791092,-0.0677333584626546,-0.06387709998142954,-0.05879134531216595,-0.08091889331070241,0.07488791629283098,0.01924022762770316,-0.0918119814873339,0.030227280994713435,-0.01718823221775113,-0.01270669892071381,-0.048125846326842275,0.009648669810126203,-0.07525662959379192,0.2292718306403978,-0.019391468260742898,0.005395668029485536,-0.017825127992037205,-0.08002770492877669,-0.05730361104377651,-0.03971740243758929,-0.010370088832883085,0.04260998324075814,-0.007521808056655623,-0.029662531812768712,0.0030308003997340156,-0.015705339358747007,0.03555569013002406,-0.03961173765213263,-0.009365534581834912,0.2273488859800709,-0.0008808414384276803,0.08444938042561558,0.10912190529000405,-0.03206581921022429,0.020249397058450944,-0.0022990493945378825,0.06292509339413589,-0.07370416290393329,0.0022100601881414623,-0.014181195175700573,-0.0037161244728660743,-0.027857862479440335,0.039451772011092456,-0.0672315957161385,0.014343897202784046,0.06367346860545325,-0.06386627428070617,0.1579818375024348,0.04976515362987545,0.025702545832946854,0.16657781954190662,0.08757302816689912,-0.05182743289312181,-0.08138431722005698,-0.02651044583558447,-0.0862233300583971,-0.04981990328658647,-0.0724064724578339,-0.014628125311998636,0.018176800030259975,-0.022471090126765687,0.011829823086096421,-0.0054953178226135255,-0.06840172152829337,-0.02373178819887559,-0.012329141014171282,0.03182071752655903,0.05860455088857003,-0.0325274716600079,-0.034796262380989214,0.2757005370796697,-0.041338272644041066,-0.05570659294063564,-0.01973420573519293,-0.034125190686107726,-0.05125330293085243,-0.05811950179343438,-0.04427720257896777,-0.0020964691552778445,-0.08309748983847248,-0.04879829947435956,-0.028709572345872254,-0.06574759230368528,-0.07956915382694726,0.10427159770653564,0.027549434086402008,-0.02488812167960093,-0.07388118851640299,-0.07958937426423351,-0.045982941926980256,0.0027478067518921533,-0.054807112461615425,0.07790825643930625,-0.016111207821219078,0.029649105470806333,-0.08515347651436535,-0.08968709911948954,-0.09074307812263473,-0.04635499915852151,-0.05211639328710766,-0.03862636663475065,-0.014087935262591033,-0.09784895177985725,-0.058096359078472284,-0.05576370012996481,-0.008266202117978285,0.06519781394099812,-0.06516332727555417,-0.024139671855023467,0.022163701851235156,-0.08805972419567695,-0.03997664761775921,0.04982549329246715,0.16537592431187695,-0.06978611306547196,-0.004041632804320029,0.03574907315072225,-0.022277545913669615,0.007714375484310303,0.13665636986839674,0.10102904380012005,0.012213709024940851,0.011217823816409123,0.03679948845256885,-0.0615617731225141,0.023810268147077457,-0.09225924169756004,-0.006359281853449986,0.016991045912338874,-0.10180037227275827,0.006228472301230718,-0.047927660643629966,-0.0011961664238927133,0.0005458716230923566,-0.06515638380424761,0.01572275518184277,-0.045981442332936884,-0.07246327341704659,-0.06520729079637466,-0.071652085577671,-0.045234096283606647,-0.05209400561921939,-0.041856976997151824,0.04526986888460847,0.01755621952884038,-0.06334782866127872,-0.049833535328589716,-0.06969754888912201,-0.03649552761966192,-0.07782211463775102,0.23179419882150673,0.18561787296018453,-0.00269146544223936,-0.06895385716306576,-0.026919671801849097,-0.026742143557341728,-0.08218626524516033,-0.03446740390315743,-0.022216491371362564,-0.111115238236278,-0.058377930559979224,0.11822664885504686,0.06163568661858946,0.008202142724567159,0.03254358276494313,-0.03873815349815388,0.007649035157483505,0.0289232399565195,-0.055961670296819636,-0.003405870091766109,-0.05088556135819955,0.04523252076014336,0.23269171983945022,0.13250159291948016,-0.05529380824377878,-0.08696349159928896,0.07008173418674309,-0.0033024347245566897,-0.07423444671647833,0.06479415322293881,-0.05038665623748987,0.04043514413682021,0.09425038694033791,0.051436224692286585,-0.021822882240567346,0.16343614969281625,-0.07642565095658806,-0.020566039928064363,0.005020269356994555,-0.07559290255922463,-0.02232279474852414,0.015836904164587245,0.1555340539793851,0.03733383125141262,0.008382945840151356,-0.050976074393884956,-0.07244889993506276,-0.0996547511731424,-0.0922164733064211,-0.06497389710337494,-0.01746251577813839,-0.05163016197992336,0.06860639099273937,-0.08369621196783676,-0.044998815780690635,-0.08538832673619141,-0.05859314792671975,-0.05986649540654283,-0.011269429395863742,-0.07688073016886555,0.0010796249499578265,-0.022853816497684788,-0.07382688217955935,0.0024530295919604306,-0.022468016523402176,-0.08385185731358201,-0.0031879904620685374,-0.061726199722054904,0.01875721116473215,0.012413768850196565,0.05468517066797033,-0.07608509528337963,-0.05916035945121863,0.0672721467759975,-0.030385715015955172,-0.02877770223145305,-0.10462536709832122,-0.04909615502922619,-0.06312460322954003,-0.06425085022298163,-0.11268539091951671,-0.04750662010882474,-0.056633897116976896,-0.005277233776457393,-0.08914528276675422,-0.048944419621109514,0.008093829191537444,-0.04633192107183086,-0.08570324043918455,-0.093550647068148,0.102872602098396,-0.08398367368286211,-0.0012106427785708517,-0.07762737101716773,-0.010127051951733397,-0.013067219350601207,0.06969705369299702,-0.012096870162224181,-0.0068904985930266045,-0.036476793587588235,-0.04217964124576817,-0.039812321733105095,0.058698785374995885,0.021792634555422526,0.015827933205548896,-0.0416401382087235,0.1227600707599985,0.015233718904240754,-0.039469661519046705,-0.05063919927390295,-0.026689020804268826,0.05580041888050905,0.09775194422176446,-0.0729120774720939,-0.05634304712164367,0.037406608129586634,-0.08957040676594494,-0.05463735109117517,-0.04129126652739648,-0.0739687194230617,-0.07758410752467228,0.026835527962935948,-0.00812284369088735,-0.02205468657358484,-0.06403483599112147,-0.03463496435871676,-0.0203603428238929,-0.08673803243242496,-0.04917880403698924,-0.05847487710876366,-0.04438329986923038,-0.06417661007325962,0.016171821034038126,0.04113436984942269,-0.04087382137696037,-0.038987564822948156,-0.054596927949889525,0.07501469694518464,-0.017521728854194556,-0.0015524677392770583,-0.007397988227638782,-0.004189848589318678,-0.1284455347187,0.13430982761685129,-0.07346042840472654,-0.0783929494358621,-0.13845094356266627,-0.028069024456272424,0.012609469848025608,0.048600011729450936,-0.05772690837473403,0.13557601402057776,-0.10849683931119204,-0.019111234413960617,3.3722804818754745e-05,-0.08841413021234634,-0.03925672886906901,-0.01113155460096778,-0.1010801391842236,-0.0054028181343463095,-0.05928164542027413,-0.02877848761054498,-0.07077502519072199,0.04523252076014336,0.018818444756373492,0.018823950192656667,-0.04984603541873284,-0.051029840371362725,-0.0465339346933689,-0.05237648073449219,-0.057527214141909096,-0.026917638047255905,-0.07581950906614651,0.025402755867967513,0.016154813751439064,-0.04974534398164082,0.0869318486250531,-0.04901684258332044,-0.016112234218938558,-0.037536232773209055,0.10513331227394819,-0.054749529021185295,-0.046298169983278493,-0.07754005222104451,-0.031467861626486515,-0.058949878404234796,-0.08724892735171515,-0.09702338030521755,0.010041922797591217,-0.054793058426601586,0.13956434995457495,0.07720134691133394,-0.027227119724985815,-0.01087383697459441,0.04274335604119042,0.05539881097605036,-0.016922282876805663,-0.01577612500315938,-0.018462294017052048,-0.07044687152897411,0.03126195534028856,-0.025074121391988974,-0.03127849889599049,-0.06703930404632631,-0.023507812728243843,-0.06957140101071618,-0.0871027759307174,-0.09251785948628992,-0.08402540600655507,-0.04942633339185114,-0.08937494832818389,0.021546742341849723,-0.06786146295042869,-0.008163178587344215,0.025422168950465847,-0.07798287286307413,0.0014956579456792338,-0.007417009711176766,-0.03838923381904057,-0.06343152255890339,-0.04965837276727929,-0.02330485162023992,-0.05121699705701188,-0.06329971347536918,-0.05036232954142652,-0.018770536153389167,-0.056521393785003364,-0.01808389448237739,-0.05758575966156454,-0.05276507819383467,-0.06521702603328934,0.1236434766448093,-0.005279976329767422,-0.0134814583396541,-0.048581782438050156,-0.05278108641100129,0.024564133359878525,0.16066901915479492,-0.04425053737039721,-0.005300766194860099,-0.03775885136393586,-0.030370425280058046,0.027795398976844618,0.000584929191836822,-0.015230415803472187,-0.05510657170401549,-0.060505122388625675,-0.0406755530024749,-0.0057451393233177725,-0.053609633768000355,0.04917292401382168,-0.022237213243162274,-0.05734498574177409,-0.037881159500589526,0.06942187102302735,0.09730673996344434,-0.10067131729134128,-0.10787238451782401,-0.11691064296044269,0.07431195659053245,0.009781668149339168,-0.042090261580127034,0.01639609211169625,0.10102002116221823,-0.007174751003326359,-0.0567402543212766,-0.07449109300218654,-0.06737218268402521,-0.06124709173977918,-0.06515613225330817,0.022472614174165295,-0.02394964623227496,0.04724228941803669,-0.007537346940873624,0.0499719870387959,0.03330879243190774,-0.016823180032228918,-0.02866176653949842,0.07269405292310231,0.029133056869863908,0.08542175313653064,-0.07322047023259204,-0.019728706239853996,-0.06296281324058199,-0.09242066162329049,0.02122894334729729,0.08028080571625386,0.15509763581420954,0.08432985008709488,-0.0589098581314397,0.030730698465505187,0.26376035528567554,0.053829600084663434,0.006631275748618493,0.03879836008927155,-0.08169066277235477,-0.030084639226505307,-0.06276212841461817,-0.05337023204942906,-0.09663143293146423,-0.04067870576541679,-0.03063681492127826,-0.03897035965748272,0.0432819835598354,-0.07748025300870126,-0.015535414475805608,-0.1110233959603022,0.13427169891429308,-0.06491205366296839,-0.0975061584858427,-0.05073770684025837,-0.0004518522651575065,-0.012350791004783796,0.03304268481996591,-0.039451058886415834,-0.03778287923255372,-0.06511633295010558,0.013635429269129567,0.09409437974808064,-0.08617757548437698,0.014617185799810617,-0.00777498496935672,-0.0790018538150828,-0.08399238517797894,-0.06098162049225221,-0.0804557700043027,-0.04870192841404024,0.08918126529232062,-0.040847016553353654,-0.0687333582798662,-0.05037077193637512,0.033757327428317205,0.039117996366315175,0.02922805936933249,-0.011711748296939039,-0.058980173405732486,-0.05648496675992405,0.017866040398549627,0.1277514137368373,0.07770477450419709,0.0026106669455515374,-0.0957493879331287,0.017864777135071782,-0.05558358435204965,-0.05552950385180283,-0.03248816959493124,0.08185572138339306,-0.02602643201490517,-0.03856261074742372,-0.041273297223418035,0.019581653277277566,-0.08586883634140574,-0.02982718872422225,-0.07672162805755349,-0.0850367661826939,-0.03038360745712305,-0.07914031185288485,-0.05812865639172905,-0.07632010157662063,-0.017893563870478336,-0.06660693748093416,-0.03525292869291151,-0.010679556689762974,0.009864695938965048,-0.01111770710575699,-0.058931047361959726,-0.03707902010540058,-0.07953114994924884,-0.06774776627808285,0.0013516021294965055,-0.08677319671567638,-0.03777501872516831,-0.058482008158450484,-0.06719417833130706,0.09398348350446778,0.012246709753628413,0.008241983401578412,-0.01894638094155009,-0.01298577346757007,-0.08550972514970209,-0.0719533889458257,-0.058664995664039855,-0.05193857942089698,0.08653450808713704,-0.053020827648654796,-0.09258017492539648,-0.04924338145387107,-0.05693903602937136,-0.025294752172489873,-0.07972823931754215,-0.054622239291934015,-0.08584391187535033,-0.08424649806745149,0.1364555754960808,0.08835539095379824,-0.03629329372974875,0.0308066913707475,-0.00636200636084089,-0.04162627395196416,0.06065437938841802,-0.03692374128241892,-0.059883871887336196,-0.035522446771010935,-0.05661216371335677,-0.01325401542442216,0.14494889957386048,0.1181688791293757,-0.004053484044327456,-0.026669938861428922,0.11574710193033733,-0.07717014400300452,-0.044096826569903914,-0.015471495302012684,-0.06530182577188635,-0.053894158737506345,-0.07412651690351049,-0.02608149648941657,-0.008371737442307478,-0.07094068819202645,-0.018133829967466895,0.034447050622344134,-0.0252474746860427,-0.07282308670773015,0.03417934537001133,-0.04290488303696,-0.07602349689457343,0.030372255361377016,-0.031256643321139845,0.02974439028451296,-0.012992973930148569,0.013175416977163129,0.06299945244872893,-0.009158807057733843,0.007741718634093409,-0.013555770340315547,-0.04589661487446715,0.012805001407165577,-0.05349116356425205,0.0387608630138737,0.006040595090199087,-0.037508073115424964,0.025393004463595294,-0.01432843895609867,0.004248215016853223,-0.08813246962990862,0.037234648677231814,-0.05412957367661537,-0.0011304042175520174,0.03653415968892894,-0.07544300059180488,-0.09688604507251183,-0.053042287262695165,-0.028374425387912697,-0.03875258598827752,0.04199444430553242,-0.04715276161750218,-0.08747712225695696,-0.04359165817856097,-0.09792201724208853,0.055887939440739505,-0.07031141773092402,0.01314158721978894,-0.0579969504304024,-0.007371976876924031,0.09156022476361192,-0.05512139816899556,0.011906217308609591,0.007075317449097797,0.02155421251064297,-0.07946030186368641,-0.03808501056712611,0.003993648182319962,0.0028666384504414384,-0.010330539053480468,-0.0354845976908136,0.0030260740064018206,0.052841528816840004,0.010893238442887707,-0.026965124141770908,0.009990769642848708,-0.02927323454713905,0.005325619493091489,0.05092172265752778,-0.03269365659540803,-0.06569655453308615,-0.0005289716669947556,0.020928214482211795,0.014196133092847856,0.11072362100134124,-0.006400965570212274,0.00810849430910274,-0.007880803465253211,0.0781838090972234,-0.05668369889089016,0.03602257489533611,-0.052968944603907595,0.0007489803883531632,0.004870871633785931,0.026571459018258938,-0.044457389636759034,0.06253877828772629,-0.02717459604168905,-0.011200308449470174,0.00952104360693903,-0.04718797081342259,-0.0005307341795798019,-0.02399384892817419,-0.01337371788614716,0.018916044823239338,-0.03128130408824959,-0.0010671560796856687,0.03106089201483189,-0.09136411943393262,0.005648336711204458,0.016763298014442634,0.012367015600096136,-0.056803912454664506,-0.07749158457791193,-0.08167021597103158,-0.057091536083662575,-0.07489874770719769,-0.058565737783867367,0.0015749290907285437,-0.054993805838343526,-0.06259876609323105,-0.04875394198049564,-0.08227284432801552,-0.00412994807159238,-0.10090765051580057,-0.0041135789862010615,-0.026845927186988548,-0.06599612720370773,-0.07571355025788822,-0.08703976045646682,-0.03163047581582221,0.010522194758949712,-0.08533664628527102,-0.09600207315866058,-0.01379076105940545,-0.06620811650035553,-0.07462685234381995,-0.12107422933004514,-0.0469083262338756,-0.08509137966543598,-0.04960320480857785,-0.056169166388221475,-0.07095598322928082,-0.06584054833115202,-0.0944106448121618,-0.05444296291637999,-0.08117370826864993,-0.05494607560324004,-0.062022206189195926,-0.05781361224008414,-0.05561874672647233,-0.039489834183364485,-0.0291285761034928,-0.08825767779751478,-0.05285183527367973,-0.08490749829830974,-0.0014943012373134946,0.19864998618702312,0.025586528473240406,-0.0075298014726263235,-0.0026022373365540362,0.015175359561929636,-0.026919671801849097,-0.06397637849194343,-0.111716361189316,-0.04357475002568267,-0.03986076660179673,-0.049953553174533656,0.016793140373645415,-0.06263247151562797,0.07769230788053288,-0.08238136574261332,-0.0360321053662181,-0.057815840062019334,0.0022289143176206115,-0.048508714402635586,-0.006135747283417553,-0.06567908303901637,0.06770689900914434,0.060521098525323405,-0.0344482236392457,-0.08472976968864301,-0.0005376787918788218,-0.06560945904243756,-0.013192819213033601,-0.035034843430269726,0.011245860849695708,0.01164668985864941,-0.021429712637461188,0.06556781206999963,0.016995953327541887,-0.01630098193248366,0.007284834204105317,-0.05826943463528948,-0.03048765266631901,-0.09273073488633596,-6.727387292029775e-05,-0.07256666203525688,-0.069268143250778,-0.007735835062033336,-0.02878062900445344,-0.06151739627068757,0.03176089129431903,8.420416573172505e-05,-0.06142017281081687,-0.05191389517179985,-0.038338684430091315,-0.009069777996788353,0.03224360882392637,0.044574902134601954,0.02079831132553489,0.06688787080863265,-0.03852191350012872,0.07486999081549323,-0.009830549615677055,-0.034815454892046335,-0.03735708209049075,-0.04454038507077978,0.04005590661367509,-0.06217943092673727,-0.0037916306272257586,-0.037500050027838364,0.08043124621735577,-0.055037130178796786,-0.05521685998242567,-0.05118961414539882,0.0065636401632739065,-0.0011874321140329942,-0.03942213799887123,-0.013657570395733417,0.054012458045732,0.06715139700949185,-0.06542878312157233,0.016782316842461075,-0.0638313443361888,-0.018919548568333985,-0.08473456483302322,0.01492867822052899,-0.05500490670286435,0.005926488900346287,0.0923047398910392,-0.039517856015692,0.03451487228198815,0.07883075218668523,-0.07968663764757905,-0.08016655530120284,-0.08531673547478572,-0.06876516525220262,-0.047395319984626996,-0.08831368539554314,-0.09264639220895451,-0.052846997395044455,-0.10777833443526921,-0.0399025059590102,-0.08393911914967472,-0.04956897828878932,-0.06263934050550257,-0.04383674336744119,-0.0050015464506918675,-0.08264318635293876,-0.02108668317276519,-0.04486541294027498,-0.023904831813209876,-0.03699959400848017,0.09546009072901893,-0.01225130870936726,-0.08958493505161909,-0.10235335360724197,-0.0004471913729461391,0.05509443389332429,-0.06095382682707204,-0.03185146673837983,0.019528632886210366,-0.04737011521822925,-0.07905613280882237,-0.06767378914981197,-0.053092910753234954,-0.06106801969711803,-0.07305006334542151,-0.06882409638419291,-0.07046545026832012,-0.05735962754994978,-0.02957100239293267,-0.12790943428764262,-0.013720420415875357,-0.09029483765422083,-0.019443703015011762,-0.07819637295902175,-0.0047804494650802104,-0.006288712758648296,0.008229473793591315,-0.07588395491664258,0.014728706031710831,-0.001995727751672795,0.0004777580421210012,0.05329979164986043,0.05407004576211664,0.02401859005809415,-0.036211073400189045,-0.006533907390618325,0.06879763436289933,0.07259573471281634,-0.052553732522780304,0.012212249321624855,-0.004359889397999245,0.017834456631268765,-0.02006761469134651,-0.02674853613826582,-0.03172059754340743,-0.02278771478661933,-0.053175426017690784,-0.03383685964074011,-0.04401065458581731,-0.032980465235043034,0.09174907476520477,-0.01694609616222969,-0.012909487559539858,-0.0291605193917149,0.0478595369245987,0.04931541179889243,0.11018202996484969,0.04600075758305306,-0.037698505786325366,-0.03339410425975675,-0.046694997925059066,-0.013493751545479282,0.02863179704526501,0.027587628267955775,0.013700258552774623,0.06961378192244898,0.18374156813613962,0.056091757460375244,0.020520547437969442,0.014136895834475062,-0.05558294811342733,0.0286176073262378,0.15706431159259532,0.00015857104908224774,0.0008375136980309948,0.0030499184965842173,-0.06412749984381567,-0.07867392340577964,0.04007335637381487,-0.10258863153598062,-0.08528121525064565,-0.11132651809948646,-0.029432288016219353,-0.018638877423502398,0.15366223345572905,0.09147255191808498,-0.05211224686749937,-0.05337168679686372,0.011486458152557957,-0.04447248029319954,-0.055027885272878385,-0.02513051673270509,0.018826138399300817,-0.04247031715933585,-0.036238513456984915,-0.05321330323951642,-0.028596725765486997,-0.045764533490015635,-0.04637493540363612,0.019331562031095772,-0.05321636297570432,0.037879446796616194,-0.01853858980007302,0.20439906599132096,0.028764343828376004,-0.05129941971109984,-0.032618732174303826,-0.010481111520966542,-0.05081270718607209,0.08112581466980223,0.05737003202593144,-0.013286169696371376,-0.05294876394688753,0.014224728332571976,-0.04757515328887661,-0.018009850986703407,-0.05498442634276978,0.0036800786973892542,-0.045472638906195406,-0.059497348468994626,-0.03858260074364417,0.0401055950493558,-0.05427917353139765,-0.06255110790661195,0.005422508936046473,0.005441456291306337,-0.04603209076766885,-0.059760423063106416,-0.07776099814985081,-0.09489595073189737,-0.020822375454505576,-0.043570992021164726,-0.03522549280553119,-0.030227530171712792,-0.06764311240310251,-0.08286275262327382,-0.054817827916284,-0.04159317143045226,-0.048323046207750214,0.018641378891604405,-0.08993138910356101,-0.08383421522932918,-0.020089052776084495,-0.005028177447136466,-0.01953668545048441,-0.03700098943397226,-0.09643401286031265,-0.0815245322522211,-0.06800707285675346,-0.1069038614423238,-0.09155635849042422,-0.08662502827929566,-0.005126743296540914,-0.04940584699375898,0.041980984529475886,-0.048498406133279576,-0.07178715230009794,-0.034909012038730494,-0.015067758475777264,-0.07131552258525974,-0.06413243911008581,-0.09741509639775708,0.05849504987595618,0.018644615413136594,0.04136214652809501,0.08617671193104262,-0.1051329319730344,-0.034231957126623136,-0.053525859473398746,-0.029110037365782587,0.01394945178686313,-0.08178709722612403,-0.010706524248043914,-0.06677070805121761,-0.09738909402164007,0.031769699517781955,-0.10849132052041112,0.017099536162226002,-0.05658359790558128,-0.06594095621223572,0.0641518847449798,-0.06065548671623061,-0.04341140725403193,-0.05822809314850858,0.027836512952285945,-0.03730556577088321,0.019576830504799605,-0.01804310530419044,-0.01982091916683135,0.015505120848419318,-0.05178565127955608,-0.0024357397274386225,-0.054015853739741784,-0.04880346810255854,-0.009480456447649244,-0.09046734490881041,-0.016746890575740497,-0.06111082062622225,0.07473367980545066,-0.05773126349421334,0.0036747675095290407,-0.06115263946447274,-0.004544420573315081,-0.03807996450137489,0.022127240858018076,-0.04703509241308481,0.03047070383902009,-0.011431592246574248,-0.06718273089825702,-0.05629252957812374,-0.042516450623337025,-0.08861379576365644,-0.06058529320837406,-0.09496871627686378,-0.048124624778307014,-0.04699240945868533,0.019967747501106824,-0.04118288763369805,-0.04010680051895091,0.08591544825939876,0.12811133213942377,-0.094202156656057,-0.040942801962458815,-0.0031418502092902074,-0.05766838332869059,0.15117800305819373,0.017210299714456707,-0.03826666221033664,-0.05280420272400338,0.0785712264472104,-0.03708402895112243,-0.03846308122814402,-0.028428708436585202,-0.04698423519649878,-0.04231941798606756,-0.0036417269068656087,-0.03220019112638496,-0.0008590279202847739,-0.03807832694769134,0.06479402611701991,0.016491701818853448,-0.04843346918126834,-0.04022873147922532,-0.07738449590177952,-0.022080143637476804,-0.043508566490878746,-0.0037750143207015857,-0.06657465253976669,0.08177491550070669,-0.006667208540398293,-0.04027764933901862,-0.0686981305870485,-0.02042305138103124,-0.07509163767769357,0.007594589891670063,-0.04588350733885278,-0.012083749889605842,-0.006568878478961641,-0.015071735201859685,-0.03084484728674644,0.033320391297412315,-0.032918427897780864,0.1607308565051653,-0.05061462795471264,-0.018728040030663695,-0.01829193834660088,-0.050469937938517506,-0.08407317537239761,-0.036641097109521806,-0.04081248833285948,-0.04736616821553136,-0.09061662984697395,-0.04382100076863944,-0.030655674137667382,0.03151091723261094,0.025463966050263718,0.013724935129701146,0.009386111851222642,-0.040811146468808415,0.0035461810527962676,-0.10355590672905182,-0.05162864167436114,-0.11354334401211891,0.011471406881415291,-0.021808587047471736,-0.024484183629571082,-0.018068115573896593,0.016612981241403542,-0.0596221583482922,0.057358718256068496,-0.07029994241631775,-0.09018309739267033,-0.012227535339978042,-0.0808330621749578,-0.08314341517686279,-0.0836568824240771,0.12419701707028726,0.06744500601571864,-0.03031908052266172,-0.046473552259533854,-0.05492131319021232,-0.02909807920383924,0.020060081096170985,0.015798778037153495,-0.07366950259625923,-0.003346489534021578,-0.007912861196192476,-0.028474036608949465,-0.024189830165917275,-0.03467436453941024,-0.06021544797642505,-0.048276476232591056,-0.014972508189080826,0.11600824680806265,0.06701431211886069,-0.03747375427206013,-0.018894514892816152,-0.035311072212045165,-0.0574866115429896,0.11582903275036566,-0.024682189855354298,0.11327162304508744,0.10811113305156456,-0.039540437014014176,-0.04914143699503417,0.09162993403627509,-0.020511666064467683,0.1428743466138933,-0.004289971405120285,-0.06645785594434066,-0.02814646694409234,-0.03550347534797697,-0.030077818446632255,-0.002564228023440309,-0.03316263603774644,-0.02281230569286392,-0.061403399579788485,0.009934255209270859,-0.07015033124379998,0.05892948828433497,-0.07351141933508495,0.007404745899067596,-0.023395632531030913,-0.07226433074799155,0.12776831057966131,-0.009600932979121216,-0.07804578934459075,-0.08807405719130855,-0.01669481630090871,-0.08669394809281411,-0.04357817658059301,-0.0977736319783702,0.03069285495915852,-0.008506378856784815,-0.013867888354934948,0.016084687144590888,-0.022990762665679357,0.02919619244041695,0.004507909126573431,-0.05434286642242031,-0.005572670236945867,-0.0017112624830752674,0.07538067211290653,0.013396196742519254,0.015391607561222355,0.00690041154258295,-0.019185922435120885,-0.11639948633837083,-0.10609128340334298,-0.10478110238500762,-0.10958175402707412,-0.11800942048763666,0.05623572931388902,-0.06243987452601712,-0.050686347528905634,-0.02164831448503919,0.05620199328597515,0.019166155950425624,-0.058002009449242,-0.052029147744069,-0.06513393459003441,-0.1122344708034398,-0.005642732356365057,-0.02108053303423906,-0.026819855948444875,0.008686166874245045],\"y\":[0.005051864734901015,0.0010159944263579447,0.0351657541264594,-0.01463514422973126,-0.012525455748572497,-0.00979428185198564,-0.00972233567433036,0.010146487416134347,0.001004493809768235,0.005414478807871878,0.0014859840567517668,-0.007619158436121563,-0.019101647981523324,0.004551973035523451,-0.026484187219805517,0.001992820714826565,-0.01290894952847307,-0.00353693783709309,-0.0014029126716919912,-0.006194729848134084,-0.008904593570558629,-0.05724435133982842,-0.027926975693956486,-0.024508633578635416,-0.02759971317977818,-0.016170056450488572,-0.010037636402099192,-0.03143113802478932,-0.020387024702382645,-0.052029442821776274,0.0006895771731988498,-0.054319453479346434,-0.06100762590099279,-0.015310450836041588,-0.01867740137410618,-0.011611239167077786,-0.020637063167011156,-0.017255514840627262,-0.042464899397095426,-0.006010809874260167,-0.030483350014207135,0.008250719313185884,-0.009818310821190845,-0.03198018845079535,-0.011692849566290277,-0.054242258918059,-0.056278489813328135,-0.043421041622161004,-0.021637445292994117,-0.061037841787869876,-0.038595433689905694,-0.015255448686069683,-0.0019281233767375603,-0.0387235282259707,-0.027235620822929314,-0.012898172177365112,-0.030993236273762468,-0.02956060247415683,-0.0189624338934964,-0.03599642468627904,-0.023452384605608143,0.013711587260903641,-0.03518098268789985,-0.06762592677210728,-0.07185010183278626,-0.018398179964416127,0.0039073088369518585,-0.0012080006422308012,-0.023036343243951398,-0.04107231337261253,-0.05477104741239953,-0.02634238691962873,0.004548409927061887,-0.02057211978426571,-0.022406177973255295,-0.042047155168570126,-0.02503339822680814,-0.0413254021810115,-0.014629942694604202,-0.04531691149038678,-0.008559205716606495,-0.04561682827565704,-0.017966714210412474,-0.009918732284547515,-0.044185088887365186,-0.049381033758186386,-0.01229247568775545,-0.04750366719526544,-0.008342008460724854,0.01629184047187514,0.005684526694840524,-0.004800594564121548,-0.010129362516527497,-0.03032479280684857,-0.020092811635780854,-0.01554687821561597,-0.011673284499652431,-0.016969527267719824,0.0010755454728460874,-0.003954048760778178,-0.025743140639110408,-0.010199719335337682,-0.03590614670185605,0.004186202927591413,-0.041772776634552415,-0.032334880508010276,-0.01568967213233452,-0.028436253320782347,-0.024459530823893866,0.006849196544082247,-0.0443443285024545,-0.03091234182230022,-0.004872598993310474,0.0021237809088228087,-0.03658533474010937,0.009145026923956903,-0.022882672608839832,-0.02981098931970253,-0.03169782273503931,-0.023844692730260252,-0.0019099046794429939,-0.048368852848362,-0.029830697987725373,-0.018628584253082437,-0.028423474171815843,-0.01629156522378091,-0.022883498235940252,-0.035189640474960114,-0.01975249232409993,-0.011925845330663522,-0.029181385862446882,0.002031007218369692,-0.02215235472799817,-0.05399633490731564,-0.03571160375131659,-0.026398247687923277,-0.023884861045098595,-0.003153034328995514,-0.016522634187786177,-0.027399428852526345,-0.010408598156648668,-0.01653839380516204,-0.013806449960841535,-0.0015197927038063817,-0.013574468573480618,-0.021942507795702962,-0.0013461489697534571,-0.0333470528375633,-0.014597148100134454,-0.02373835435478331,-0.028809503462590515,-0.013403644729336993,-0.0069524828582351135,-0.011190859511587227,-0.006779179146745839,-0.04035756697466768,-0.027630481835248688,-0.008804672274999242,-0.019581298150860238,-0.019536176058731723,-0.009878769163920702,-0.030021066526044308,-0.007131365537786864,-0.0315449908547205,-0.025326155317976645,-0.04534625854598285,-0.030254829013476175,-0.007924203365877245,-0.012982527593391184,-0.004006698533375501,-0.013887988052123353,-0.026089463648457673,-0.00477995864792143,-0.0009967956246969135,-0.03586200553103035,-0.00817908020579742,-0.025556884798568286,0.005567665848596281,0.008501719464879208,-0.03054922976352129,0.003002047708375005,-0.022303799102438245,-0.014064262524987468,-0.01392522767911916,-0.050422514792555044,-0.054202911695739875,-0.0018626730523493141,-0.011507845673331142,-0.03998537626494204,-0.025538814786944485,-0.018042694624091776,-0.017986315390973714,-0.02190960105779202,-0.04061433233774212,-0.022473269591387002,-0.03658280353526617,-0.019516998541102056,-0.04552194770591395,-0.0228971108919344,-0.014017643763006201,-0.011090067571885204,-0.003839299578904039,-0.009674501608649628,-0.03207960190606389,-0.01804149822328753,-0.01605029457895167,-0.037868731897539046,-0.0421591048587083,-0.04882625528178873,0.0030499727793426887,-0.03614362637015021,-0.03593579197248531,-0.027959814167381653,0.007808040337914919,-0.011096861619312047,-0.016963415966687892,0.028550610542329692,-0.02561420091573946,-0.02004112121924117,-0.027847325629869517,-0.042127680160896366,-0.014899757459105335,-0.027431143814788624,-0.028405244948032614,-0.035274028789324244,-0.013330538819246571,-0.007279164736786408,-0.022391414819147963,-0.03176536736141718,-0.036918198037249314,-0.02524228346254392,-0.0034495229686153073,0.006524928293537352,0.0010378488916963698,-0.028876104468556065,-0.036142938874029126,-0.024913052572203075,-0.016758406201077485,-0.03846978196126506,-0.017084237858543808,-0.028196944414146354,-0.00990387981221303,-0.020945188036161914,-0.012834509038812194,-0.01712809715783116,-0.028771120398343317,-0.026953527111064274,-0.008492733424964245,-0.009094519748037155,-0.11287798724660435,-0.02984756916786911,-0.02386244073857602,-0.007460346272700773,-0.02717347802275881,-0.010038126847001679,-0.006484537014051204,-0.024559603825676683,0.0006115591992004252,-0.020481814997156345,-0.02502470904894897,-0.001998164355317237,-0.0236504793127036,-0.01201336357661661,0.014969481810102646,-0.006747467518484811,-0.11387604443340206,-0.016670912790304228,-0.0007881653240502402,-0.0411842978343424,-0.01933500714190277,-0.011579443456737748,-0.0002801921520451147,-0.013998928510673017,-0.015211763307957756,-0.011684335238456673,-0.012284722166247807,-0.006158149897182167,-0.023476520959903276,-0.016415651562635577,-0.02319339008436722,0.008713430503690433,0.00158660668881908,-0.014212500156640835,-0.026140029800219178,-2.9918731166708874e-05,-0.008252955776454166,-0.03483820481905545,-0.017666793817044665,-0.004344683748940139,-0.011510810332640791,-0.004144252019652052,-0.014814817608344764,-0.006422850750510398,-0.014394741381907505,-0.011714873181720844,-0.026452198185512796,-0.0061737377413871915,0.010853462160218172,0.0004033230780700882,-0.009645625331681857,0.0021719746398474317,-0.008104815062174482,-0.017297556924586194,-0.016488048577031338,-0.013212255604528055,-0.01008411633951616,-0.042100595224672126,-0.020005655246554108,-0.004728276708539246,-0.006432662343837509,-0.012808796459430715,-0.024534131267700533,-0.0281687979387335,-0.015531806244765505,0.013558154532742624,-0.03750061321418087,-0.024486000271461805,0.0022359065250479753,-0.0231479893463648,-0.012424420853212121,-0.01394649852763072,-0.02947358243612156,-0.007057526664502236,-0.040764613349887055,-0.008734819795148506,-0.019045824600119943,-0.016714354889780403,-0.02368230217423368,-0.018569976014058326,-0.011232833871865617,-0.02734174911996693,-0.03994632020113513,-0.02024836605453202,-0.03179439679513231,-0.005444620322382782,-0.0410368427030401,-0.014179066444577124,-0.001070158699855268,-0.035605819665763566,-0.04417157845530345,-0.022123081977723866,-0.018816130110693885,-0.008669442736959628,0.011991300169606933,-0.038591680633765515,-0.04869789101327388,-0.04163779120402869,-0.017756989458777274,-0.031300495088930576,0.000100998862961198,-0.01453571030265159,-0.00444177852808249,-0.03206085731389317,-0.05870074940593619,-0.05780504415415915,0.009677880449922556,-0.02394225962213236,-0.02960985592314744,-0.003278652242367553,-0.02843762829633149,-0.012814472417411809,-0.04555328019150157,-0.032351179131719365,-0.02587664100159162,-0.04895588610931508,-0.037421702658495856,-0.04842235683857075,0.0009586119742490101,-0.052116797094102295,-0.00046147599639992625,-0.021304114538406756,-0.0391575501263759,-0.001954083467350986,-0.020793274345418437,-0.012166451962861527,-0.01919148267487161,-0.010862803459389428,-0.01882763595747386,-0.007871996884778198,-0.023556137703954684,-0.036097610516167195,-0.03173444399163861,-0.05466806680351336,-0.028535023049358923,-0.012698677141802731,-0.046392298247877335,-0.11199451540465871,-0.06499047310873818,-0.009000899608694836,-0.02518123155571362,-0.041772776634552415,-0.002311491492198531,-0.014289299534349544,-0.028733315406021906,-0.008562805213121938,-0.0278517087312369,-0.05896396173584089,0.0026082958192149776,-0.042895530494177096,0.0020433263167350443,-0.015734789420950187,-0.03866029895443172,-0.017415482722795382,0.01459343094850144,-0.013415245255066696,-0.017965187658058962,-0.018626230315779136,0.003887101209825058,-0.11203669642474211,-0.006321479441410284,-0.014978732644337217,-0.013621393430564548,-0.027086569812242247,-0.023374463108071442,-0.011913737849257897,-0.012036090894351434,-0.012025521253011363,-0.04106747623838261,-0.021770084232515197,-0.02041901504919586,-0.01052398517763728,-0.08994546341797634,-0.01979238117076964,0.007077607515918714,-0.0007339944365056831,-0.015291075444952344,-0.0001428449694470631,-0.03867094907788604,-0.06535558459616851,-0.03915154987616732,-0.014565043480985449,-0.004213208796694591,-0.013415944660859946,-0.023152192570066628,-0.03075134793940408,-0.028759341565721783,-0.0001037114073914439,-0.02981206634538615,-0.04288346308389076,-0.013371565888540554,-0.013125746446997787,-0.017381042729964002,-0.03510288381528068,-0.023399676046514297,-0.021815780983409427,-0.028684128743928148,-0.020063760706751057,-0.0034311418217017288,-0.01894095664451791,-0.04409685872270217,-0.026938873260175668,-0.018519065790519977,-0.007212321564494346,-0.02528823879897175,-0.009545488777560904,-0.04357114753282786,-0.012360161390873644,-0.02215175652522865,0.0056239003659662905,-0.0024489200421152196,-0.04176301859172623,-0.027806177710493433,-0.04465599500088011,-0.05197095276967219,-0.02342323843944175,-0.02580439530967061,-0.048930761403794855,0.00021820619281929417,-0.00977909316723925,-0.024026612351268708,-0.04801921875133035,-0.04602141130687752,-0.021960058099645935,-0.021979458635354655,-0.059077690999519546,-0.06311745397453154,-0.07627860422193995,-0.022603424324323503,-0.0217977713655637,-0.042370286479917946,-0.025059146967901767,-0.023908296074173063,-0.0013319561949096444,-0.01457773424268558,-0.010591903137917268,-0.00731827292951592,-0.03738748840851396,-0.05029875430399047,-0.0038510092563318918,-0.019988848258236925,-0.0219793175236932,-0.01317118933559008,0.001816922546042328,-0.021284203118766845,-0.01692508097914302,-0.0136715776411612,-0.04605631284784845,-0.024663924550149752,-0.050531821312603614,-0.017655638259450906,-0.02005621722899823,-0.03428124617630409,-0.02437748637721918,-0.008579443130843412,-0.00861164804347394,-0.016214526646425784,-0.02407338235766479,0.0060447859980823256,-0.02140548604653485,0.00514988653298025,-0.02437315919576408,-0.017780099467365317,0.0078100639619947485,-0.020671466400824113,-0.020220017907436216,-0.016963928550863813,-0.015872292449539756,-0.008868879680783759,-4.77193615290777e-05,-0.024510518764782656,-0.002883308825475844,-0.030379370116121993,-0.015073007136768606,-0.0009417133819469748,0.02839325226522175,-0.025584984804688102,-0.01689736121722903,-0.017387548746294484,-0.05254054317902018,-0.013174086758760216,-0.017098009374012096,-0.031518567548630715,-0.0578310756392493,-0.013329717150639442,0.0005796641940762672,0.002035150174207334,-0.017543089206156774,-0.01241661638678123,-0.045099942507293614,-0.014091570179613377,-0.02319106069879634,-0.017038839387086877,-0.04812532390642646,-0.016754173793108746,-0.02096730816579975,-0.015814071541877472,-0.02848123109674938,-0.0029490959142856837,-0.04076939428580186,0.003887101209825058,-0.009879106047696826,0.0019826461298002545,-0.007607044712215463,-0.019685724747993936,-0.007569880670135611,-0.026274263919030122,-0.030376088036847364,-0.012241777570963671,-0.025740215004637808,0.00016018307539899967,-0.01106978637481204,-0.04854267836023957,-0.030826738930977003,-0.017783289977432306,-0.0003489531207060415,-0.01599129149362414,-0.029134705295431444,-0.03330665872119068,-0.00519675115477353,-0.02580024484298202,-0.022292636387756665,-0.005543753854001481,-0.013093997572859499,-0.03780848511409407,-0.04080170262367812,-0.012989879068510471,-0.02783462157931428,-0.006468761150823539,-0.01764008447928112,-0.021972668024373296,-0.008950033817264466,-0.019204621399645978,-0.026401200804088792,-0.017120151801935875,-0.02745669237839835,-0.02293312294371907,-0.015562663800636952,-0.018047095395540277,-0.0335079680911626,-0.01799008344536088,-0.006091942595067045,-0.01001340361714621,-0.015763208722484247,-0.022615144452246154,-0.013781038881298686,-0.005578633170683352,-0.016307351757120753,-0.007719608316554288,-0.012497134726662425,-0.04680239801123266,-0.048798603448649135,-0.014273859265035615,-0.034417747268113995,-0.01084819336952525,-0.023222234271744763,-0.02711491926556579,-0.025998388828276122,-0.011113250059148537,-0.01277090480343666,-0.02006733764533682,-0.012322232564982655,-0.025015269185354575,-0.022851517879378693,-0.014151887441763232,-0.04072741329239907,-0.00011381235644597186,-0.03223174425798867,-0.0013229287322517322,-0.01658899988150099,-0.027055356643577937,-0.01940187393945391,-0.02111867017598272,-0.034706466968854974,0.0009861763666465196,-0.015633091720678605,-0.00371395525869139,-0.02193670419205628,-0.017223601890409664,-0.03740746990198513,-0.05786196184909434,-0.015216272616296132,-0.01150365050244738,-0.020388412831211265,-0.020558302464372742,-0.06103688428937567,-0.02179789311014025,0.00012478759360214924,-0.016670393874880896,0.0010972368276948986,-0.010967692862004285,-0.002804560112012338,-0.02433526253477927,-0.023801967252842865,-0.0374270554146481,-0.04226132722835776,0.0006663299485597149,0.002333765105470169,-0.01169839775207517,-0.007582867939985244,-0.032152357572164,-0.006174155813873488,-0.0437257382380439,-0.02302492684125052,-0.028588722756866053,-0.01573780216600677,-0.012979912333903488,-0.011836148111545134,-0.038458620664454345,-0.005901075518572175,-0.005413542085547646,-0.0062458404926720315,-0.023376960044008237,0.003947582897415473,0.00029812153920206796,-0.026608733164422558,0.002343183350929308,-0.0023097164364375557,-0.027915377647740915,-0.023009052402532374,0.022500691733840696,-0.03383872647566439,-0.009672474639932703,-0.02115901374879432,-0.021015411955606866,-0.027368201247307523,0.009442975464715892,-0.0020428619073763654,-0.07208694987613193,0.00038379196659768446,-0.009655538708170186,-0.015458953154356563,-0.010597278633548118,-0.0040209133801497625,-0.02257114440316729,-0.00512856383391163,-0.025662807141343075,-0.02130318035806597,-0.042888116595531434,-0.024022362468121786,-0.008594437851006482,-0.021666299805742254,-0.009361727833618253,-0.03284217692467116,-0.013169933663731974,-0.006709369885266181,-0.025114700107145702,-0.013974386751160231,-0.009712373220747916,-0.017032502334475386,-0.04717548778414227,-0.010306162160112915,-0.02808596854073338,-0.021251707866297914,-0.04823617964663406,-0.018829877962356967,-0.0161062590278356,-0.058925512605331694,-0.061596584910170726,-0.01167482589247057,-0.014044070296669289,-0.007908129808689202,-0.01683240382078513,-0.01598575153390718,-0.005303873645002146,-0.021361450910542562,-0.012394644844717322,0.0011545876641590423,-0.04951970426419947,-0.04147456102207157,-0.051839818731630745,-6.295488972770877e-05,-0.02595305208807136,-0.007675972486777621,-0.0253370062908851,-0.03961310094340045,-0.06762093677325504,-0.016603921995405235,-0.014295724495307329,-0.010681317977341152,-0.020217193634641074,-0.028302339358926527,-0.007500503480274918,-0.0656421783226685,-0.03576819805257264,-0.02471216922657753,0.003194209473577015,0.004365545967110373,-0.01543689923836625,0.002617627969827034,-0.01858681056659513,-0.013519423005640708,0.003004388557075545,-0.0064070665226402135,-0.023840225868375937,-0.013408790787841792,0.004346651240558261,-0.006381351908303228,-0.015918788275978743,-0.005649935734435044,-0.030443940346221082,-0.0044717486507125535,-0.009538506808088992,-0.00042254582899173423,-0.010872851782445112,-0.012577658047367105,-0.0028564128472831187,-0.02550892805242188,-0.028458911132118386,-0.016886280504751165,-0.013784788370208197,-0.06325399977610859,-0.03552745408891961,-0.03616070098477388,-0.037949383915632295,-0.004553495081085587,-0.018257716531162118,-0.024665397109838595,0.015185059216109397,-0.014992870999841652,-0.011095595442594692,-0.009140205241615414,-0.020256447611848562,-0.016778995227994004,-0.011132186173585693,-0.008144199410444147,-0.024149372896960963,-0.019942113769531342,-0.008809514854491298,-0.017904693037462897,-0.020405302189376726,-0.03591489747668837,0.0007648894052839901,-0.04388750295207899,-0.005505522524938656,-0.026456074591424603,-0.01243673214128664,-0.042021436887511046,-0.026771485125567783,0.00910497146914446,-0.03749481315277696,0.00018900643292733753,-0.01796139165466782,-0.05477511897602199,-0.011073772699640745,-0.03342538544842071,-0.0563391693361064,-0.03429593880466643,-0.02007014291542016,-0.026039595422539055,-0.05045510280082662,-0.026731792511118475,-0.054950872459399856,-0.03232762884422159,-0.021094050814896403,-0.02457258524359861,-0.02052290922321734,-0.06260516190356402,-0.03283059416305526,-0.02828543151394731,-0.056655882731158944,-0.007130724717074676,-0.027312847429935772,-0.06468993288985472,-0.04590831916793644,-0.044726555919797774,-0.04414582621732188,-0.06072363372948143,-0.02912988241965887,-0.03796486457602538,-0.06346476832243308,-0.04027113021029386,-0.004238547785617514,-0.02774344762111652,-0.03266075326468641,-0.01755500938451199,-0.03126227465735412,-0.04913027992732434,-0.04697155071858764,-0.054113393468232025,-0.038843701431275815,-0.041815000710234085,0.018431153988077775,-0.0047472667543847925,-0.04161815258855577,-0.03177884550814007,-0.022740203042649062,-0.049262350461720325,-0.02805563891432746,-0.008370809260912031,-0.023662150321931075,-0.006527439834335884,-0.026514750469341552,-0.016963265486895553,-0.03426298167573854,-0.030554153004851325,-0.009717581516728033,-0.025066705777002596,-0.02197000454175675,-0.02503711785556704,0.012853843955574342,0.00027140820901746696,-0.023394825370108476,-0.0010513065093835229,-0.022466259148240207,-0.0024179818036647116,-0.022056195654223617,0.007552536181855474,-0.027134071422755684,0.012139834121967745,-0.026151540132403804,-0.023807527855226492,-0.013064726372001826,-0.017921680564166372,-0.05406921895545047,-0.021876131002861586,-0.031356097257615026,-0.013914298656220441,0.010505923143885479,-0.013023474787260377,-0.026856168946944786,-0.007644359356673618,-0.026827643121627505,0.0016984070806844414,-0.013436328903297648,-0.023786456313012603,-0.005192082452290858,-0.01622269334896935,-0.016306006655302536,0.014340322378191694,-0.039592264214160275,-0.01029642894019056,-0.020375243970087317,-0.0011519030707125499,-0.0030848968653968746,0.0030275203244618408,0.0011629292086313384,-0.0018635387918135347,-0.0038802895164423714,-0.013759065739699953,-0.008331292805495724,-0.004808971681308493,0.005768437354390178,-0.002832472778463197,0.003917689773531288,-0.005165466904721848,-0.0017120741402549288,0.006165081174768598,0.0026734841093741394,6.1064798886845515e-06,-0.0035764113898385046,-4.143806775630805e-05,-0.04379777970581806,-0.019084212115864023,-0.032972424224320805,-0.032291406302024324,-0.013358799095517269,-0.02290598150266279,-0.009543977777519773,-0.00739992133603634,-0.02321374495612989,-0.03315232282567163,-0.01805095870305332,-0.026860093618223186,-0.014325852283761778,-0.05061483686757486,-0.007155302425908719,-0.013965192605177113,-0.009380140216252584,-0.02463153662878593,-0.017528641848355505,-0.013618720604873227,-0.032223916320380436,-0.0309190863174429,-0.03793280726233045,-0.02469464955733332,-0.022656297434895167,-0.031224254141030625,-0.052850506680582235,-0.03785325724808027,-0.04082099014177977,-0.010687391327146599,-0.010913827029842086,-0.012355596195107881,-0.03431842334729962,-0.016530430748844662,-0.025202890294901713,-0.024044474533813552,-0.012111879556017138,-0.009008492926931927,-0.01671002443096464,-0.017540461038093636,-0.018968336720987685,-0.027882587523527173,-0.02823564219636185,-0.0430178724927869,-0.014387381183796451,0.0025343606418918,0.0062704242401657555,-0.0011996203177179333,-0.007743389446869747,-0.01714658138230236,-0.04478985385388157,-0.041772776634552415,-0.018779585350609834,-0.03073742339544995,-0.026743135673959875,-0.01487371391942704,-0.01540214384918389,-0.048357191978609694,-0.010052114518897221,0.0023820228860117272,-0.017527773958887712,-0.016486278522757174,-0.012666299589702152,-0.00341167887209057,-0.009563018660647193,-0.012074240759545692,-0.03472645753002563,0.004173152942603409,-0.010846097822825973,-0.021864355679728536,-0.013924816483487187,-0.00890381492406438,-0.026535399627372766,-0.012654453542278026,-0.028722754464428776,-0.03692609093038368,-0.0006164415659995284,-0.04002913178329708,-0.0029182037456366695,0.003215558072503774,0.005685234611331623,-0.008236808342220769,-0.01613879652838379,0.0004941983062825505,-0.03153687649398321,-0.02170317417520835,-0.03050778940159851,-0.024023608825558224,0.00034301760754395925,-0.024996163396741558,-0.02890223743098771,-0.035551880283862906,0.020311093351303672,-0.04447708563854503,-0.027250808406253338,-0.020778662888246296,-0.004350656844984136,-0.037468119225186704,-0.054872443771565485,-0.009188037629383763,-0.0033620092917018294,-0.011101652851784384,-0.02103361585948259,-0.006726235409925873,-0.011875285494437001,-0.005354564630604221,-0.011080206021031155,-0.0073172478815060745,-0.012418280928464278,-0.03178484399359218,-0.007475446396357273,-0.022177370843965045,-0.0008349816213135365,-0.01910650744917997,-0.010640186807619318,-0.00027822449929369925,-0.0026795692329203737,-0.021935897501290637,-0.013574201436412588,-0.007415808898799679,-0.03669470967809468,-0.00660366735446058,-0.022187575926799718,-0.013767598467971605,-0.013871086680013252,-0.02305722995479615,-0.029678742696904643,-0.03384566197631277,-0.016255247965416632,-0.059935903365482684,-0.003880638663765829,-0.02642276193106891,-0.023264733924713905,-0.03959789017975235,-0.05268777226296869,-0.05031315885979103,-0.019801500706316814,-0.03026164855788725,-0.056891455402827674,-0.05414354076318456,-0.03048055952627685,-0.038925898651987256,-0.015101193004797911,-0.04518846589808505,-0.027287173080932127,-0.01648518809851621,-0.0393046660476006,-0.0761809980894971,-0.05257578294640108,-0.021428441692157456,-0.03966659245253984,-0.0252737114167023,-0.017800592685337516,-0.060706384612892496,-0.07970435564777072,-0.056199382858629736,-0.05047568958042978,-0.007555972012640976,-0.05084924260918198,-0.03155302424856096,-0.025426901601248768,-0.047277591393718246,-0.02014761803355889,-0.02385289819347376,-0.03561857908875906,-0.03905835706976159,-0.04944146809031112,-0.01838888710400269,-0.03355889635888564,-0.0541967271798025,-0.027195107349354323,-0.03372464784150817,-0.0514553428327617,-0.009494078196065547,-0.03280930746088056,-0.014710166449338584,-0.04731657319303767,-0.023672257111155632,-0.04168923309581057,-0.016070441032758995,-0.025806159928776,-0.011622797837454875,-0.004818446218261661,-0.010951558664951037,-0.04144344880741299,-0.046708018499478206,-0.013184475755405036,-0.02272590905756048,-0.00515223898890209,-0.04157792296972939,-0.01667662635336155,-0.037212825004827504,-0.01618352295545833,-0.04784482108155002,-0.008473452302018403,-0.011739777971720475,0.0043928821182200265,0.0010832660669624363,-0.018299157359748186,-0.022192287597879442,-0.009434396286614202,-0.027916306876712864,-0.03956984769953643,-0.013709864126983525,-0.027936266375921948,-0.01549802886511288,-0.021655390748614497,-0.04424584484327359,-0.04916970054267954,-0.04028972316403689,-0.00303587464078732,-0.016737067112282393,0.0033873905468077346,0.014814833464819788,-0.0024745175629783977,-0.03195802137526641,-0.009489154103463147,-0.006184435883521053,-0.013978879905628471,-0.05334265546721654,-0.025853121634497905,-0.023631122692913627,0.013382888617245948,-0.028250586173791923,-0.01573740367231202,-0.039955396424249855,-0.02465865921753672,-0.023347857109455788,-0.03002688143071206,-0.023254446701770102,-0.04796259167701746,-0.027262115905256467,-0.0456631561551397,-0.05143066592834244,-0.050267810092421455,0.016277164942969897,-0.0073898211198423465,-0.06682782685951828,0.015624686967563502,-0.029849435117392603,0.03549998243015541,-0.028348938341764388,-0.007746794820933669,-0.03262093524872037,-0.02915499648816614,-0.0002986675797674928,-0.010318813498033805,-0.013409053390132061,-0.02829114310353864,3.419877796186594e-05,-0.002026861846145863,-0.027340412987689206,-0.004448003465749589,-0.02744881093887349,-0.0185855668662501,-0.01639267162327111,-0.03715160946085289,0.037767470115881434,-0.023658310581574887,-0.015412340780363108,-0.03234141875188016,-0.014670114018572399,-0.0348173376829422,0.023842772417409293,-0.0005529101301076822,-0.030518409470321882,-0.025728739519688796,-0.017400481336202357,0.0010785723770474819,-0.02151469370890103,0.002868759155066975,-0.015868144610687168,-0.025522166553360485,-0.010413049028066392,-0.03190945824120383,-0.03400246285841086,-0.0342811444918244,-0.03243059302216956,-0.054652562819192965,-0.018760264107853346,-0.04115973229701597,-0.0467120732680903,-0.022633049916085383,-0.07278286933840782,-0.026473294059729795,-0.020730712531072185,-0.07994213247704522,-0.02363911641879458,-0.05173690672129802,-0.01106833687682936,-0.014674051647672347,-0.020408142260893176,-0.04184163407568577,-0.05542695944738532,-0.018169282714788654,-0.01944445147148864,0.0009263653209193061,-0.010374089864135209,-0.03675091500010541,-0.04607286501360628,-0.04253229336656884,-0.01795674353964534,-0.05150372014334954,-0.047718039670693144,-0.01674324243494009,-0.011387984604165185,-0.020403103371887586,0.0018072162795231398,-0.02770215756300069,-0.0480706621651622,-0.019930707140697244,-0.04176085128973524,-0.03204334807274153,-0.031155366140151304,-0.02760570812937045,-0.03383379025318736,-0.010787942618887197,-0.0153923222414162,-0.03365460937507222,-0.02224331381081688,0.003006801115463151,-0.021268761149587034,-0.005532782042754079,-0.03741315554960708,-0.015131711229450997,-0.05207052097936642,-0.018294244453385032,-0.03137256094038368,-0.013628066274204409,-0.03151655138933349,0.005834458007771276,-0.02686341833393968,-0.03071190706670652,-0.004362580078925987,-0.008837994514567814,-0.014848906387269652,-0.04582214523100518,-0.004489955075830143,-0.0362370734923823,-0.011013213285129442,-0.04086530214193296,-0.02276159099527489,0.01307481449649024,-0.03401378132825651,-0.003926810208355603,-0.027690368769186513,-0.022197885298686496,-0.0024318474923026956,-0.04160811583124262,-0.005128434656543496,-0.03143393015436605,-0.008312791162923395,-0.03451723939320705,0.0021662544006922717,-0.03096011909243695,-0.0031927815793500102,-0.024809922184398474,-0.03609443463741877,-0.005256619383173412,-0.010913359191938964,-0.025855934114680075,-0.02989582692181213,-0.014341286227702338,-0.0020298856305795898,-0.047898677725224825,-0.025231806517904017,-0.05125796018311522,-0.025096918299069237,-0.018725145524704622,-0.03769893612867633,-0.02016945662205666,-0.013513044278606601,-0.004000913194350925,-0.04073543279521455,-0.029457351783030248,-0.024796157398114676,-0.0060821960685639035,-0.017361689339906186,-0.038825174443948285,-0.03539280904533927,0.0011661496996678647,-0.02470227941872554,-0.018116047408274133,-0.0259637537467336,-0.03259622176957922,-0.028537304256800712,-0.021789261013207273,-0.023953256517676845,0.006931241569994846,-0.018185074314874997,-0.03743959403807325,-0.01598110075096598,-0.03389587947440007,-0.011174548129525569,-0.00784152475754409,-0.03266702092086759,-0.013510413280330244,-0.02982672604703072,-0.02574214613955188,-0.05691835270698984,-0.007900321140828321,-0.04645553934097245,0.0062877374683167845,-0.009187685225886005,-0.05259426027784786,-0.017693154396083977,-0.05592277718900094,-0.027984457260085298,-0.012178108229760442,-0.015082932222624771,-0.06185970513749842,-0.03347025126907419,-0.0202678023804874,-0.0040858616392876745,-0.0009196469798660861,0.0007979927820800523,-0.005521368141447446,-0.007520904103617126,-0.021535882289260306,0.03936355219485667,-0.034722403083474955,-0.011833728792503499,-0.004588925594467386,-0.007863177374391276,-0.038216439970562975,-0.015649507740992274,-0.022495020200417958,-0.04496364592559399,-0.04787930357368385,-0.0579072905301589,-0.06030830413243168,-0.021511199011596392,-0.02322216159894151,-0.03413664580469765,-0.0187731963173402,-0.03947015113775981,0.0019474223837266016,0.005027854716665993,-0.013001062079663218,-0.008345503602281657,-0.004267229007169554,-0.030357363416139566,-0.012593183220114339,-0.02549152230297124,-0.03384119257021933,-0.006030658645781785,-0.03505609349505672,-0.04373933020089522,-0.04205208190334718,-0.0023433126051994597,-0.0012592057216208056,-0.029892302523446202,-0.013542994378903756,-0.009516194802060998,-0.0374936962336202,-0.006293099238805621,-0.01379968481070788,-0.007028962528885882,-0.004987810885140631,-0.007428155533996088,0.00668936694721816,-0.012516406034196471,-0.0008491259190228325,-0.025919578608836348,-0.015314234065868957,-0.036179103139243406,-0.027261490504671932,-0.00568293595157649,-0.008916367121549897,-0.041753398754457605,0.001265688931743247,-0.013636743419812162,0.011361763646402777,-0.044746103338390415,-0.041355670400555586,-0.043979225429121284,-0.024724737043445345,-0.005270266106394602,-0.02404011725135047,-0.017718658159995963,-0.02911987130840712,0.01599481490763364,-0.01848076669364674,-0.006157144957272283,-0.003568917035340716,-0.004690783117214423,-0.007260246487422406,-0.03254524267771681,-0.006558712085149863,-0.03646662357439017,-0.0031147146941333855,-0.027489030433281256,-0.02777206866939861,-0.018319541561456907,-0.003414058030018793,-0.012759515367965511,-0.021567130165107282,0.012588739004301285,0.02184132264536592,-0.037083415274926125,-0.029770288538064637,-0.036381016906862705,-0.019446930652734746,-0.03673468511808034,-0.03492537029658284,-0.015598850249211762,-0.030470419210406857,-0.018966434130421195,-0.011917717445273408,-0.010919953787631017,-0.005150293872650385,0.0031787967659256565,-0.02384532523077622,-0.0036846880272433397,0.011987161985709819,-0.017529589468272634,-0.002433052419170514,0.0006638779138775472,0.002943672641744127,0.009298047814308385,-0.05199753529520539,-0.04359813031537963,-0.05254605733259629,-0.0516230519606547,-0.05605637229242702,0.0011779133814196583,-0.02857000967118949,-0.028288053562993836,-0.01740540829281253,-0.014725227429131222,-0.01434594053166723,-0.0360518598710348,-0.015321706728537277,-0.039787479903973966,-0.056473150592884304,0.00597469264822977,-0.016150988226593468,-0.011621634759113783,-0.025590792001793976],\"z\":[0.004216240957857935,-0.03642853663030501,0.019496930482351033,-0.01669986883027417,0.0008348393137379656,-0.004419364848767917,-0.024176021031598556,0.05327260940302983,0.017449359909333325,-0.0032652371434817155,0.0576504453761989,-0.013610597655767005,-0.045897405364596466,0.026592219279048087,-0.036751117328030686,0.0018543846588643476,-0.0029536912779570654,-0.004722817736862609,0.09224418736558368,0.04925578154891021,-0.007892134804479449,-0.093148394774527,-0.04229156068111703,-0.04508096528586785,-0.04776993647338167,-0.03992337075063069,-0.059519016588333085,-0.05345372503415805,-0.02750802179802241,-0.10151922322841249,0.01285375640350404,-0.10500708979700571,-0.09890108229878415,-0.03814405565620463,-0.0354146710594837,-0.03909208598981971,-0.05223395521956559,-0.04130797074177111,-0.08694202796821535,-0.012209470391367978,-0.05816967180513901,-0.003751637597250205,-0.013725976978794139,-0.052908014428419775,-0.033034150664266695,-0.09085882766769086,-0.08674359961462355,-0.08331272433725277,-0.027694333596978857,-0.09403627888578427,-0.08500738887415873,-0.02145403540043218,-0.024737719513295786,-0.070758303051079,-0.04522527024308685,-0.02769781310184858,-0.056868285206322894,-0.07764039532644339,-0.04731545901472803,-0.07927715076189545,-0.048568453864124145,-0.03993903016714364,-0.05373977410308021,-0.11477941940549753,-0.1211931845829674,-0.08495034045670857,0.03973947227755996,-0.01582812541522254,-0.0356735008666006,-0.06548586499416532,-0.10845826203688988,-0.08106428344334211,-0.00880584008531767,-0.052132686579052886,-0.005973700255365438,-0.037162811874617424,-0.03276491066863019,-0.07717007744780284,-0.022890246399216902,-0.06252835732644585,0.019769345304403146,-0.09003313484200488,-0.02843410832435497,-0.001599995764499792,-0.08153140015904167,-0.06880063035111947,0.0139080943230849,-0.09279270314247579,-0.008902345776359377,0.011759098859866285,-0.01180039092940279,-0.012924050590646281,-0.0071568416410046215,-0.05876181624179898,-0.029211688976392567,-0.014612576263880508,-0.008091369585024672,-0.01785565743601752,-0.050380349232393554,0.0010284295072916741,-0.04053071949645625,-0.0017416146326950364,-0.08400307323940961,-0.024527015053486412,-0.05964257494609243,-0.08112447539918449,-0.021613677160634445,-0.08605617065382565,-0.03239806916544152,0.0326516184172045,-0.06256901024252805,-0.04575959898717602,-0.017031495897528805,-0.03741200809901602,-0.11242190351243017,0.014947244843784829,-0.02899993107476707,-0.07703179364157531,-0.04369974266984673,-0.04193189778466515,0.006935073861702575,-0.1281291277753857,-0.02923508764254967,-0.04346623605284964,-0.04711850371310987,0.0029214996354706996,-0.06260413461295031,-0.07706811797270803,-0.026457975166467335,-0.03628117362976193,-0.05696023501015378,-0.008975752654469772,-0.04293944985812356,-0.1521643181231018,-0.08416556475574688,-0.04367703875656499,-0.0430442922287747,-0.009657684785908054,-0.025085275993003534,-0.0780027358662106,-0.01727944427215741,-0.0225400643036516,-0.02411160297672354,-0.06125331064641315,-0.022823713203234133,-0.03395635344685721,0.02278348491296638,-0.05828340623336724,-0.015216315337874684,-0.03699588019435585,-0.05987778227991798,-0.0494237102600828,-0.0352601113158098,-0.014347257246450132,-0.02145713895091569,-0.0695839178567368,-0.04247571120461422,-0.0028201101124473767,-0.041914452649563935,-0.030259407005909168,-0.007966540000437363,-0.04772002631279384,-0.026108887262372468,-0.0634415223986216,-0.04271103547806817,-0.07170630842195368,-0.037774948322050715,-0.024081446726557845,-0.035128884173562136,0.02972418361611627,-0.038429784944927374,-0.043200174689529566,-0.015899839254804534,-0.01290476680995049,-0.0677288048392087,-0.01773453870829914,-0.02994293406658857,-0.032422154012641514,0.07684978303497907,-0.037453673487690395,-0.004896507700833388,-0.0359581589577031,-0.03394716205742076,-0.019250255035330444,-0.08927636851216986,-0.09502625439028199,-0.011578869611504769,-0.028388592233736402,-0.0799215359741934,-0.04828115254839119,-0.020871244364748943,-0.03859014946033057,-0.03299425776837848,-0.07799217503353899,-0.05850701689866934,-0.07228553125418052,-0.028491445899679252,-0.09549703060076896,-0.0377932027103476,-0.016434913027775153,-0.016772859427283012,-0.027973301161615335,0.013570840282408616,-0.03517637824481242,-0.03815474803189421,0.025070592008979674,-0.05093446145849549,-0.04842268845381328,-0.1004875131228205,-0.03999320504978754,-0.07565823107332466,-0.04847002000129565,-0.07205144507972623,-0.01320976197402185,-0.03041559904254489,-0.05301704307085495,-0.028481876727515183,-0.06149509675614489,-0.03693390588271686,-0.0649077195766247,-0.07175429396399037,-0.02999528252341622,-0.07647227924248629,-0.05291422576184836,-0.05070361848506987,-0.011403934641111488,-0.001774400612247669,-0.042529511509844305,-0.040910672309715616,-0.048871805087414684,-0.04772302247996257,-0.044014122740993325,-0.011279663212582579,-0.022395089329592208,-0.06906819249264466,-0.06962915266182663,-0.028222954431698682,-0.01785833854272465,-0.054569244030589596,-0.018547038757525166,-0.06510729716408939,-0.0026659375887378416,-0.03132006878999312,-0.027006452311429428,-0.04061354592507471,-0.05771905954468219,-0.030178975428504246,-0.02099014912503487,-0.009993971506985479,-0.28578652141144384,-0.05679575108860327,-0.04979951495625819,-0.010169726166626581,-0.041735041666330984,-0.018501200545474973,-0.0086899478586642,-0.048667774072581466,-0.013229200605692219,-0.037293697932996535,-0.03801287557292077,-0.024340398506396077,-0.0376607307241046,-0.021192765646053477,0.0005583912726276377,0.013750387353048576,-0.28729951837696344,-0.031604284122479384,-0.041096198182898426,-0.11110654953152349,-0.03327508027914545,-0.028051923394383664,-0.00908281587553672,-0.0507033071909423,-0.025782541223455187,-0.024364697909122737,0.02835791256172366,-0.012130168432754655,0.0011848215312764167,-0.025853497114655212,-0.027787311380472034,-0.04421089609678694,-0.013142884898525754,-0.025039599571015852,-0.07163826467124929,-0.022013712934757075,-0.029767379312789964,-0.1037799010150965,-0.05072361501408038,-0.00890519279461101,-0.01389179858140331,-0.004408775809525209,-0.018850670979423844,-0.007323560520710329,-0.022545298418831756,0.029523927208523162,-0.05466704104386041,0.02216942427917198,0.020736564017793162,0.005194783273500712,-0.011166113333209871,0.012835870614400906,0.020337716671138397,-0.02903507620896336,-0.03938628231552282,-0.023155427604720228,-0.01412188009890189,-0.11694229722550825,-0.022260074057387034,0.013597964900800603,-0.013231148933338521,-0.03141577504862784,-0.04619526747940151,-0.051743114802885355,-0.033113189884272407,0.05282876235007065,-0.06196486748807334,-0.032169267320628206,0.018330766978676492,-0.021957338736760444,-0.015129902807100202,-0.039466098092216705,-0.07291971385934211,-0.01866022630143465,-0.0789581758684306,-0.015490121508753715,5.949231083264507e-05,-0.03264624644037813,-0.007236101966387295,-0.06411125264686877,-0.006467007682606481,-0.0791662981092781,-0.06046234330270181,-0.02236356297653361,-0.05688466642763431,-0.0158351372457878,-0.0693612993033854,-0.02430596595968324,0.0027717631096884554,-0.0627004433683871,-0.07415830229690054,-0.040147527148346636,-0.042755929360527384,-0.03632874331516963,-0.020228342151487635,-0.0634993527273841,-0.10527605224933267,-0.06447202901742338,-0.03425990580156482,-0.0744756225281709,-0.05122106393945948,-0.018471439597270937,0.014879738157702632,-0.06942711173809517,-0.10938163179214574,-0.11943162955996843,-0.042953573396850644,-0.07832206267040738,-0.04421367952422904,0.019922868819942294,-0.05003188242134548,-0.020079410093936895,-0.07766187646055754,-0.04706411450008352,-0.04286325618955231,-0.08286010920556595,-0.05485612311695712,-0.09908360721806958,0.0011879498349093296,-0.10465075964444413,-0.006551462797163637,-0.042385534032113606,-0.09330152470214262,-0.011649277506913467,-0.0381702695469806,-0.027985684932483976,-0.031082003455126607,-0.02219135424235148,-0.03631460467970846,-0.0013890637998524697,-0.042253030640750755,-0.07881997196720193,-0.03424009218503325,-0.08712964228886656,-0.033812728437910826,-0.003586623772967204,-0.07564749527028632,-0.28509500184778963,-0.1550239330281202,0.0053085938068195655,-0.025295676698336024,-0.05964257494609243,-0.008366829930089258,-0.0235292628719907,-0.05490709109049908,0.009781127476231185,-0.04456621977514606,-0.09369986690607858,-0.04258870753268083,-0.11559826858358592,-0.007448337639800301,-0.03110097340602537,-0.05377969182058642,-0.03811146393120418,0.023158568056140864,-0.01993932333630642,-0.03425246245899084,-0.011129861296183555,-0.011751262445756827,-0.28495105024968254,-0.0385236617303466,-0.01385743071798493,-0.019645264859407947,-0.04366762936954864,-0.04198113826513242,-0.011087411623398104,-0.04482467862535555,-0.03455363175646743,-0.07912138820306912,-0.07273159240195468,-0.04305993154143604,-0.022164976287219185,-0.2328659858087286,-0.027545893611323247,0.013685001776588147,-0.010599493155692497,-0.021036151262102922,-0.0008191838300182585,-0.08584452621272684,-0.1411608473285836,-0.06808360058011045,-0.01132144007855801,0.005026340279152326,-0.01787110960002072,-0.04391817697920796,-0.061224824857615816,-0.03286727058647902,-0.018602376993312686,-0.044922274181205285,-0.10843397959673276,-0.01950223137258515,0.020580900006592157,-0.03093428932438801,-0.04645027650904198,-0.042983176348593125,-0.010838814888184715,-0.045732581282773174,-0.04279415502788837,-0.010709510277010817,-0.0436892162906202,-0.10533757338716529,-0.048890944471690546,-0.03597886673449215,0.005390519512723962,-0.032989084288390653,-0.014424383489648557,-0.11229628063765186,-0.03021454634443418,-0.0323038198226797,-0.015920476447998936,-0.04939679995294391,-0.06816081100827918,-0.0610737947687426,-0.0872391257913048,-0.0635635633819831,-0.04907351856136066,-0.0369291211599745,-0.09369007594580407,-0.03367998977800603,-0.02017740421204962,-0.019959348688997996,-0.04749228033686781,-0.08760254835751512,-0.029645833579819265,-0.03657322720950198,-0.10939764220338558,-0.11549756706504813,-0.18098313972519345,-0.023414376380044323,-0.055335000819620936,-0.05961450809366158,-0.06459428505139583,-0.06317023011507689,-0.05094308302972529,-0.038159853281260946,-0.02634345068008124,-0.012339308870414685,-0.06959260866949124,-0.07297886147828109,-0.046053305986275536,-0.030397698056769406,-0.04957343855547576,-0.036625372467437176,-0.04374243100440908,-0.04301846783116243,-0.03284639100590357,-0.023220385928566407,-0.07263064408832624,-0.04185387892514553,-0.11561007690192461,-0.04173853339169599,-0.057870386032963836,-0.08225351710164504,-0.04183149311966231,-0.016634660779913938,-0.016050843851051152,-0.045075481935137114,-0.04122563766618337,-0.015653215894963803,-0.04363212368146957,-0.00935744328188731,-0.042563822943413876,-0.031100316179111243,0.03917833414033639,-0.027376855342480574,-0.034764267584022235,-0.02540854142725022,-0.032207971379505713,-0.012430945097888493,-0.013599468935742248,-0.04821120070505846,-0.005254531852529676,-0.05759487745330586,-0.023219031123769107,-0.03752750661074433,0.02220290213947811,-0.03796246099448064,-0.03531474433546048,-0.024480515201391162,-0.07662935122091379,-0.07417094361846595,-0.010345538848778877,-0.05020343151662465,-0.08477077322882468,-0.028325864732024697,-0.005977742317633868,0.011493503147403022,-0.024500394444661955,-0.0729926604111791,-0.07757015140627703,-0.04125520724203431,-0.05185281688620856,-0.03358586631939099,-0.06883803359176004,-0.046273819135163596,-0.027373245998326096,-0.04277945940556544,-0.04951511830954734,0.008729799921055744,-0.0750903388753439,-0.011751262445756827,-0.03857643890571038,-0.03019891111029455,-0.004541492562246789,-0.021499644218749413,-0.004256874291579382,-0.054979933688691925,-0.0466288147819108,-0.030382404565161805,-0.043906735838481356,0.000956643870781541,-0.029210097555398717,-0.08147555969896743,-0.080240757984463,-0.04368380701005258,-0.007658813518320841,-0.036626021614917716,-0.08315711850405383,-0.05754492968029255,0.002229178153499952,-0.043070520411412724,-0.04188683203934398,-0.026121697151007896,-0.01563015988271232,-0.06616032365511015,-0.09565388721237603,-0.028138564687954924,-0.09005603217965545,-0.04198335654206534,-0.03789114722912333,-0.025046857087987227,-0.04079208434755863,-0.06087694161465118,-0.07147000578713086,-0.0025194952294198317,-0.046144117635081305,-0.04673104812350678,-0.05471466311050181,-0.03731922159776137,-0.07485935667651393,-0.02896281363647518,-0.010434224400929702,-0.025497737985056754,-0.02292129379069729,-0.03544700869861787,-0.017523209113840404,-0.015668064623839902,-0.02029459471604499,-0.030042017742485008,-0.012617135427057629,-0.07997059695175333,-0.09764619957580989,-0.0054440949882049025,-0.06002093724746871,-0.008165046571271985,-0.028349060429189915,-0.042914585296240954,-0.042865860173685016,-0.023590261867243976,-0.007893961798900388,-0.03190227619461917,-0.022519107026599938,-0.06308359111169465,-0.027148549564724095,-0.03335302327976559,-0.07124750491953537,0.014844846141675395,-0.05154161414682825,-0.06052062459696343,-0.040785294515174014,-0.04284365054269843,-0.021020164459182627,-0.05095352091140639,-0.06678372581415323,-0.04895613426905017,-0.04190084484759525,-0.014228599782500243,-0.03740930875848031,-0.03466772020920891,-0.07083016872027334,-0.10384873059734125,-0.028911980571504643,-0.019672344531792372,-0.04483959819989021,-0.034627579379908624,-0.10867886775706932,-0.05202682814628149,-0.029571080599034266,-0.03253940642890559,0.005747149435544757,-0.032769252469653044,-0.05161810259650652,-0.07871109737174156,-0.03969237386522569,-0.05793805289490669,-0.06534563390153861,-0.030768485638652768,-0.006247005532944379,-0.011328846383257247,-0.028158875097069016,-0.08227061190701103,-0.013361688515188703,-0.080462632346887,-0.03261466435057151,-0.03786460670486218,-0.02966944559947441,-0.021993008918657648,-0.01633483215259435,-0.07690739589022719,-0.03329811653380335,-0.020361288943211837,-0.01018548736396695,-0.0345220732122479,0.013786147328728477,0.006849849617991294,-0.08919809381246631,-0.020410660135042436,-0.03419936036642041,-0.04501127713590056,-0.05609431409784967,0.03544898401679978,-0.05626751144227898,0.0010879497609182348,-0.060908340475958576,-0.0994907571812472,0.017905361609678858,-0.013134504008367524,-0.03322000390936562,-0.1664218189163198,-0.037995659539483986,-0.024533192461302648,-0.043963437236150024,-0.015875178948827846,-0.01976730758929419,-0.04488327825615769,-0.0038602345715026743,-0.05047921100471266,-0.05643403763306985,-0.0857114557213208,-0.03752066819060195,-0.046635223368765764,-0.04043778572280308,-0.02551118633097587,-0.05965848735641481,-0.07415002179328625,-0.011096544589104697,-0.05296821971884599,-0.028388337293771288,-0.03420773274195838,-0.03752942607988272,-0.10108362489823751,0.006653801922590674,-0.05495694665612524,-0.03167398825641877,-0.09751317371833171,-0.0432511660272285,-0.022441704053404916,-0.11974034495984656,-0.11827421652068425,-0.00934602748003518,-0.018145613117763446,-0.011334756487819116,-0.015558792058121364,-0.028439653907429367,-0.03624798914710018,-0.026686049832856648,-0.018610032045911235,0.016252094504930776,-0.09838805822594283,-0.08455012632037462,-0.10192015599814802,0.010178808846961979,-0.0420534978493324,-0.02132230809973902,-0.06275375341192722,-0.100304813668129,-0.1583477521590803,-0.033067882247613284,-0.019150209206787092,-0.005408352134312955,-0.009091759722025364,-0.046527020528124956,-0.00804578116066138,-0.15423731973646024,-0.06250544711228312,-0.0459904850659796,0.01588663051581316,0.014545683272220698,-0.021224066814149827,0.016148576904595244,-0.032061921375541466,-0.01726303069498338,0.005120158088654062,-0.000527377381912022,-0.03819446840676963,-0.019590069877897808,0.018602362816644635,-0.009773081628416188,0.0004371669431968222,-0.02535160604308187,-0.07518368485423114,-0.00898341070168267,-0.006934069864221405,0.018399848356894417,-0.010632432532485274,-0.02372577342375264,0.01334149723457308,-0.039839846792773734,-0.057272518904389155,-0.02360218368091951,-0.010399890229914988,-0.15905080176061953,-0.08077236627678472,-0.0825980502949822,-0.07969838142384635,-0.006620907639445559,-0.023435273181670508,-0.016730478769231963,0.0013528540300782165,-0.02970612363169395,-0.030307826702101567,-0.013408906303730093,-0.034315323597275224,-0.013155310205298509,-0.009616424428489524,0.009135766992228503,-0.03783405894370041,-0.031151462905877773,-0.0038807852490834074,-0.022506537332107373,-0.05952910404168533,-0.09247837402670209,-0.0012996122367169218,-0.07284866911276347,-0.007925358768014467,-0.047837300810453606,-0.04184179747133643,-0.08196499909850298,-0.009662681395693781,0.012638141676962325,-0.04974914808659881,-0.002810067774272237,-0.054739998567450175,-0.14153268433233687,-0.025608634244734398,-0.06444777989870291,-0.1440278496866418,-0.05350902595711537,-0.03496202555196776,-0.04092570826788145,-0.08505158455079903,-0.04206660220417864,-0.09189661097271351,-0.0631870199685199,-0.03441750359718414,-0.03761421518299375,-0.027452277511483037,-0.14401229065092583,-0.06967836906630141,-0.046764813963176395,-0.12227513058523164,-0.009255292588598075,-0.04182611160429578,-0.14715702523601032,-0.10249374821634116,-0.10588029223295312,-0.08842435096188636,-0.1304938335284094,-0.0627379535633888,-0.08450604296032162,-0.13462132696870263,-0.088011993964206,-0.004893273875917715,-0.05508178577398876,-0.04544799707534013,-0.026870374184388906,-0.06045689686555538,-0.10734251350950755,-0.10927794136763484,-0.11285507361849305,-0.07337516592746832,-0.06144165621284636,0.03033591662523307,-0.006467735057356328,-0.07760807098927698,-0.05588786630743488,-0.03630961274148124,-0.07938077145465143,-0.04971051413314336,0.030881531748661362,-0.0399344226587156,-0.02875821869660813,-0.05339385031674738,-0.0283401674536697,-0.06128605309320491,-0.05173573628262583,-0.012973527890405732,-0.047068338492449166,-0.05006666488252217,-0.04088135678982138,-0.00898028750050448,-0.03975123870301355,-0.03681565694415031,-0.005763823899663215,-0.024065981524325077,-0.01202998412334928,-0.04085312257753118,-0.025132274829647288,-0.04877789915808595,-0.00452758822837859,-0.041401124451990824,-0.05337948231203375,-0.024314423673383753,-0.024545017640769863,-0.1172162526253525,-0.061407162559166666,-0.060924169449018156,-0.033255083719588775,0.003948634131991752,-0.03543588545442857,-0.04872324161909626,-0.03791677097324154,-0.05814943425130314,-0.04306869536538811,-0.012050858329183392,-0.07787336428753341,-0.016182858505349174,-0.030047109509042085,-0.03800020933945317,-0.009463644518034412,-0.07685740763955408,-0.01794058053575803,-0.03069521394250708,-0.0034734070202428005,-0.0007923361949428183,0.004068792364376384,-0.011674475118966798,0.011563727880049444,0.0012240578421391936,-0.029465449067307987,-0.010613772643504554,0.004698008606767784,0.006170324628403005,-0.0012924942957267876,0.035688381180250126,-0.020462103005271917,0.019604652838747287,0.0304319523764072,-0.0026245596288410208,0.0005348924965892892,0.00608895341252423,-0.0031497778522928694,-0.10350457029497902,-0.03218709299896989,-0.041033406535455307,-0.04679354258665101,-0.008767521917736443,-0.04045797442639773,-0.012374396041922236,-0.007765320375479437,-0.03331182166890494,-0.04642109617810377,-0.02009772895477117,-0.04650278488762424,0.008029317567614071,-0.09100756815156666,-0.0009290254704799715,-0.029029329769518095,-0.009180769375776814,-0.04305271553278693,-0.04359740578893527,-0.01568182537828273,-0.07017377899336166,-0.051470235916070806,-0.055055591593048986,-0.058459148290098496,-0.03813669185843302,-0.03814055213282799,-0.07620606982477963,-0.06622618020784414,-0.058828764063257474,-0.027491329623654505,-0.013681498675752576,-0.012400919920572859,-0.06166666798660917,-0.03240053019239826,-0.056865937411901164,-0.028982869789694124,-0.017326816449255694,-0.020388122308579486,-0.02606830853093078,-0.01078048165462571,-0.03478425290396114,-0.003493276538316805,-0.03747397798679014,-0.027562736858439064,-0.01875302576107565,-0.025993702780109165,-0.07838118221367532,-0.0029879061061011433,0.0004394185466807253,-0.0217521152812237,-0.08599284282692186,-0.05964257494609243,-0.03155231784827385,-0.05618241342109393,-0.045968101812032855,-0.03066111943355964,-0.023485844113125615,-0.10457266943898307,-0.01009715783823216,0.0325411711699147,-0.025135076556494367,-0.041771677805913496,-0.010167013104909651,0.00986707618051595,-0.01314761486126123,-0.027478124507611515,-0.04646836398757614,-0.023179419819008684,-0.047016356698878735,-0.03696902002913996,-0.01824780922536721,-0.010969112344433754,-0.039922992232382847,-0.025291092065886662,-0.057902408906045276,-0.08084950537327583,-0.005568514608999138,-0.06934499321235484,-0.02629044656004526,0.007227718162243333,0.02586137074233461,-0.0105461510369154,-0.01538862301156593,0.013727253080670021,-0.051145645837853415,-0.03250157868352774,-0.05450596724131009,-0.04887803566655423,-0.003078841951326246,-0.052492871144176896,-0.046711405664093965,-0.05952684774100213,0.032313752024569875,-0.07229840251606012,-0.04570726846247387,-0.029656820363989103,0.028975062548595224,-0.06799136301964694,-0.12505403307928625,-0.028880903259857198,-0.052865226348703206,-0.024902412705041375,-0.07086977985462509,-0.012137494858618673,-0.02585915082394203,0.0009511873442439681,-0.02341566761675005,-0.043676745711117945,-0.008057085395124517,-0.06047555526373431,-0.004579740350568113,-0.07296073668815989,0.004276503858235625,-0.022685325820446505,-0.017169049701574898,-0.018155917181443357,-0.007586862505091232,-0.04044017726513514,-0.030540304071861726,-0.03395139587375331,-0.09123844472612176,-0.013466704309429423,-0.05363994264482799,-0.024542425488940495,-0.02607608657170837,-0.028095733711176813,-0.06563816241825146,-0.05818912608671768,-0.007492452907258068,-0.1342082549894021,-0.006701426154424531,-0.06076059597730718,-0.047142266785032666,-0.06158156152321683,-0.0728365694019001,-0.07956389620620949,-0.021821986917156644,-0.0423263940274076,-0.07933067826081316,-0.08543231113568743,-0.05376204716126942,-0.05973249436799936,-0.018721088678273837,-0.08547005933815806,-0.044073988440069024,-0.020241971309414918,-0.08085348311165902,-0.14571104551001635,-0.08893537949393478,-0.04794942656130729,-0.06505616845040531,-0.027255882339137373,-0.03367231328515121,-0.13862200883312303,-0.1510030896973586,-0.09446486877490468,-0.07516923244967931,-0.04410795600422638,-0.10586397289140614,-0.057925564660530476,-0.0016420927493567645,-0.11474232506638547,-0.03793195659755284,-0.03201647006391899,-0.06421829073173636,-0.023274114281836317,-0.07951038813579105,-0.028461353119696272,-0.05338879613579718,-0.08677368597310904,-0.05085191735052594,-0.05942363092114125,-0.07794160640567419,-0.00823799810466422,-0.03801703855972398,-0.00466779300437274,-0.07261062578862715,-0.04549042467449062,-0.07668790562514849,-0.02731091746132078,-0.039575903123854415,-0.02258925825455539,-0.01417666384190174,-0.004186713566531114,-0.10392571455109673,-0.10620730118987265,-0.0018141123238020257,-0.04175874685551267,0.015669160207143224,-0.08817853477179162,-0.06658819283742236,-0.057265004530348156,-0.019311844746784063,-0.10420360881047216,-0.03699860061523424,-0.021100469392583802,0.014991031762568179,0.005783217008560861,-0.013116852911616893,-0.04071020321845438,0.03414604237924815,-0.06370909553709832,-0.062203739422306906,-0.047651416536764385,-0.05448503298392179,-0.009366173866934653,-0.01832009775086021,-0.10816660388051362,-0.1099488056843011,-0.10135958374286141,-0.017788141346591676,-0.03867193057347872,0.011588910615458166,0.02443157175630232,-0.005591291891239538,-0.044590231418536644,-0.03126282936057813,-0.027577299457960548,-0.052057319560088994,-0.14821515226272136,-0.059142785839814714,-0.03720168298160495,0.03414456276889562,-0.03391041301509715,-0.02652037667081487,-0.08363821302445996,-0.0569801429823019,-0.031761184451432216,-0.06256834153766462,-0.03034532255182435,-0.07160037004399486,-0.06428790962581259,-0.0726472464874206,-0.07693328529580298,-0.07969067275865237,-0.011572786207861277,-0.015542217422862355,-0.16442812510927918,0.05849325716022676,-0.05597725682561612,-0.008724176290724018,-0.06574833396412777,-0.005646963612743761,-0.071746427025757,-0.08092250895730428,-0.014685731409059908,-0.006784438898803474,-0.01617513377581619,-0.05444622537205404,-0.02935577810020501,-0.00442807261572114,-0.04338718112854962,-0.012045659661791738,-0.03534653588090745,-0.05297658273038535,-0.03685873799844657,-0.11577528607053784,0.038396888058264154,-0.045210558012345685,-0.016613626487417543,-0.061098224592896926,-0.026021241239220984,-0.09032272735525643,0.05261152767784293,0.008788444298998617,-0.05209077039936295,-0.06958514768677813,-0.008503912681416967,0.0007170415412258068,-0.03096020926769704,0.03280789631107453,-0.01760978596183465,-0.03980357581871433,-0.02896581903530824,-0.0735153131665991,-0.0592926909656991,-0.06145664784684061,-0.06631923427387121,-0.09720773513782702,-0.026104481132167283,-0.06346175360376129,-0.0691675659490344,-0.041905804449303814,-0.12301837839741409,-0.05196543780783321,-0.03874888405436511,-0.1383556923906461,-0.0357595514151648,-0.07841651361401512,0.001824888635296821,-0.04022908322636176,-0.001394997679194976,-0.09554841644336944,-0.0840854226810848,-0.03597249745111241,-0.039989996599370754,-0.012060444074043455,-0.026601595528614495,-0.071121597708999,-0.07078186783383852,-0.07322253742839095,-0.03990090525868842,-0.07909920006703212,-0.08109973455737099,-0.029331784644373384,-0.017131421433314482,-0.010147474276234905,-0.016512068736966416,-0.03513564423026111,-0.06862728084200476,-0.03756843265010801,-0.09758980395823058,-0.05669921712639655,-0.06650966091558776,-0.04868837760602384,-0.08080970272332673,-0.008433164379600823,-0.03816506158185381,-0.09013926885083814,-0.03728879301558846,-0.00408056692410868,-0.038305589547902884,0.015644917593521438,-0.07427963666075528,-0.01636995545738579,-0.09816682130170909,-0.006105073781187819,-0.05137311598192341,-0.02151132944774359,-0.05144980271270717,0.04753315969563992,-0.05240056126662068,-0.059517567456769636,-0.03822163024730085,-0.01707424311745002,-0.028676679107348453,-0.10381588832999641,0.006055310872787293,-0.07082303412048144,-0.03491110159275901,-0.07879898414741728,-0.032674872233694044,0.007892730131232949,-0.06736091411650885,0.010034687219260024,-0.04962414612362221,-0.03975419884803265,0.023354851205193292,-0.071524068826936,0.0045030837102197985,-0.05534190025221998,-0.038572728771943766,-0.061218557547441634,-0.027162344208236062,-0.05243153822948728,-0.012330121231371574,-0.05355092373036632,-0.08784211633024894,-0.019322455687160293,-0.0345370788478302,-0.06381250342294346,-0.059393138705312154,-0.02223516725125584,-0.008732406566300031,-0.07287095110053834,-0.04568543346470491,-0.07803230439721409,-0.04386482791622776,-0.043408906719617286,-0.08641979663262563,-0.038669907922566235,-0.03262534862623604,-0.04110218022306993,-0.11577552965716306,-0.04812362964170133,-0.04107236347193798,-0.022638460660788427,-0.03054390774432326,-0.10705535849634495,-0.07113936818376972,-0.003244820605405214,-0.031928581268850655,-0.06038869498928186,-0.049124255096663856,-0.06577006654778489,-0.0538427384238028,-0.03475118552210146,-0.029207570045365727,-0.013529043992099853,-0.03458108284297653,-0.0900080951498527,-0.029261197623770028,-0.07369380705041584,-0.03148353567161382,-0.0029788867473064403,-0.047087422961355097,-0.02442121133725025,-0.06049701039490687,-0.041660033917576354,-0.09960802003886786,-0.003944115889232584,-0.11976742433628804,-0.009762288736305807,-0.007167335236643657,-0.0857822690375316,-0.02876260361285447,-0.09087704180511692,-0.0733538945586914,-0.02094627841356427,-0.03372808091183866,-0.13067821837106738,-0.060875870390563275,-0.04627304181191345,-0.02711458845030211,-0.016212952100902872,-0.04940573336962311,-0.011691429369674163,-0.025661634249250137,-0.02677146117361329,-0.047499721350782426,-0.05531316490844229,-0.03336093899150912,-0.014195048893152564,-0.0037181293805069273,-0.060671318459478214,-0.039155952858699175,-0.04164707778588716,-0.11424090371776435,-0.11784587262322826,-0.1326993585543687,-0.13715721847646767,-0.04467270490854451,-0.04746954651165371,-0.0598104348125247,-0.027158030328205362,-0.06791596321939114,-0.008750252015610645,0.00504155523539085,-0.016795177572349915,-0.01431183010237783,-0.014120009751742853,-0.051635246911699434,-0.04629186475994759,-0.034839027585723305,-0.05475570832382937,-0.008397784344095353,-0.05811833736681559,-0.07793370526404952,-0.07334435509550985,-0.061768676715099856,-0.03821548416476136,-0.058726064004262314,-0.019195706710014047,-0.020787402859043774,-0.052804460064472425,-0.017117372463051547,-0.030982637356918544,-0.006123733919994469,0.009096885267396049,0.0053172556473796645,-0.004082252996965143,-0.02095087401810458,0.0015724010369774,-0.02007013561733376,-0.02469922083148552,-0.06038546557910836,-0.0798244095916417,-0.036684975098435456,0.04402106044934084,-0.054802190251612606,0.01387406122035246,-0.01426096960038077,0.002392073154153982,-0.0594251086560819,-0.10982629631401149,-0.11379248790974163,-0.05969617269735999,-0.006949817240156274,-0.07634148702698161,-0.04898179930636382,-0.09501183432905472,-0.024061948417998313,-0.02687695751970566,-0.003003610197784968,-0.007117073057808959,0.0502786556494576,-0.004796765548696224,-0.06109357696062862,0.0025461520951940227,-0.06654587672083791,-0.0022017112734351242,-0.04854261111752313,-0.06606006361598096,-0.027779871588643437,-0.027443353051641875,-0.018684883418402267,-0.05130624480790028,-0.05164096039993581,-0.0066125147318975485,-0.042428456888146414,-0.04445944924523532,-0.06910717695400875,-0.02711634369118007,-0.05633239635071679,-0.0523699650349256,-0.02514447034967084,-0.06603307885332584,-0.05075272684644956,-0.022010782723419657,-0.0030721684909205973,-0.018603923584378373,-0.0027681693706623095,-0.01346269139212668,0.03224730788026369,0.020076050872366805,-0.03232178660413822,0.017499991292133227,-0.0153545149936876,0.02382832239886606,0.03159638235729275,-0.08375144513078063,-0.06815616375659891,-0.09496894795342443,-0.08526965387967168,-0.09203066116460873,-0.039082629734774714,-0.06770734511010448,-0.05957303519953234,-0.03871838161752709,-0.052694807313059276,-0.04052041852952435,-0.07128028658339504,-0.023714562482319852,-0.07694828333487753,-0.10092612276694589,-0.010712416580906466,-0.04686410875997127,-0.018690278397006495,-0.048357248410041714],\"type\":\"scatter3d\"},{\"hovertemplate\":\"Category=\\u0130dman<br>First=%{x}<br>Second=%{y}<br>Third=%{z}<extra></extra>\",\"legendgroup\":\"\\u0130dman\",\"marker\":{\"color\":\"#EF553B\",\"symbol\":\"circle\"},\"mode\":\"markers\",\"name\":\"\\u0130dman\",\"scene\":\"scene\",\"showlegend\":true,\"x\":[0.030872866221351557,0.07239979960665058,-0.027568672508873966,-0.0028203075392213245,0.011261045536267769,0.020573644828525695,-0.026216497949341354,-0.04310670254427777,0.06645381766122088,-0.04914320799179709,-0.03089973425529882,0.3217353956430237,-0.05763138366150861,0.21145581355746362,-0.04013688798986854,0.17615318603856908,0.012418053985024664,-0.0006310436308452874,0.021078609821208502,0.027394060743631092,0.21816133527765827,0.11639776086200491,0.1175223609252539,0.1587485103469934,-0.05734108796655678,-0.04513583213403988,0.018171698850736016,0.015695509707443624,0.06664965025566778,-0.05776025514358107,-0.009344058765494915,0.0864408160438414,-0.05315197632995732,0.030436895266890463,0.026656764205388567,0.07002910050851335,0.07092948834167948,0.061120278752617996,0.07325862895645534,-0.03445572875405472,0.09929671596322001,-0.03407521154372347,-0.05835776787287093,-0.0633086393869451,-0.02309611057166906,-0.03808769063520083,-0.02244540601561818,-0.010088321174354847,-0.05304866880448556,-0.0043584276442065525,-0.05352097308346319,-0.02266401363833364,-0.04704200704281048,-0.05679190463147068,-0.045148064322178015,-0.026853003287628907,-0.0536847274774037,-0.05355719941619457,-0.03315182266950542,-0.0342641487767908,0.13370292980209403,-0.04052372554921498,0.03246377330654787,-0.04071990805433003,0.005507520225565957,0.08989973399806567,-0.06118627840876263,-0.032909888400291805,-0.06283152715904386,0.005554484591482789,-0.007489234670120421,0.061723361696646294,-0.053431424135713015,0.07296000045618392,-0.008943306886126011,-0.009680413365704623,0.02353518130363994,-0.03038986029931249,-0.025419940809549017,-0.003986777162023978,0.021254615877712296,-0.06164423755563621,0.007557698974724644,-0.04966198663418089,0.0026570131129162616,-0.05132059780535748,0.004359519302815363,-0.055052930117457384,-0.05790919824348938,-0.06335049583970159,-0.07900054609915855,-0.008496952284168715,0.053937760511570315,-0.03238353763792964,-0.05577651859109827,-0.014430510765687559,-0.0475918103032492,-0.06961668502600701,-0.047247947589252305,-0.03176719187987537,-0.039948981494201126,-0.011391143454521833,-0.02590234772173456,-0.04284836088184568,-0.013554928582616919,-0.024074083536548278,-0.0059091295931056964,-0.013794232394486187,-0.03246334571894395,-0.011571651484786586,-0.05886206328734264,-0.06422749447022232,-0.054840236707014926,-0.050210149500356044,-0.07041818404840254,-0.011319231388431604,0.004571545088371255,0.04052731079334155,-0.012521892769381844,-0.03292538949464224,0.044923359940024665,-0.04695350407013424,-0.05899659858022512,-0.032186673197481676,0.04946054055179206,-0.002398814254156536,0.035910812187754965,0.011952034799269326,-0.0172053579933375,-0.010268217561119964,-0.06364072479804087,0.134408506932345,-0.04796862319597892,0.14174301154055688,-0.030871771831841734,-0.03087629092016612,0.13363328416672365,0.006176014330244609,-0.07986120770544604,-0.051708775652551706,-0.04355993216606769,-0.007035000136864986,-0.036726061462668255,-0.03268939479959413,-0.008503129056007782,0.020635098950362543,-0.0659517865538776,-0.02805463757241433,-0.10306776447612648,-0.03647962670861574,-0.04806284688991982,-0.08416306119775195,-0.065223674497721,0.011157820860830232,0.06104023975441731,0.04042466682715639,-0.06262405158588105,0.12788917528090682,-0.04464153569840036,-0.036107323165373066,-0.049082870216549994,-0.045379221350306476,-0.07237010827004861,-0.014824762018754201,-0.06976950126782616,-0.05363429288364832,-0.011871713875629797,-0.017246714972751317,-0.0557262116000218,-0.025953600990676742,-0.06252783177303914,0.010281634353928721,-0.0553144759611523,-0.04197084518531115,-0.024851882448202897,-0.04499366852867969,-0.038419918027176654,-0.04499688061169328,-0.0183567825360086,-0.04925507521797804,-0.014561628976744114,-0.05624321638926558,0.04776846892923354,0.022039304619481594,-0.023868946973184507,-0.041873708014895476,-0.06520400791742947,-0.028293340375044343,0.12413216081673538,-0.06141393770341108,-0.03791517059514824,-0.03947002431782544,-0.0837482216799389,-0.060430075135701825,-0.050863835733554706,-0.04218041192473414,0.05067518332067828,-0.013661367959220903,0.026242119658460974,-0.045299466649674346,-0.0441504889745173,-0.028025481046136332,-0.00758053856222938,-0.028840054242199688,0.23181870682917038,-0.07890896112680432,-0.06598319407628576,-0.03061177177132074,0.10033756448635409,0.028004942860285698,-0.02221612568973963,-0.047306077986798804,-0.09157794438614067,0.009272086355669222,0.017442157063115218,0.12762548463922066,-0.06345177121010484,-0.022629451223483893,0.021916843333118736,-0.027913872328383653,-0.01742152249399509,-0.02355696271208919,-0.04670898211744362,-0.050856505016733985,-0.017821798204564126,-0.037432302273367864,-0.03772643289808759,-0.03485917314736266,-0.07261833897353587,-0.06487466323896462,-0.031633028025161825,-0.026652052012391115,-0.03237048356487321,0.009997786863079871,-0.0316650149940732,-0.10211327997819268,-0.05253467994663037,-0.0846067380577776,0.0018428577454454927,-0.06367215645060724,-0.017167879944880473,-0.05338335583639046,-0.0352341843391685,-0.014408979222098224,-0.022061527243423768,-0.01017858550724689,-0.03496041708710682,-0.048987069475875375,-0.014844220255362726,0.073700514069336,0.07084488523672601,0.11997641681237882,-0.03770793546279152,0.04856113693397067,0.0032173923745632345,-0.03519130488195597,0.015593789049950294,-0.02423578508144563,-0.006988497569963215,0.12844254168090813,-0.05891220699714517,-0.001437950936511682,-0.047471894705005936,-0.028992022008062793,-0.06522518383035347,-0.06248092128006332,0.004437610503487959,-0.036549626897139594,-0.07324958965993618,0.11574896602343114,-0.061692182603837145,-0.05456920209559697,-0.030279026767721682,-6.003350960166157e-05,-0.037837689807594735,-0.0031693543651086487,0.005159529643064583,-0.014847344324978999,-0.09043371116444088,0.07342814181544954,-0.06443065291421124,-0.07308089932205156,0.06688485027076264,0.06930751769543719,-0.006318363865295436,0.10026106162661451,-0.06380610313771122,-0.0827754189459503,0.056736704438606914,0.021174250536234344,-0.030102535905079,0.013540040977228128,0.010576674254553843,0.031059937438221122,0.1486477685977852,-0.069677634513019,-0.025172792137935836,-0.07220116873305601,-0.038922737722710245,-0.017429689279984558,-0.05194997506376293,-0.026334203557837114,-0.043688259384066896,-0.023563722310191493,0.003246874607877546,-0.019753415893085845,-0.00633030822594426,-0.0031743334678138893,-0.02105389402330748,-0.03723340042989296,-0.004922596238336204,-0.0036078612500244655,-0.00127491796699189,-0.02895299207411889,-0.006730048692336789,-0.009652938615949508,0.020650976140387717,0.08149122352109792,-0.07039674332978799,0.004684299522013505,-0.040682208663922366,0.05643015141241429,-0.06809965118585264,-0.06394446220811517,-0.044851807537741005,-0.05271520928866605,-0.011986597486804987,-0.0804658126510278,-0.010672662380509002,0.07599859773221979,-0.053777792659577675,-0.03908853005311635,0.0082131485494858,-0.09720599627330899,-0.02478271592404187,-0.04201807854358565,0.12094593478095347,-0.03151358060862,0.010439081256290018,-0.016359279315892473,-0.024913426423414178,-0.007096194001027073,-0.06263322787659226,0.016254292692454552,-0.07166441737127989,-0.013539380344099775,-0.01336251851094127,-0.06173853868708972,-0.08845684641783365,-0.06307518408333002,-0.043355940617466934,0.010767351492824474,-0.06301245292142583,-0.08930779121212944,-0.08506121922416011,-0.06109540664026205,-0.05648941682492712,-0.049081837415486274,-0.0011876213891114727,-0.0017328568724348404,-0.0921530341452722,-0.03374837135830276,-0.07518311341069231,0.014906133434142639,-0.026427514979129194,0.03549028517058739,0.04180777191998613,0.052054524357067554,0.22189894082417302,-0.09589356721944746,-0.07818153577424274,0.030242488906921935,-0.041023747554344535,-0.05199061387884445,-0.07477930467693177,-0.05217148887859298,0.02633841365052629,-0.08629334063837879,-0.051075468304020974,-0.04451433065248755,0.017338356744747214,-0.031389381158191634,-0.07110748159721611,-0.020632319675410474,0.019338513640295332,-0.0008520436704835065,-0.029956682793125917,-0.06619160202895986,0.17746035440891503,-0.03449885540617663,-0.045230934217161047,-0.051942850445032655,0.0006007001908993904,0.11813473495609633,-0.05353990671409743,-0.030298911930232802,-0.03506092083394484,-0.04050083427760236,-0.0505451036253487,-0.030900924941740453,0.008925345302270843,-0.05348191294423408,-0.018432692491492958,-0.011020858786846915,-0.0643675246561505,-0.014894338896008925,0.034585176541469906,-0.061007292890437874,-0.0631950363162712,-0.051239845340824014,-0.05141260304663039,-0.054552040400136136,-0.042523504692956654,0.034617324807820316,-0.06851906012058721,-0.0693037993962956,-0.023550237611986564,-0.05147086762334553,0.022050890046935154,0.017334575093158233,0.014302507757015838,-0.013679715524788727,-0.028618770959363753,0.039885461891115005,-0.08032412126400848,-0.08440668348432502,-0.06596313459666513,-0.06383829650730975,0.11565414570649427,0.0008702101833610868,-0.09309524145642423,-0.05509206446268291,0.1043870758097333,-0.08904779369380572,-0.10415372615801574,-0.014394085809320346,-0.05624271020806864,-0.044272915144986165,0.014826079680785151,0.03005144103375361,-0.028293346619796447,0.016252815209136844,0.011696288527915174,-0.054396321012653355,0.018018319061104744,-0.01342600346923286,-0.060675413980073076,-0.024752471265612072,-0.025215699188632153,-0.06556722139216441,-0.0611646132284217,-0.08568828238614544,-0.02486112290456387,-0.0400183702833984,-0.012158901773654076,-0.016133464019942617,-0.07016071847599185,-0.0589386362654856,-0.007678110034145391,-0.05645938064941979,-0.039488172698722616,-0.08439499766222572,-0.03778086870964473,0.07833050852676689,-0.018760915828403356,-0.07232763609428511,-0.04305112184561542,-0.024713928112427827,0.022596584471409872,0.02816132742770546,0.016438722360554117,0.0022517059847324485,0.016712851495265947,-0.002071924396957942,-0.029386447231575748,-0.03782465382197571,-0.04624753162618673,-0.09719082854885068,-0.0523181854877669,-0.06334995194774705,-0.041544518938120674,-0.025465560468926084,-0.02090031458532757,-0.0026283175232763465,0.009236402390499462,0.005349089127588979,0.018041181700725866,-0.05992386285815909,-0.08646270646199743,-0.06717508187629434,-0.024760943937661678,-0.028295701326734157,0.00621696001179002,-0.04762455189118454,-0.05874545218293271,-0.05086130671245039,-0.0014361724576902738,-0.040503817807200755,-0.07153728820482434,0.014985757053927991,0.02523170114522135,-0.09038294397176769,0.009721958569264758,-0.0748824947828593,-0.04052220213224627,0.008815607896786681,-0.04030579876247543,-0.04264570977342275,-0.03990812167731031,-0.011076220620869975,-0.04231417128973376,-0.05615044961712706,-0.04200199170161698,0.04239317834251334,-0.03889595155542379,-0.06946745375267616,-0.019419263999947894,-0.08183847801847242,-0.06668515762921952,-0.007052950068895545,-0.03712365261457319,0.06195465426054,-0.020112813107676923,0.015315008824423798,-0.046364884483986415,-0.06968046532585397,0.005737192018039232,-0.036818869039998814,-0.0730392113966839,-0.06813729593161741,-0.023069911160532034,-0.01948932453475167,-0.02932383063488827,-0.0644917268666089,-0.06603346240139184,-0.041654242549638405,-0.012520028388123926,-0.030587717910404877,-0.022349315089770293,-0.004363396240706089,-0.03439977310087757,0.005544531834441142,-0.06078862582899662,-0.056301470771250854,-0.056858301914892356,-0.011942816288436043,0.02733940578677556,-0.050156126270653634,0.02142675007991943,-0.07132334086116963,-0.03710903843992202,0.029583226784033273,-0.013832539238225508,0.005950578768745211,-0.049511944052245856,-0.05309101169918776,0.06073806817971056,0.04969482998190077,-0.017868218868645157,0.03877525759557273,-0.07067367256688425,-0.03409560232341722,0.02400212722388633,-0.021592180812557076,-0.02224607338313974,-0.057014327320251766,-0.07575683544307497,0.016305809100486693,-0.07305354770347797,-0.029815017818025466,0.023594492894832824,-0.009578625702546625,0.032377135721843496,-0.06682682876758396,-0.07718447153248631,0.1184746820395862,-0.021225978749101638,-0.032241381769899456,0.03950532366481684,0.12394402510844346,0.01685374054960284,0.011981532271654731,-0.00784577898174453,-0.04725129604966982,-0.057589222697505896,-0.002561308568413278,-0.0068811092527527986,-0.11035567100343467,-0.06670996486826995,-0.015506113293806153,-0.05225206677560237,-0.008885992367562922,-0.02070174522056103,-0.03403503207655581,-0.006481612530971937,0.055986235588203814,-0.014250421048965092,-0.038025769719646135,-0.04259475630461821,-0.041053351574614365,-0.07547180791586322,0.004877089044720067,0.0056060070219085935,0.004711248680630754,-0.0417366565561362,-0.07167593935194295,-0.0008808038477883228,-0.0985000278329798,-0.022587507234252936,-0.07575168460219184,0.08287583944074627,-0.014412877920733673,-0.07793349373394204,-0.0041161218687936485,-0.01737913751073074,-0.0072988192648211336,0.02136462179154281,-0.06155142947160271,-0.043078373993263266,-0.02681149032334645,-0.046457392612290434,-0.0058099846863655085,-0.028283747256179978,-0.02468982847140294,-0.07693741121262535,-0.08145641754149142,-0.04755513603605837,0.05041309990163118,0.005925216052731055,-0.05585949427502471,0.019633413442285242,-0.03476314422130435,0.0055508265334133465,-0.03054860793030773,-0.08145383217616853,-0.04528636597815674,-0.08368710601888954,-0.010161462769621377,-0.030874969006600264,-0.07597020527623825,0.009420543254072105,-0.04367388095471032,-0.04701391395931986,0.02665918385168411,0.009776604808504454,0.05224673401819278,-0.041651421589021145,-0.033115314460608204,-0.08210739497862005,-0.03570829716215197,-0.012829038698886078,0.02345024613619785,-0.05968427987818753,-0.06099005250518246,-0.02145020020248023,0.008451186542385471,0.03019543676350698,-0.05700170600146554,-0.018379847904487698,-0.005487365342985571,-0.028461435674454458,-0.012796783615523456,0.040909119075850306,-0.06065345812002307,0.039091565740897435,-0.08587080790793,-0.04811524323384236,-0.01647731102203039,0.06792124721609812,0.018480247983835036,-0.06311706812465451,-0.047294825135067005,0.00729300669853684,-0.019331827177963577,0.019886668843226794,-0.05935549504935266,-0.02244379162069033,0.01392343753953926,-0.06245525222328359,-0.041697816014742387,0.034916046116441946,0.08712207867790861,0.006923074609935835,-0.04260651973135195,-0.029899197297164365,-0.020972636398570377,-0.006789958925951378,-0.018546917997594208,-0.053272479593038664,0.0007550783659164304,0.009038243677980687,-0.040880685236925084,-0.042020565842237324,-0.07108799372937251,-0.030598322862009322,-0.07014696714079328,0.1662999629372501,0.08339639434419065,-0.04583760269538494,0.12687781741832013,-0.04831099318835223,0.009651536123877869,-0.06061505448080929,-0.06955933783695939,0.06893636324444591,-0.012826970771575208,-0.02934654959494339,-0.03528493426691434,-0.042994030524100106,-0.025209397190140648,-0.07702283746136143,-0.056466529705406096,-0.036279090003823754,0.11836352938080939,-0.04643750474460809,-0.0508697768348229,-0.013632689418667564,-0.03638054348724613,-0.007900870151100648,0.20734729860673765,-0.01682556640474586,0.0011483339092910755,0.10609530491186929,0.12691831204761617,0.14564013961935504,0.015316198985563995,0.12732869200280583,-0.019859654466779612,0.12411401956274305,-0.027760601651262005,-0.041375041534716585,-0.027132638137945385,-0.0009721519499705833,-0.03411065863194221,-0.0853969286561674,0.13988054394708316,-0.05217047384318505,-0.03113668865697205,0.008483523643889226,0.0026242749935908444,-0.012865470918661326,-0.0020647716732100935,0.005148426933189593,-0.0229377520136984,0.008570515122032359,0.22339285260104852,-0.07378629741121237,-0.07490878901319052,-0.026044404738709295,-0.06104995795097738,-0.039918072793971984,0.06937009777647572,0.08481082751079513,0.18211288346758717,0.022659524189310484,-0.028158255705926956,0.007217267665429005,0.009259585112435834,0.17981244362475618,-0.018244945581610474,0.025752142646531757,-0.07548953095451355,-0.07503639288013353,-0.06830430044020004,0.006760332314294832,-0.0650783406128046,0.00897541909229402,-0.04566649226788709,-0.043967287633312716,-0.07340562313203583,-0.03339614282645169,-0.04682892195128687,-0.013703700287073104,-0.03133431312333248,-0.033669171500547504],\"y\":[0.01565602159316589,-0.026028490457982768,-0.013632953338754025,-0.011473147400175802,-0.0032242895300326853,-0.005316956282055663,0.006224799053347581,0.0036187568636381353,-0.029387787462079044,-0.010362139654046953,-0.01972942942319794,-0.07124399853645152,-0.02523271185211144,0.004583347717846454,-0.02625724278044372,0.0018687423519419845,-0.0008996525814223538,-0.0023796854348047732,-0.013702535477428307,-0.02755697456825042,0.007293827079660938,-0.03384402646614962,-0.03308798727766466,0.0007203675930959172,0.0032042090231318428,-0.03621302099765858,-0.04020139772067781,-0.030327644246628392,-0.05306143966351415,-0.010512883424386027,0.0011770707558607762,-0.026530197271582453,-0.01270538144198111,-0.016655650132176934,-0.05087932866289349,-0.03849926397544333,-0.036786478460930354,-0.019532558677508752,-0.04403680987685024,0.005252795923905224,-0.05769614750833717,0.002115135210638574,-0.003857986358058068,0.0013891131323248672,-0.005988110220750867,-0.029664448823102915,0.004841607532430863,-0.03330049760723839,-0.01005592224875678,0.005983597853314385,-0.0003750510533072022,-0.005792035282882092,-0.024994309307348684,-0.015590026425483391,-0.004709665544919904,-0.0001401770624906203,-0.026868743379778168,-0.02002228494962192,-0.02097513414644332,-0.02364453523310933,0.009998156096307038,0.0008074908262055858,0.004130729361089886,-0.013880598553670836,0.014464469150730103,-0.03347868782256441,-0.001828932357050151,-0.00849745166977698,0.006126146251477518,-0.00036498467140279464,-0.0029747552343269714,-0.02048623987623086,0.006653218311766441,-0.04376948500365134,-0.010693116914881689,-0.00010599823138975123,-0.01920531979022179,0.006336109365525792,0.004474545940052305,0.003005128099597523,-0.00560287591785169,-0.013175375899402746,-0.013415722999904877,-0.021251980045664903,-0.00829403884569381,-0.007531541510404617,-0.018501089247943962,-0.015988204674323176,-0.01591662276430065,-0.011697977168390807,-0.03697352712201109,-0.03203970045198134,-0.016577972341390253,-0.006334688080400324,-0.009329702803043892,0.001245393714452664,-0.033811494938665365,-0.02333030287419329,-0.022633590766832686,-0.00472346556440573,-0.024118012570201505,0.019140257751805317,0.003992512807099389,0.0012918531010215394,-0.007806742138378449,-0.02105110529195067,-0.02704119633927777,-0.0258360662510551,-0.004576555971795208,0.01710981851210916,-0.028046676986603087,-0.018273302203306818,-0.0352080907173881,-0.0061419415296494455,-0.021979698408580602,0.01834790928904954,-0.0015929035734632278,-0.01567585856568391,0.018282434728422364,-0.006572840508145881,-0.03873209330122163,-0.035881640143622176,-0.018317333380797576,-0.019803039171515466,-0.011921805488443253,0.021727752759209268,-0.007119634201544336,0.02028766786388589,-0.0014540759526351064,0.018436475413422825,-0.03471627266021596,-0.06616231148877874,-0.02556433063151502,-0.0584493291861241,-0.00037247880761110465,-0.01710201066823128,-0.0010773020736470616,-0.02341838223763553,-0.02493106431235483,-0.027188413079193535,-0.002095804008719039,0.01219601462263321,-0.005061354362889973,-0.013249830786111076,0.013335539720429682,0.0011903725871394869,-0.013995745408644206,0.00558345552940389,-0.04833830703514271,0.003599556738030724,0.006664293379694548,-0.027777095669935147,-0.02681316084207998,0.0020489794266009354,0.002574400399597033,-0.03111403631939537,-0.004602848450762989,-0.05380059524765866,-0.007232998845258954,0.004045587375982038,-0.010122636209074876,-0.006511849498962278,-0.00691355121274582,-0.0314983374774623,-0.023047057240039765,-0.023303960135147992,-0.045052310849886174,-0.036528491076956104,-0.023773320010290228,-0.0044036283702464825,-0.02187371663075415,0.008699803759083429,-0.008427949946010031,-0.012037471122157448,-0.01888717508933571,-0.009579626947188401,-0.01006278554993722,-0.014356664425896344,-0.014149508547539115,-0.009333865772507523,-0.00996766675568079,-0.030290777747363797,-0.017639450382206375,-0.016982892274479248,0.0024017508425465905,0.003004262141587737,-0.006170895918617357,-0.0003650240900482518,-0.027741220021741137,-0.007795844359720173,-0.02051799612875123,-0.020263808988280833,-0.03503252031242818,-0.04044029186060252,-0.0048166555015042275,-0.011472636592327846,-0.014931084385013145,-0.009268513782963627,-0.04387793908726788,-0.013183529159272572,-0.009244586368535429,-0.04123189528513497,-0.025191408444975166,0.0035660422829691912,-0.07863788751090665,-0.03457025353419051,-0.009799747278817671,0.01291082428915947,0.011359180117895646,-0.002110620897545446,-0.006390626453048804,-0.01400242949419355,-0.03687369813925451,-0.018666413905744608,-0.015506154279530953,0.001353056090251918,-0.015347519011058063,-0.012544660701387706,-0.001953976319621058,-0.018473069327016832,-0.027929097769628812,-0.0122404990854483,-0.007383000200067774,-0.006947192624436823,-0.004024247617831303,0.0020851333621857682,0.0012388454941127556,-0.012026289472497237,-0.0055949324193384515,-0.011061928285957132,-0.024026717883591987,-0.008468909866350807,-0.04052233604291489,-0.04099521462569278,-0.03955030146055178,-0.03390228517830033,-0.02984034223220402,-0.02489940214486252,0.011260151899528158,-0.012872853438448698,0.007132247612623945,-0.01184886313767691,-0.017562517261103073,-0.012428895167549907,-0.022649626403417007,-0.021310677596481364,-0.018561792006568666,-0.0014127471122782394,-0.017210266420241368,-0.04156194910739017,-0.04225295522857842,-0.05418591241497962,-0.0002624075148022632,-0.03611584039358787,-0.023053997304826504,-0.01998533216449407,-0.020148764391032577,0.007455123241100594,-0.012955786975360192,-0.05245314827124778,-0.005427662885243898,0.011274845533503905,0.004455317309554866,-0.018020512960212686,-0.005184723423571687,-0.00979429391124799,-0.027185308476871794,-0.007647808632602508,-0.01187575291328086,-0.0491426070159446,-0.015241015729988483,-0.013501352759227548,-0.01740534304182373,0.011975949219446079,-0.005121011290606535,-0.04123753147979666,0.013368604724179983,-0.024416334643124933,-0.030750543312785004,-0.05411240384740324,-0.017160025694256165,-0.048703535643876625,-0.052875991877328755,-0.03421053347565147,-0.013218152940932574,-0.031733560978798286,-0.035278506580910966,-0.05034935144542237,-0.040806853164783434,-0.03809414414955311,-0.009673507352355901,-0.01870205761094583,-0.009593555394772512,-0.04018612436268749,-0.058266873299115854,-0.012696624873077968,-0.033750625284153256,-0.017458138072637262,-0.03141635809341861,-0.02471502999056113,0.01038084002841898,-0.011757045136422116,-0.005528771178727783,0.0043748373837847986,-0.014326829237892552,0.008015724999014808,-0.03222657910560463,-0.01911485117299319,-0.022150682022692002,-0.025634543630328094,-0.023735869582272365,-0.006591087697130708,-0.003963121278305631,-0.005155011530850254,-0.012963551279913221,-0.008553477069335702,-0.013078912064240732,-0.03697018696786632,0.0019573085266328793,-0.02933957371204463,-0.00144849568889548,-0.023930552391400146,-0.00857495289570114,-0.022061297348429872,0.00788741338505848,0.007840637767794095,-0.015314063856459382,-0.022849194417853165,-0.03802723175366551,-0.0380774549537408,0.007061331166821783,0.0017308595238887592,-0.028437805606058686,-0.04466977337627627,-0.04057214951734443,-0.003808758655258723,-0.04592031259120323,0.0006291166968488497,-0.02107163784278233,0.004341957214142006,-0.004590242756690698,0.0030407913032003235,0.0055657808442477665,-0.025858529334196533,-0.0043570280834075836,-0.0021375104010088438,-0.03589104713962827,-0.02020010656208006,-0.035998478423436994,-0.019811755627313514,-0.0019296305337613568,-0.020702481129388405,-0.011755823473793694,-0.026758443976413013,-0.026395776810316372,-0.01125258269588318,-0.01261090648709573,-0.027297853319576546,-0.02350328254986885,-0.03400802349446673,-0.05048401034611555,-0.013193670158710041,-0.009662265989914681,-0.038175325378406975,0.009787995655091175,-0.05413372884171304,-0.021216154122489714,-0.04132006233800118,-0.054012584945341495,-0.027906376186942142,-0.038810903266053534,-0.028523848181075645,-0.027896285850517302,-0.03011753545090985,-0.024846955430202277,-0.011313511406429798,-0.018992312291724347,-0.04072490618956406,-0.021713699483945845,-0.010884137978255923,0.014753220547363641,-0.019491729461899723,-0.006479100277505742,0.004885080385560601,0.019379979029476916,0.01678985046661453,-0.01924040806552092,-0.022426677718777505,-0.04508677144534313,-0.018482620887859947,-0.008305140163999657,-0.005031560827190078,-0.026605668862615978,-0.05380020469080295,-0.018449680521292713,-0.023959453231599405,-0.011651401456655152,-0.007617343225277526,-0.018541370661171137,-0.008478118430019476,-0.03310588298886316,-0.01756113182065343,-0.013580803464421379,-0.02303595926424362,-0.013013003191519353,-0.023750013255949633,0.06645327461667251,-0.009493802315573192,-0.01840096599702843,-0.007393224888384514,-0.015039807072772674,-0.01687873795788034,-0.008863686852363478,-0.02071550617536305,-0.006999728105751634,-0.0012421850945543054,-0.014684946346218286,-0.007836201833873154,-0.025165968244814266,-0.02415409741653503,-0.02454030138660347,-0.029990322813417958,-0.01652330953955877,-0.035449288819295016,-0.015404941242618165,-0.03179551611717597,-0.024961189370635642,-0.0337835754060789,-0.04168296664939419,-0.016262080715329308,-0.031099458644760176,-0.013940781240559625,-0.05032082266609203,-0.03516975479116631,-0.042196675955017096,0.011334592987047754,-0.041639412280718366,-0.011766925473520958,-0.04499831985733319,-0.02855480779452603,-0.010621460238806842,-0.043298704008677746,-0.04759521272414596,-0.030484444258776406,-0.02882936466477073,0.011222331889844644,-0.016753524909769273,0.01644785806648027,-0.014733114366365863,-0.013917347114174545,-0.03208308923615131,-0.0312148205374844,0.0016328590888642527,-0.014855633977447026,-0.0049049624544347265,-0.007202662893590877,-0.03490896497497685,-0.02365750127615382,0.012153138370666974,-0.02190138698781402,-0.035064069758629135,-0.02756466068234731,-0.01810290180893304,-0.027244367462896338,-0.023234609421672357,-0.014197223583730904,-0.0074390128881956594,-0.007853971802293757,-0.01647232898849633,-0.02543783821346294,-0.03012501805677727,-0.031756305669811205,-0.029241751906370038,-0.026503367659890458,-0.02287147480534876,-0.01428042572831415,-0.010219895620829443,-0.03024397290803567,-0.0007728406282450006,-0.022432773857319115,-0.02067074861616033,0.017704668804196987,-0.019330878350188534,-0.049130366690151826,-0.0008247319422158032,-0.0030351972440880257,-0.03743516078110302,-0.018993971027495483,-0.03873907607912554,-0.01605702828238877,-0.03538318979987441,0.0054763324418113934,-0.004594675962192128,-0.0287023102870077,-0.011910319352954434,-0.0370549762421511,-0.01510535655580951,-0.015781411485110385,-0.02646256060411234,-0.05101002755961696,-0.05222016734601188,-0.032116372882490404,-0.03551720762233327,-0.02227906115055463,-0.03196501124248645,0.011768823845371755,0.012676234334220222,0.004326929503331824,-0.017352038333043558,-0.02191209807965798,-0.007287067027148633,-0.023501211449737835,-0.017123588118025918,-0.02353850197965097,-0.021052252684285278,-0.04348353964391862,0.0009420437439486657,-0.02579031994413112,-0.014313485081617693,-0.013666109465910861,-0.018531641429128793,-0.016116618240020225,0.009984598006088249,-0.02083989419868145,-0.018493728066648986,-0.02070300377337845,-0.03064200986848292,-0.015214786446616654,-0.023449516725898286,-0.027281061747328597,-0.0201776579408317,-0.010724658967662086,-0.01296606886119337,-0.023161945849233458,-0.0054697387841327084,0.0106008284111649,-0.017911090200906046,-0.012025081683943995,-0.009780081233815952,-0.019873494774599258,-0.025493971171370054,-0.022036681080897357,-0.01251087665488385,-0.01798566999331691,-0.014018478644702804,-0.01061916455675789,-0.03167997290735432,-0.02434326471369936,-0.010116157959758895,-0.037734845295920666,-0.044803793572994875,-0.03343086013805017,-0.028962488666608822,0.005090845212448402,-0.01707450826623022,-0.0038558178743275284,-0.02019539558902003,-0.02006466798245903,-0.011834183956527612,0.002676371053831112,-0.029413348435866824,-0.02319865972557988,-0.0392619341483058,0.00797865233614357,-0.00445861821076525,-0.0167255977800256,-0.02960946221874649,-0.014970767135053313,-0.037875622591277726,0.014982471310573786,-0.005120716087506867,-0.023326410688069534,-0.02617654049488169,-0.03719527965175862,-0.009943704125563398,-0.04616386863430186,0.0020027288131459486,-0.0022465737851038166,-0.0035135515124199617,-0.05744178518192461,-0.02202745889506641,0.002080524712395517,-0.031528295913341914,0.01475950708869922,-0.002131666912977788,-0.0343983226170819,-0.004512676913980237,-0.049719092576118104,-0.022064282414329756,-0.016293805332705764,-0.007737751367488207,-0.01746335203366669,0.005410889900205655,-0.01998725371851231,-0.03842619373618574,-0.043111256850717206,-0.012021328778819989,-0.020527155847083256,-0.015345886841323595,-0.03080199083292397,-0.016720747783608946,-0.00561366906603269,-0.010336505733470756,-0.02661231692372569,-0.020774166327598754,-0.02850764985860853,-0.008120432065484958,-0.031842746870869396,-0.005390930637681508,-0.04828551715118448,0.008924540173861498,-0.04058411625309992,-0.029618239924630457,0.004549665669342945,-0.008524762356426999,-0.02884077464918417,-0.009172024132653486,-0.006761257674332936,-0.012160381555844403,-0.005339129857087552,-0.007868625843193075,-0.019214532160866375,-0.00982677140692655,-0.014096058821536792,-0.02103045781654048,-0.012525289715106493,-0.029816293242309912,-0.03845707735903224,-0.030425113299477613,-0.03975893800924599,0.0226461471613856,0.0061011526874173855,0.008306065526661858,-0.02076104419342761,-0.041212859424516766,-0.028068626170777478,-0.03659429965615227,0.0028782962354060334,-0.009009177660406138,-0.01180415559027486,-0.0027024620844776606,0.05950400957418227,-0.006528370194696636,0.0030185714786964135,0.03734297037302485,-0.0012809993530164734,-0.024464206285602204,0.008774917264833103,-0.021348005470161746,0.016467300796783973,0.02011469794812801,-0.017398230782669426,-0.030083187203910896,-0.018990867846498508,-0.007459107512280173,0.05220538312325253,-0.017778791676900014,-0.009325118467330584,-0.017988032449213785,-0.004689049612470107,-0.0344608752573573,-0.004443297862587184,-0.033484370688066124,-0.029318196115709644,-0.022665854471096685,-0.038864568226534585,-0.0281619683026001,-0.0007159022547445616,-0.04504326530736348,0.01889490560595632,-0.007284398249512473,-0.013098348858234743,-0.005180947528507638,-0.006234067825186507,0.008370148639536721,0.0029353062980940503,-0.004838740868527874,-0.008337745207151253,-0.017314738223967105,-0.019185682154410435,0.008301859177934605,-0.025579042529401207,0.0008701721083272368,-0.019165011288977643,-0.007113065025770773,-0.011981278271461952,-0.03859448507862599,-0.009226632937294522,-0.036816013357797356,0.008640002677795394,0.052582629193507605,-0.015273585903701415,-0.02333309635420172,-0.014515988145028132,-0.010261495320127855,-0.012440331845939078,-0.025978251957467616,-0.02346803384293329,-0.02582805018314133,-0.04308564581583832,-0.013346297368463371,0.00430152060676074,-0.0182071775325126,-0.02314692004767667,0.021363897450019178,-0.008812186319610638,-0.017220829878959145,-0.012740084050955,-0.011343497838369401,-0.01591105016251339,-0.018074647605751674,-0.01354077640807341,-0.022472892224973135,-0.06296310373521513,-0.00861163741738949,0.006558477594475339,-0.003921608402406697,-0.011165562314330319,-0.009600108784084955,-0.06462430850587454,0.0013669632545397535,-0.003659426791641235,-0.011933216274747232,-0.021992641726169396,-0.059962904466171245,0.010981179662892665,-0.023341830352590236,-0.005507563627657369,-0.026893591843899615,0.0120978362571377,-0.00046814772373313476,-0.0069741316484169865,0.013195842677064588,-0.004876983745422163,-0.0266570726655748,-0.04691542324635368,0.0031069789602225484,-0.012395682095035767,-0.022687461557695698,0.010424789205868477,-0.012237619571475969,-0.004028798477222649,0.0009137610091474087,0.014574527074528372,0.005445937370540687,-0.04260585869371235,-0.026168788217396176,-0.031302258329316816,-0.009655134772496838,-0.02925931055397999,-0.03231290327176206,-0.04959488718463334,-0.04606616322455406,-0.07298414252519866,-0.0033976011181431572,-0.00428559295375978,0.00294366970604362,-0.004817429645323462,-0.07413662956103827,-0.012531897348223506,-0.03268436952496719,-0.023428981780339857,-0.023947712968430245,-0.020484255457286944,-0.014576831300396552,-0.011669050175206487,-0.016694579767098552,-0.00720164504839807,-0.0068657820544576025,-0.029908271567698097,-0.01692652113067466,0.003777482450972309,-0.006700597493850662,-0.010625584650712032,0.019341018184215276],\"z\":[0.04401875875849818,-0.031331581532062475,-0.007471512330198206,0.024676375922707397,0.025905548163869738,0.0346706274328561,0.06322616891638026,0.029906060912377404,-0.03443983379036297,0.028164569535770016,-0.022205068863878342,-0.17366321937232382,-0.02748955585040154,0.027571605096391734,-0.017994049529810006,0.012005920393969399,0.03795946987214478,-0.002728645430278422,0.04124183772110181,-0.01198693285032897,0.026374474849127996,-0.05911498470876914,-0.05947315278660799,0.010412516916745586,0.00921252945764909,-0.0534266445608486,-0.046967462275849324,-0.0016268804430909691,-0.06855018464547463,0.03902413395079308,0.02144140375651183,-0.04786487878458671,0.01917937086239256,0.011220793915537573,-0.06543729774329614,-0.06531967145703797,-0.08160906605797194,-0.015673227739962492,-0.025074659691091798,0.0624043219036739,-0.11353619084702532,0.025181670514851952,0.018370821289607594,0.052441407312097336,-0.0070621806164179205,-0.018539248145950097,0.05836554586023428,-0.013014855357050187,0.008235757160200818,0.054802593583161606,0.019212995724035096,0.01848893188478263,-0.03562742593130676,0.021348676852627358,0.022528063005813986,0.03798182919329763,-0.021679024524188815,-0.016056567233374845,-0.013502365685859401,-0.01920319649716898,0.05469152841104819,0.044423703811137805,0.023284397958948624,0.018900054305294744,0.03269531649095847,-0.009599858502529118,0.01715513295827941,0.022996507852654138,0.0192200268609215,0.050970670560920285,0.02442641864571347,-0.0125927964868511,0.0320771435817129,-0.07602678127181331,0.0019358878195268364,0.0246452674848417,-0.015010999211838995,0.035976022131080095,0.03284110258330292,0.03760295446911819,0.07073699745493701,0.0008164149426657388,0.06072771920941802,-0.005635434715793764,-0.001215874985738857,0.03607952004555083,-0.025677612851626886,-0.011284559967990115,-0.013361365283475422,-0.005269255587259564,-0.04023113711669605,-0.03440457785299221,-0.009218893986226861,0.036634484180226946,0.041541067304372965,0.025753660601294373,-0.010423482612021239,0.00683140475442216,-0.007250500051249566,0.05206589623954049,0.020201684391944728,0.05635507887196486,0.059944159922573556,0.023563620487558508,0.028476302297329666,-0.008917914025368553,-0.02808890265842157,-0.01628349631195996,0.0479545827658126,0.058979899115249874,-0.03569599412884774,-0.009196092740162315,-0.03815874793722613,0.010823299564772342,-0.010228861362127759,0.060656896988263244,0.029780487964653587,-0.03592601401983448,0.056645524476926355,0.025878365447639887,-0.04641757490958376,-0.014558955202741303,-0.004649056501389191,-0.004515375259089054,-0.023526579154104898,0.06961417377353903,0.02607568947181493,0.08445955055813266,0.019366595063574507,0.05410299217759177,-0.039580450871600684,-0.12213702135674742,-0.021838891726557303,-0.10916058323160079,0.05168888449878214,0.01772738167905179,0.028072254322759185,0.008656386572083279,0.003304083513994177,-0.006470173032734695,0.0227010688604406,0.05427299944442185,0.0338727096291552,0.021802458856810796,0.08202447566864522,0.03351121976458479,0.013361061226375348,0.054925864783761165,-0.06523156866617197,0.050325779227019606,0.047376527285123794,-0.015025514059101587,-0.02289791088727697,0.018634782923369182,0.017250372825715666,-0.04690177802603006,0.04280917764442059,-0.10909096125387131,0.03700748742575288,0.02818022696784195,0.022448595818634696,0.02347122088221028,-0.024252385724286434,-0.03484114010415058,-0.03704498006500187,-0.005056323901672966,-0.06765762801074682,-0.051409920178604,-0.01715985677744891,0.03191541896862541,-0.004059832905776535,0.045569570161899206,0.041795988929235584,0.04491945516733884,-0.016040982872158393,-0.003144680692497686,0.022546758815075906,0.042431251792982454,0.032934855962857085,0.026816221912695313,0.03159512792307066,0.002988333711077241,0.022389050744566097,0.024246466819858987,0.0657484161474413,0.030138383277756316,0.040264874363881105,0.03215907493918604,-0.02937936089581536,0.03933050294012761,-0.016738098604708405,-0.004336769360240627,-0.032920173552172936,-0.07486524864162827,0.03382846958855838,0.04796521002121637,-0.00486861235900012,0.04025772217733592,-0.0720891704954203,0.025735697298241277,0.011086805619668556,-0.04529171219335052,0.005112138437036142,0.0307798618441279,-0.1572920399221816,-0.031571599922446555,0.00910507026927136,0.0550097752826937,0.0687386577367757,0.020018438120635505,0.004971334320658855,0.017761534840290326,-0.017608407374864323,-0.005727139783040635,0.021361029926612988,0.050536295410894785,0.013492397279725078,0.014259319446453183,0.023442727896384057,-0.0019325579237246362,-0.031392817293745184,-0.007379970819694407,0.025367474980906853,0.01644801284168588,0.005411105207643512,0.057063984797173915,0.03650335668394316,-0.03092958593887349,0.008239690659710398,0.01524925285857554,0.001865855032187028,0.0018207372307138907,-0.05097497813187872,-0.050518562951023825,-0.06837903278595009,-0.028784947071691953,-0.027198619079387924,-0.017058968173637456,0.03986976052750912,0.016750643581762363,0.05662071348251069,-0.017287123806460723,-0.007310506648050743,0.024996510899931004,0.00446693782007179,-0.013246501294433414,0.02481012125614224,0.0366654651374968,0.015040328767389926,-0.08197767490411059,-0.08365274160497187,-0.09718451048698103,0.028965059355912953,-0.0700110197319653,-0.025575561369511817,-0.002219917602785052,-0.0025636521674836103,0.043401768957553336,0.022052386580354445,-0.09541660724278415,0.041454499962538936,0.051793697894234644,0.028538004389864237,-0.0036329174245589113,0.06208345202312158,0.042083500317175206,-0.04450049351353022,0.005755895547919266,-0.007500987893298614,-0.0986714387056257,0.020650388598044817,0.03648708861294308,0.01051676139203191,0.052416764697944256,0.02906386627167083,-0.021946653262116603,0.04314570559017576,-0.006505500773080331,-0.004432595990353924,-0.10419204835427905,0.0006485951421469294,-0.024328308334519808,-0.08017149878437972,-0.04582993022952336,0.0026370447885928875,-0.020824572507145703,-0.02776033566288992,-0.05373565484558422,-0.0770853905368459,-0.07291968695854417,0.007489992098594246,-0.008156210864458842,0.016696990480265777,-0.0248898481596429,-0.09803354710321197,0.01277775190767623,-0.04007344172754611,0.004205603456062309,0.0034487901291155986,-0.003994545334261246,0.05147229021512707,0.023192405539773427,0.04948744058120964,0.061179003545057974,-0.010240158768705838,0.04504417216962981,-0.02480146196402724,-0.02085335033751359,-0.007797973196318722,-0.028459096111026004,0.01639066905323846,0.013207831932133226,0.017591803602055454,0.03179487986085676,-0.006322875541093675,0.011916584873164488,0.0007855714392470538,-0.07518358617861177,0.037809995076409406,-0.025737118829913707,0.04528729686797493,-0.033223373445264145,0.04540845163499094,-0.011594358974008304,0.06609609379400154,0.0463709574353452,0.026722823890695552,-0.01743733880368384,-0.02799208435797261,-0.07322360054904138,0.04372071258802667,0.05972459748733494,-0.0247369584910588,-0.0321790904626932,-0.05481747561338349,0.003040564123285123,-0.09854153803127413,0.027780960776953564,-0.024190088455457996,0.06572180692941783,0.031110718840887924,0.0521156161899817,0.06453095449885039,-0.051095078171615294,0.05558301005433029,0.04447244417603298,-0.04786134405820874,-0.0007961515705823908,-0.03907359602004054,0.011873634867314728,0.08073659484773521,-0.02359993515086689,-0.0010581572088984486,-0.004306040096277187,-0.03109543012613164,0.01981305751136916,0.014446021855741741,-0.01856258597402226,-0.02168522149644864,-0.05908593777253261,-0.03502445789385147,0.0053904024537050075,0.006281653996298126,-0.06897785854541222,0.041230096406190096,-0.09958215614195569,0.0068829815757839915,-0.07791388869189202,-0.11758729824797323,-0.02379873251515683,-0.018837275033694124,-0.06556343972616899,-0.005009971034413777,-0.02051694186596718,-0.024244283911409006,0.010481013968397438,-0.04434734170822231,-0.022337254497269348,-0.0008883151451441158,0.014868956639159917,0.07171511540521255,-0.02249601695229534,0.012180072314358144,0.03141759792060993,0.0591930006249326,0.04549086812680438,0.012043914688738618,-0.009176075176208295,-0.1220436707183814,0.013915049648451534,0.023136698393553923,0.012846346960634782,-0.028863535481168694,-0.10913899147281896,-0.011127289183928692,-0.008762200275587264,0.009373690362415343,0.006086203841223664,-0.010220919707356066,0.012036348683919201,-0.05981159588019751,0.014222358660926774,-0.020767951885244846,-0.028975828275122305,-0.002347560834816347,-0.033684345269226236,0.12204786353649376,0.014947723396999272,0.005262300626035589,0.026213318246378722,0.011633110950396604,0.010103853584160619,0.019748901119936005,-0.029588897716065522,0.027655282086414254,0.028858360957910948,-0.01848761001054096,0.02919725334604221,-0.04406870733125116,-0.03147911839156135,-0.05337804575803286,-0.049456124494418316,-0.008439272404384237,-0.050050952620881446,0.003012510879481461,-0.03235032713450818,-0.001997556754991008,-0.04503373026696644,-0.09195094413250941,-0.025496564871424845,-0.013158514895799221,0.00980200345679532,-0.10580556876082033,-0.025122431283848785,-0.047142901101141534,0.04206832171661966,-0.009002141380852431,0.005477330291905788,-0.058510440825161485,-0.020307726980409984,-0.0015944542190710921,-0.04058451704775958,-0.07731319265846662,-0.03244936973207466,-0.01289810380982954,0.0837361620164303,-0.0013757570714991048,0.07424667855938949,-0.0024112100654060773,0.007528148462530903,-0.03251245502695963,-0.03505422228638083,0.023236924756219392,-0.004277922458068625,0.00358456602556237,0.006316529505552527,-0.04191494783966345,-0.00023624199379899036,0.04453644152042843,-0.0005128015602331878,-0.04484443841487218,-0.017630760241188894,-0.03693316007711739,-0.03992105584144876,-0.022336203174955823,0.002242449266048751,0.01331658277868464,0.014506575339082511,-0.021430625440740713,-0.028365153582606023,-0.05213944215668513,-0.024648354398420225,-0.05497880158206139,-0.029665255954293097,-0.03853016648383971,-0.012365731136510513,0.016029324120386046,-0.020560982896052887,0.06299390656479502,0.0004927844115169506,-0.01184044885699393,0.08607537102932485,0.009661094277923003,-0.0628236534898998,0.03133315794200606,0.03705051536039602,-0.04479711202675861,-0.011324072042116525,-0.021876352940002616,0.005501247449385527,-0.05295937478169019,0.03544484349774423,0.015537831320540357,-0.02513654909901102,0.00634563525629272,-0.030994419361223213,0.012678268155270298,0.0009115239589913483,-0.02671595633459377,-0.08840593010963087,-0.07680406421485672,-0.027355875879367924,-0.059182301722358485,-0.02624180560251404,-0.027018993011741252,0.040420813217574035,0.08622988683533268,0.06580359513889508,-0.0008683247535905666,-0.011891187720967174,0.0022920755028500313,-0.017094239887574674,0.008627268807027242,-0.02390760941411901,0.0035828029333517045,-0.05098439393123405,0.03672698125384335,-0.03982243564053254,0.005565076728864818,-0.010238559344302548,0.005887841775747646,-0.02590520528404419,0.043159184719854894,-0.000671567212861156,-0.011591375131693081,-0.000518064874512556,-0.022623480571726688,0.004294282266373232,0.006489217434279127,-0.0075281601228021485,-0.008587285719164292,0.012043423857109865,0.011680440159891925,-0.018200073629557632,0.01838972721811408,0.04528484234373718,0.0049672192466876505,0.02124892676163413,0.04872571431042104,0.008474645297971664,-0.043367231843358056,-0.014426002942869108,0.013671632701700463,0.011559370383773433,0.013488375516745619,-0.015597412019374568,-0.058121553224916404,-0.025781808128990998,-0.002709817740521279,-0.030652628860535065,-0.06251291187264818,-0.06364041224335623,-0.056583413927356795,0.038218325110715407,-0.009609088009951037,0.015496568731873708,-0.0162309084019979,-0.011081785901056372,-0.009107896220811339,0.01230184653636394,-0.027807791012848748,-0.003697149275720976,-0.0638610444775886,0.04213175013200357,0.021388239024168986,-0.0162712629411083,-0.0379801691286936,0.009365560235242957,-0.02442461162163192,0.04943171514291975,0.016543869368441735,-0.02201661275282258,-0.02043161147941647,-0.05482450804054912,0.00405496272037945,-0.08311381555559684,0.03608476704998924,0.02029549075488748,0.025583212355156537,-0.11891007330615226,-0.009388587677001748,0.029395785455989643,-0.0377715112412585,0.086792034495397,0.015368108012499297,-0.021126310310783183,0.019409945008135338,-0.04093670153340129,0.018320862644478422,-0.012044848909630845,0.023897693022168973,-0.0027544860929355577,0.07428182399484838,-0.012266877011572495,-0.05535469066816962,-0.07169906672165169,-0.012566984545908879,-0.02436248860466306,0.004315473683278494,-0.014772204663322722,0.005112191917335479,0.022896270891237615,0.01041317233845129,-0.044063487840225554,-0.0050306699431866015,-0.013650086903640689,0.016489389786649815,-0.033273675610970894,0.02660333304946324,-0.06360376144385517,0.013486886108403349,-0.05381181153789466,-0.018164544493202327,0.05390893879960112,0.017765265950707147,-0.015325109394247412,0.013210272508877742,0.019372725702906785,0.011482882393449549,0.02138317011655166,0.019205000264175355,-0.01601205713404337,0.015591068643327474,-0.0010492174496777116,0.03385200775008454,0.014369208348034856,-0.025590039646874233,-0.07810567939848978,-0.040187605042377415,-0.03981585374131393,0.06293784244144589,0.07545707569843509,0.04567532167749817,-0.010833429824268664,-0.023999740805082694,-0.02896345018519746,-0.023240319749279436,0.051448322066746106,0.03251468638757605,0.004435556431400192,0.015869497577966785,0.041875506196369774,0.004492524689998804,0.03558740315089661,0.046362537708448746,0.018572194897211163,-0.001898203601805903,0.07411241296052427,-0.013514494369867095,0.07755789630599398,0.09858649894446286,0.02596194855384521,-0.01028724720428984,-0.0018617388833474168,-0.007237619947249416,0.11024571058116836,0.006055103959439533,0.0007600551671261266,-0.001303251432516155,0.04001289644498684,-0.03815433556794121,0.03574030578593816,-0.0516037383274104,-0.0036521546783632813,-0.01451589387832982,-0.02715875639468709,0.015299115485910487,0.04922328957759234,-0.06005423653723339,0.08178994605383817,0.03414425718451794,0.015595999354062423,-0.012416375447955812,0.019943868029644703,0.05789617020852645,0.037487078672769035,0.014244582441643672,0.0486293329603795,-0.01323588941190751,-0.03123813030397724,0.06589943303703653,-0.022004710215248892,0.047906336454812466,-0.008956910773572245,0.023823566854700395,0.024108804886771414,-0.03110723394939421,0.0249576799586379,-0.05263179466772567,0.02155965326244568,0.10924609842124607,-0.003965315156458567,-0.010401351240500817,0.005668298986309577,0.015841503606263185,0.004545425664767783,-0.04354657640878608,-0.02059932002328093,-0.012906584698916054,-0.06200331988001137,0.020984127223838436,0.015839912874689832,0.0021867411271543247,0.0017716863074797914,0.07598682542355131,0.013268339064605134,-0.018941952113424452,0.014104554368535235,0.024336241330169445,0.004272481678463595,0.034000222774608464,0.009868554673270484,-0.002545188534929709,-0.11699976982812796,0.01276472483029192,0.027853804193549832,0.03163821594498832,0.002631923933399467,-0.0005401504952355589,-0.11511451064365999,0.044833266064621714,0.006867154804106473,0.028593973446519764,-0.00969251263943686,-0.11944397292889057,0.05937992404134849,-0.012118375348350719,0.0025492218632572447,-0.016816074811847555,0.050513357366426585,0.02621510816947013,0.00993518941563383,0.06095325715189461,0.027469774542918286,0.0011874634018969826,-0.110706099267991,0.02928969258877889,0.0126539574130926,-0.03852621752426602,0.07104612450384426,0.008230173299074613,0.01963830261069709,0.04041924969159889,0.05227921126365522,0.04163942728248114,-0.04351096772867355,0.0015339868027521623,-0.020737077023756757,-0.006473015249341197,0.00017617202691205689,0.018157711168210994,-0.09261876855985475,-0.08194707152708368,-0.14586840317531152,0.04130311958125984,0.030670155552308363,0.02774502176118994,0.004309296792853173,-0.14877180426695996,0.03417904281942136,-0.06562505509069541,-0.0080928952910159,-0.00719058936342448,-0.017418804207066037,-0.05608847910706722,0.01809556693191976,0.027356950335036715,0.03300311321544795,0.02097877996818123,-0.031616691242052034,0.0030779426473483518,0.09175746665438343,0.009139352588577685,0.016956485745835612,0.059759018350958516],\"type\":\"scatter3d\"},{\"hovertemplate\":\"Category=D\\u00fcnya<br>First=%{x}<br>Second=%{y}<br>Third=%{z}<extra></extra>\",\"legendgroup\":\"D\\u00fcnya\",\"marker\":{\"color\":\"#00cc96\",\"symbol\":\"circle\"},\"mode\":\"markers\",\"name\":\"D\\u00fcnya\",\"scene\":\"scene\",\"showlegend\":true,\"x\":[-0.0731225975954292,-0.013809281887802102,-0.10982014037254517,-0.05214347797762588,0.0016815257512800802,-0.02560713625368073,-0.025252284066495677,-0.06265102769370741,-0.02308111191868706,-0.011809084518151066,-0.10932473555883393,-0.040246967435056284,-0.0039050149015648276,-0.048110984506753704,-0.037431465181338545,-0.037204264509532806,-0.14294301788056069,-0.06555984223324329,0.045979158095551774,-0.06831194003624885,-0.06996711026056263,-0.03818149075991379,0.037530888606083834,-0.03977911463045646,-0.0607507463945042,-0.07573697337817299,0.01943329578153011,-0.06332589439047456,-0.06662248681089121,-0.01835772858079106,-0.02778669398861694,0.021046672971295727,-0.028301709484156584,0.07912989475768897,0.017235584913375842,-0.022872656309367276,0.0439111132060685,-0.06311233582015192,0.007897213547391094,-0.027311967373593534,-0.012862710077589115,-0.06521060908196305,-0.09502896076490602,-0.04739499961437097,0.007161272043587174,0.0035158330292976527,-0.06657565440611747,-0.08799216358289375,-0.11237634926853124,0.012039310240060557,-0.02536890659853837,-0.03929209894074474,-0.08758388497776882,-0.03274147562245055,-0.02633202635473471,-0.11248036244117138,0.04391904761812237,-0.049450236179887204,0.03553418092827035,-0.030649009172873692,0.026773073529783878,0.006348349513277822,-0.09331533913952725,-0.13790274972356414,-0.0607986368831308,-0.0509353275440405,-0.07729563067263306,-0.14647064109284197,0.04245126779666063,0.02557153464583065,-0.04992338057954991,-0.09636795445981307,0.03872524006334967,-0.016587533131386157,-0.07742134437283657,-0.02406518405955616,-0.09131420841480084,-0.039676757346677985,-0.03995465887849923,0.01788263343789783,-0.05894941382279924,-0.06161885854082353,0.04149448455057197,0.008548680567543768,-0.010966737856861345,0.0019956841759896896,-0.014488772099571157,-0.1128324374981964,-0.0011128723027623718,-0.0028581645711561678,-0.08311941638894899,0.05009568063606805,0.12018425198354023,-0.017872618877133456,0.04049107013539455,0.02609551637020559,-0.09339829599391943,-0.06859837933973213,-0.020210180845070865,-0.05592489042142947,0.002438754496551739,-0.07116244138226958,0.011626171669221391,-0.031282551759270326,-0.09003591703593711,-0.07248413056272751,-0.05606477903883479,-0.11242475878686041,-0.02793596616687045,-0.028515767528101612,-0.05214461956765533,-0.018228537872391946,-0.03454866050760775,-0.038957900048489355,0.05430861314770963,-0.06333704640326894,-0.05822294724255399,-0.05834676826388832,-0.05362063349775645,-0.026560131800142925,0.01886753841955334,0.020620681152627426,-0.08807784231377584,-0.07218980975828321,-0.053407402392006316,-0.11095486420742731,-0.06701587663189477,-0.03584405090889898,0.024769005869638386,0.059498812603639595,-0.04877292464279621,-0.04437048741811344,0.1492198526150258,-0.06585872375859542,0.062004739741381036,-0.048968864341053325,0.1532689082398408,-0.04573928114529873,0.07954122277335361,0.013673976266769894,0.030858925272277796,-0.05647811370291838,-0.14588069430612752,-0.061598877117574134,-0.07657609414355929,-0.10162232604318193,-0.09741708639708119,-0.12829699606861047,-0.11909407611137185,-0.017785633853114644,-0.10704531900965604,-0.048743089107655485,0.004550944004753068,-0.04445304282281759,-0.017529282803890923,-0.1492703048240472,-0.07245826412850435,-0.07365296015081096,-0.05099984316949785,-0.11040250844697093,0.07646787311768759,-0.07714926092758069,-0.07736323751784036,-0.005347051351267735,-0.14287440533802248,-0.04968348297313688,-0.07817534994309033,-0.138624517683225,0.04145307861063745,0.05047410179705343,0.027344770436078122,0.014108582169686988,-0.10331069598024946,-0.00889602516134317,-0.06077051961681163,-0.05788636218935561,0.0676815522695612,-0.1354970974524516,-0.06931737304998281,-0.021882166144053694,-0.040558616284876656,-0.0164206283153762,-0.014440353699741563,0.09307908021233514,0.035240607260593186,-0.00441541175545425,0.027887393596587158,-0.007977468385256255,0.011803337575064526,-0.0643178293733867,-0.044592060403498994,0.028656171539748317,-0.07293186098723449,-0.07532778149015375,-0.04937251329936665,-0.10131958936288192,-0.03953192732704619,-0.05111537562363625,-0.08366765209659673,-0.05785647191073678,-0.11218928546012832,-0.0503693795409821,-0.06696630935008813,0.002378245357992603,0.045824030948035,-0.06408177553662456,-0.043933953638092695,-0.07683114909286404,0.0009662280059983566,0.05238475247706568,0.013112619493707903,0.040474080458355155,-0.04759556386746486,0.05053722962552134,-0.0036179873657779297,0.05016895640699833,-0.04342847641986262,-0.06604487004895648,0.0501082256501294,-0.025108306894835754,-0.004529547138651066,0.026063763796449133,0.020554620415771364,0.035643320260530686,0.0014045498133618789,0.0041552233458441055,-0.019585367664421236,-0.018341734184029762,0.07713270346337568,-0.035630612023167516,0.06473111921387963,-0.07062527694562791,-0.02217768177995344,-0.0014507840357216861,-0.09455335875383902,-0.004245847169021268,-0.04267604945479634,-0.08228998672717938,-0.07365715092242417,-0.03246551903533884,-0.07430150984502164,-0.09897414123547081,-0.03333293129632295,-0.04500614710530695,0.005817742443932564,-0.07266325972822105,-0.13301611227627172,-0.09806126189077148,-0.030486685925813287,-0.048979085290028444,-0.03823072650254057,-0.07207744044028504,-0.0017554965671251605,-0.05193145536103386,-0.04731226502267302,-0.022742157653239538,-0.013470559497310026,-0.09004847146037408,-0.018264586062263763,-0.01676962162052024,-0.08219849991718735,0.1396242531313268,-0.026788958582891056,-0.03394238619330574,0.001037155665667031,-0.02806900334172644,-0.033343731068090104,-0.11670363760221232,0.13320426909441171,-0.04307218811517697,-0.00748769618378733,-0.005128074921613374,0.028253084434530725,-0.008013209771046451,-0.03062488768966105,-0.045110082222186425,-0.025075316891978457,-0.008197556746967346,-0.04796786449504978,0.2512826470311955,-0.022382312210027455,-0.037514106268590766,-0.023542677267990388,-0.02949371027083993,0.01262473235059935,-0.045603835738083326,-0.01934959771603173,0.24577897150253392,-0.03687289356961521,0.023103142891221336,-0.013260370130384612,0.12981996669436213,0.00655560279673197,-0.02415012093349061,-0.08898327736692761,-0.015374696065727991,-0.06476793377424496,0.25676600237591757,-0.004158852041441325,0.007248912927881778,0.10824079177068444,-0.03802486107696735,-0.052648818197875175,-0.032683571619277145,-0.014213767011509362,-0.0005344206915657473,0.09663888355272296,-0.066569963572743,-0.043378254290150464,-0.061197486704262234,-0.029824325871762397,-0.05792960431169738,-0.06803795044521477,0.05415633351607354,0.1312215791279357,-0.03380557447919693,0.02381173287644054,-0.12024191635391385,-0.12284955965814764,-0.0007384267244172469,0.005831502303932542,-0.04812867632575986,-0.04487045902160865,-0.014147316820732394,-0.08145800487907492,-0.10373883828994625,-0.13176040616559467,-0.006696741404899924,-0.0012749633544268063,-0.054530893735387526,0.005333298013896891,-0.06399242874043035,-0.07095220311473144,0.019112687148640402,-0.13153665853357804,-0.05073077780938271,0.013327985483234375,-0.09608370884631157,-0.0030338045262969814,-0.05431638364781787,0.02075308941524357,-0.05352679143540507,0.0131644733809188,-0.032721335744027594,-0.010672431402605558,0.030853882607568116,-0.08487440652240577,0.13389370924806793,-0.10306889083262101,-0.039504452486629045,-0.04015461618011735,-0.13322864051580324,-0.05541570638173159,-0.036559058965831746,-0.09401090614447573,-0.018053173208741342,-0.02477655107281733,-0.013549110027395278,0.01692993265569759,0.01620521117073536,0.029313693941859377,0.05194289841627497,0.004385188599047668,0.0062705576540299165,-0.03178917333980531,-0.038331569284986745,-0.05349028473636289,-0.020412181015726068,0.046177468462273934,0.030106552194607235,-0.0008504285303749984,-0.04007144533354731,0.023346166052669176,-0.07131161033118366,0.022022985457709716,0.017197050145083968,-0.01145008918831116,-0.04233737813252208,-0.0329519373036154,-0.02346724422904704,0.010463125613494509,0.014178875501383597,0.02263882968549791,0.030428234645509932,-0.09590773829507251,-0.07483655864806213,-0.06322171321239074,0.05821344490423275,0.024358589901099775,-0.05722978341899106,0.054104319728503346,-0.06992230775766967,-0.022197411661198374,-0.07491837180722867,0.0941850151786903,-0.022767959497445776,-0.028632821612035512,-0.031018420450573778,-0.11657764545431216,-0.020248826650998926,0.01823666580512825,-0.018282079646952692,-0.10478028805398942,-0.09919909263672973,-0.04396731498961932,0.007797878701084925,-0.0898267430253664,0.005688427266112702,0.01998438985079905,0.04523598526555249,-0.08436164757271547,0.002120966604085407,-0.09412161357222218,0.021397917041974742,-0.029817111863563173,-0.020445043450448223,-0.032027048779554604,0.014934344146748478,0.024330773167594702,-0.09430434028404508,-0.015875421170804455,0.017418568709092874,-0.03101518614555082,-0.039752206783967015,-0.02563157872669586,-0.08820663952678569,-0.018863796489923985,0.023921923088540027,-0.049917824212615085,0.006310532292966626,0.032246930295440186,0.021445086664067272,0.006879036764871307,-0.024185958777654438,0.03872231887979109,0.027927413123194193,0.08865602061132255,-0.010095394160896103,-0.06640676289501306,0.01652932544662112,-0.01210638918618213,0.006439151794059667,-0.014687064199263541,-0.016423551833410908,0.034734891730259364,0.18398746318606604,-0.021471875109997228,-0.11021056881804124,-0.1495346051658667,0.1721314399473623,-0.09162789026101488,-0.0794339897241313,-0.0002905985974269071,-0.027963938069154492,0.027942964578282437,-0.032459753769323564,-0.03640485772954303,0.28019503825006353,-0.04952378824297423,-0.005702363958867128,0.05841808397027716,0.05608885180334387,0.006158435297016017,-0.03204265573113256,0.008630594521391572,-0.05820524542484763,-0.04332596370723149,-0.025050728635123018,0.004412959359117587,-0.08007667355554014,-0.08917078698301191,0.023761404264694662,-0.03533512331296476,-0.033228815390689295,-0.022948039142418497,-0.060944418378862004,-0.050702256243465665,0.021510220142081673,0.008986169596994921,-0.053076224081901824,0.0024631788417749417,0.028988579662878745,-0.061692637522785164,0.0011617023979332295,-0.09367125968458372,-0.10212543156906645,-0.11422377759589984,-0.08334835544908692,0.05962260809145505,0.025741218515230122,-0.018669229929927818,-0.10433681071537353,-0.11200304012373105,-0.12457641951095719,-0.0926528417200066,-0.034442852950126765,-0.06719310759678333,-0.020476523455358137,-0.05405062450756965,-0.07083823999674971,0.03421105925877229,0.019783744648011976,-0.051503104913661585,-0.015283104513064525,0.01039915842014834,-0.04316171236150381,-0.02349622196089279,-0.03568175598973956,-0.036679004679403306,-0.09169695871176682,-0.08843860809370996,0.0011220734373692946,-0.06887475340047713,-0.01776197907196244,-0.05765209986031964,-0.06628987944222184,-0.03093060819535919,-0.03226080950267277,-0.004760180573650016,0.005972193589624359,0.02237286953120906,-0.0668315663297178,-0.0717049462495018,-0.07815677412610592,-0.09935598825583405,-0.050113092583939096,-0.0046633253227552456,-0.027716191110616493,-0.07014585430494057,-0.011592006028686545,0.029400302062503925,-0.07718992125403812,-0.03851869449136455,-0.05775610565719035,-0.03431548766711255,-0.0250618761772713,0.006545889131325304,0.06416060645446722,-0.01974643123761331,-0.012634007303629376,0.018176367981739053,0.004367562188214716,-0.03076586089554168,-0.0441343115539955,0.03157082720270286,0.08582465359562992,-0.01971663105820067,-0.07306525209783878,-0.08665200339981334,-0.047095321567237974,-0.019878940465885238,-0.0234492694612363,-0.033431751208115035,-0.034218232288680976,0.023076667887692845,-0.03414718995876713,-0.03599198656439825,0.10154332820128363,-0.03564190668961916,-0.07352007300426955,-0.036382638186857275,-0.0549211484102048,0.03910427551372496,-0.033800835494900976,-0.07518911251629362,-0.036261718447311866,0.015508507583927807,-0.020012658102050957,-0.024932349509263138,-0.0620727981914971,-0.04907486788836054,-0.03972514390045345,-0.09220933783175153,0.02964069405241238,-0.06814720514776691,-0.022532843038798135,-0.034952853382001034,-0.04424074309515616,-0.02604860200470767,-0.10476122617149648,-0.0651951823345877,-0.05879222272059469,-0.09870102553187034,-0.05124009516536125,0.013100270997678982,-0.01582557874295702,-0.06944187001219722,-0.06312067205844214,-0.04511514133528633,-0.0310945283565223,0.019528051453840005,0.04906491485414793,0.014215426520641889,-0.07137882271478088,-0.0906912438524567,0.001009557524047454,-0.0376525074567261,0.006313479425919254,-0.040881219253416416,-0.011645798760831293,-0.11339698076481766,-0.09215797658618363,-0.10914938831206067,-0.07663792336122557,-0.08723253748750318,-0.013685942843670716,-0.05881528044459414,-0.019909163142452748,-0.03864704879316107,-0.07721378093864925,-0.06289828455778902,-0.0022122616161177363,0.007531133336429211,-0.000921679958667364,-0.010260618071513301,-0.02053820976265295,-0.0731055642995085,-0.0373800701175237,-0.07382573232158812,-0.043224459485119736,-0.05148285238689379,0.06621396760574455,-0.039254180296609396,-0.007901100220627025,-0.04748428329487584,0.029062829999751003,-0.02801321495632063,-0.06448366160772169,-0.03342919276602829,-0.03175555772507106,-0.015605365106146718,-0.05384734896820381,-0.06200585110207309,-0.0025000614232750205,0.00276066599681591,-0.03526158627765242,-0.0531816090440207,-0.043817537312815256,-0.05949753189564585,-0.04729587827625483,-0.08848978890286828,-0.002505048161512488,-0.031372357864461284,-0.09698396505087653,-0.005189228584980165,-0.005649638095146224,-0.028141098040439367,-0.09087538409018804,-0.10129817765780744,-0.02964282592862497,0.03815855318460315,-0.04266538570815582,0.020740046573581677,-0.03867656366260577,0.0007292445592043964,-0.009239169416572329,-0.11825398099893472,-0.07976798745213919,-0.08597466594350117,-0.08015828456740257,0.0016666992973733633,-0.010222715426731107,-0.11597322476901147,-0.07917038593003911,-0.10697052793617776,-0.04017533823107135,0.003146922868346671,-0.12027986182154285,-0.11208329535829425,-0.0313606708558519,-0.02972341686367811,0.03691906983118441,-0.004770063439586031,-0.06432763686495949,0.016657099969581198,-0.006030030666240843,-0.05249148682860434,-0.008557942738529603,0.03667481875959809,-0.0895146633687374,0.005003085325221872,-0.019897519260212604,-0.04694928170687658,-0.02751562608563761,-0.00276017895451123,-0.06025995875360178,-0.016702142238879773,-0.11337540865922908,0.023611996225092517,-0.04067754512939816,-0.05197160858196133,-0.08157261492052424,-0.08898278697344339,0.018231576157969265,-0.030286530337111647,0.015526221724327645,0.15008681382419686,-0.0441650884582607,-0.004409935770252351,-0.08300320065857247,0.0328251621102814,-0.025665859141918025,-0.058405613904425,-0.030466081936916266,0.14478578053663088,-0.04226985020010791,-0.036874161590036605,-0.07461786316904895,-0.04442022518102073,-0.06097231823135434,-0.07401413083912382,-0.0808533966485235,-0.01853750188894067,-0.12387273060679588,-0.026030437932121564,0.028755669211315442,0.04682267620888124,0.020818444237407124,0.03919974842662374,-0.08361806508345285,-0.07444073424854869,0.01301445307747766,-0.007839490625427178,-0.0684351957351866,-0.08335925707153602,-0.03630851697935914,-0.08816485901192662,-0.124394148958012,0.00543606790525128,-0.023472972754840952,0.023615615983814314,-0.08709015190145937,-0.04071692702289002,-0.12901984299821406,-0.06773925907987396,-0.06265848393676764,0.14439459124596646,0.09148197148045571,-0.03621325692579873,-0.15400048339164227,-0.08879731419332784,-0.048174336932858976,-0.12208747610327121,-0.07224987202360543,0.13587489194063,-0.03438479870567641,-0.053495343668685524,-0.023301457061512047,0.010829988098069154,-0.012409297664939561,-0.01730911696384891,-0.030342237797698273,-0.06872258394122088,-0.0825524523997849,-0.06411579271736595,-0.07886620655797735,-0.09184385473425792,-0.02296712452326812,0.0048378867099264835,-0.0023092680968859946,0.007824848326250645,-0.09078416137130808,-0.08831080735261193,-0.018367022354136314,0.003401244458329632,-0.060367481852233805,-0.055277088810908245,-0.04846809175806456,-0.10272805878128038,-0.025333507010052797,-0.07538178633380062,0.00264810410402629,-0.05906193151619101,0.015289184001705008,-0.06513974176586936,-0.057514639892467426,-0.06640989233392675,-0.06430969656421115,-0.07128509688620657,0.003229055443958238,0.02488391369397915,-0.018824988094900855,-0.02528635234795691,-0.06034114725389692,-0.06925606613747912,-0.03648484924400687,-0.057405931721124105,-0.0857586109463619,-0.10860864742450316,-0.020007679683755664,-0.03357808750063616,-0.04147443157713033,0.15532688180313434,-0.04661922774310177,-0.05940947071639619,-0.01883551126361686,-0.0769078558646281,-0.053548904145095964,-0.06472986149732637,0.01988413080470689,-0.0630341339733847,-0.013567291022966034,-0.10349289436456993,-0.07865831460455543,-0.046051187323015066,-0.09434992646161937,-0.07506432529819301,-0.014355146921396516,-0.06269030718191762,-0.13558233286261814,-0.11268039131176409,0.006933741124065176,-0.04252846824027717,-0.028087503543361345,0.030579050160200114,-0.10189097402392147,-0.015516295244218138,0.058939208578467836,-0.03796651355519991,0.17080928708799492,0.0005292030144293345,-0.032341198881458054,-0.03231063099428454,-0.07175076889964593,-0.01452091715418772,-0.02415027325688131,-0.10471755214491653,-0.0414463572047238,0.043208654003235064,-0.06936726616219839,0.16402727229525033,-0.01984639515965364,-0.05493920958140893,-0.0255366060675672,-0.049734794464435864,-0.02075247596453756,-0.055261497046304,0.07994918043673688,-0.08419707791343362,-0.07109301810351464,-0.13365362286665222,-0.0461850066901548,-0.02411710199508862,-0.06963695638582101,-0.015541636408167098,-0.040790388280538964,-0.04537938833673035,-0.08438610334322788,-0.03808247761473515,0.023346074939676383,-0.011127852282016406,-0.056802530023160304,-0.08924637110125619,-0.05496834622366183,-0.05023613841339382,0.0026619149472882193,-0.02206953333931627,-0.060614885824716025,-0.10837974972635435,-0.11828118386440928,-0.0696106760272426,-0.06673935040585277,0.0386935605277267,-0.027383264828753157,-0.0792180907634128,-0.04339424611138779,-0.053547481282951497,-0.08723479118649498,-0.13185324584323266,0.002907567815987229,-0.10551310861081013,-0.1699973725968335,-0.029578844203736514,-0.07618462055411296,-0.014224969816323908,0.03563139436734451,-0.047560398911497305,-0.0962422894095684,-0.03697727779703771,0.053873388910789154,-0.028781486863749733,-0.03236120658844446,-0.07210207410584667,0.0002500779464010554,-0.05627795012986495,-0.02598432867246359,0.002839040464866072,0.037389777845622904,-0.022265437632266762,-0.019441007115624027,-0.05800466721343752,-0.002147348751823614,-0.02554263490554607,-0.11732017922421334,-0.0190285402961994,-0.023365259034839686,0.10650797710630659,-0.07149469214082628,0.016212243228940965,0.027409513986414474,-0.05350435203637096,-0.15588539977311722,-0.02943851853772752,-0.10603502438630234,-0.033935061774946346,0.05855155440299669,0.008678950776818616,-0.012910501792932964,0.14194330618135176,-0.08221297735550473,-0.060562274904800845,-0.015563944714571523,-0.07884681361023546,-0.02971521778372758,-0.005354362081234519,-0.06675751692706852,-0.03663882857052063,0.008035608006582052,-0.0891872243009893,-0.023747244317264757,-0.06101307427426218,-0.04485925671489986,-0.031076443555911205,-0.06837393437565144,-0.08168272883477609,-0.021085241041679866,-0.11561672284352364,-0.002048738636097801,-0.12348536964520178,-0.03491103488531122,-0.026253109720085113,-0.0571964166381293,-0.017034886031842552,-0.04747765493357397,-0.0041034081658458494,0.016603612207865846,-0.07341740077453371,-0.008765143280599583,-0.01690352726795179,-0.054103123131464544,-0.09689399321682532,-0.09180548120027315,-0.106775214518981,0.0032502431265890126,-0.07569968199348791,-0.02558413860182351,-0.03414376991074168,-0.05205040217238589,-0.05728960204708993,-0.0528692306075213,-0.016102688529402203,-0.06772015289001196,-0.07865130873464103,-0.08662467385961253,-0.032026373002776706,-0.03905392774776749,-0.03525229264044212,-0.0866992823703476,-0.027891276274909338,-0.08700405710836136,0.020025406634372293,-0.01000704211048906,-0.08314614250673577,-0.024293958125245107,-0.11045058687627758,-0.03538913084466287,-0.08674870569099738,-0.08456940777938493,-0.05739464217176745,-0.0017101473232534869,-0.10511061545358391,-0.04718849199975779,-0.019645621648374825,-0.0887413415217366,-0.07688330784686928,0.037410185333136205,-0.04808966991818387,0.018052478511712225,-0.02767630395245224,0.04518007979380124,-0.09165705393283353,-0.05959690494551473,0.05586461431286658,-0.083142619989689,0.02716040553896565,-0.0938121961246566,-0.015049197463904042,0.045017377812290496,-0.07468531386833957,0.05752846728777808,-0.031043029312764116,-0.04007169607326853,0.02011897145137609,0.036023750297444486,-0.024445495447120706,-0.048204030256538924,-0.0009421965018364728,-0.006765986463032992,0.1106328547581317,-0.08117803472129916,-0.09139218738965645,-0.03855360363706204,0.11637350658912482,-0.08096853958332634,-0.0685805696314626,0.04550200503378675,-0.025057481969957406,-0.10829659947657075,-0.06534691466402387,0.015887321430676643,-0.04696888122170013,0.08325658177099308,0.05702088316028845,0.0541172923927836,0.011950083420939287,0.019472585210379666,-0.0016874772040078672,0.006722325153805223,-0.05698586860051961,-0.01626031636770474,0.1936925094227526,0.00709680045211731,0.07299995681350334,0.0450273281787226,0.045069073543085675,-0.006812189685721525,-0.03417535112233082,-0.021524097421148015,-0.03984721610505151,0.001975343169844344,0.049035040475380376,-0.07073525633083903,0.04856163683842927,-0.0011968422003235289,-0.027548027112243027,-0.06566998878907805,-0.02947153295259381,-0.06390695440348437,0.030351846870679138,-0.012530466747586119,-0.11654414269274663,0.00043630439847549326,-0.008829195717775054,-0.09700135805712977,-0.008723188990595477,-0.02736803422478732,-0.14265577911462862,-0.02521044018659782,-0.05113588937538685,-0.06052955476789548,-0.08991310150607447,-0.04534141359420509,-0.024772328247978807,-0.02208288848303964,-0.0782132401361964,-0.077608247064773,0.050501392016028795,-0.033426617606533,-0.06886486314825878,-0.014625276743927298,-0.08589926932528949,-0.008827673544736162,-0.05948118514121533,0.025573101229725514,-0.038862142856231206,-0.09618733416770003,-0.04009816486657341,-0.09630286854142162,0.00788441622214081,-0.11234134213034297,0.0006207273965302079,-0.11286734892761344,-0.057619418231713584,-0.03898266795755943,-0.07449033177140543,-0.05822452023866892,-0.05837833598254018,-0.056548727825528715,-0.12180355762278662,-0.04637976804722072,-0.1014371374370506,-0.08299893655675136,-0.06675032274513529,-0.04671272313475581,-0.08770867742922066,-0.10633900910206348,-0.06529031007388993,0.05072677686216999,-0.08890078102714337,-0.06386879114787268,0.2339554519633645,-0.0680491532866768,-0.0746682954413445,-0.09194812456131395,-0.0020294792535040834,0.004884083697667893,0.09603490833836,0.004397791986160509,-0.007964985746287429,-0.025391228651477804,-0.09802555880834939,-0.03423704638940459,0.014694467657848329,0.17981384978420872,-0.005521204786707835,-0.034512557160499606,-0.014786516917357911,-0.05168677473214811,-0.0233171238404234,-0.08060310869108239,-0.02587290671415962,-0.07502576695854508,-0.029780478750350708,-0.015818127251042893,-0.03017047318045369,-0.045438960214369696,-0.06590664055943889,0.00513438452551597,0.0092768868895632,-0.03703786124119628,-0.019987869000883507,-0.002969989818124357,-0.0445121294557237,-0.02780382127336304,-0.11252002047701716,-0.08530714801159621,-0.044080604020015755,0.06607399239035364,-0.060158866539194694,0.055617376503775955,-0.0803409270210097,0.0631226518801778,-0.07531170677929368,-0.08502680940529017,-0.06404334486610366,0.04716068456356468,-0.012032213144442201,-0.00541293044342312,-0.03924796061121389,-0.10589106487802993,-0.09790912615180099,0.033802627985794455,-0.08353283644802861,-0.05971472825243368,-0.03568402023149964,-0.0850716249105646,-0.027247289453409172,-0.09935866888556559,-0.10840546967892015,-0.02075336487122094,-0.027390658371434194,-0.031611412811463395,-0.03317497771102783,-0.02485156630281367,-0.03843602688751169,-0.0021002085180085155,-0.02588872895207548,-0.07913999682672103,-0.007712793850482608,-0.11689181637300497,-0.009498563329407577,-0.10017447963133617,-0.0065752891376091,-0.03839636982216237,-0.050069312922244244,-0.023474425630926565,-0.054970788632555834,-0.10711284642924944,0.005041530301521006,-0.033481288635528766,-0.05715649396429951,-0.07063602271265773,-0.09979255938294432,0.006512901330467156,-0.017046665596299054,-0.028602209963416194,-0.057253319511217704,-0.07454032428543818,-0.0725601046642665,-0.06504611356034286,-0.06053124673334421,-0.06744205985528251,0.006777935341180712,-0.02194774933062781,-0.104654647069591,0.010346656954681559,-0.09723504041648623,-0.09598407253971449,-0.09138537455930858,0.034991643602159506,-0.08187367799596754,-0.0383987656315,-0.041089593590479014,-0.08978803013763362,-0.045530074759079234,-0.06271821859165168,0.02636742503205706,-0.06216301304604313,-0.03576311389151247,-0.03386719577751687,-0.07188671843912856,-0.09566756187317293,-0.015199273926223614,-0.09038286626489575,-0.07917692825537588,-0.04694547902176962,-0.04736436226153658,-0.030784161743360357,0.023056633476061655,-0.07732266592476865,0.054504503170363004,-0.011067122483655973,-0.03165870455125707,-0.050132731820451894,0.159010868110475,0.0440406009540498,-0.024844438229391256,0.003097168633249322,0.04087729882870058,-0.017105833947687846,-0.04873047104440931,-0.03562146655926488,-0.036013002848583935,0.06297913747391877,0.005555723838515068,-0.01744124786306589,0.17291702292899364,-0.06922976453239839,-0.07550434696680751,-0.0661851241840959,-0.019832069902789403,-0.03310050496070392,-0.06759505529509433,-0.030777757508824305,-0.049151900541238566,-0.05857683063103106,-0.05335067901179499,-0.045931453095974295,-0.08495546339051627,-0.04452240133492695,-0.08644702448308969,-0.07100374839676775,-0.05599773579664934,-0.045100782349635035,-0.07386332618265214,-0.07132957578635957,0.010299510393254975,0.007262094675734956,-0.023761860779785822,-0.07966709400598132,-0.10807573210329204,-0.06692953427849571,-0.08381709816556772,-0.11947290300663617,-0.06015093514799524,-0.11471575072418838,-0.05366587100264783,-0.05270282027678057,-0.0064642061100737246,-0.07454635891796667,-0.041247880891658956,-0.08853684784575457,0.05023967476088304,-0.07664887563845038,0.007843393439969867,0.035857492217385774,-0.10443479344670734,-0.0056268723906601975,-0.11328350968385195,-0.04235101821936441,-0.023066770182988753,-0.014031937103643496,-0.1100159451840765,-0.05745358638482581,-0.008332461544778633,-0.06261244247341291,-0.0816423324962481,-0.06960961018207729,-0.021488501980238953,-0.09909932372519177,-0.04936690379972366,0.10785439882563434,-0.012579673904248715,0.08304192288429486,0.026916153746070707,0.09465560922046032,-0.07904441178153233,-0.07273325049250476,-0.03177764490596266,0.07481518791679787,0.005476079359280419,-0.11809131186760176,-0.018724730637730995,-0.01939951575699474,-0.05760968514095023,0.00266175945800353,-0.004039837619109988,-0.019985012262287633,-0.1120763066614657,-0.04540589372928545,-0.0445589799327464,-0.09393837232439418,-0.013808266616933474,-0.007338697901122698,0.041761077669202756,-0.03228917023738188,-0.0896163457426536,-0.08360689187915694,-0.055816657453284374,0.009993763800813538,0.01883897849672347,-0.010201303160188002,0.02633541855411439,-0.14242135894585295,0.02521338176379043,0.04476220722312452,-0.03634270213639407,-0.018410407515527666,-0.09472416025509682,-0.05084424640241615,-0.03783514736187108,0.013080972190556534,0.015599505862221107,-0.06123697176525245,-0.1286907947752458,0.0019511565060443502,-0.13839441624070023,-0.06728686885732202,0.010954130762911565,-0.04551505582106737,-0.08881934150934856,0.04229507671438503,-0.08894786677910373,-0.009812105653071114,-0.03320941064232744,-0.02539363225301095,0.0023384818264182814,-0.10866629209859273,-0.11968870500013744,-0.10644161036122517,-0.07930298007813671,-0.0841284554323801,-0.12679504028822114,-0.002718243849521475,-0.010164815723273704,-0.04648379506139297,0.015026763064143396,-0.04577888827443625,-0.05797608874229814,-0.08267197019104792,-0.02949050880162777,-0.0010077631393524984,0.0036811728631224636,-0.01147044770306255,-7.793675567368641e-05,-0.05191732856414261,-0.047540724516857036,-0.061134502758226496,-0.030166707503160792,0.012047483221104634,-0.06906990186934832,-0.037449246677837014,0.05390860480407216,0.041798893839809066,0.03283455701333748,-0.0466460048349932,0.03076837458525777,0.007325220132385009,0.0014755184890288757,-0.029849275627548993,0.015247611541475586,0.016756699199638472,-0.04722045637104447,-0.038268861065211504,-0.0030421824718545186,-0.06240032080553553,-0.07046727210016945,-0.07053195839424714,0.06435446969940323,-0.07445007689209605,0.02724712598661302,-0.05661912542883554,0.00750869565988694,-0.022552454301690714,-0.1515726920197426,-0.025323252770969317,-0.04326362532502189,-0.0436377336908847,-0.10068259464286645,-0.06584112084420504,-0.04828194390696089,-0.06641388815525257,-0.09167311906351766,-0.030187713227429063,-0.015493742789127185,-0.030441018018548753,-0.01543990759671121,-0.06885781918217415,-0.06335783940899652,0.017692043046322978,-0.08099426676205101,-0.03178234751468987,-0.06048964275425492,-0.015694639477337895,-0.02306995338459096,0.02336230433426985,-0.09027726527188895,-0.09798513361230826,-0.10825427269996189,-0.029754257239400658,0.006069437069211482,-0.08797269396346794,-0.14538490561890272,-0.04128122180379178,-0.0591575117824041,-0.03575399826059656,-0.11052416457541377,0.003275097075176759,0.04529724218339458,0.03294536437169516,-0.060198780060790505,0.04133702756867016,-0.08925942615270398,-0.037340035873413745,0.04234224625434564,-0.06382833992414169,-0.08640645415173895,-0.01424932682729268,-0.05094713541643874,-0.08770412804099602,-0.09030237774238821,-0.08598974942489962,-0.08253128402533756,-0.08790312172358085,0.029314115860894906,-0.0031486830797107838,0.023951950442776357,-0.052723468525604736,-0.04623813755704806,0.013030151416207938,-0.003237653390827475,-0.015582851556644647,0.005317457368268308,-0.00481728980020487,0.04109375267595925,-0.05210676328814875,-0.04761900083028713,-0.024919673121310566,-0.043859792011018375,-0.07365191761518106,-0.04385703240329186,-0.06516389333426618,-0.09180813961277728,-0.11936259778798415,0.020593311939420864,-0.12582881812957528,0.01620307505996654,-0.02367701012452127,-0.0716415772561071,-0.06200049399007661,-0.07968187336214057,0.029565268442632405,-0.052703156948853205,-0.030493966561331375,0.003935873376220515,0.023191767492102285,-0.049899630130319166,-0.05804284257662843,-0.018539989434938373,0.015761816544165204,6.587340978142292e-05,0.025622157796229388,-0.07555367692275258,0.05819285819476598,0.002813509418002324,0.05390122836370885,-0.03131347911642113,-0.026006657090679473,-0.012634407121999994,-0.02166695623617107,0.023383877759849774,0.01845432102641594,-0.015248795624443812,-0.039429842726166515,-0.02655217457571144,-0.011275089236507286,-0.06267439382218315,-0.0877438956054164,-0.12164608669448392,-0.07180774144029949,-0.011282604602543428,-0.04664787751937036,-0.043914707069760514,0.028533592592872647,-0.0563794895206206,-0.043836974468696624,-0.15456349988280127,-0.10329896316111269,-0.038640808671991364,-0.11222175279133177,-0.05802728698140124,-0.08294857273326933,-0.07654371206277082,-0.08934211815727984,-0.12550053371097475,-0.08294776488745316,-0.023132023894352566,-0.09218733712113793,-0.010421744683083363,-0.0011152186771775094,0.004693701180017471,-0.036491377122032584,-0.018629842889278242,-0.030719821111164697,-0.0036239045030084824,-0.07962185318326559,-0.07407556104340925,-0.09019448139284772,-0.06578773345988433,-0.034551795697222804,-0.07381560483938138,0.0066571203425002876,-0.0007849434766082475],\"y\":[0.021605183899540355,-0.003210823995987684,0.026782013269285865,0.0040849446648141986,-0.0041931989550368955,-0.008900277272952327,0.008479672757323403,-0.0030799306578600805,0.019707017679503145,-0.010372817252200146,0.0222858973219991,-0.00436311540893013,0.015101071001674043,0.0033172964356878074,-0.010695440558342489,-0.026607900362242542,-0.0008541297870356206,-0.02079890493458474,-0.0421140246136915,-0.005659764872303593,0.021863687593429892,0.005269985958771821,-0.005473969643439206,0.004092933441864009,-0.040128134834120345,-0.03591980908032444,-0.01701299057299118,-0.023350089596751826,-0.034793328562510564,-0.0028743044118907813,-0.002342207491858819,0.003174021006869156,0.015706196493944388,0.01565540262822658,-0.017687945957196423,0.007506053266900998,-0.011431400749222024,-0.002664190485412706,0.01200652983578125,0.0019967571250175857,0.004659665106075414,-0.025199425330537796,-0.014555127900497178,0.008809050743033332,0.01586490408462043,-0.004162377250059562,-0.05812117270716346,-0.04033174509520567,-0.026344307010895563,-0.001568924310822231,-0.001803693379570354,-0.011573989646585023,-0.009796465087139777,-0.011983448336023234,-0.020705521113227477,0.03865133852949768,-0.018595777621045088,4.7661849092057606e-05,-0.0057191732118006084,0.017577855621296764,0.015161881171095735,0.021747653241526246,0.03417722352927448,-0.038355558549710955,-0.030007195031338155,-0.03675411738740316,-0.04218367853869924,0.014853745510404104,-0.01865139626817428,0.010869207728926054,0.02330695663625107,-0.029316314229561515,0.05323932020697134,0.0110513115642741,-0.021518665318107127,-0.008981470245768447,-0.03169871430187805,0.009290792660272284,0.03609389039058018,0.03961925834773054,-0.01616468762748072,0.009503220262682273,0.05482858832051122,0.0012270599920323117,-0.0017923890969607848,-0.019708422113680495,-0.00505506238004816,0.006647202365615801,0.010680586488884576,0.0025095441156303086,0.015469978104210873,0.04243436917112675,0.0067676133823664966,-0.030133876734732147,-0.011898507796262375,0.009874878029614998,-0.03957357474399236,0.010929979136739041,-0.01931601449982031,-0.00708453927193628,0.017133091001439185,0.016575581782272225,0.009641097503826225,0.007638036397324759,0.014967347821282435,-0.02932738662693812,-0.019060723528431914,-0.038260854793032754,-0.010573091579925042,0.010150643412163263,0.010181250017903952,0.0025875679190013857,0.012267920457939636,-0.0074529472005149325,0.017105362132027478,-0.018959086372926787,-0.018713168291017605,-0.0247883278852954,-0.029810935694644675,-0.010508939722917212,0.027283415477368175,0.04380582698888028,-0.043808473317649775,-0.04213356023276948,-0.027747391619824868,-0.01283614133016723,-0.01897271489946262,0.025615057864456968,-0.0045692128229720096,0.01963844832709861,-0.011655649194399056,-0.004273790598301139,-0.03703792656373348,0.0023482909572624744,0.02024596139441158,0.032087315732672,-0.028206942892003165,-0.009900359268543314,-0.028436253320782347,-0.020528885325597546,0.005324648844110064,0.019338597866452787,-0.05476710862945201,-0.01845603998366827,0.014271062364994504,0.0183647719723679,-0.04041578263409271,-0.027852254765466856,-0.03589930589447391,-0.004141908039264353,-0.00611317319107447,-0.023840365838145694,-0.0007333584217867209,0.018235133034950904,0.020653466659174634,-0.059183443057743666,-0.039122611957688014,-0.031099310993605828,0.0019264206094046117,-0.0008818808532514621,0.003353352186571441,0.007608996854758687,0.014952352501115599,0.005681815217033267,-0.022774174466793532,-0.02022452164105159,-0.05813537346774117,-0.05495691889810721,-0.004022675712367743,0.0021348630084731344,0.00510142263202462,-0.024075856873077093,-0.04045494057264746,-0.033030256407150016,-0.024904037055541426,0.003741835081258853,-0.038210473567957724,-0.04977857411625299,0.012346639377233102,0.010309794450691656,0.02502416876818774,0.005706411025155442,0.01044814557298099,-0.02445207809781806,0.007126878727080725,0.014161791688425513,0.027101292273627453,0.0019293602129262912,0.007428512756709669,0.0033443814227726368,0.011831366340247848,0.020756858415157075,-0.0013854775632134127,0.015651991483327583,0.008230202287863019,0.01321630832994437,0.011200433459398517,0.026800467496915652,0.010991380430636615,0.0035862463414834235,0.0070161304738552525,-0.01916975497728773,0.022269247889919037,-0.00685675166696636,-0.003150137382372734,0.013623613127373105,-0.011315974754342525,-0.03624041178959788,-0.00032772744410279223,0.01160256277001068,0.006322498569387904,0.004454504053308373,0.021077312373588637,-0.0013801661695318197,-0.0011765388212810592,-0.04667966368861433,0.008980840395122768,0.016635443040410362,0.007336186238230666,-0.015012996980227981,0.006167828648051569,0.01629965109944229,0.008090337776432232,0.018684650628907094,0.017361032168573372,0.012200249766113724,-0.004747487208964298,0.003733057533080766,-0.009457340551828603,0.016871814782542516,-0.017378632081680653,-0.006076568149941218,-0.018793768293075077,-0.03913851706914642,0.06745561597081753,-0.018354905942507486,-0.0636504620001602,-0.038568082095317924,-0.03187172255271916,0.0010862811358897176,-0.024182595075291767,0.022705929022617553,-0.015359714548857886,0.027401079666497536,0.012096131723482752,-0.03681016101290627,-0.0005938142246563558,-0.04305664659721849,-0.05556840389425807,-0.025520456215188933,-0.02707055108800235,0.01583797773954872,-0.0015946495763077058,0.005581288921031295,-0.04349899095378183,0.012884332019726157,-0.00029236676940797886,0.013408581678388832,-0.005787165809144283,-0.010232229329247798,-0.01373114267991047,-0.02543887933997208,-0.023070849280634718,-0.02481071517063007,0.023973086559231707,0.04680559526761817,-0.020960544470609133,-0.03635503769956115,-0.02956762971642704,-0.034375219423814427,0.010089544221899453,0.004717202565091814,0.024890498969752387,-0.005700612806734806,-0.0026921979450447737,0.024326557241986714,-0.015051476277961544,-0.0209619748782674,0.01093078331848197,-0.03454808233778316,-0.008001105492419919,-0.005785097205011841,0.007468055297082931,0.015323536544437556,0.03481942404164118,0.022577704872593887,0.03764973652361034,-0.03802483598741093,-0.017424022854990513,0.009734568568921279,0.013830594484799084,-0.03655364551975655,0.0116749828662084,-0.017109595514985892,0.006878514695758769,0.03471968765554411,-0.019270364648542596,-0.06208840529373087,0.01253053562545703,-0.012860483887882771,-0.053816884721787035,0.04596584933244935,0.07068662530338804,0.043163525220982976,0.007152105348353598,-0.0167486928882184,-0.060994926206820885,-0.042515152402333195,0.04297385186911697,0.06571666871906293,0.04476168805567249,-0.004381858927822422,-0.009829891154634392,0.015861145169938525,-0.03865901552897344,0.0029450880310885014,0.0026605182480932943,-0.00614407014365545,-0.0023788008412749585,-0.011850394471278494,-0.017876429179509774,-0.013824463012464103,0.002915047487331083,-0.005355495339273892,0.0186197818861401,0.031721398269470236,-0.007457418407959204,-0.014984190493815488,-0.02154660932250696,-0.01725303829013676,-0.014222516941193307,-0.010237987649099414,-0.014003583055927435,0.00016237505271146313,-0.012585249904503801,-0.010427522729910542,0.0026315092247321363,0.010598435485733408,-0.018517791785373834,0.003086877191242227,0.01089602234149491,0.020174045599394053,-0.019238791417598475,0.015797990774257656,0.013675052495564355,0.020911799850417374,-0.029390792535807134,-0.014994837312118583,0.010290085205081179,0.002102091453748934,-0.025872245717818997,-0.010110087898958304,-0.029988923036630633,-0.014791053457558495,-0.00010935551809612428,0.00886842387322414,-0.005616377051369474,0.017994604050805194,0.016073653231939326,0.0018759153171655173,0.003164410416929562,0.014273547470082578,-0.0019102516684861022,0.009331029068214916,-0.006559094355218434,-0.0019821116156756597,-0.0027824691121464537,0.024452998415062262,0.0160269278137943,0.007237318244635257,0.012010372620255814,0.011668116113459302,-0.003278434698480498,0.019803255887262894,0.009201541109768792,-0.002302338005745781,-0.017832645892312593,0.0059158929629468705,-0.018472748049310865,-0.010169986622131972,-0.012417791549255859,-0.004304884376143134,0.008777222214558919,0.0282494741091528,-0.01979685470577192,-0.015290391369009898,-0.037658738057845975,-0.006546023966955138,0.0037906261990164896,-0.01081755037062097,0.06160372477208044,0.050927776885543244,0.006010657238049407,-0.012546856994220352,0.01525980424990642,-0.00045708925740289277,0.016372685349548513,0.017252767499070877,-0.038374996069435265,-0.022765902612276047,0.004160663231116456,-0.005030145581852686,-0.003612156869669112,0.0043104014718265485,0.006528163178275577,0.03740331841379945,0.007142268192776868,-0.027496898081146175,0.03649229643845899,0.002460959457010571,0.012606326990178893,0.019912025873701653,0.008818293559894417,0.033127735464676206,0.015528147568603655,-0.029645834888718595,0.014097551998732813,0.003339627021079514,0.03931458145103938,0.007024084630804716,-0.0066619252372960465,-0.025946122928007194,-0.0007364948633237485,-0.021090250841844294,-0.02296573693900907,-0.028802285620459805,-0.0005333378108904471,0.01691742762093392,-0.015349524726135723,-0.03408127342982716,-0.027870227501767653,-0.006529843385114242,-0.015909570827584596,0.021626938422369263,-0.010116145048038356,-0.0027689511597863772,0.0116779241755382,-0.0011206373710238257,-0.006418157148390832,-0.026474116082088113,-0.01405789447906223,-0.022592398119014687,0.0006555264861745762,-0.02429950702880934,-0.026462733710074245,-0.06438101862158986,0.0009811393627162678,-0.032680817345518566,-0.053147321603066906,-0.07177366481378104,-0.049888697663903574,-0.0336439501748256,0.0013324048875957533,0.002575026302067175,0.01762574360903487,-0.019033043315598946,-0.01643062474408958,-0.0685320603473938,0.017172557975498548,0.009757197701825357,-0.017291855134674832,-0.004444888060418736,-4.443238090258861e-06,0.006546355162841312,0.02739195144074843,-0.032284135860210464,-0.007715378404083423,-0.005761535429794564,0.004000463974548306,-0.03563735934011796,-0.05458592286925969,0.005659863998455163,0.010211878321595319,0.003140553304719201,0.0048008936289719705,-0.011952331947317872,0.03515995785383073,0.0387783210701933,0.004245696273561587,0.02070081880941018,0.0015730939704422632,-0.0074540835631435615,0.015918131610006506,-0.003048460090115774,0.010482391937292675,0.015608224041727842,0.007556463104500904,0.016924366848238732,-0.003733529598826861,0.03710215433210634,0.0024569218100727493,0.004456931982960913,0.009974569345158604,0.0016475973396388377,0.011683052948576467,0.0034654663898460404,0.02289737369540654,-0.004420194503480037,-0.009339832221750135,-0.003193056789170619,-0.000435981445590609,0.02598987631509348,0.012092768611733298,0.002754939711871221,0.0012800571137723128,-0.014265317117357632,-0.01059257100562482,-0.00597027368743526,-0.01363059459150011,0.03294521304236949,0.006977604601110236,0.004096779049824011,0.04049127593505567,-0.01663608250127458,-0.056286168851735714,-0.029232406594726725,0.010960642668027046,-0.0020956454461223415,0.006672176191282874,0.0011570453770163825,-0.00017515785970637106,0.04266275510303368,-0.01738381488142645,-0.006951742005446427,0.0007288449168842131,-0.011299558445158205,0.01368822742481197,0.004153011765200921,-0.01942365857945791,0.0040738875937748375,0.06900043881569196,-0.014881194634198274,-0.0019858087153594326,0.009913533958350212,-0.007862683267353824,-0.03690977737896434,0.010118782401418901,-0.021116365407936204,0.005517094960053873,0.025561310958755405,0.0032572097174497893,-0.0020647716014709247,-0.007161166123302183,0.0003900683645556131,0.0571159162879675,-0.03156843361106784,0.02285910128110598,-0.016667465372054983,-0.01984394403932949,0.054780801448564134,-0.014387661128916727,-0.015680671818755827,-0.004217093502848763,0.005180349867957977,-0.004421646233536643,-0.023828672230152108,-0.024036441170789756,-0.07918231638966691,-0.008517248533533457,0.01933417294731184,-0.010427041373918283,-0.007824312071944388,-0.014041182109406388,0.02839661762602138,0.03702009071618074,-0.0031049387397095187,0.008978149014581166,0.05472154610918978,0.014496394985724772,-0.02705807497174334,-0.00223789007793133,-0.0341537769550423,-0.029287049695727964,-0.0202442007358392,-0.024545082344100258,0.010073982691124698,0.026509960961814603,0.006490351846647332,0.008034519515571013,0.029296508922865443,0.0065210611348742965,-0.0033364580451494094,-0.03821435741414687,-0.008324836526071508,0.010072859124768827,0.011378438153173772,-0.01675685772026938,-0.008129555030926452,0.01844687521894707,-0.007790572055188606,-0.005643784444824849,-0.018805251307142192,-0.01102619214839031,-0.02310871481668204,-0.014270664254975703,-0.02384682643099404,0.015482745401554632,0.03234223434621655,-0.005552006938471914,-0.02737150217357209,-0.03813011152936365,-0.03699698019920884,-0.026794802201804906,-0.029111943683873397,-0.022254943084547982,-0.01871414996886282,0.008550137335506915,0.003284983343958912,0.012164113756723332,-0.010160118018604732,-0.00555336174283905,0.012575157874879422,-0.02576534064642565,0.0036108778397477112,0.008249968099065256,-0.04330792711336894,-0.011905296660009172,0.009897568347232877,-0.006874465852409724,-0.0004188445334471914,-0.00486604796813565,-0.021446952760392397,-0.0010909891441953157,-0.012628514700001,-0.0007806157140704784,0.02016162431656756,0.023162082390235456,0.0022817383568670803,0.008143286388135742,0.007148060287497149,-0.01664137596071822,-0.0042307041829453655,-0.01304397617210366,0.0026781836973854205,0.0011126335210777563,0.009767220937733702,-0.0005458022123116849,0.005128359585710078,-0.003981425134227718,-0.005435508417293497,0.005436546516224326,0.012521526740566625,0.008726123778113232,0.0007011088019938478,-0.003062139414391571,0.00510405681506373,0.015855947227701065,0.02078329403456118,0.030774927307938793,0.011163267294302623,0.007051753351239767,0.010152683587463861,0.017299127457916712,0.007136553174494225,0.0024809552282642287,0.016753177123471394,-0.03529508273701707,0.011522532525159305,0.0033303513115939577,0.003856954666079244,0.0017419332542493123,-0.00017265992633840236,0.023662976572406152,0.013531524331448615,-0.006642199047143231,-0.06646328476794672,-0.06260862651244598,-0.019566109555720815,-0.017374013381531925,-0.013235189117458988,-0.03821573680600919,0.008194372823417282,0.0013130901840795177,0.045238958502307795,-0.007104030205822421,-0.03942765550233478,-0.05282526512145923,0.008738148721557225,0.009901293147158903,0.0511451885631152,0.00953745120980253,0.0026442749512256146,-0.024723364315213634,-0.015206338382744043,0.0015669821663974748,-0.012595722930263804,-0.0035565729280827214,0.015172738439717257,0.021819908987318583,0.005785065500049428,-0.0033171617770284,-0.018946158423599205,-0.0475646039479039,0.03190994368061674,-0.0017342334730584268,0.030345513173417323,-0.017224861188446305,-0.012828748352188451,0.017362575620948506,-0.04142382469304951,0.001021993352644961,0.001768600499761671,-0.032363729982439186,-0.014738365839980422,-0.017082929731814543,-0.022581810218253992,-0.0002671015671334902,-0.00743714196596633,-0.010958160910962357,-0.0207161210623267,-0.04468373510287809,-0.010850836524114687,0.00700369919797603,-0.03950575441053985,0.0029603418011354228,-0.003373851749439764,-0.003854789465525027,0.005473119469225797,0.023221734619625362,-0.02792564762899106,-0.03234325730697648,0.00134407527766834,0.0008584786554141302,-0.04887907688300449,0.02748515186602448,-0.03369155938609161,0.005690083677211235,-0.054571804064754696,-0.019061255651432893,0.028392146646765596,-0.005635580140305404,-0.027046279361036193,0.017028432260530125,-0.04686123636188703,-0.03872845177241026,-0.06283618151274153,0.01279585409985342,-0.010318892691824118,-0.023070626422331073,-0.06095570687293214,-0.02236280521802791,0.02739234239770537,-0.0417012588306252,-0.027988428872163084,0.007144439881092784,0.0004935319277774422,0.021184978010659408,-0.0013627328669617677,0.02253811076116438,0.018624466613298567,-0.020815580522861504,-0.02794488656265882,-0.02169253454206218,0.0018816314355259527,-0.02626266855574949,-0.05377947509502221,-0.03857724885039024,0.006783432399741593,-0.011884054231562486,0.005840338838309488,0.0013437332607368416,0.016724017463455747,0.005589890556182009,-0.0005641646648688722,0.0002703113875649222,0.007550215836430789,0.010124332376374213,-0.02541360095976348,0.001198134858956761,-0.0043062034445303515,-0.016010367195319338,-0.001884708632255811,-0.012355506909275164,0.0229760211288352,-0.015636769822294196,-0.002738695694137464,0.004225212399830203,-0.005897165624345196,-0.00968926494760135,0.017555862105610685,0.020023954704476134,0.01304698476911749,0.009866147153669203,0.0017709396876659628,-0.008732308233426975,0.009192201584568665,-0.010976373550316483,-0.014938917442698157,-0.034417075376373146,0.003293143144613528,0.009080353936744345,0.008406980776040409,-0.002587666927383648,-0.013910439628412982,-0.031473027358424804,-0.011238638660546483,-0.035558261212028326,0.010608382559166407,0.009717119371789791,0.009767425590527172,0.030857873174382773,-0.04928102818208746,-0.049290878784834014,-0.037477792603026194,-0.0017680919409317547,0.06688590888683711,0.030734501496128545,0.017699617040251345,-0.012662973148310351,0.03718758670215103,-0.0033354037639826885,0.017814306741110342,-0.0007608957860695271,0.0192480373360495,0.025235195603931695,0.006549660275408533,0.005044905903178145,-0.005524478655982285,0.010484382839439898,0.006386404540159102,-0.015244086998832649,-0.00612746189720264,0.007528848194951508,0.014896653494935366,0.027305117106740703,0.008505533447982608,-0.04583029597026117,-0.011715012700269742,-0.01554617772551754,-0.010041818601584368,0.002038393721640051,-0.02826727962285889,-0.020768912690693635,0.05278018642353244,-0.005488480489246875,0.019987356550252734,0.032843624841464865,-0.016286641487914866,-0.016419072872874134,-0.01943049627350991,-0.047156007696236506,0.01012118610195477,0.018731474563877228,-0.0052930648583811935,-0.003748607695371413,-0.019985879459449643,-0.02110358869221722,-0.039115044664270605,-0.0009304932321342669,-0.009769203852551077,0.05957581283857516,0.013300346421895018,0.020219973014594727,-0.007804751692997357,0.05349269916220778,0.012009994333515276,0.017388368904567967,0.009444273736345118,0.004440211837756718,-0.0012111506732400026,0.002806055789143783,0.022705444585760907,0.0009247976089411666,-0.009010079174373986,-0.015549279467453169,-0.017137586203424145,-0.0019094369887070457,-0.018457164600983438,0.01777872844942597,-0.0019465079074969206,-0.030810825375614494,-0.008961980442075653,-0.02795572260796279,-0.02956579226721485,-0.02515933621140584,-0.01723561749524699,0.019363756871038466,-0.04289936458347888,-0.03964066674618031,-0.03524562829106145,-0.03150506287485706,-0.028728046828534293,-0.0027386584331263474,-0.018295463579547474,-0.04399334723696555,-0.005315737266143726,-0.02067343837090385,0.0007017977478230662,-0.004137860513643496,-0.05674597921140798,-0.02584768267636179,-0.029715256005556977,0.010401428222597415,0.00870481998510815,-0.022729508845520267,-0.02340466738561854,-0.038065206631159226,-0.00777057296346094,0.004734551405422874,0.0022878776671589798,-0.007792033217705183,-0.013927453874189368,-0.029555935858654254,-0.04259828277022791,-0.030448978965828995,0.008410834470421687,-0.001958401284551594,0.0029705297872122264,-0.03993269372589615,-0.0467254367216274,-0.02898039614556526,-0.017438583709333304,0.0010851094250547064,-0.0009289988598732354,-0.020364855272429053,-0.012288385832012062,-0.00464125367249363,-0.02463779187016943,-0.004635904944978071,0.00016320516023398678,0.005920695056786197,0.01563238005655944,-0.003751997558781308,0.0018768488722439322,0.027487869162890203,-0.005122269153691058,0.002807705755843499,0.007155776376697837,-0.0016624862769026142,0.004391566778002754,0.015903657258561216,0.03468345136332906,0.0014397708055492225,-0.00579732360939752,0.007595871156644389,-0.0033931446446419863,0.016598899078269724,0.005654493066075777,0.016610808489359072,0.007674196928840889,0.012654038201005307,-0.02343718367814088,0.0038079135639598593,0.022384928888104373,-0.023381446856165722,-0.010185281916088482,-0.01001590174408674,0.011118945559410617,0.01940568130102141,0.0013512355120219794,0.0001710023764386431,0.02219920520634801,-0.0024703738003121665,0.0015711159309113106,0.007080440604812046,-0.025507659862065206,0.0055004134329325344,-0.008060020887516285,-0.025418065061176914,-0.012082876293863272,0.0024142394703527206,-0.008768829563714437,0.0068154268046270155,0.02424173594738635,-0.05557473899627355,-0.026253229494996075,0.006407432087250177,0.018735664718447877,-0.030180864810178322,-0.040085704183453565,-0.04415814288238214,-0.03411455931221464,-0.028659566631242975,-0.03325434399994644,0.03187139225253326,-0.025582538099925216,0.02493498206690306,0.004744439480850061,0.01036908219984776,0.012403703582849092,-0.04433833353736282,0.0073182534026186,-0.007797911028729588,0.0010160785977552484,0.04429383144908501,-0.027727491020265414,-0.017060702407314467,-0.03167619881018406,-0.016826407582224805,-0.0015657415239974887,0.010079511284467216,-0.024967444906126745,0.008808700224677552,-0.03746904760124295,-0.020301633968131803,0.003380250632593969,0.04524743341330983,0.00426064072663413,-0.0199928850324662,-0.029152983692933936,-0.028162244274515278,-0.02962479549788429,-0.02421617871865304,0.032555970517149105,-0.03759820916621266,-0.01903991535009675,-0.015988898906092643,0.03995426018302429,-0.027995842309024424,-0.005396597466601714,-0.030078908775123737,-0.01944998779147357,-0.011780270458241253,-0.01209981782377509,0.00751479451879051,0.02043514159822902,0.01256571249473496,-0.026947318248894056,-0.006726652843795047,-0.007054793515465976,0.0030882996236964114,-0.013043777747296741,-0.02604451763178431,-0.019505501372687216,-0.021477316687576888,-0.004596473560912081,-0.024670165665854962,-0.029268350806291712,0.010711844391053825,0.018996879403401046,0.0022590830390021993,0.003050158071535354,0.009025012804637543,0.024651380799808147,0.01579743230479826,-0.006213721110619886,-0.0013887258477073064,-0.03475611374064469,-0.009644012617390554,-0.0031195865948521143,0.017988392336059266,-0.007211463630074294,0.01589222323876672,0.01750709697613397,-0.06409157376340638,-0.012759513963041043,0.00017988497845771744,0.006557725440479382,0.011317955146467109,-0.03225367569869108,-0.03338405745150435,-0.006566309843597951,-0.020619166256272404,-0.02240322730516068,-0.006521598447767207,-0.04832310203348568,-0.017240929433140696,-0.01512754620751513,-0.043664142997405876,-0.002955039931131034,0.012786400887629178,0.002500968814327869,0.00916323873039545,0.013262814325577067,0.008925117236259906,0.022308987794748207,-0.0006714815123544048,0.0095460762411098,-0.0026745461437961008,0.0006181198886258813,-0.007023459705570876,0.01987391167643256,0.013121161665339413,0.012784426213766556,0.013733690928810405,0.007086680994225943,-0.0005416919230373817,-0.006011610971401893,0.01473894027512688,0.008736183330676077,0.006672116266471344,0.008988307493608242,0.002403309863756358,-0.004259176121710558,0.0065462139662611964,0.01293587313683159,0.021444607450824,0.012122767861029447,-0.025850999917850954,-0.014563382305915506,-0.02311454781085125,-0.022000971932052596,-0.020111927009357107,-0.03282697837782596,-0.0058159410935054385,0.012624131215112517,-0.009651609491696734,-0.004740483830631856,-0.008103884074888055,0.052271953506111704,0.01422536072384016,0.000671800039368241,-0.0184298420195656,0.04186786562982168,0.0024521096356736934,-0.00529569564770389,-0.014531912609394737,-0.02665727918419463,-0.002647942475643578,-0.005232903150121173,-0.0024270943731684786,-0.002108950786136636,-0.02837978872611212,-0.023333919024550013,0.026943350435700866,0.028864934013946582,0.01592932533113947,0.002921280619379305,0.11609515859451794,0.000776224265876838,0.0008186402331034474,-0.007901536865080643,0.02047957922407746,-0.023742729949929618,0.03885075593656734,0.009153304565595762,-0.01862294197817872,0.013162405831899439,-0.029333755312315697,0.008378078887646478,0.014187773048567947,-0.005487370353354854,0.009507684558125448,-0.019961403360364446,0.027656992007761054,-0.02633222828298248,0.02091197179081136,-0.0010100534759805424,0.022989454764591258,-0.034023362190897036,0.004807196279357832,-0.03484805906047085,-0.012463035341817995,-0.0028346235019873775,0.029494938952754977,-0.05091960681529074,-0.03794309149812003,-0.028700444695495722,-0.02882634187851085,-0.00594125039298591,-0.009469973352252432,0.023424558655078323,0.013319973062965717,0.03315617877478048,0.019669613878935413,0.015437615643244649,0.015767542621430597,0.014224323612566637,0.012409022591276544,0.017310445619618725,0.0032772826823005557,0.028633250225435815,-0.003231407775512996,0.007241794908650793,0.016312726269046958,-0.0026311878892247174,0.017567852693086364,0.024851913895659928,0.018878815788464415,0.004051654105916352,0.028493026549815358,0.020342327212050818,0.03241870363394324,0.017230331948256142,0.010224269610647223,0.033736813380205254,0.007812040331478566,0.003165220618716203,0.007899132629638362,0.004615380639605488,-0.0011797582927709287,0.028473498264487515,0.014876101726595614,0.0013556095950602437,0.03017386747878599,0.005506321254246127,-0.016624782282490678,-0.024387307295256903,0.012423152370427579,0.017076663802333584,0.0046296309843000365,-0.013411611737844057,-0.0041179003287972514,-0.03987132123726622,0.013311542422530298,-0.0036203437898566304,0.025550782746549993,-0.025855340252045646,0.002632389316382645,0.0035604375880348158,-0.004034477310009244,-0.02518345777122003,-0.030771445565407392,0.008210381559425054,-0.01514500037700705,-0.0038807961328443962,-0.018902687719215956,0.022193980149000907,0.008406520351619106,0.020470697353008882,0.04115194363584879,-0.000654981025891002,0.01052563404277734,0.013015252122522622,-0.0661159747031839,0.0003790893560510441,0.01777051827519832,-0.003943774681170588,0.028525927631596778,-0.02027658848635109,-0.012487219484358127,0.00013288055013327985,0.0046243594136932,-0.002108546762732534,-0.01294714393317598,-0.02052146865128985,5.872824927671691e-05,-0.0167844259655978,-0.008366312817500637,-0.009750269202371906,-0.022726820592736986,-0.02314178827807282,-0.014003277748661058,-0.02710746327244903,-0.0004023125056871541,-0.026798548413429577,0.015010549878316648,0.009801129068900415,-0.02697928762382607,-0.03622010723143763,-0.02465066910869611,-0.03511838092720714,-0.0011175417335557484,-0.024366648737475464,0.0022761730788758375,0.0001483080584286396,-0.003956779148994874,0.012147065599931202,-0.0021413541088393163,0.034865690415184364,-0.017563362160006552,-0.04489587351451675,-0.04990648944029064,-0.03922673975916294,-0.03746315384133201,-0.023213774972621573,0.025255356714472973,-0.02339323196823908,-0.012591927257405799,-0.01798935163641654,0.007368480553447149,-0.03757405333898774,-0.027433970046739316,-0.0020670988713856015,0.019738704506411985,-0.036568936172525705,-0.020645946124822043,0.010132296006584036,-0.03744765827779619,-0.03370052646474674,-0.010749631763505707,-0.035416052658934584,0.0014243156943494933,-0.007370541459264685,-0.003332583665580768,0.019961177276372314,0.004355323391482122,0.014680877238336986,-0.014528372123580303,-0.004975261187719623,-0.03231872330971691,-0.025633838973266425,-0.03362369813465646,-0.03279342043075997,-0.02582663562431722,-0.034007932764374166,-0.05184566637503296,-0.043841868570873924,-0.04585497726264485,-0.038264115043572126,-0.03931110883895722,-0.03738548406755858,-0.015485590957946792,3.9407966160818116e-06,0.0139154769311279,0.006561657613883894,0.04755932465508493,0.0004845011820422103,0.028572797001485944,-0.03250563758253827,-0.016295323770632683,-0.05027544683861816,0.004515467282868662,0.008820007096458166,-0.044347285834491885,-0.0074924555739766,-0.04421133422800628,-0.026653649979720164,-0.022760555632369187,0.021360538332760765,-0.011313785709390737,-0.029532903107999532,-0.017169454257012027,-0.053752184218160796,-0.008102575876571462,-0.0060648867235909305,0.0011156098333285147,0.015098351267989555,0.014920946985569202,0.015595888704886983,-0.005759590372140121,0.011721837087858643,0.010844329731377996,0.020993062709935745,0.007427407480973215,0.01895915700797753,0.001761297962725644,-0.03944601415358392,0.01062906869128779,-0.009862827782783141,0.007201011527500386,0.017719157740263516,0.022474808205396657,-0.008562287500391716,-0.010057955697720299,-0.01483009587199173,0.006159320393063498,0.0019725570087398923,0.020176223608572522,0.009792132395646483,-0.0249473871337763,0.020280977756241058,-0.013690640893158482,0.023162515522032995,0.024082742615415778,-0.0013827068199269866,-0.013084634992126419,-0.02763458273009422,-0.0030336292968472975,0.016749744004825293,-0.02335754378703733,-0.0276274260003566,0.005539831167452942,-0.030818939129913077,-0.021631036538921938,-0.008561806230435879,-0.009164345538682686,0.01801449879846994,-0.019923011739404858,-0.013622109262687565,0.032769348330778096,0.02750897364317139,-0.018395997286590502,0.006512082733791322,0.04497171349022909,0.010812125906902295,0.025169804723011426,0.01238112612882111,0.021545499627859812,0.008471728894166329,-0.020196366786025065,-0.010740284379912628,-0.003666734883717799,1.753874930240281e-05,0.00955360379947168,-0.014319091237304635,-0.031086420087488405,-0.0017067787758924637,-0.018900581559530175,-0.017490825740546733,0.009870916729958202,0.016866498136037265,0.024237796739468354,-0.021188716981422485,-0.019665819526872234,0.008849543008359483,-0.0018349716302984694,-0.0037019496769821565,-0.022762726341955346,-0.011116205243640877,-0.008275268607560064,0.002186959213162065,0.015389909136863215,-0.0004690779574917383,-0.0009856788285376662,-0.02061413200213547,-0.019287567286295094,0.011154466411855399,-0.0017521512843565266,0.007665700972032823,0.003278330405424542,0.025229762424370854,-0.01998113999958269,-0.0098262446746137,0.033655261803285826,0.0012350714806311173,-0.0275348181083984,-0.020528267336029506,0.0025950276006833474,-0.01766939628906612,-0.014212836607902379,-0.014589913199545241,-0.024445502751157963,-0.02539839142668884,-0.012887958432964808,0.015504508459177788,0.01067615939236026,0.006130101754468845,0.003781367560211905,0.02009953527122284,-0.0005450377436915963,0.0006400765352440371,-0.012404780770823255,0.049332511537203715,-0.030166712793549284,-0.03621943318972181,0.018927651507888287,0.0016683757070030782,0.0072438669078917755,-0.03871120996537596,-0.047509240312013784,-0.05082080150933729,0.009710683392072846,-0.044819341135037646,-0.0012940323488421885,-0.01899971756140342,0.005331460790081788,-0.028227282925988556,0.0025839212589579053,-0.001716713487667556,-0.031028852395389075,0.009471081209059611,-0.005736379278116493,-0.03673602740103692,-0.03131359810868043,0.007521728274415523,0.017742284087505066,-0.0033051306718682102,-0.0038550775992279647,0.021878066561850568,-0.003326474716921137,-0.017749811982715247,0.015892088677954937,0.02101778106898855,-0.01607743615398936,0.01733379754904241,-0.01841505184284804,-0.011546547671962958,-0.013327451727268881,-0.004269365126011676,0.02288987515602343,0.003971958035669019,0.013214602978224743,0.016445636795661796,-0.006278018066808054,0.0005904390794274879,-0.002343590174960877,0.025788319980522605,0.03523132302982943,0.008169931464529089,-0.007904772558206385,-0.002968939821119209,0.017371760546104738,0.008749456039561187,0.013399433609241469,0.009143047916604304,0.016011816243681035,0.028006088400580727,0.014377634513568582,0.015364442634600642,0.008721023636870552,-0.014960389101884354,-0.0029192116302102517,0.008251833713753135,0.0011757973219650474,0.042189400256228776,0.09005907044340751,0.022775423113048657,0.018501827081037803,0.08655174343474378,0.045904057158524914,0.007576505324876989,-0.000982680536849129,0.007130741678746103,-0.003838216988261658,0.007456165274909081,-0.004235051135536787,0.06429750005113022,0.027778179809609834,-0.032276209142740514,-0.01717061236291891,-0.022675209828271623,-0.036253334974585896,0.032217396572957954,-0.05672775109179243,-0.03965655279252626,-0.0019913295865251323,-0.0337281446144175,-0.009683736835197692,0.009889265605858209,-0.024948017348209808,-0.026334125646895294,-0.0008321110982870347,0.015681849656435563,0.012358007997715824,0.03897255170969357,0.0026065331851090386,0.004403017666927514,0.022220380665827235,-0.016109507568336998,0.0029363426785355574,-0.022412897544699023,-0.0025106470917353116],\"z\":[0.051331176712383,0.014623955530808181,0.0696899006841146,0.013644075275150578,0.015866008787571856,0.0005575509110536328,0.02839785290506077,0.014352199302612518,-0.005034505644917176,-0.0012805392628338036,0.0439983056340655,0.02059738025404986,0.0086080002995955,-0.030323416119541063,0.0025172561944120358,-0.026852314560959975,0.0076206678679654515,-0.005423693795881414,-0.05444715109939084,0.0015538481852616299,0.26552112147689655,0.009324056991833684,0.011358074592840812,0.006362175978702132,-0.06736386974236361,-0.07059355744679904,-0.006821750961174461,-0.08024785391169177,-0.05860026599005055,0.011309913999173913,-0.003801208347241611,0.017987855455490226,0.044148203247323776,0.037512161123621914,-0.0359751790980561,0.05609281325726084,-0.018069488129127797,0.006126259367098196,0.005112224977526974,0.03950673229220813,0.057480846993112844,-0.029516603062956608,-0.030492346202073636,-0.008065663447754744,0.02285883075100626,0.006751507922597165,-0.09677579859763466,-0.05361483638658587,-0.049135175367684705,0.007419988483982979,-0.010823933453030492,-0.01623841275185595,-0.0027949429659097974,-0.008418502857291565,-0.019363190293849326,0.04389433545312776,-0.01800753413355773,0.0020531344628920874,0.00784097900406826,0.048594920480203634,0.0661468936453525,0.07528135124902725,0.04532871823944048,-0.04358283617214662,-0.036760553182656114,-0.04496259965639733,-0.07603127812915733,0.007022606159992144,-0.01746833265595954,-0.015041549223827966,-0.0017376220659994326,-0.04937921887878179,-0.0006480308948896232,0.06371217015723182,-0.02948393521052365,-0.009866836617796386,-0.05486707216742495,-0.005434912816489204,-0.0002522982971746925,-0.02140179207746216,0.01983295060760887,0.01871841388060589,0.0019105957321415915,0.021507003395586827,0.035970480970160125,-0.054961588335965726,0.02278942775685012,0.01529988258491323,0.018167129976932418,0.05722866872537973,0.02650552490465913,-0.003540130715859582,-0.002749203350284403,-0.07863802400144511,-0.01814511028241649,0.0417190777995795,-0.08157312341813254,-0.0209005441955949,-0.04148367637757775,-0.0010931280313340379,0.1259449019378084,0.003568859139462478,0.03028945735405706,0.010488504072925066,0.04059683408563166,-0.039383810679624716,-0.02968508105049698,-0.06017863212955738,-0.020498506792856055,0.037053566017267045,0.015630868686361533,0.026182209095519004,0.0050622819533512435,-0.0054162067607125665,-0.0066629962176291725,-0.03028793930473012,-0.016393850209743346,-0.043599024892721876,-0.06042156419507058,0.009462401513964828,-0.008504870513800819,0.06048521798314925,-0.07325990533763176,-0.07987165246857113,-0.01782628241296981,-0.0240337479406983,-0.03226816406426321,-0.008596658060753744,-0.025452856531450588,0.012825841120697823,-0.017296941343979418,0.006346143657102528,-0.11320503676687642,0.010027140269565318,0.012859807186777485,0.014822405627411698,-0.026870981769619058,-0.014359987754244836,-0.08605617065382565,-0.02099477370772166,0.01693839280968458,0.032837840266532664,-0.08821387380917957,-0.024275148125771463,0.03747628973235792,0.0347951787500609,-0.068858168209175,-0.04816063101144341,-0.055415744013757685,0.04346883234888599,0.005340692687981844,-0.05774657631608957,0.012004230495669507,0.057738772942851874,0.048284568408706464,-0.09849146456221512,-0.08148041631267262,-0.041131453095866924,0.010244855185869605,0.009411821595202752,-0.010421080367536417,0.009637737196933008,0.0342093422919318,0.010977728859189644,-0.02503673217321079,-0.042436319273260456,-0.09732151309875099,-0.08520241121132363,0.02601889900747799,0.03975514958436973,0.02973679823575587,-0.005454740385390986,-0.07436741160367813,-0.051394085590654726,-0.031069383530068193,0.027358444890589903,-0.07386543707398557,-0.08086374674850395,0.011900074227977682,0.05014188618178906,0.005315141805545071,0.04191853697603911,0.047786189148037506,-0.030448157559645892,0.025946186059696497,0.010022345554621895,0.053138476398921386,0.020665259033618856,0.04674787077105099,0.028487559890439513,0.024405645309486575,0.041066293067274155,0.02111537792715028,0.01981432210222864,0.026614275328496768,0.029437433898137955,0.010680462277339112,0.08451203387378699,0.012675093361700373,0.019419987449106366,0.01985484915863404,-0.03538857686866948,0.2584978242225738,0.044062216863101626,0.006117567068490481,0.0006958732857855104,-0.021845661386761358,-0.062044795068104876,0.010739151342917802,0.004500815178684778,0.03116744803628883,0.030284682888248895,0.05443331014914516,0.010961192926916032,0.030761941542868654,-0.11460019136123888,0.008663759881249431,0.02534885720360955,0.039110725181216825,0.008849736127917172,0.016688391144187315,0.03670912234918971,0.03729279627919933,0.09097400524483498,0.06250452208181682,0.03577825947250165,-0.010097376786535824,0.006975746068882607,-0.017805750375107544,0.03420749422174648,-0.030213323925789962,-0.0018427344294699674,-0.058108891131854544,-0.08992300459507375,-0.05814737385827812,-0.010156367224726504,-0.12731375301732012,-0.062307421485896394,-0.04444809271655169,-0.019899441369581557,-0.04875633565125805,0.023925220929317346,-0.044734437486965255,0.05271320609927411,0.012422413474008144,-0.008283020853723807,-0.012276074141033029,-0.05894512154791811,-0.06984494494916131,-0.06056999489928474,-0.04048343322128187,0.018073134288237782,0.00518809962185999,0.013547534706853057,-0.07425891819025743,0.029690351595770194,0.043005738074238534,-0.051657390136744065,0.004551809652580226,-0.010958212827395411,0.011774834016827983,-0.07326607376982568,-0.04467412396456252,-0.04472238928569087,0.04911424818605871,-0.003911660348378617,-0.027788842546451933,-0.024299155912811208,-0.07971832712485996,-0.0617115827135027,0.04104621307179949,0.013157143147563546,0.03298428033327858,0.01245029639009448,0.0033935164109823697,0.05225368006620437,0.018708068360678887,-0.04150541434133925,0.02118295892419311,-0.08351850300511554,-0.012645699792080895,-0.013816951346096723,0.03994396122981066,0.0548672970523768,0.04892528678196008,0.03546188530232231,0.01733324770474563,-0.08895153106271055,-0.027410600996859057,0.013297917542415683,0.03137980755283489,-0.07298797694419751,0.041596958211470435,-0.04642074491969377,0.13397771969403438,0.01732396403534289,-0.02200967089770001,-0.16128033248407497,0.0646495204551145,-0.003596797499494189,-0.11522299160431211,-0.002721511799963315,0.01289782172602149,-0.008756145439274285,0.05612565540242998,-0.009661209361976073,-0.12638440724875802,-0.06079944931077708,-0.007193518238717865,0.005698213646279959,-0.006194827951699177,0.024570124686991615,0.015957538341434117,0.052137728504153415,-0.07638077546908359,9.02293278614249e-05,0.0014027723835009064,-0.016191255058933336,0.010464801424337568,0.008320132761156474,0.010115248338412451,-0.00331894575567925,-0.006090081593233312,0.006093291268149299,0.014992141300298566,0.03880071494924988,0.0025761452416496774,0.0034321594880285743,0.004334577855287464,-0.008644451673344546,-0.026738483861962953,-0.044159535156426254,-0.04982655858012114,-0.0024332830040695655,-0.025970224501259364,-0.015855681564591353,0.0033297840564730083,0.010140718330684617,-0.033302862643394236,0.004492320434048434,0.023712956539879745,0.04357159184468333,-0.04087774503735879,0.02618558573095437,0.033219038005501154,0.04903809557309095,-0.0026937803948062842,-0.026583338421319047,0.04074485924318528,0.027987193668904998,-0.00788455509365089,0.008429422230223207,-0.0488117529737047,-0.019075251320415747,-0.007997943467509167,0.02106790851892285,0.007788624078775179,0.055855994773228675,0.034298197298352276,0.028528733136707403,0.05092647653685767,0.04531292286812546,0.017484474343561634,0.0682727508864679,-0.015995940616956153,0.003072018968458608,0.008277853753659152,0.21139143192324056,0.041936689899335515,0.058986353285175715,0.04861329287626726,0.05293778290463047,-0.005211569817787902,0.022951306090607537,0.007989485060458063,0.01791187393795701,-0.04006697846172437,0.05344702014805524,0.006733821694971117,-0.009164716101731528,-0.003063024465477156,0.014972188194277349,0.04114315030636271,0.06310684895654384,-0.03302253314403241,0.019495364292482362,-0.023906688498987833,-0.019630147311389196,0.0441200471867253,-0.00444337917015491,0.026300743730764284,0.010754089777702864,0.044413808784287453,-0.02371578750136982,0.07991187983317541,0.056851525025118185,0.034779154779084824,0.03252633885026633,-0.05123270712956419,-0.036469943499253726,0.03209739099407406,0.00955188264190706,0.007832290071543733,0.0007273662496432904,0.052122638876398064,-0.04425452607808189,0.13898379067153216,-0.043105737084535314,-0.04779449608352652,0.013676984825323734,0.03723552849360371,0.0736541736130974,0.031785131736123226,-0.04965111113638685,0.0328620323152938,-0.03723796892471722,0.023565270582069236,0.0002346024956028438,-0.008704830482249324,0.004930580487510928,0.004187440082739756,-0.07769358981335224,-0.005355215713831996,-0.008240101158614474,-0.03928884938554915,-0.05496662830538141,0.00891065701847223,0.047504056945058264,-0.015431085908514941,-0.09046144022969677,-0.07829306533745566,0.018138216678488858,0.0033429049235261118,0.02361146300950493,-0.0006871057798886604,-0.019854756642108264,0.02182478986262494,0.008664202431923182,-0.011751749413451506,-0.07805843747098962,0.010710564009356782,-0.018127418750607468,0.007711013909230953,-0.04916010766176497,-0.07563462210259972,-0.15515353595230413,0.013571347830958608,-0.052295025576175755,-0.08408178503165932,-0.166641687526767,-0.06286001657111602,-0.04172251849844126,0.025696030807338448,0.01234832758127009,0.033127649609316814,-0.006595931348284987,-0.03581683615233924,-0.17814338177238748,0.019733954737706602,0.02330741393245119,-0.05378056157954905,-0.009395682820367958,0.00029792837044179875,0.03880875040770544,0.0756960200142379,-0.030562629616719482,-0.009499919044894861,-0.010357527187308351,0.038814852631430266,-0.01547178959700972,-0.07706785105371732,0.020970003291928566,0.002873737229687452,0.006615619630882778,0.05150788724753294,0.033986665071731384,0.00329478517763955,0.06030523326953453,0.031037090126789492,0.005993966012356984,0.024266993404353218,0.0010770427346602947,-0.0012321492737297987,0.01584072550901458,0.03663651550298385,0.02586610996338336,0.020787846607814714,0.026872828752896285,0.002764910990304037,0.02747160267273612,0.028482120009718906,0.027239498366924318,0.017208064029118068,0.011655786962022947,0.0188217387535511,0.021814907754660665,0.26934099038093734,0.025357679456714723,0.001654326380101758,-0.029570281641747014,0.015967099591295105,0.09518511226567919,-0.004765984462133427,0.03276811621895255,0.031633603669727534,-0.02994111717063553,0.04665527508238933,0.02165753514021331,-0.024040675072281466,0.004723145065260103,0.12738322542423283,0.037442381209861125,0.01618671941714912,0.003219986437884115,-0.0702790584099572,-0.05330746425326923,0.002481343095456077,0.037173140461020805,0.022309019141112912,0.0035988707268674192,0.036481843115544255,0.017541337513930635,-0.02270246671506577,-0.009659060998248698,-0.014178423174951795,-0.020681956290068044,0.036262787921965176,0.023626064113749106,-0.040363592914292354,0.03710853066171729,0.011759581493256057,-0.010865447628690869,0.011925259594619509,0.03456813635072598,-0.030168530828440534,-0.07880059106463674,0.03325719686373587,-0.04527764140871289,-0.009826928184053084,0.04430342945999984,0.03312009967573743,0.0055865249766920665,-0.01067369621899912,-0.0003747829237337905,0.02522478834591811,-0.06599411249437266,0.052183997564079924,-0.027492030634495623,-0.019262848195140393,0.021547754855171443,-0.034816873570857436,-0.030025358496056455,-0.019108328869591826,0.035024537414655124,0.02277669073459027,-0.0497282389307967,-0.04326442326065235,-0.18629549551993796,-0.031357317823699056,0.0018019458355469581,-0.03582281484038709,-0.009111418969125096,-0.02824161231786728,0.018340511344006785,0.03032929165224008,-0.0037634756268450434,0.07140735051971932,0.05339191803916624,0.04640068900576955,-0.06250208636283652,-0.0015153896131793972,-0.026753729377685387,-0.039617216599052686,-0.037688957458163315,-0.056324373880763376,0.04513411837564581,0.010529206519597056,-0.05784394561280703,0.04205863248322246,0.009480391977717545,-0.020279829435192007,-0.07311960732965431,-0.0636077821788608,0.016106113929124092,0.0006848293397351581,0.044385684189403765,-0.03323209336774767,-0.019693858389336884,0.007978820535111399,-0.03235212286244303,0.0156488859229669,-0.048243876152098096,0.008062339326072239,-0.038365030867467384,-0.017227535418942133,-0.0656687909975877,0.016294136924260166,-0.010449742978819534,0.018065337952444232,-0.01779408399224146,-0.05476335954151644,-0.06036147141215758,-0.03712430744269272,-0.04467974478266537,-0.048109629765536725,-0.04261155789353932,0.03214551581759742,0.042975700172888855,0.02531648860557739,-0.01575369024749902,-0.0022043986281427663,0.09680057151093394,-0.03936033328710605,0.010653664118431407,0.08985992426936561,-0.06682836205270103,-0.02866432572597839,0.001040596107853354,-0.01529748659599647,0.04068500451262102,0.03363440147439012,-0.04698600841877838,0.024412125766672,-0.0031982355171215316,0.04131249174364944,0.02607106124015283,0.03216234660590987,-0.00046933576353221725,0.045077239120276794,0.05156629399899779,-0.009431815126014813,0.03587347680502632,-0.028545129213944632,0.008200339524232075,0.04871635126920547,-0.02662089609220988,0.03384301494070284,-0.03349385533415071,0.028452968360976282,0.017635270275181008,0.00036990532224856173,0.044623661897398754,0.01650958205728842,-0.0068651249374069665,0.04208244387689859,0.020134970360127177,0.03545891894723919,0.06714632329730282,0.061303484439070854,0.029504151110424946,0.024251197613643086,0.01910987129418527,0.0444689036472125,0.02813364449446936,0.02920713805497197,0.025971624557440863,-0.05008256541695759,0.006216127309921915,0.010862696267499293,0.012923511049310053,0.063819450807294,0.011747599994238469,0.05393189152265556,0.01917728150750739,-0.022062074876532823,-0.11061946215495463,-0.11910415130762074,-0.02506366136192895,-0.020411252714219345,-0.021930837152554818,-0.08867218705903494,0.07981895727936107,0.028490826180055814,-0.0014248475481468442,-0.008552373312372245,-0.06796692467143589,-0.11145654905131781,0.027813945626255467,0.0490327656089418,0.07418021741475962,0.07550713918260687,0.034502847086001875,-0.03966959178413065,-0.038407946642268445,0.0294252672583882,-0.007091449696171383,0.010666536349713809,0.032070782221071854,0.08575078242141337,0.0434834956287553,-0.012441928008357236,-0.014835342954293658,-0.07553631288642214,0.0048726773155183525,-0.003377088953947703,0.002410049860438309,-0.0698684095221509,-0.02068300937170911,-0.017635897585066975,-0.05564951679605328,0.06320495746660514,0.003279638643441139,-0.06873550167098355,-0.05610452588649994,-0.06793735453791214,-0.05123924449723191,-0.000688721513763251,-0.014150975002110038,-0.01718630255454969,-0.031051511052097462,-0.08735626226402102,-0.01939197272475532,0.02705131618846437,-0.06455087758877616,0.02078365029258298,-0.01156879038795928,-0.029486356021659076,0.05743622043863009,0.07118902652335293,-0.04015316454477457,-0.04365351858593998,0.05091935333154202,0.0011629379036944814,-0.0903605704389327,0.04333854023392707,-0.0727392857433143,0.009131387128416685,-0.08864073373249222,-0.013291818428675514,0.02404278198465809,0.02413754751171895,-0.038222997799953556,0.006341150389717108,-0.08344684626804891,-0.08347873922782735,-0.11660577442493589,-0.007246457665274904,-0.036704793205521204,-0.04639629612229465,-0.1033005861758285,-0.03559748611229845,0.057289526180801305,-0.0790641592931842,-0.05029718688202835,-0.016225195408472295,0.036112105533232346,0.048359633844180266,0.0039813329274100565,0.07504846256124814,0.04642744876812812,-0.05170337280024844,-0.054962252703333596,0.0007227526604462489,0.017936659905513453,-0.018556651660646302,-0.09481100686788427,-0.058810597961180724,0.012605153705161291,0.0038426593575215822,0.03481766225100436,-0.004475926611192462,0.03221993396167749,0.016284852945117657,0.03576501937145705,-0.006107751045633416,0.013163776807284287,0.017154875923023453,-0.03293356628075581,0.013506208087895308,0.029906962656310102,-0.02416852552871181,-0.0096027547459097,-0.03479885418667637,0.08088493371085774,-0.039790947950713494,0.01022365015365491,0.008048403934607998,-0.024882216927292113,-0.030640217575253433,0.059589152250791734,0.04822723378477753,0.017138067496684457,0.009149779398994815,0.01732842414965837,-0.0069889910493889425,0.02167701181326182,-0.02335170548842877,-0.008987701916939149,-0.047319491471092594,0.020203264365020217,0.03139887220413452,0.010769042861907102,0.03859320069523154,-0.006898892959560871,-0.024159512027833063,-0.034063741762279824,-0.03707575355877534,0.020006364159310976,0.022055638457401754,0.00960902192971001,0.04580184494840208,-0.08537501428241766,-0.03710103817299057,-0.05980726409903399,0.002917352566117484,0.0016467167779682474,0.025275435517164876,0.03580145541549511,-0.014177328430397604,-0.0416268600902851,-0.004270256856605169,-0.008699051133642492,0.00784593391245297,0.03840932128156586,0.05428892775328961,0.01664248299453773,0.008703529953369408,0.03493339878013426,0.02357148944968263,-0.023101879285707845,-0.015159736108425097,0.00507668002270342,0.032249260639431586,0.03484592399441482,0.01580255399960584,0.04156647473475761,-0.05024151479081884,-0.01754060084706422,0.01905991384588005,-0.008659790990860177,-0.029891497861872108,-0.03561468194204406,-0.017972970530196062,0.050803756052698316,0.0005691270096617286,0.05178638840358958,0.020066949526503088,-0.03859523371814359,0.01215013559971879,-0.021333625146176777,-0.07627665778065322,0.04166397845244842,0.03467665597773119,0.017292976738053235,-0.003123829096142123,-0.028571060426582067,-0.011321865739685398,-0.061152944298943836,-0.001296661788464044,-0.00663112181633658,0.05477611119026553,0.026175635441927074,0.049698107073323575,-0.010737237236154626,0.0033166677589700866,0.053776847412178246,0.06745816278788527,0.009813682200094983,0.024804415087854016,0.015986025610234596,0.003908376821142833,0.2657446550601511,0.03587099428078572,-0.017214889326939396,-0.017012685472853274,-0.031876536851996415,0.006221101517032156,-0.03316190854729581,0.055875993368017615,0.010853403310646752,-0.0527187392053243,0.013304219341883758,-0.03911258130111328,-0.03363116056887716,-0.04862405377688204,-0.03552223779433199,0.029252531140507392,-0.05489916387360868,-0.07122098058078041,-0.072043995988866,-0.06732649909582147,-0.03883633523686754,0.00041035781846851624,0.012606618790996305,-0.06279406381849978,-0.009565328762168411,-0.03987460756371165,0.022637585162685353,-0.0030181096105242502,-0.11683972409851215,-0.04166626303125126,-0.04826821422454041,0.020588900569053162,0.021860314861230662,-0.03896054600687763,-0.06795943831246742,-0.09562211959028274,-0.013844144320768909,0.029003486015269562,0.048676112152531203,-0.00794018868981329,-0.010368969843099051,-0.04900689375967411,-0.06736723230809444,-0.07906390069920889,-0.007164175721992769,0.02765946489684359,0.012037985766832586,-0.11554929671484576,-0.07884242898174253,-0.0021086557136546255,0.003134061547685026,-0.002032922506958955,-0.009359734812977123,-0.028024054156389474,0.006315391753145031,-0.015029294338385816,-0.05413415829257493,-0.010764534602841472,-0.001643427299205406,0.022152032683063063,0.03653259601221126,-0.007645624882109965,0.015886484526283367,0.03129770934750819,0.007409615324020762,0.008604125412944811,0.049864974733438455,0.0017221515984998444,-0.003821847468938623,0.04996753808155271,0.022796502957947058,0.011572128905370408,0.0009509282046654769,0.060985700354537105,-0.009478568205564582,0.03574290615594098,0.02248109691085959,0.05745447752588928,0.01999733884624532,0.05447099832699226,-0.03244221426899374,0.018512134789222458,0.04956868681560401,-0.02451943159853473,-0.018743175812061648,0.013640701517570889,0.003140035332283061,0.2462329492377834,0.032641761541543975,0.015195612774803467,0.02550548610244841,-0.01637997360248659,-6.584516525573784e-05,0.019100472373881752,-0.04206576470673643,0.014504588017151054,0.002026164302160979,-0.04703457034695912,-0.017951429328876334,0.04205690694662453,-0.005271141362652586,0.012047741739654297,0.04338577447518234,-0.09850146086115026,-0.06783720689716174,0.1210506750257404,0.07914140672166141,-0.04166928810651764,-0.0824472129777433,-0.07243486497768432,-0.08023177092046709,-0.06374945976549966,-0.06041720465998243,-0.0009322681891749148,-0.06410068079230304,0.02379089588176782,0.01330737589069628,0.04237457456692014,0.06087516698162041,-0.06424566229827265,-0.015415204028990217,-0.02667674223202041,0.016341904528683386,0.025089375599451937,-0.03684255407634342,-0.03726852778928755,-0.07980289850462569,-0.03670910021668901,-0.01016569876944382,0.043044533824511545,-0.03385129618763111,0.03480977828626334,-0.08884475855876824,-0.043113084453385214,0.02115533295313862,0.027716426719702893,0.028308998485724598,-0.04120549516727691,-0.04401937716765976,-0.05026743583360018,-0.057844287543048434,-0.04853500913870711,0.045281257594867584,-0.06386589753673654,-0.06008091774678,0.06311385329975609,0.058185645231597506,-0.046209586658472114,0.1059617943114764,0.04035311676087994,-0.01424801530972289,-0.014379549943568553,-0.01729970743181436,0.04968707465067449,0.055633640005160724,0.02222070979848305,-0.036138105478836474,0.0008276563961577252,-0.04091214067662074,-0.08332474177175007,-0.02153487349082771,-0.024610256858159957,-0.02649753609408575,-0.03213619776019858,0.03050066336600747,-0.026210689618605867,-0.04076880152345905,0.04783426967264239,0.06896532954835113,-0.005001910355658448,0.023128858504318506,-0.0007677728514919631,0.06555452760788914,0.050050423685998414,0.020995615202658715,0.037584310442917136,-0.014189826682435472,-0.023600053044362575,0.015566840224714147,0.05618604885311808,-0.013037817019793417,0.02390380623826899,0.06808430325854704,-0.1289058344867968,0.00038776466295933003,0.0279720642781164,-0.0009782884957363245,0.007522962218521329,-0.06629718897445523,-0.04276034141514288,-0.021457432813676926,-0.017244415189080622,-0.04363427338821404,-0.02027292957522841,-0.07964251604887349,-0.05697070729851288,0.012969299551693758,-0.07101237629137172,0.03224966781303221,0.017472009259547686,0.038713840876151394,0.018896687851197323,0.037793173730513316,0.05923337210937043,0.057555007515264746,0.020235255238210667,0.05584338700271491,0.006525602805816302,0.04222783274186442,0.009350180603274142,0.04069273015138386,0.03294151831628999,0.04707238039202125,0.02408784647424158,0.029042396395509547,0.011674652964628838,-0.011093347197355174,0.03275509718058181,0.04076022325213783,0.05133423404450614,0.016786556371053883,0.02176767405999948,0.014663688342572688,0.12697665999367005,0.048995450217138754,0.26341574729344486,0.03519388559374228,-0.03256130267861162,-0.022056744598064913,-0.0616764845197045,-0.03912854120101609,-0.023431522169766038,-0.05064854584722878,-0.007525893472629443,0.04031042945876713,-0.04125775806662132,0.005958708583004164,-0.022101528576619362,0.06354589237652782,0.04495489126865943,0.008002375908007568,-0.00453116457933545,0.12330704004298378,0.01624653303664118,-0.014669648665612052,-0.03389938499564933,-0.03360659763360729,0.01748127196385363,0.006883648597068401,-0.010388037332010184,-0.004924380809973905,-0.022134051377158823,-0.05336013738811316,0.024118559628090955,0.03684531110024561,0.008893663019149773,0.042133614011450576,-0.0004663535264369332,0.005986011629613324,0.022121838173900857,-0.02842492265692161,0.015200596716118777,-0.053058402428170094,0.012014338127633266,0.011120588298039136,-0.04724439842772859,0.023732287368138313,-0.06413171444177666,0.016949212273666223,0.023144790151549688,0.0013088169059267646,0.03596375386036741,-0.03507963052742046,-0.018583727201143103,-0.0637589370153746,0.02357244522267915,0.03733673916541662,0.0642575407139549,-0.05733391593083041,-0.052917937847020494,-0.07703987675139808,-0.011262343126906804,0.010226521855010164,0.007765950607419755,-0.0781425199178537,-0.06776751729163985,-0.030601343723776556,-0.03696561708208849,0.0253314228730982,0.019792233837655247,0.035063951817555276,0.05342873988122363,0.04605577028319765,0.029301578938286086,0.041522514156803254,0.0046562507974917755,0.016173983943086553,0.036824839712052825,0.049861399174449796,0.03846151093921234,0.05888530104194021,-0.0033644884948955812,0.017387105557936138,0.033062344934353775,0.025970244042013566,0.029089108023528338,0.059453150599110424,0.04771928594364005,0.017319809835788513,0.03280421714167876,0.040992562301351315,0.05103724862386851,0.031330268611480014,0.015429533630891562,0.06561429442536826,0.010939687275852397,0.031975153365291636,0.0156721430762835,0.0038388360525368932,0.020752206442241357,0.029346750412250284,0.03889168415818376,0.016092522693618435,0.04838562039544126,0.03377883694138451,-0.029289495792910018,-0.016025113893769746,0.004367394594540588,0.02223725888498011,0.11555591937019172,-0.013568888964669524,-0.003800737553387568,-0.05642377467079139,0.013370553616253326,0.010799509416196031,0.06810645047377516,-0.03397159583470396,0.011986174551722358,0.0093947515450591,-0.013693680467093268,-0.02323509771215843,-0.07752793803772552,0.008167583430706756,-0.02891616091893866,-0.006591411785935483,-0.023769169443695174,0.027907757756047917,0.04804872573220945,0.03851069016340127,0.04059714183443437,0.009206360023088653,0.04253258241746037,0.030836420604654784,-0.16528206857781166,0.031786667981438865,0.04605960192660058,0.011487514104777215,0.04862690448943258,-0.04555685065888183,-0.030744309591541393,-0.0002394971393021339,0.012301146926572549,-0.034106310431887124,-0.02849533043460229,-0.04634158055170801,-0.04352543728167524,-0.0361648663084523,-0.0033586121840977656,-0.0147750294211665,-0.011895695240661835,-0.03688819413482409,-0.03651134465945607,-0.041962992951810094,0.010848864179301433,-0.04775739543304788,0.023497326337108708,0.02199647837444239,-0.05565494477375301,-0.05642238098631048,-0.0273353017994743,-0.060939123604227353,-0.03836908729967157,-0.042070278876042845,-0.008409168833253098,0.0024702764921217305,0.00725194755927517,0.020867715076778773,0.01509744713685377,0.04272655148722817,-0.036521778217743175,-0.06919596945302317,-0.07408228239610713,-0.06811163017792325,-0.06933385926554586,-0.02796495340737767,0.024642291757776134,-0.04926458442367062,-0.018684321615152405,-0.03436911107409901,0.01644281697121223,-0.05786269182120602,-0.05915125960056577,-0.0002925437070975581,-0.026834833826234344,-0.07341224611994993,-0.028733794736467953,-0.04318093505543704,-0.0660242321549899,-0.062235519470885826,-0.030278735214183162,-0.07691138211947612,0.008634817562108751,-0.011898364683567302,-0.013552639535432485,0.035288878321695576,0.016163966952867943,0.029262780200633155,-0.0041511606225852005,-0.0015877814174497357,-0.032230508520711576,-0.06372342498955652,-0.06729063288394457,-0.07566369986109231,-0.061840184531353516,-0.07679426072272064,-0.07444461715291344,-0.07480554049888789,-0.08636021941193087,-0.08421698039648738,-0.08280087492678095,-0.06157050190693785,-0.011200948858884723,0.022803369285204045,0.015676111190679617,0.001087812656187366,0.06338609687373496,0.023068467882688293,0.0599163426676992,-0.03799304123573083,-0.0029221649649808614,-0.0961585587287532,0.02801731843292871,0.03201347280096973,-0.09715788619542537,0.00909073639952718,-0.0740296936565523,-0.0265459672054363,-0.011605954947496595,0.04605265657533651,-0.01630707238553993,-0.044838351712390985,-0.027064570649290208,-0.08618088541031155,0.003737278454191439,0.00039213172487339204,0.026469794837324787,0.06498976108345506,0.03364810519897133,0.032843908097973676,0.02545957973977103,0.04305568402658801,0.04951305040867057,0.25576722912196825,0.007466626876104418,0.07974033846097026,-0.0011812946547060067,-0.06871197741079411,0.00415210887353818,0.01899966089942361,0.1302158872003337,0.030451107337312093,0.05828095676554079,0.004383104968332742,-0.02737165921681301,-0.019283984176401137,0.03578552272698956,0.0071312615223271,0.06725832353273853,0.033736822788230106,-0.0428619089634282,0.07460160905464926,-0.015514686083506177,0.07849981094395304,0.04675273400288343,0.008635276140087689,-0.03605885487999505,-0.05092495198457044,-0.012195875819028099,0.00426943986585424,-0.05770220485702587,-0.061966016019911,-0.016951924662721895,-0.06424868379810814,-0.06113710605753923,-0.024620516951476986,-0.0018819266032799918,0.022275852165308807,-0.038963754740476836,-0.010194694951147507,0.020683911173903037,0.032111572537529706,-0.038006264000061116,0.04856503479102933,0.03707755989192078,0.007966215577742805,0.08979608872861435,0.04221392768694857,0.046365548325876894,0.04443277299540462,-0.048867849130957486,-0.007393695439104028,-0.007968133462847764,0.015069143863815342,0.0031923133908102444,-0.024400060476204452,-0.06480166647911259,0.010975683318640066,-0.014397077782573344,-0.017561713016961657,0.028388689919824142,0.03153575493372679,0.042642300513574545,-0.0416706507527479,-0.0226392853333152,0.03431946951588292,-0.004834883294560676,-0.015976420166737483,-0.08200148691912579,-0.025428513941408805,-0.018126804352162774,-0.035215889808357756,0.005637140495007127,0.007500822232412881,0.016358487741593247,-0.03585586044949268,-0.029113721324861334,0.027971518711718497,0.0012401226189965393,0.021446371020993966,0.0060888023762959,0.03372779923996355,-0.023159942480576696,-0.016030926097882946,0.009610254899444262,0.019633504203031744,-0.04292313339217959,-0.03257722552384932,0.014565400082763498,-0.0268435920790408,0.002083196134344357,-0.009642986127837289,-0.02803979452182165,-0.039294760968093416,-0.0248165362937072,0.0024348105302540203,0.024839115830973115,0.029129375065521188,0.043682831829507385,0.05675961124280865,-0.022475041817360056,0.029389256233660916,-0.017557137047706624,-0.03055544466077438,-0.054611209518133495,-0.0672580526319404,0.02598212173054507,0.030690850374048145,0.011047876945308866,-0.06371288631820926,-0.08367368241733111,-0.09029183100435995,0.00330936530639902,-0.07693648707369918,0.002765749846912136,-0.03593679847709748,0.009112025772635764,-0.05239648956272914,0.00025032743564958884,0.016362728420561697,-0.02032187116147088,0.08365564946054187,0.010107360051173258,-0.028346229542637002,-0.05614727363961759,0.010188074310442148,0.036736500766452164,-0.003987695460632906,-0.0002558907256865925,0.035673050817382854,0.00611185350511322,-0.02060551839756449,0.021325303134291367,0.06705751765408763,-0.033506761221650666,0.06129996093492475,-0.03709318212752598,-0.014032488256308514,-0.021660689995479123,-0.016417183434344635,0.03175045263776812,-0.016867491739042294,0.025098157907636254,0.003814453433090305,-0.007068707272311725,-0.022011545216574602,-0.00023214090443551513,0.024148733601725553,0.04347780379206195,0.0018133101667228274,-0.004599560216937972,0.005640515144145268,0.0548126213106887,0.009469736314571006,0.0372893513278174,0.029787769421772536,0.029345063655393317,0.03232105992330084,0.06049513796594105,0.02049102806424501,0.047857446454252064,-0.03157423306644586,0.0023524190957223763,0.03524952946012012,0.0378911422874622,0.05355600809391652,-0.00857124547506529,0.04047501639477406,0.052911204720625604,-0.014559709271960455,0.04205678786698257,0.020400597208375223,0.017092872670341482,-0.014770777849082373,-0.0012514095762044778,0.012044296949165643,0.01687408187105872,-0.04681967001719369,0.014048061435808707,-0.07506258506479188,-0.03954759231218336,-0.043632187323105545,-0.05886481144820477,0.018223408218913634,-0.09095286777674937,-0.06408026186799543,0.002359106101395944,-0.04570124586112152,-0.008803417825520908,0.043712880580143894,-0.065319613228533,-0.0349371082064717,0.026675941209577413,0.038125004810586276,0.022806469541010677,0.02393926116230332,0.009856225587495607,0.12134589549660936,0.25902903012573525,-0.026711662049260204,0.017928867012146552,-0.05311764940907011,-0.021492894804599268],\"type\":\"scatter3d\"},{\"hovertemplate\":\"Category=Siyas\\u0259t<br>First=%{x}<br>Second=%{y}<br>Third=%{z}<extra></extra>\",\"legendgroup\":\"Siyas\\u0259t\",\"marker\":{\"color\":\"#ab63fa\",\"symbol\":\"circle\"},\"mode\":\"markers\",\"name\":\"Siyas\\u0259t\",\"scene\":\"scene\",\"showlegend\":true,\"x\":[0.10930040103374919,0.1511957645450551,0.10933291321725765,0.11118615055965081,0.13537887163745793,0.1015517606397408,-0.04770389024244293,0.13164369656931804,0.3373339940893071,-0.14346147477187446,0.1382149006927068,-0.055434700416001674,-0.07869641685820208,-0.05131964869762966,0.06576089570968924,0.06490763896358293,0.05969882107980456,0.008023547731575946,0.09138882177822523,0.036856064207134664,0.06407353916888804,0.034707898570566026,0.02254093384847374,0.011293374417415555,0.030287591257767168,0.02854415055668702,0.29216048662346833,-0.008631446083337555,0.03449377832137607,-0.006104449191429607,-0.011481160707699927,0.34043550725028177,0.15904036691805937,0.09530329470189264,-0.035865337770037045,0.1565817420307925,0.016221704423648307,-0.016418211719400545,-0.03596744898340889,0.33897830162912024,-0.0006220576141072984,0.17998327395987312,0.02259166846729578,0.010570750001772362,-0.007240178218592813,-0.014594652768137447,0.1611207810373621,0.1418229339158503,0.100478597569109,0.030812941538979573,-0.024787885545834578,0.15912629440716616,0.12530625758848785,0.15126118480116346,0.09724087342403424,0.06879150616600961,0.1621312429550433,0.19906831712998652,-0.045215579350586295,0.20787425463200468,-0.03990969658177885,0.029040189381701467,0.2060325236499859,0.11350704595883798,-0.05037536738220698,-0.04011476873981585,0.055781833574763164,0.19686624171114356,-0.0580417517555971,0.0032519348911015018,0.019646813855675044,0.23967643255153998,0.08724658068051551,-0.04561312797045926,0.05697039905355817,0.10133478807467074,-0.005388396142717348,0.1690876963143579,0.12116153949102242,0.08679308770256061,0.10199340532943935,0.08070661584856478,0.1859441781201455,0.3353088503647377,0.05875630841611482,0.17888406548640404,0.33212303461602655,-0.014435768137983192,-0.011246800884024796,0.007247824941314687,0.08332482300169981,-0.019370157207753924,-0.025508794342793042,0.07887193076954463,0.13442935767722558,0.035055496772781546,0.2032533731559269,0.18854588121040383,0.15846723916716554,-0.002204980516485161,0.09939453696755898,0.3068200230041702,0.11019187535998756,-0.01983001291385279,0.03974181021378654,0.09101947204861571,-0.0437905441765161,0.002847984185188708,-0.03556809845338685,0.05740418480652453,-0.0029065124292334756,-0.045721535507812945,0.0615252341772933,-0.0014824284552082177,0.002697311306765931,0.1437378096959106,0.0525394145652756,0.005318538456837863,0.13580926475671706,0.12982125799078453,0.28851076646991225,0.05299951159246311,0.05496195168855958,0.10967856141959569,0.12920006039860085,0.14513414032096328,0.3056021414443219,0.0920753789956131,0.01379045789020344,0.2208132151389805,0.0790842948859033,0.10153448023960014,0.2904434853280878,0.0021268858827648927,-0.02799496305455465,0.10693721658959607,0.33620116693241203,0.054186108099698746,0.12957618635794424,0.04740097442142305,0.010017081386494632,0.06710301266759865,0.37964376278842515,0.1640463754380286,0.0027547567938102984,0.06768097378357099,0.3530356212956724,0.08296747816169833,0.12960031979589523,0.41785965423817456,0.34554808410196297,0.06516753839231161,0.0363463389038991,0.0981098801709055,0.361893149489446,0.32103257536471785,0.47385771816074507,0.4159060360853763,0.3424063133015885,-0.0011014125448046638,0.4159267433738062,0.056441306405104474,0.3126157507908227,0.38348039928619804,0.052355202523790306,0.3092827394890974,0.38287992269264853,-0.02552787849421962,0.15488433702633297,0.08665412237237827,0.07675724869865605,-0.0030561462587025854,-0.021227908311656787,0.548294881340803,-0.048243157447552074,0.08856894779536342,-0.05126537819641218,0.09484536697777725,0.1655920749760108,-0.05054227289400255,-0.017119417023296207,0.0033884806105704147,-0.022615155223023344,0.0736867276624076,-0.04342906487977423,0.28723614065384595,0.2571101469501326,0.5396077916630028,0.248194708816362,0.3681240787635892,0.2779806440252549,-0.027095457339854974,0.048073788963821945,0.21041638127904386,0.01797136087871183,0.2835502726023095,0.22449960150714887,-0.01132333467387727,0.5112912168359571,0.2086832259703777,0.017097387439831552,0.2902061579942693,-0.023260020741471633,-0.040460291318903094,0.30056009863972066,-0.007663827350686007,0.02507742361372948,-0.00587145516213063,0.2947988932098443,0.4087224276791592,0.4875478721258552,0.4064974478047517,0.3313580605153355,0.3210631442441189,0.5490022048368182,0.3266920039610129,0.3488576182781105,0.40504030119608375,0.32864571070665144,0.3190336169982446,0.5484277524306393,0.32450561900844693,-0.014351472786113388,-0.0023922872048180595,0.37798797194721007,-0.04223483792913383,0.026591710324750616,0.011340572604196512,0.003791911834729447,0.019658689633275085,-0.02869564858345128,0.03427547975054459,-0.05630257317366604,-0.05599828148289392,-0.04820643321991017,0.0802530225790122,-0.05420727539916826,0.06278416882147927,0.04714549671692476,0.039355576918247724,0.03895499055072178,0.14641607283625097,0.15078533390046628,-0.009772238066817814,-0.033035797708129776,0.09975541183800582,0.10619973988971516,-0.03509453566188248,0.008671571889657875,0.07510791566210585,0.10671807902071177,0.10405006931096945,0.10245152577557444,0.10800472640595758,0.07095243680002652,0.024501570943714426,0.05309757340518764,0.07279619907063331,0.09750505071519641,0.07554120530885895,0.09733981144140298,0.10555154385871178,0.06596412870332297,0.020493844567595326,0.04848299238046686,0.06643175139948966,0.09290657692181867,0.11286692434946377,0.062333307941397055,0.23828172812480503,0.08789273238304252,-0.058436001575032946,0.26047962420478915,0.2564418140181494,0.007464142493618385,0.16679806596684635,0.037053652147452425,-0.043019491263152285,0.016714337321741886,0.0978146317903768,0.06570758776210214,0.020802621444624397,0.008544238004078934,0.019958704594551478,0.03666763049753784,0.0003466107793918742,-0.03493752159522603,0.09888504081597839,0.10291788366230313,0.04520500314918277,0.09427153940743957,0.32281024443983725,0.08133390971070213,0.12663887869044435,0.08901539105033697,0.008952150852980763,0.12311242253121896,0.050219236788308114,0.10894100597603615,0.06357044885384393,0.015138947220138302,0.018944419537264303,0.06047916171971185,0.012126803427015612,-0.019340446770120576,-0.004807204863020339,0.16209455316885954,0.02059383081420111,0.0044458729227852285,0.10775894892137002,0.041839909124218415,0.07175270209088118,0.03791630983492718,0.06839007739367522,-0.0414242060181304,0.08640181861432679,0.07112127188858582,0.05670487315656469,0.08443485218657033,0.46569973007913884,0.07062698114040275,0.026205310819600515,0.02608260774228678,-0.014695348969302214,-0.0411596805926491,0.06652895811016077,0.04728304716068242,-0.06185103506123396,0.15305276319636593,-0.00391596776768222,0.11980551388032994,0.11333359780145616,0.29093060667232346,0.133073165448149,0.0029539042752965254,-0.003085395032444728,0.06301766459080373,0.09874576307247544,0.35174083791758143,0.07272821877724958,0.06065295870608954,0.11788102539796018,0.13921556128165233,-0.008103734977322564,0.20583842729964927,0.06468890217553182,-0.0010629935959707547,0.07218464215753725,0.23370141026663505,0.21398893793986837,0.05532920885478545,0.025767490213966484,0.20544303384038864,0.0371852938428824,-0.027340062920691775,0.1510945424059282,0.2509950328733343,0.07887818419178616,0.1437096117756485,0.15960876193661067,0.3022826854164531,0.24560151039501674,0.147966745585713,0.21862884770012073,0.28478511717425625,0.14901763306948082,0.015209278106605807,0.1570456614181711,0.27074013621569043,0.2806157350941132,0.028363190527669963,0.07392533838660748,0.03566942395382344,0.3945137298596635,0.06066709808306084,0.01879617823749282,0.21447006441707914,0.13891430643125535,0.048468772200090424,0.09748016930650003,0.33226552532165105,0.38795281173503826,0.05202662963294779,0.3118411274166727,0.330373556119564,0.3856839678001708,0.050192617637780323,0.10616964776235734,0.19053128167778013,0.09083679111688212,0.17205834546242188,-0.027842579381467572,0.03997324669704592,0.13151776333278556,0.0852942081995572,0.2579950299830315,0.1879399426853311,0.10201783430084668,0.022798466929453483,0.0920541466411854,0.0705841839872144,-0.002096119224272465,0.12997530412625236,0.04148097972619703,0.06269641920490959,-0.005454706834433015,0.2775147927364834,0.09877939371714838,-0.029346793466326904,0.05352200106293148,0.3897802445724346,0.009728724871726938,0.39826246160122747,0.3907731785844706,0.382567567094369,0.06092273322343109,0.0571890027680301,0.13489139400827596,0.12989983109604236,-0.032027570188930835,-0.0010044623496486605,-0.04355971045533007,0.11332311043585114,0.11827239158067246,0.031802350062903335,0.06414394054170523,0.1645101440813495,0.039810116956932644,0.22793493733231335,0.03291787097500811,-0.03894962634981478,0.0039248485427862394,-0.05089505542171404,0.0897037996873639,0.06879229238653609,0.07164649644497492,0.07583521539019558,0.06291128373240161,0.0545341685643197,0.038596578299738275,0.20118057806221554,0.11962815754355262,0.11969794223420767,0.22770499711701048,-0.028269908193345673,0.0021242458400293376,-0.026678104267643825,0.034975663323586606,0.1405002016072669,0.09056604380384167,-0.014777923245533673,0.0745820708678074,0.02058064718712751,0.09420724982815414,0.08203248851383686,0.08005130644644366,0.14830326212285544,0.07549028389574897,0.019909660858591492,0.10317230282281596,0.07303553870307707,0.05108964426721167,0.028152471951368805,0.06695100391641601,0.05220287889809539,-0.015512295134636681,-0.03961821904936062,0.035055548252194126,0.09006749117385984,0.04750402088802144,0.023310458117150386,0.12114139744280886,0.00794205696555441,0.025591631042820435,0.007520487394379945,-0.014070119057333767,0.07690545741509672,0.035157511578320165,-0.014148188605119367,0.18922593151588465,0.061103685537666944,0.13991162794800813,-0.0032497145807244784,-0.011152244889516182,0.08370749193942954,0.012541920558039496,0.13771746173247038,-0.0050333418539488806,0.08086262742828706,0.06157485265702206,0.12619652382847893,0.2124796888474704,0.11049817197167289,0.20663106647309518,0.09672224359202827,0.028053781511585982,0.21936531369580067,0.1234074231928838,-0.044490569906026796,0.0774280170290641,-0.06302115370792655,0.075504936694485,-0.016273061950091865,-0.04841516636544813,0.12769218362581836,0.17429253777944895,0.07515531990580686,0.03615587671328435,0.026998128311898288,0.0380081163225429,0.03819122752049075,0.0910692435299625,-0.07969647212454518,0.06839740665110135,0.05727158898261882,0.08660153718762187,-0.014694860061132324,-0.019542039561267578,0.05358833623376719,0.06315014119356534,0.013902768678211063,-0.01079021589760725,0.02483104234692084,-0.010006914367813594,-0.029767655463532817,0.11929922497106976,-0.028556576184963284,-0.022338609979725463,0.08868520018605149,0.09913363786231862,0.0936648629168926,0.2133692909041996,0.17505179771184004,0.020108965971275827,0.11210284378921842,0.1546588421674343,-0.0004487656805660585,0.13877477391076742,-0.00750703403577706,0.13392774294940496,0.016719374157412963,-0.02981195337545946,0.09471249967171612,-0.028536648925478487,0.007647091664326355,0.21320935129915558,0.22335614714598948,0.21118936178065034,0.10995057841233818,0.028659622488830337,-0.04275966752970966,-0.053923523232754934,0.024698922753713073],\"y\":[0.0715932679713117,-0.01038788704971021,0.06738933861740218,0.0171206395709927,-0.020130200187547378,0.061229843228030406,0.8799763188754918,0.033030510796560136,-0.07853708581841859,-0.054189528124432014,0.01213698663144725,0.8616101761753948,-0.011950922562838832,0.8774813955518266,0.03653353286579856,0.0334856442128979,-0.001557243731837288,0.016700262706709042,0.005306690811327873,0.012404727074950182,0.0058863907451921944,0.025575466132673065,0.017671468353886527,0.05711546550185114,-0.005939292200093975,0.07035809876940334,-0.00645145836087502,-0.009863615653776192,0.01580608584789384,0.021363197454043116,0.01844121482295563,0.010297287002098882,0.003848019051981283,0.03450457451707337,0.01659139788149824,0.0010107558531133344,0.07294723127181277,0.011563981160484783,0.009904799597917091,0.009530057098683238,0.07280371620302288,0.05465842156964547,0.007640673278750479,0.03375122075731947,0.024447062814019226,0.017321251469111988,0.04782992861056604,0.05972423859904719,3.765424278127883e-05,0.045221025707066945,0.01238806846906695,0.05851175517657442,-0.01124399228067682,0.05345979171711471,-0.015312208065166052,-0.009162660110232135,0.0026115763051782264,0.04019644816484712,0.8963627961677285,0.04317048274567394,0.8930854970182861,-0.0138651073313555,0.042300239225521515,0.0011270694382199623,0.8801412769461899,0.8986758658540072,-0.018473318571969686,0.03902475780835749,0.8858421796545093,0.015839179271716134,0.0509659556881569,-0.016923854935622873,0.030654072289217776,0.007429133240507677,0.011682089831995595,0.04525210938541844,0.032185622702295184,0.02483274514804475,-0.0060549567990708575,0.028049510083205272,-0.01796318846028118,0.024109920421721852,0.004731613759006359,0.06605719777080157,0.010263682606590675,0.00020249218864896483,0.06400741402234152,0.0006585882470099662,0.004018159661936241,0.002219455963017596,-0.002715859737319485,0.04519037664202427,0.0723314919921471,-0.005033802848675659,-0.003438515790150636,0.019008639974678377,-0.042401163834443326,0.006183458201720529,0.056647762590693124,0.00880728879734217,0.02911121530449693,-0.022380897119314767,0.02903462075833207,0.011479177648496389,0.0148744734762324,0.0001500157838851347,0.779350139054965,0.006530634365501099,0.8544433638108901,0.019909048461663727,0.011872492476442472,0.8519167772787666,0.009146459555079133,0.050505168896943974,0.043985184534642174,-0.05657197606666325,0.06155801312072385,0.05501024577111719,-0.061605765413852806,0.023109243789304356,0.045524243026789084,-0.0011551558230039856,0.06597127439997896,0.008609320093062171,0.020135472059065716,-0.029069031910314656,0.03876302959589174,0.011083404191208866,0.03482329520891288,0.028981933527406037,0.0028899382529540716,-0.02345371943624932,0.030464522438372325,0.02043698301266227,0.05369102919188159,0.033466347029679905,0.040274243353962985,-0.028307736805400645,0.04278644604973637,0.0023652892457748822,0.03288781004525047,-0.006062213242648899,0.05531936097621468,0.014012779592201844,0.002490496110761046,0.0073771029034590836,-0.04516201843879534,-0.023935906397142846,0.04859813206782671,0.014841337235477935,-0.046168000172676416,0.00491785522882097,0.010397026465430424,0.02536906273789965,0.010287630289216091,-0.032191347900132686,-0.007037389497470628,0.013836142710682545,-0.04770932953413603,0.057257560149129305,0.016999976019209245,0.022953827717591874,-0.0405069587658641,-0.007533252853280713,0.02075310448418937,-0.04214730380494227,-0.007674756483236041,0.010999710314410898,0.03519589447095301,-0.036117335979788515,-0.042417112323726074,-0.0015632144122807352,0.02490904609996998,-0.021868268830315677,0.8953924373288659,0.04213569959936194,0.8885584523541221,0.0392666440939089,0.012223447000526218,0.9019708987594395,0.017398727024855717,0.014698009868774998,0.01960353958632278,0.033985032818668465,0.007817015980566716,0.002448948779178548,0.00045727812643011874,-0.04297761274422001,0.004369556768177741,-0.02629259304997071,0.0015516227634133105,0.029081166240415075,0.05158950286355546,-0.010045153585636138,0.0650950526883,0.0006035259630591583,0.04550753549082345,0.0269956224323668,-0.04168782010593976,-0.004991603791705533,0.03921887954001859,0.00422367361202386,0.031958507242519314,0.020282930079438332,0.026867174231586542,0.04298306118793513,0.03850484308265392,0.018462380491521727,0.02320933804391136,-0.04772827006391335,-0.02530527790588401,-0.049279653898057565,-0.024561857434618084,-0.030299114412756217,-0.0653726228064015,-0.03607958692607251,-0.03885555554160116,-0.050032193200343036,-0.025926102196111737,-0.03134131335892041,-0.0656783285820562,-0.03719386555153568,0.030208852838033904,0.04708788932869731,0.007182946568500782,0.005884867455077105,0.01048105734094756,0.039200979806091045,0.013219852322230958,0.04968904536968511,0.007533506654305933,0.009961704942564945,0.8974156648156063,0.8983433774878966,0.8885822590277592,0.0345792288361903,0.8855515058641481,0.02305500970792753,0.032688240813313015,0.002737311061747721,0.008863190661420745,-0.04481943557662024,0.015840940407289332,0.02705446365854475,0.031003496250847272,0.04079869221490698,0.04014023106316185,0.030039952493999746,0.03733869360776627,0.034280383541541566,0.044820424319467575,-0.005831127930507791,0.041930563491022484,0.04032114707826122,0.05075327826246298,0.010523904842482813,0.02644517560530748,0.06496209552278877,0.034890344465826444,0.08094900840627765,0.039222780014543816,0.038804044473017066,0.04806231944943762,0.008373303060468018,0.023976352267711457,0.061506976496669356,0.03245285495194913,-0.004339939186167694,0.02472787443448313,-0.009452917274221853,0.024813004573583746,0.8768506011379019,0.004683904024886424,0.0026621553163638204,0.045940556283803786,0.0080554328738261,0.03930176560001581,0.8919807467364212,0.029300420007330772,0.03016112417533315,0.06142366517767795,0.03525505742156871,0.05133651150054202,0.0037115641401303193,0.04286896531348914,0.02192796261138283,0.0043476186173100825,-0.01859736570354547,0.03285248765558297,0.030223168738044055,0.027210906701684752,-0.020162201115744585,0.02840568053087062,-0.004929364677182202,0.033406553690718176,0.027571529205951448,-0.0067631156001562165,0.023832647520564937,0.05271915519814601,0.0079905224261864,0.0253045798045778,0.028337265090264976,0.006339495807512912,0.0236640038314087,0.009867625045227198,0.026741620351954386,0.003228365631664853,0.019902752583527073,0.023397440620094103,0.05207386360841546,0.022988753803127267,0.04984307234284965,0.02087818241289394,0.048018941769591164,0.11878137668260214,0.010230107689702981,0.05680848822637783,0.022703116310676102,0.03586467648722601,0.03570250276071431,0.04544413388539752,0.1130356642308884,0.019020650669637987,0.010109949489741801,0.9012468224446519,0.04906146834689981,0.022033130420239376,0.8970276366265086,-0.014570650306001102,0.03935952522632653,0.04479465450624875,0.04721569187472634,0.012158014974369774,0.044706688685440206,0.10290820669559086,0.13840263979965026,0.03297633851481648,0.021214218489663587,-0.0014211583518140706,0.03541883912892187,0.057890240999941334,0.05075394633004628,0.045600296793824616,0.13544412381103121,0.06759061877678475,-0.0005625282817406333,-0.0020270710272438847,0.02447756926879031,0.002454735017104409,-0.005547933669231026,0.03869553533447717,0.04481644863150802,0.06737406118687154,-0.017669852340212826,0.028555257828072476,0.05169055994455763,-0.0027162400259153983,0.03329407103333733,0.06835350806775525,0.0729401834034747,0.058937025314702345,-0.005338777731325622,0.15999074251260761,0.011477727056640932,-0.02371298301113591,0.1627163315442329,0.040052904851335884,0.10967627477683221,-0.01183167632675943,-0.025748776576451193,0.12060796173173274,0.09936211036108919,0.12834536980831632,-0.020103299751784418,0.09060226847125734,0.11694734285047982,0.009369372895719867,0.15399600505854388,0.03743614110523191,0.09577443086570506,0.039031646449433785,-0.022476683787288346,0.03101556143181665,0.04214571164188768,0.03803897386839832,-0.023624327792243743,0.14335901981676866,0.022998025505383084,-0.0009737113089638358,0.026553517473339446,0.02160182136734666,0.030680980128553262,0.025208743021964092,0.027579406495045363,0.009946980319281727,-0.028100898305982638,-0.002326442251264517,-0.03308958508734019,0.020923750032874062,0.09278582108584313,0.010407251506561408,0.03862177401301216,0.10657439309096503,0.19837620090970062,0.006373093162501391,0.04314667277613541,0.040823987698059915,0.059720155608988953,0.041905585441254264,0.010383412706532027,0.025537541492018347,-0.0024436447206890514,0.023306760695609996,0.018669048853508376,0.021082930481098574,0.15841571050813166,0.1562708670511121,0.059704445977305856,0.07888068863142679,0.8930798703251579,0.07588497906173133,0.9071855151918994,0.009655076821692173,0.01963506439866523,0.04422873768879174,0.024240674347444317,0.04172254290108082,0.01439921190571885,-0.02686006918255306,0.07973886496831067,0.839825402129205,0.06257717302363322,0.10677572904258592,0.09899943546156847,0.1892526663938015,0.04119002810708977,0.06041152122153356,0.03539779689071194,0.17953034398482548,0.020359801182827722,0.02463904861446879,0.019158269709717842,0.0186258946226823,0.033060225646313085,0.05951682184507046,0.10631235690056356,0.036852691614804735,0.12179969438708352,0.027973512914253446,0.1279181376366115,0.09602558374761906,0.11728569288737797,0.049078535881275046,0.2154401580188962,0.20712163126265082,0.056133350177681444,0.05575360912646344,0.053657772049887684,0.09546882924756257,0.06929189681808222,0.03441155610606074,0.0020576058253998337,0.03448320541885615,0.04220508567437621,0.14798885117678315,0.008210650759706055,0.8612403577975919,0.030586961414918505,0.053903609162770275,0.01812870818409791,0.052632456715044934,-0.014833184169865357,0.013603767059121717,0.010794812840378433,0.013515271192751956,-0.0004853656544284174,0.045340005132779526,0.010128544968202318,0.016896281944755377,0.010046630068213137,-0.005446329601368882,-0.04601594893043397,0.015899971433229666,0.0037848767820196374,-0.009498611759431418,0.12995905168291605,0.009740877099563564,0.003994212195481101,0.016152463430242642,0.004039092949743509,0.05498019517681098,0.0006548597872029011,0.05248964117970074,-0.003075618989094904,0.0436367738814364,0.061808666180514706,-0.005291341826033676,0.07522719255213514,0.8904125296133513,0.17215989218409536,0.886906210519877,-0.028864392534871577,-0.006030499256515305,0.8893570833021789,0.05628277157270867,0.040813823178654375,0.0047583302603159934,0.04582873914341496,0.024789553049652118,0.016094619626202022,0.0032347422752672214,0.007491234185660411,-0.02976710738730265,0.012261782260659547,-0.010183706799557744,-9.481806263341419e-05,0.060353223706555985,0.042243974053398504,-0.012124488201319434,-0.014697884894264065,0.0007001805757568041,0.036447109754543995,0.01613759759240106,0.060660848283459606,0.007454038078581306,-0.0008397834516574436,0.013756000799625405,0.053981990761686124,-0.001342232629460196,-0.01042697013640169,-0.013207188898017764,0.022709443485537925,-0.007120708459229209,0.029929803443782557,0.0451437194583363,0.06667898001557823,0.012867011433575099,0.0513636540703266,0.009090160096359884,0.04880689467409769,0.03903153547876384,0.007409805433596919,0.003469645287354463,0.01536409223116884,0.03259216885795302,0.040340384037216404,0.04840882444432982,0.039264955882701395,0.04164003405766494,0.009579183764071185,0.8749419351807115,0.8737135779902906,0.018556629343643986],\"z\":[0.004948566904502729,-0.02153669111479245,-0.0018997651482513434,0.07141843543840479,-0.03677464404043548,-0.013472985370079623,-0.245471682538716,0.08221797219573991,-0.20435800256205855,-0.08549653146443788,-0.013729567972529935,-0.26035395084371116,-0.023137125114555,-0.2634334163033968,0.11610781162757193,0.09399045789197538,-0.017720492635124378,0.04094305060522079,-0.03832308405478043,-0.017991467961014036,-0.02808519371720592,0.012381512171122202,-0.0008841748092057801,0.08414467158989969,0.008777793428005533,0.07829607164788696,-0.017736276347898077,0.004038557417173517,-0.0064950653247829275,0.07826645867978012,0.07367253345756211,0.023807070337989355,-0.06569899568523721,0.08435582611246607,0.0435991850124813,-0.06756414905927283,0.07318857315960997,0.04937083457835824,0.04780265955152298,0.022624147625529934,0.02298160552927557,0.15806444842952605,-0.003754381294349688,0.07252943194901408,0.057812551723317104,0.046629686510497405,0.1551945746084855,0.09604087883476613,-0.045514460640787895,0.09079532599351064,0.010058177100133464,0.09847046234460916,-0.042741369897464986,0.0904047074178237,-0.019142671386490482,-0.03261235774625789,-0.06939024398582028,0.07743688756735649,-0.26318296453086115,0.08050341180035006,-0.25337045216213233,-0.010718897786610065,0.07495742899057137,-0.03728106958877061,-0.269442156568602,-0.2605030337675779,-0.009661937123153152,0.07562733734242881,-0.2757735055516872,0.055132949876946835,0.09304855849360907,-0.037864286222728465,0.0931353739346495,0.03244266592585395,0.06283336224266632,0.06683878420841664,0.07082513440453368,0.026515695288776744,0.019366262827364686,0.09097623853039756,0.0005525312073215938,0.08743810688501127,-0.038808484982522276,-0.007069073039132636,0.06534534461546498,-0.045873553611376613,-0.010254632788069004,0.029613311723910435,0.029821049317710673,0.0027838933576395243,-0.0230097486202995,-0.005625535763934249,0.0011838906125843335,-0.02654607838813039,0.013815035105389464,0.06300999924767056,-0.10001216400735843,-0.0368626955322514,0.1700720402539958,0.05287316071128264,0.10518585341438887,-0.09208862014471607,0.004145872341280572,0.046971365415162974,0.06042806794718493,-0.024349444991684347,-0.2228303906549249,0.04569139087298421,-0.24008556793356223,0.08913192075618899,0.008955475856913789,-0.253884360622041,-0.024149302770034544,0.07967663812310306,0.07791875380150683,-0.16082418247364733,0.051016681597050674,0.09579603282155932,-0.16864418943018597,0.0836605511910802,0.13504138340330152,0.006435293023356541,0.022294846242855274,0.06064339921669619,0.05996372143743692,-0.07983567521963933,0.11800025546114923,0.03502511294547689,-0.04460063675603609,0.07384228892645484,0.022122238595993264,-0.025950987943834998,0.10557794856597123,-0.008440046235629226,0.016310041839027723,0.1149793550701651,0.11353301704671427,-0.05177773493951221,0.0812823218257914,-0.032567050998056894,-0.04944361592929858,-0.005307701275262632,0.12844988193975462,0.062350385851955466,0.019923900467461682,0.011717667101379583,-0.11709805468042132,-0.03865404372760711,0.06360254625136252,-0.06655811836424101,-0.11453875829379383,0.009929842285015214,0.04925052828332864,0.06474665717469001,-0.03992742725202228,-0.07072027976076656,-0.10359203840876409,-0.06808141145321889,-0.11688120215957412,0.08248644771590183,-0.06774707042593972,0.02546502293780927,-0.0594812597763365,-0.04453803247018939,0.02208833761914461,-0.062007468131096144,-0.045038583041822414,0.025902476390463922,0.11764314292120667,-0.09929037731706938,-0.10909498329761783,0.017010938960328823,0.019841162926202787,-0.010164106941829629,-0.2584824924642736,0.08923075818585803,-0.2674035392290283,0.0834015164105143,-0.0279792301794332,-0.26477422972728837,0.07092177636893532,0.04364924325365332,0.057142836702937655,0.07529961949520096,0.0034794275002792362,0.00519113848627651,0.0778998795475009,-0.054872431407307645,0.09290845713670129,-0.029048351213822526,-0.007715282063304768,0.0663756350527572,0.016581524903390585,-0.02235354845375771,0.030407369333639477,0.002350731863933126,0.11498227284987605,0.017632578136051815,-0.051124077548698,-0.019762086137050595,-0.00032937375937092177,-0.002666859271204035,0.05807674410201062,0.03951743225940656,-0.03824632456071691,0.05702497212568762,0.0994830429751392,0.06753601169027645,-0.043928470247810734,-0.06626209602419667,-0.007752377679054872,-0.06690165071604337,-0.024483545490916962,0.003810662528811981,-0.10356416606046188,-0.07623289116102366,-0.055257848339038525,-0.06806210200295852,-0.026590285296359293,0.002190742879788852,-0.10403514722267883,-0.07794123381426421,0.06495061107010346,0.008061326207009578,0.05824452517626578,0.017150420453640857,0.0014688851085975022,0.0887249980445043,0.006504262027938285,0.0888495565283024,0.13239044251375168,0.09814427824965807,-0.260189394857466,-0.2614009396793636,-0.2484104998996707,0.12338647894175815,-0.2589563648868322,0.10435270343574349,0.09143033268684604,0.025547143550935163,0.0374127402555291,-0.12163166760266085,-0.02013791059947808,0.06057488128288886,0.07013714909905235,0.06440243958802787,0.06194156881790733,0.05680299453664933,0.05254936003017422,0.047175209407979174,0.0636668579218467,-0.032209258297071955,0.14608890167349686,0.11377444519221037,0.16073305850845496,0.058161261228611164,0.10269937685063885,0.11436284867053435,0.13160752520240293,0.13614825002112782,0.14177125223407308,0.11155166219287851,0.15644283363664965,0.05480100729395407,0.0988030726897546,0.10901233501045181,0.12773791148842853,-0.0153518562228021,0.021812161441042675,-0.026058578022286734,0.045393539950224944,-0.264116721685799,0.03440449216167269,0.031264335736512834,0.0795229858914584,0.05460194067004345,0.1219384708795479,-0.25352225613666396,0.020585221006557512,0.08673277666300966,0.06650267263044553,0.021735360137649016,0.1006346531443082,0.03065016075697937,0.028939225418525866,0.0010872121725348193,0.0019327431687718908,-0.0396867816171887,0.018511331736778498,0.07911462162944796,0.009651581312517463,-0.07559742247554395,0.00879927564420105,-0.00822549998162069,0.016606029508943868,0.07840134514917489,-0.011046042333856181,0.0726607493458588,0.12969980928726613,0.02065258309530579,0.08887832914106622,0.08923239545055013,0.01810585141416609,0.08631779818064746,0.016388602607793696,0.019684699676972468,0.05248171032265096,0.05188280331290567,0.03807606854477411,0.12870042474020563,0.08221572896865197,0.14235114333752294,0.07891369162468502,0.13948752975875958,-0.036403941305013905,0.045751398957343,0.1500403820982522,0.12901225754854964,0.0898302444655491,0.13999403794412676,0.17221257253658884,0.05348225085302244,0.040630901400569484,0.06268456031091943,-0.25297508658256845,0.16656274308943553,0.1454524686685212,-0.2819658447482443,0.011563439281516723,0.09029298188278734,0.15939841685220985,0.17184591761292878,0.08089011345624618,0.19576301957993025,0.020393726895453358,-0.04857793381622421,0.09984878021741864,0.0722457177093937,0.04360565800244984,0.09765974714769235,0.06742378782648628,0.15143994498067948,0.20221777259430204,-0.052606908414839816,0.1251662124686102,0.011374473874991674,0.0018305742379328281,0.10754990840313197,0.030782995975023347,0.028320662147886155,0.05340770556825528,0.033426504616430534,0.12483222719055352,-0.01554402300170267,0.05586046470824584,0.19837284733161092,0.04751869199043794,0.11045064520325805,0.16417719540798567,0.18244367926765134,0.19457315048289775,0.04338905339179598,0.012728482517142453,0.0604037433534506,-0.0011553958671363881,0.024806563242300076,0.05152583615607125,0.04145336389102095,0.013254862384003061,-0.00432793510927213,0.007940925990548678,-0.05253081010603498,-0.025853038573883165,0.016283760407383125,-0.06567634437102089,-0.042675673985203166,0.05710949001198985,0.0036395503474834588,0.11262347582873751,-0.013313215149460258,0.11871272163824123,0.011489856942108101,0.0937059400683926,0.1124960607292071,0.11716873958248993,0.00970617904197927,-0.036922964691990696,0.1047204431036037,0.05243398946442576,0.08522934674869033,0.048717428953631424,0.06981680834734533,0.04760194822803905,0.11109194316853417,0.08375892778334858,-0.022394218643342716,0.05032480432482433,-0.06239217228215073,0.08622235213607422,-0.017563612193493828,0.05292843746211123,0.08452545101879563,-9.566511153484255e-05,0.01350593785197374,0.04657300768469166,-0.008576797050474571,0.1648537035665337,-0.02322314403926038,0.006442196894858658,0.028551078601068737,0.11012545169964608,0.08249664376796907,0.09620775696035157,0.0888735742758124,0.10306541363755722,-0.03729325853886568,-0.04029161515107832,0.06599117556551841,0.0739775550004713,-0.24848523730448197,0.038536471812726014,-0.26793109611896015,0.050961458007748796,0.07164819034993725,0.09457000381842268,0.1132966124912566,0.10140835481996738,0.09211342492565067,-0.06752175047844297,0.05020790080055781,-0.24674229970451234,0.014562752467044722,-0.03439360834016822,0.0001559699681353748,-0.02698864950583273,0.17473592336354823,0.08205372938992397,0.1587009927330053,-0.04117874927678438,0.14014378933000857,-0.023204747218242453,0.029704603553322956,0.032782881827460045,0.13636744389767186,0.0013218555354169402,-0.019830716587812342,0.06668066684470068,0.0547470863397929,0.1083010651293541,0.027735978821377665,0.018207277385240167,0.011766085284780509,0.04453551789730762,-0.045400482228179,-0.057413227214280695,0.027407462403264526,0.01922378989430124,0.023669752025306624,-0.015546465201458425,0.07125210307067113,0.08735436425524148,-0.03838375559634336,0.002208643750069033,0.07171171377662537,-0.029045309440410377,0.04161328031289168,-0.24129118327821958,0.0756582614719948,0.10735255896992506,-0.006174220906914302,0.1026475085902767,-0.022996542671309555,0.04923939910257552,0.0122766764521223,0.050334844741097826,0.028216798318952834,0.09387591507982618,-0.018627626855595977,-0.011267037160963604,0.016677645682195975,-0.005488444013143331,-0.09735506660828865,0.04662764151934969,0.02550243082288286,-0.040552721523817704,0.0012777535544941747,-0.0061488467355292,0.04556522429868669,0.060514326511399645,0.04129307652419133,-0.019877608508330986,-0.0804742746654006,-0.020078149698165536,-0.08626677232197687,-0.033587215568109056,0.11998553805181206,-0.03287381542853878,-0.06696138867431016,-0.25313915932151315,-0.004294648343517007,-0.27798205292237504,-0.08628322544076254,0.03839062086400234,-0.2651262986067559,-0.017058037456578665,0.11128724441642016,-0.006229852820044546,0.03147273119424419,0.0297521591993851,-0.0007398877470088566,0.009735642103807248,0.002671125135439318,-0.03437620417592883,-0.0205212819906836,-0.01913151911199379,-0.006100017266357247,0.08893418585543025,0.07168267776624855,-0.022113344672928824,-0.02891617660398425,-0.024606445278120122,0.08193201120113067,0.008657240775548105,0.09653382585621742,0.004560867067101912,-0.028477481786159525,0.026322481289902725,0.07734914810513681,0.05012149867722358,0.031879556995746475,0.02750288361266552,0.02635471883280228,-0.027617991250151692,0.08701360340922747,0.021501877279659867,0.17158824911631643,0.07714917459227998,0.16254397817476926,0.07112927789288295,0.1584727411328451,0.06371221083568292,0.018658432990566347,0.05860505046292474,-0.0059519908007144955,0.046893531741461575,0.09554808663431687,0.11078729081772612,0.09388194204461729,0.024400286546535564,0.010229464059371796,-0.23963197534004624,-0.2587815950879053,0.04858799975675889],\"type\":\"scatter3d\"},{\"hovertemplate\":\"Category=\\u0130qtisadiyyat<br>First=%{x}<br>Second=%{y}<br>Third=%{z}<extra></extra>\",\"legendgroup\":\"\\u0130qtisadiyyat\",\"marker\":{\"color\":\"#FFA15A\",\"symbol\":\"circle\"},\"mode\":\"markers\",\"name\":\"\\u0130qtisadiyyat\",\"scene\":\"scene\",\"showlegend\":true,\"x\":[0.15350096976008246,-0.04500647988396245,0.0731131765725801,-0.05233168117800088,-0.07795095102099263,0.13521043164761068,-0.039273020312514555,-0.02024787482234905,0.02902156683891673,0.020568248027294917,0.04225383700930445,-0.02382075814657479,0.05825086312511128,-0.04984321948162448,0.000866314129915399,-0.04691737189875499,0.07294964191627523,-0.014044990155204837,-0.06541922095905547,0.010781946701181658,-0.012591862320235545,-0.008733486099693747,0.005907311354710189,0.049417440952052354,-0.026019257849314595,0.022274567146316405,0.020122621151921233,0.0041938747363991,0.030589360066004496,0.006644463362003489,0.0008324086159782215,0.017288716223333618,0.025917117562702097,0.04627664493213102,-0.007326371961904462,0.023141990438272066,0.013595699903071001,0.06953225508571077,0.08820725653289059,-0.008906091436339608,-0.008906091436339608,0.08988123773053643,0.006386590920544168,0.009816008814259763,-0.028559227956398817,0.05694852047755864,-1.9963278983845694e-05,0.05418869085971286,0.018122992052179626,-0.03161522752480067,0.12539448960992386,-0.037558235953676626,0.0665554785370021,0.0293361010880619,0.09285102666204331,-0.018425095993004875,0.12046420661342938,0.12256854010470944,-0.016246119310290373,-0.01353731849898177,0.009653661363010166,0.09246812978187256,0.03124627483556878,0.15748534298345343,-0.014143955795910957,0.08800602903326385,0.01794037667787322,-0.03419673065127967,0.03566136188154586,0.05409292890868488,0.010746313716280948,0.08083844634626504,0.06903254285033558,0.15754072850007636,0.004196358556140148,0.018759020958017285,-0.025793162222537434,0.006855226630967927,-0.034548405707710055,-0.023086085939420686,0.03343968103571424,0.046725945489532454,-0.05313339441472856,-0.07512485244675048,-0.023632713925160316,-0.03149550280306406,-0.040453388444019446,-0.003606736302897633,-0.06595643216770719,-0.021200822486147092,-0.01865953597767083,-0.07405878153531109,-0.014074744892100128,-0.015833256368869432,0.02602825895199205,-0.0498765190374822,0.004044949181110157,-0.022825934899882473,0.022800410497770006,0.20140769989777835,-0.043855552351567274,0.021960311447215438,0.06797001952627424,-0.021326299475430258,-0.029307945180087322,-0.000929179446446075,-0.025231105176790506,-0.008613614437737813,0.021850323776398627,0.0480309874410486,-0.009121658858100042,0.022630314437175624,-0.04815299041041229,0.030276724661449227,0.056188501048748486,0.024151661742165573,0.08878653295407325,0.06676687437309611,0.0331995300468138,-0.0021990887603665845,0.02954609586349187,0.029674897886506707,0.025354944364510346,0.0673203262628642,0.040572761839529924,0.01034117078334799,0.08671846262264657,-0.01928163857960797,0.0374143518642574,-0.03863751974461836,-0.027723696986766598,0.0942934328344248,0.030362641444506278,0.12600823762411542,0.0671491888229121,-0.08098245620722684,-0.032588856937444795,-0.030341051129584365,-0.04286647532518949,-0.019898362557011946,-0.01612229398282464,0.055271152391682274,0.024634931337193147,-0.05267601721974763,-0.07817233316488682,-0.03100006930322954,-0.04728544203546771,-0.0002516758133527468,-0.07879011121718638,0.03786665397468659,-0.04457283170073446,0.014487801275708551,0.053892397990099906,0.02496381715834076,0.10608282539866334,0.03786665397468659,0.034380158045919956,0.013934981405832199,0.08789921019162569,-0.004944293605786566,0.0018036271303413524,0.008792823625917195,0.045167657934245625,0.020695791651394548,0.03711122333868786,0.020988074683811753,0.10930543736155317,0.14470393379369872,0.03008164155235389,-0.0076327841178547,0.018139060981461702,-0.021380272381899976,0.09146672189792486,0.0070662375244212984,-0.004876341432986843,0.1958782958053011,-0.11109858890995568,0.09452539897684493,0.07006650145915017,0.19390260011327717,0.016471988208473738,0.052296549141788426,0.03362728188551613,0.2118839963707966,0.021338195881989565,0.12990797561164671,0.09727865213135656,0.1402417367692772,0.010827622226869312,0.09914636550576053,-0.034501267617621144,0.003647577044145989,-0.0025501391665386157,-0.0010353498858748993,-0.02561509912474843,0.08199680398813515,0.016612705936300116,0.03940758638856618,0.26256482063325853,-0.03215268095823618,0.36368097071518735,0.057801582355309244,0.028566825694332477,0.044286156560192205,0.03434075818535191,0.041861813819136805,0.028588252187100382,-0.03268953819136821,-0.04518973946014558,0.11809579103487702,0.028971257450877735,-0.0327849215079813,-0.07917634517434002,-0.0026301301910471057,-0.027389277971509404,-0.05233577806964729,-0.03090450042847711,0.11587896337631741,0.0008981470478438448,-0.07443092339538396,0.04857357723685129,-0.043728079123247006,-0.06949911986831306,0.05707544194125386,-0.04049206832285148,0.02705588465491155,0.03330921263456025,-0.05679096333848033,0.06397475634657031,0.004400537780025436,0.05093687036967725,0.05290815619563107,0.5172341972481678,0.025460749798434497,0.014274455528545643,0.041120349918167216,0.048824429139136136,0.01192080019598213,0.01852092192657383,-0.003547061011521755,0.0100341781432523,-0.07214795783818809,0.038780095252505656,-0.024053798069821445,0.11027990758715153,-0.0028168488299125023,-0.02471407263149807,0.05322934510552734,0.04742889068860017,-0.017913669868810378,0.48640987377423756,0.023683321733087292,0.11161614106913417,0.03519015208823444,0.051315458322754005,0.48517456659402297,0.339216666436398,0.03165668677509238,0.02723892436203399,-0.02120040366438381,0.4246130814701407,0.38406764674839156,0.05002330595713803,0.30449080789212635,0.3506824217908622,-0.012703941791078211,-0.004784651329362707,0.0012701057188459193,-0.0008929193315832073,0.07470391011617158,-0.01794079020024168,-0.04671276797421535,0.028432615270004936,-0.051999212028723735,0.012799983734795992,0.053055870308322164,-0.07583360159550889,0.0658664855404681,0.05966048553053993,0.04411744777841787,0.06863914878854334,-0.07836232259522352,0.007563804450953407,-0.0836430978717006,0.033182997350550913,-0.10929223408629267,0.024170308896138148,0.1261897545413434,0.12144485885364671,0.11172912173078138,-0.0662918282242814,0.007694328437617366,0.1989988931309955,0.19800712559440053,0.021973268405350917,0.014583466240802763,-0.0009996465782391003,0.01152988021917056,0.04749422175586554,-0.03688008990297941,-0.0308878734459351,-0.05224425582900372,0.017521808841003645,-0.008740910281873153,0.021451001015242045,0.032091731787205396,-0.0030048455120319636,0.013008584927526129,-0.00665659806329473,0.00845134579711298,0.0669224579216744,0.022413661711185216,0.039671091077279945,-0.0263419943194788,-0.006203648268686531,-0.03889758563964264,0.046348502709984064,-0.004137196527433423,0.03545954684937876,-0.007392028406102066,0.03629908020842509,-0.028583072529333075,0.07635954395421737,-0.010006311175875566,0.009477756597355964,0.019471036465311557,-0.03690305914652221,-0.04194940037721081,0.025827845376816934,0.023303497313291646,0.018547219670595416,0.04616172321171039,0.04170552033292615,0.004651199625089596,0.055341364963737934,-0.024189984815250212,0.010009431168506533,-0.03325522315229151,-0.008715894030634802,0.016305825433465374,-0.027506263305308212,-0.05295121182483694,-0.07526991975814329,-0.03105115732373838,0.040941097959118204,-0.08254377913588305,0.03079114801125144,0.007206097400708249,0.009188669892627836,-0.038912456931557676,0.012714167078469694,0.05981312382061747,0.03148964532539054,0.026525898705945593,0.0038160217091876445,0.06845419216194107,-0.008718120492446817,0.03672024283221163,0.047432313446418635,-0.10840184034892111,0.044465294056004426,0.03526235008982775,-0.03869428275010554,0.03282477847242813,0.011451411369014886,-0.01967691481664633,0.004508863650001966,0.3787913427811883,-0.041549586678968374,-0.037906652541509614,0.002916842591445612,0.02188130447015392,0.03266060439471271,-0.01812909430962015,0.37731223222366905,0.04988843852888022,0.03130716685909868,0.04151899698096176,-0.04211795181175231,0.008603980774204881,0.002500893634303571,0.03144921487186158,0.02280169131092512,-0.011486894741156769,0.11163166680480306,-0.008403067173402822,0.0021351622012465853,0.08263425079065202,0.04844125807372658,0.10079710068794134,0.04605257568772702,0.034246098766558264,-0.031184081267828265,-0.05369655596779744,0.06042342902988912,-0.04227987730852666,-0.0408268270138351,-0.03548608334998402,-0.02520020923508761,-0.07995221073515107,-0.012812861288089904,-0.005443493124594895,-0.03947006199088598,-0.022614754677639168,-0.08554597353690925,0.07059630781895734,0.05765045707453747,0.02505820309202247,0.01947351036207,-0.11053237555642875,0.06645919438775331,0.03188493086339436,-0.07388305313399834,-0.07106972526129082,-0.0035571927718088836,-0.002407397098957933,-0.018022118561667293,0.12472809438673617,0.0034706759514422834,-0.029055877982713786,0.07997876433473534,0.1036554608729175,-0.029486100327034394,0.030685067491001437,0.044490792289081524,-0.04575732558064244,0.030882444317387115,0.054297310671333754,-0.04078202260178534,0.03138431317285225,0.06282927986272677,-0.04766280766295524,0.04205080042367308,0.14984692252952236,0.005024476848932864,-0.01600740775180818,0.0071781889384809,0.00612125183008562,0.027269099376281972,-0.03155203606765053,0.014850308065807657,0.047464368156302485,0.0234318074599,0.0017718283925410667,0.022842459767430767,-0.03970217275314446,-0.03836810133607596,0.0511351630958632,0.058658696463535505,0.08460472328905976,0.114281343816192,0.0058143002805316635,0.031667598771889134,-0.00789227056012151,-0.028133845377278758,0.28899144191930676,-0.007001500587986279,0.11076182026090974,0.04955130633585027,0.03192423424671382,0.11186328534465038,0.10456852686600854,-0.07822975221514977,-0.05289624292078574,-0.039529856169779345,-0.046104171583645166,0.021429867721312727,-0.03037883288595419,0.04088438366235413,-0.040621649524591054,0.036011434646852705,0.001201302958323475,0.0139667443695843,-0.05330708139711463,-0.05120519929119931,-0.002161299643187396,0.00010277963643635202,-0.005642813421569192,0.07033477079235108,0.023702682356626707,0.007304292106721117,0.040413527918529354,0.08434912259994409,-0.0005741875688069537,-0.03983584478064778,-0.03352952753047935,-0.06100177507347603,-0.004628905417886343,0.03163284262533922,0.004551368042805222,-0.003276918109356213,0.023399957056023987,0.002631641952123473,0.164026155987026,0.02983372912783134,0.06507915993902805,0.0058005496497136955,0.015267670980380439,0.21616781557690457,-0.0031307183023168202,0.16112804790055685,0.056291599327374355,0.0006515396307237246,0.013594417712037295,0.04531311182823781,-0.010214659178796279,0.046319775459130436,0.03758764673329018,-0.05038205369277789,0.004818593573767348,-0.03301820854464732,-0.03918956142020219,0.13784833990446835,-0.04447825357413584,0.1172025985494664,-0.07765508987209523,-0.05252013778643519,0.13588795788440056,-0.07280389886089518,-0.015015129491922831,-0.0034039373727428822,0.07569812289116096,-0.020340783129104277,-0.007058835295161908,-0.014674888543967002,0.06903047319782087,0.004272194585345712,0.06559890990286395,0.06835446622704605,-0.0226294778006352,0.027166647591260754,0.0012226104854157686,-0.027703812349565964,-0.0009066591868429843,0.005979051592340273,0.06503777790181824,0.11917151942437126,0.08659199663203045,0.002935148121165206,0.07153689091509792,0.08183681118767815,0.05087135098103932,0.0010185032417870347,0.022646039458458105,-0.04582254509010965,-0.04621848810466348,0.06006622053526253,0.11655005521749949,-0.012413852785436769,-0.014969050485852547,0.0492906351889124,0.055828937199121256,-0.041788003960777025,0.007687974792638603,-0.029742497819699395,-0.029398333574240983,-0.03740117944396897,0.0022079919957909834,0.05624042645323367,0.024198965342472477,0.04885563936131199,0.027468288382357355,0.007897914635442102,-0.02212711493555697,-0.035640728734896925,0.07395201185643159,-0.03375702937390014,0.008756685439214151,-0.028107088487843542,-0.026711607296064643,-0.04027339058259343,0.054619360773842406,0.016377431132016798,0.04240182710105113,-0.0202822857375139,-0.030578941004711178,0.10241559712035998,0.006477876702137866,0.057922652044771115,0.036129554790126625,0.11578197631289437,0.0007096837180992577,0.07241713392714591,0.0021364581966726776,-0.05357698061013028,-0.01789780706171127,-0.07617467875124953,-0.02985255842090642,-0.017365287504352327,-0.11160360531998335],\"y\":[-0.008199140156257629,0.02563409595434725,0.0235202281978191,0.012193542202153592,0.026280452566607358,0.014063232331294239,0.01777952757100449,0.008739327064912792,-0.001406423657785809,0.010831170305744505,-0.006878261849298094,-0.002069985380488212,-0.01422885794379372,0.027742965015414553,0.0160350519503853,0.03995297325677618,-0.016864250690942377,0.052951462316925185,0.024383648914827496,0.07681330574689861,0.0045575022339603595,0.009703598541831733,0.003377403269752102,0.011202151298118248,0.02314975609009997,0.024095184706216678,0.002215654037821831,0.08266463744150437,0.009951263427752724,0.015093466697217445,0.02394111511786932,0.02921505844275266,0.026438470639062867,-0.009752865461531403,-0.0064011145726304754,0.04078794527722824,0.010568017229266464,0.0269464737669978,0.019026378024644672,0.021189440125115755,0.021189440125115755,0.022319501367181006,0.027495377243413464,0.008796343949780072,0.015463029328200472,0.02360168744740813,0.012514445287737548,0.025851857561827982,0.03434013944765421,0.011372405651391351,0.03684629955803159,0.007149636826158132,0.03379396924021422,0.00833696771792733,0.017213149163502587,0.03518888990911386,0.03876722008574349,0.03837658902111246,0.040013080863078185,-0.014332764071068928,0.03208324086065578,0.017316180403728697,0.015449399579741134,0.05072853025922884,0.017798480280438008,0.018166723835229538,0.014979525023185811,0.024979075742001297,0.018121537606117247,0.023766734193913855,0.006826121956176082,-0.02803281983712435,-0.035314343948673284,0.047078416133779465,0.03461332997096591,0.015386556727064255,0.015078270938787048,-0.00404701062899614,0.0061292612816008785,0.024296215715753862,0.003606145376993447,0.02180230926408107,0.012152334383220203,0.025147792186586148,0.024251051981350972,0.021664031617609655,0.024834544987273506,0.01910532375800086,0.023733863095821383,0.03771970561993538,0.02312338424037061,0.021213752970464378,0.037235066712475326,0.005758485175230701,0.001132256410587431,0.026208909790558864,0.025195995361640355,0.008408970687700783,0.0021804172705134346,0.04218662087182619,-0.012335059082728477,-0.001070078006654074,0.020196722759167316,0.004751975522402646,-0.0010033172502114957,0.014201521232725231,0.007761621360240761,0.0008295751605105872,0.1103090077255368,0.02274163581058484,0.007998089590296421,0.005582612791506724,-0.009490541820883536,0.003798575996449633,0.026569530121072497,-0.002777100476919094,0.021976246261029255,0.018143643364026348,0.011190000458375631,0.04118411604066709,0.032432434640429726,0.028408494659791172,0.03139951435840609,-0.00021854258142119627,0.018986909390502352,0.028973133208899774,0.020849807915753252,0.03568629761422436,0.008423790169816758,0.04243128185790283,0.03657073423245276,0.05640308421005508,0.0141296279673744,0.044837053389689664,0.02283084201614518,0.00814297521707423,0.009441189003840904,0.0071503412163145185,0.04217203688139296,0.014293472062635438,0.020527483251181335,0.0056349411320288385,0.005462455117112958,0.012445709228446145,0.026424800972973315,0.021801857060008457,0.027064738324887812,0.01680948862614738,0.024939602871472292,0.02549737254130604,0.025515683757813504,-0.0036130085386926677,0.03176053241155573,0.0019931407544627397,0.01977418098756869,0.02549737254130604,0.02359640166556069,0.03663182345131076,0.01368155763877324,0.02141391359017141,-0.00417765237796515,0.03078490041965989,0.012326922399045164,0.014128988241081056,0.01820224378946161,0.018536903315754177,0.036285631826272015,0.018713285270509195,-0.0028888296982703876,0.028224394394588195,0.015677839215527695,0.015332239949369941,0.008490007823546525,0.01224231315799159,0.018686607308252414,0.05566186136468972,-0.007044789988635249,0.010385687572734394,0.03501235902847876,0.006680205682239922,0.02155301102206677,0.011661664318284446,0.02186818977934546,0.010734622644925534,0.029594971295254374,0.034251743890735355,0.03928627620583748,0.04192611723891207,0.008429619170184472,0.03432387809837535,0.0026793117587989627,0.01812676212632993,-0.0002653735150440341,0.023258382213868736,0.04049015481781047,0.022494495049091883,0.018864876480098235,0.026869566388395095,0.018333579686283828,0.044625666273721054,0.008870876577672947,0.0022382074083182424,0.0480994671477483,-0.006405153078497266,-0.017689082120904115,0.010786951393613861,0.0022084172624110914,0.009951274824882115,0.024308373305381797,0.0027924154834990844,0.008025014831414616,0.023085063383162203,0.02543854417430279,0.026839478965817475,0.02377740238179624,0.012551318408265663,0.02166108359816256,0.0015928764909580039,0.016868965245603156,0.013988110102877541,0.028034309079168148,0.04124033896064096,0.020694140816294494,0.024897324152144285,-0.021607051276430415,0.007897625479498868,0.008381741357739314,-0.008472203789580749,-0.006397542843254807,0.02291688058088799,0.0189410533262334,0.02839165960131301,-0.04110937345216397,0.028448348678496153,0.018784861037436387,0.022419747938168123,0.06803539037203268,0.03322316029168953,0.02099103692574676,0.017315884136875157,0.011501939929888624,-0.027997264045765285,-0.009618492995155022,0.016392562667654077,0.013445092660474788,0.0215993830279011,0.01690344882182482,0.011278038587373196,0.019889345127905526,0.035907950849743846,-0.025609028117387,0.008297267699221279,0.007138595830113574,0.026267800437478055,-0.0007141149414825113,-0.026157197934303295,-0.012180858495296432,0.015614386970557177,0.022923546139009553,0.013583154226153048,-0.04226369792614114,-0.0397293035057199,0.028235712133573048,-0.039465552121422824,-0.03908679119566364,0.015664313468389448,0.01542310551233259,0.013476429787029018,0.012564820680737991,0.017583820055638646,0.001475615268718279,0.04116625734822353,0.04359217427924713,0.012524343207070469,-0.0070638882523523724,0.024220236371463207,0.014654551166779675,0.00035064659695092747,0.028118042701735475,-0.013339751469109207,0.005520511184018884,0.026387712950150414,0.0018307245243604573,0.021409704012848807,0.01614667615119041,0.004151608613395084,0.0029029872181002498,0.05640786909789838,0.07442988730193843,0.07920052515501218,-0.008969548630776125,-0.004552081666034258,-0.03187890776928355,-0.03591353753192339,-0.01491835338981846,0.013714102152543043,0.0035997137191629744,-0.014223722608285848,0.018410738779002,-0.0038909630376610443,0.021785359089866636,0.02487878569571453,0.02201512697104656,0.020028731367569785,0.020109560944681214,0.0008863056958984557,0.016430465093467277,0.019554857733304058,-3.8151008637377856e-06,0.017196973443177877,0.02701964016775635,0.024429722006569246,0.022978368877566453,-0.018445371068779217,0.011538365714423807,0.023262934515218193,0.013979281969433661,0.021811150439976584,0.02517841061572975,0.025375942046276457,0.037562439347292934,0.01028336779779688,-0.002735745996488322,0.022932471831009008,0.017851625404128716,0.016352497880855132,0.029666398361053493,0.02440403152165246,0.024428941378827358,0.014172605357990021,0.028750071976421213,0.011876139720592375,-0.011639452352744233,0.01716371597485503,0.020000086208560013,0.012627741002527306,0.007010880120181806,0.0077133939972641365,0.010650703406770167,0.010113756034176299,0.0025157513017830765,0.01228523079257025,0.025030236898592555,0.021767642093688293,0.013477082801352909,0.022038845093266615,0.030389860022840342,0.004509066877532043,0.004629664681378819,0.026344639292132523,0.0008730227044240063,0.026249456895144213,0.03692747285597576,0.028062647995458708,0.0026622935445702414,0.024939949715294014,0.006398848044969846,0.022892771807856743,0.018349733681576524,0.004638860668804956,0.0009337183346022679,0.025123208969825235,0.011206092320989925,0.020961124517480046,0.007263967481359488,-0.0230257526425496,0.004144723650449827,0.001869701202117811,0.02576925568951382,0.02811746494645779,0.019300382527776286,0.01278431927884135,0.014076491848527804,-0.010413459875238958,0.0010959587201790674,0.02677873840314298,0.022064605778425193,0.03363640159572206,0.025005007352629574,0.018596345405595887,0.02336458662958551,0.017491258620774757,0.0227773701485441,0.007778491464248828,0.04097357365429359,-0.02083196000935125,-0.002364587784547029,0.04316017969345612,0.004325581963300223,-0.008453550762243958,-0.0014576269819540583,-0.00907185181120634,0.021242742747716873,0.012071598786089183,0.014323326584381168,0.023686351929079568,0.024114259133352314,0.027708445158592852,0.036253345055906924,0.025822281655218562,0.007244128450242804,0.023506438117384277,0.00892107306260463,0.025392473979908868,0.022956543230125963,0.00923584283589536,0.0067506485216665595,0.023021726971956126,0.018554439547383103,0.006122037561699803,0.007007489195017326,-0.009449550952627221,0.013917738180733046,0.02237620419539171,0.01746001736942407,0.0032272318434670884,0.03590113003694815,-0.015677607361206086,0.03113972878762174,0.04583076303870637,0.005240104475677238,-0.007046725003941875,0.016356059735662096,0.012612519011260615,0.03595601812337932,0.024829164744324277,0.037407606179131594,0.01007600228453939,0.026694909751715148,0.010480537086368064,0.012152572703063242,0.025287851370179738,0.018508746090575255,0.00019374736746695834,0.031228203820009334,0.010637920955536312,0.020928072584018263,0.04256844633204296,0.03210850551882131,0.026048762895984772,0.017159328043272623,0.01797042515394818,0.007528889617989721,0.022897672704876623,-0.00134501590661025,0.026345320235703126,0.0274938453375672,0.025362299414770393,0.011011319741949209,0.012554471877981178,-0.0005639881438265565,0.016860697879433607,0.029399525828016426,0.007168633729445941,0.008137320359681918,-0.02387200755820887,0.03617847352002937,0.03296467363044837,0.022434080271312804,0.020810819006303518,0.02397920230644089,0.032916888811352116,0.02633983182938026,0.012285357228564867,0.018046683542080603,0.025661873371129858,0.00021808282876563696,0.022424383186733697,0.022957709332534094,0.027316672538795855,0.023134329453349728,0.026909195183927658,0.011309048089999035,0.010377876168221601,0.02725461350370708,0.016142996347032645,0.017962867230172652,0.02333329635107765,0.014244910713420196,-0.0033008153546648005,0.009623737735908695,-0.013864102873264105,0.013720206548261947,0.029821222983014643,0.024315850953585766,0.026500895230443584,-0.0042041316259249645,0.0020715135159364083,0.010384154531068363,0.006658927348762683,0.025927129314656655,0.008162818454078333,0.033757462758707106,0.0347981818056557,0.01541781270503203,0.02914899947357081,0.007289389452862788,0.015363090414454543,0.02853519526581238,0.019212118232990193,0.02730438552775516,-0.002241376098582798,0.001748163525223311,0.011325775872942603,-0.02703552857474066,-0.0008491007725119079,-0.008663863830867187,-0.014955369829842524,0.008261144142853914,0.010194185102523411,0.00942272508174406,0.017850009479101047,-0.005474381903482746,0.02500722790405084,0.0008594385719805584,0.026109181328642667,0.0124011520556556,-0.006534267361571638,0.016185378100287157,0.03476647856673739,0.024031157023366116,0.009328901110762372,0.020320109125944712,0.027937630322729362,0.031155310194189996,0.025993015940447638,1.6212376070856113e-06,0.03672863721373153,-0.026151142586846754,-0.01716954535679112,0.032095920164449045,0.017376313945962948,0.015475914693350913,0.023234359942631698,0.028319217917162534,0.023829513106144968,-0.0007744160268913304,0.01836996126520824,0.01000520805751242,0.041482721986922585,0.015816043608848872,0.0005183224174606573,0.010625190730041829,0.009223385693997678,0.023592364640607683,0.02357094713939658,0.01016980601640865,-0.0021874278212812856,0.023307949919596317,-0.0002670437347614107,-0.013666636890958046,0.02666328404528399,0.022973961203833812,0.00487933141601447,0.01623121936208055,0.02522664586522514,0.025551489945965022,0.004584136273290467,0.012797626868665429,0.02297228414968799,0.01236511453032574,0.021126697190183702,0.007511726576611505,0.0448792980665071,0.03875673150338581,0.04986558938721764,0.011882426211412406,0.02124305767459042,0.022310570935987227,0.018783582702719986,0.02190761205813237,0.006265000945054917,0.016746854297668104,0.002985540325972595,0.005822332793125261,0.007287584283594855,0.01025700302190312,-0.007647764587777404,0.023160043377764707,0.031863672107514944,0.0002695430161491381,0.008558763704509108,-0.0016249279173229196,0.012559288675581258,0.01230825694956803,0.019349593046665843,0.01457269539218747,0.011357415321169906,0.022391722713197868,-0.009856835582657802],\"z\":[-0.018583283316856915,0.2368723585851731,0.04326500169552165,0.06333058210058477,0.303260218726548,0.08858773398232186,0.11262185639902103,0.023755029915822217,-0.011841534375902308,0.03486194923376497,0.07397376393417411,0.01060347601435731,0.0594275785878534,0.23032923028041033,0.20564656863576702,0.1801548042871695,0.06003626205531704,0.20595531609021467,0.2686238894646817,0.023527356688378895,0.03952883300722761,0.08669380009021836,0.04185002927208235,0.04735950613631648,0.10870311736389426,0.06607294411882059,0.02011200158337753,0.04900842324342626,0.20991429853218024,0.07327830251205784,0.1712525519166601,0.22368489395859456,0.07260882869561157,-0.0027804190647404575,0.18518648376008576,0.0728544298382018,0.05304166961943463,0.13606451536345301,0.05065788136517019,0.03402869705817423,0.03402869705817423,0.07424746637038847,0.03303596806323783,0.05426372215261445,0.05694784070107257,0.0954843721388125,0.07330105206641915,0.12267791937710874,0.08789262495451204,0.059366340588941996,0.14991875866630824,0.04766375243812312,0.09877970507174952,0.09294711893184085,0.04156500595689239,0.20725209337327424,0.149310989103742,0.1433555348400577,0.21326558659094605,-0.013197195892140561,0.10567047379952511,0.0413046046812006,0.03409447234528063,0.15496477268212638,0.12566747675234782,0.0442246009861542,0.10591566184646113,0.11414117896047887,0.048303596820231234,0.1145741715937748,0.014356177905957723,-0.05063819798777623,-0.06189610497204636,0.1493297221406581,0.025208172256085983,0.07540494024234724,-0.004878373460011604,0.0012949478468317567,0.12227793139013143,0.07422294936446693,0.05131214027309356,0.05909506450292679,0.06346944249567715,0.3011413676319181,0.07126134492736622,0.13172339291693355,0.06444940928404355,0.22005411362026878,0.2304874110423248,0.2074712215463382,0.05580736096350162,0.26230049321615134,0.2056467610394456,0.034753200561259016,0.023927778922677747,0.2612782862551063,0.07537034597552561,0.13667846806128378,0.03297424230574921,0.08026220000134343,0.006106983838734621,0.02052204583890783,0.0828453709382326,0.07828906710288688,0.01498131611842207,0.06597259026751458,0.08439836037125754,0.005961850569053651,0.03419572832419173,0.07265790105789076,0.044169798864954424,-0.010776237855431253,0.0491343176489034,0.032275060495203296,0.042034999141118516,0.06713201363789345,0.04117221971436755,0.041845251622091094,0.11036236482369852,0.06056917702708491,0.15427788796042957,0.13422897840146844,0.1017011754809634,0.04196354453282436,0.03745586809314695,0.07436932277682691,0.03943570585828441,0.21093295873717635,0.04803156643184244,0.17807437217358826,0.22898940780415733,0.13563921034639465,0.10890577648631372,0.14728716998717584,0.1250700938517744,0.11471326667465673,0.08034311776073368,0.13034508085851199,0.17794019771403602,0.09058408346133325,0.11078755096648402,0.05773494874313894,0.04124839790076407,0.06393689775187164,0.30498502629739027,0.1321766332389997,0.204175233578204,0.21103015743126222,0.30492388252821195,0.08676515826360172,0.22846128674865654,0.0789986481665269,0.06353849740274842,0.056486640214788914,0.0929083320348007,0.08676515826360172,0.08381427046273465,0.04920705567320571,0.054771352942296986,0.09181019364931663,0.08241919328892364,0.04223942898548095,0.018437742720287354,0.05493979463445796,0.10555278352068315,0.06968749516001797,0.09802752840886353,0.06817492457312621,0.052846595837003386,0.15517531046749442,0.14839377259573247,0.15124561135242257,0.11071840413678735,0.12171037779024937,0.12096932436020187,0.09545775446001689,0.11576947659155522,0.11345576854844515,0.047488837766803405,0.042310217430974253,0.07906209100231874,0.03699667786646411,0.13764519177589227,0.05391440592347947,0.1985637930985469,0.09852422568084607,0.06445928021626332,0.07723502910280225,0.056210239514468796,0.07894274762280207,0.0464939844562763,0.16916925537449434,0.04245838835881273,0.18980914939463134,0.17716434002847714,0.04767267779344685,0.11267958917610335,0.0651696264628931,0.033824038152204965,0.227078876764601,-0.04415985928402091,0.014964513394133475,0.018679870639923535,0.0013834867847327833,-0.022198352449024884,0.05015806892190283,0.036619729671857955,0.13113642619429045,0.21634996969792694,-0.04279753425256813,0.11032641679710702,0.11241644760708956,0.3005272836498529,0.18182593687890325,0.14108435984269796,0.06322033102992591,0.13052083668689643,-0.04463583207473738,0.2131641451403827,0.2242673148111989,0.13188815149709707,0.17400156886024443,0.2649177004491019,0.038070177670528844,0.029098057341986613,0.0865506624901089,0.027984604719030824,0.02104431135766831,0.041310994694545904,0.05658750720924241,0.09202597848508685,0.090530814227923,-0.05136331479446603,0.06847226696637622,0.07328215765328243,0.1370775249272817,0.08260153191983573,0.04441993295384668,0.07664504016587853,0.06959177880849025,0.07058425662720402,-0.04590981230249062,0.05347469166767738,0.06965117433595634,0.03954236492423035,0.08325135749927207,0.07156910860819375,0.024338538888553342,0.04378050386501504,0.21326950575149692,-0.007647384775762496,0.11748517312651507,0.011750020916395721,0.14677812649247954,0.08277446325335076,-0.008682087335444295,0.03194020136473995,0.11824579148733648,0.14032362468045817,0.0745299970179543,-0.032947307045201754,-0.07263464766020117,0.17450944247647782,-0.06972820740683648,-0.0537684421733974,0.06090587237210639,0.03757528629749416,0.03678013247364981,0.03573145616845558,0.06159999862214941,0.018282893611275705,0.18728102232183538,0.1069357140286502,0.06150957666059425,0.055243060075614865,0.0521067861697793,0.21461020121140675,0.06877810078104657,0.07473191694278099,0.04683874499656206,0.07653941538460848,0.30561999686221675,0.04189291188043814,0.2959954723471557,0.04017790723103255,0.2659980606247762,0.012224611684734066,0.18792483104133678,0.15084750880335535,0.15069565064324394,0.02416022498069127,0.02777689866176879,-0.07215409505033032,-0.07878159969360399,-0.026014164326953013,0.1293497005047,0.11307709628340946,-0.002126514156180441,0.09371625266537623,0.019289822747140972,0.13172398121390336,0.2612159961260488,0.09494030506288519,0.0939005437476846,0.09420193469252622,0.0558678673548899,0.08975575027574902,0.09110197690828493,0.02089876087030087,0.14069376743873535,0.048966371445458116,0.16169763011468286,0.05079081629662623,-0.006716612026368042,0.06861696117585145,0.12395921121997808,0.06607839721063131,0.13452587236268396,0.07689981519216696,0.014208536095981562,0.040141676832248334,0.048240371794467274,0.016243195740197842,0.12412028139007165,0.027266969105974377,0.03461372294938913,0.1406813761186595,0.12815749239687935,0.06073906731767739,0.07353578806150955,0.06328250872578206,0.03964089370709091,0.011937737483958072,0.06067436573624669,0.06683305392445012,0.07323882444705146,0.045489522830397186,0.06542721320494164,0.1106598850029428,0.060808452077967506,0.12011449763389416,0.06273325034148575,0.3009506605712887,0.13187807269000673,0.02872298444729702,0.29752597441644724,0.04844272947652642,0.011962660135966141,0.044632265274927745,0.13595499553942175,0.1185277418743124,0.16195933324117218,0.0544252976103041,0.04485876127868713,0.009116480152648295,0.07762782091504188,0.06601906637293459,0.08192108668707,0.0631612454984402,0.26725408752081276,0.06942463529935587,0.022285192815452423,0.07424149311602492,0.020506423192743626,-0.0008324083624119766,0.11145825219304797,0.05372456878477327,0.06298898553444796,0.1367885965736242,0.15403331353948346,0.1657065285243511,0.0573433807303419,0.05224034928643664,0.030538767800951914,0.06178749850015929,0.08915697863906195,0.05162617789829265,0.05929550724690938,0.13053719689286075,0.07980228263018051,0.0683914647087459,0.05240793321739249,0.03203895013762799,0.05648263683738278,0.1048648849835374,0.08072057133295091,0.02793195772116263,0.08975260390034918,0.07610618782670533,0.013726352134304218,0.008142329679174389,-0.0038153509652153667,0.12801968918633128,0.06463196625652208,0.021505159973555704,0.1231429244616086,0.12797265147405157,0.06105697834010616,0.10192536723629102,0.3038455073854621,0.04158344627991247,0.06739118529442503,0.04651763298576438,0.09558951586845335,0.3015997481444286,0.01527178732748809,0.07833984258631244,0.17718869235890822,0.13308801601066295,0.2723792473920412,0.011840367423549875,0.052287030003504445,0.224685593751674,0.24597710952380428,0.20948796995793606,0.03530025813331509,0.2127721577469271,0.024594779941014555,0.18981476005243245,0.23417323404861082,0.03996869317736611,0.0156082937184281,0.08296933797164667,0.10607520763685635,0.16696530223096967,0.12488828618133377,0.08841393335122437,0.03828769853266601,0.13067712154942013,0.06328397178029169,0.05026298113737777,0.12135668430930348,0.06350233822466546,0.02424941733750449,0.03779053690887435,0.08329566254305197,0.056411419912326906,0.05299614628208381,0.03309323322201074,0.13565630245293586,0.0556709104421526,0.04912247434209069,0.016609994477071198,0.13136071388622425,0.02729692992235005,0.13346713126093018,0.14028717987890338,0.079802639336937,0.01981901430679732,0.026332758149978177,0.012772541430810882,0.06991265930413448,0.06536883022626472,0.05072997451463457,0.13447206820115382,-0.023157551775329663,0.050871254104327565,0.08987428384257587,0.07627538629562061,0.03115835991646066,0.07319211149600398,0.091419925493372,0.3040900604588052,0.06361381472338967,0.11529120702790979,0.23294843386941189,0.08340434793920067,0.0867524588361289,0.066142417641091,0.14114935819759883,0.06177169626861559,0.05876119778648242,0.0494436159456431,0.14235607703611924,0.25965618072935276,0.2041597796559252,0.09085102980748297,0.1845095914741957,0.06915431891301126,0.06625353696287417,0.07526472304291142,-0.020185274475946854,0.016735947902740415,0.14418396375495676,0.12698530956837342,0.14400574540168048,0.05533298496939874,0.063893490124406,0.035780162941436405,0.057139210872642704,0.07269738141606025,0.09857678618356672,0.1277275893811182,0.10226162612261977,0.10280125426191684,0.08346548625218803,0.08917547083444834,0.06729084314374721,0.08220990411701172,0.10218899747698128,0.10328872823351141,0.004141943980537519,0.06677774953863097,0.07943248121559393,-0.03099549410468126,0.068342284202217,-0.005938780504693582,-0.01880232208688705,0.04533032194439667,0.09053672333330745,0.1309077424502082,0.11218258005680133,-0.05683782700862724,0.22296274940799352,0.012195127662645681,0.30103739777958144,0.0624979155484582,-0.058462975076404265,0.22509231485869965,0.20836788166675643,0.1911945143480275,0.0346514154126836,0.09455822356638928,0.15384083577387728,0.16176982786189775,0.09087125086135116,0.032987869443103536,0.07099686073835455,-0.04628201395313393,0.005728674343657491,0.08677275443734762,0.05205517488692581,0.12148863543532472,0.06627358756288657,0.05595256933251355,0.08750744451449528,0.009174564483164793,0.056643792416260975,0.04868575935342959,0.08967788611158736,0.05268692249539504,0.04487791862615108,0.08997333622956945,0.10136324760648077,0.12031977680396269,0.11832005432163044,0.05773094621927172,0.006995322948922699,0.07247574559519823,0.03440248874768967,-0.02755697186658434,0.09629883051780234,0.11723551535111984,0.06693343787410273,0.08161677620876454,0.13371501026526778,0.13252640887139772,0.10254532857562347,0.11868351636940902,0.170958413881288,0.09722393798833878,0.0749399181755427,0.11653210985428732,0.22892202198040026,0.17613484101702243,0.1574872289405164,0.05915092667452299,0.14969165140466184,0.16135075746409838,0.10805920062286549,0.11508290190933189,0.010129098395501957,0.037782424185403236,0.038065357235152225,0.08581631126364622,0.13057171924729608,0.14412537472322676,0.0761228928596599,0.08634922412034843,0.04375731480232633,0.05922752118970773,0.055624704855028614,0.016400065839789053,0.060650184835219716,0.06534243364102725,0.054860623575993805,0.20956933188597082,0.026534908279041675,0.0529227973903884,0.09811016182374074],\"type\":\"scatter3d\"},{\"hovertemplate\":\"Category=M\\u0259d\\u0259niyy\\u0259t<br>First=%{x}<br>Second=%{y}<br>Third=%{z}<extra></extra>\",\"legendgroup\":\"M\\u0259d\\u0259niyy\\u0259t\",\"marker\":{\"color\":\"#19d3f3\",\"symbol\":\"circle\"},\"mode\":\"markers\",\"name\":\"M\\u0259d\\u0259niyy\\u0259t\",\"scene\":\"scene\",\"showlegend\":true,\"x\":[0.030689301315453013,0.07114050454529675,0.01808105816650817,0.17338325400093013,0.03436948757559351,0.0871927186103054,0.2443261710120342,0.013713121570682909,-0.021223932503460673,0.005844334283222753,0.0008325908874721725,0.15589573048998037,0.01933319361561134,0.15607353313950764,-0.035004692120929104,0.07137127097245709,-0.013246255220472316,0.0815955135170894,-0.018828920746907257,0.21583936814454624,-0.01925135737655329,0.2146549389263341,0.02244559705072027,-0.01573900910955093,0.011960284364827526,0.08159345498819194,-0.047772854607661494,0.04469334963705794,0.0616376132401164,0.07152254221377419,0.027170259474228586,-0.01617497388636919,0.03709996451062423,0.021814332964229407,0.040807073642684086,0.09522014747171544,0.006980949456879806,0.09157071000114639,-0.06798072386579222,0.0022689073341440958,0.013402146059496769,-0.023957271601098656,0.16172209622341926,0.0453236904449954,0.01049849631544697,0.15019487607495463,0.052083875345835015,0.12964650725137927,0.023548335779542837,0.04591614531715536,0.02727915851471035,0.07924858451637755,-0.03514473241081257,0.0312957458244412,0.07990201622235088,0.028206906061688023,0.023400612908945632,-0.019270096902001058,0.042540275668198284,-0.009766361229576605,-0.04465999605397427,0.04822097914792472,-0.016463746206945472,0.08842811181830385,0.08336362875899271,0.004264498594466554,0.05087916278904589,-0.01780585160048768,0.29707721309886354,-0.014601143272798133,0.024590455876289632,-0.011750635830168945,0.036956161383225584,0.0038683824880034845,-0.01956489265435393,0.023562396655996496,0.015113563461768478,0.007678315281388539,-0.0035076362865661247,0.13258310284006128,0.10334725425914945,0.1291485076106061,0.07595575357249422,0.11845013321085097,-0.057941069093759595,-0.048913132677811486,-0.019979135366385663,0.008940413352993488,0.0019566092879261554,-0.04866038160217673,-0.05550567661568961,-0.11299374691486938,-0.12035244735379938,0.0362142649871995,0.032771288419567626,0.1813149479905132,-0.018630718806070968,0.008954853477117294,-0.006800350697155398,0.07936809250099706,0.18780112457832165,0.046037046500653635,-0.04903582119996746,-0.008545528391068641,-0.024600246751464022,0.01232898253353802,-0.04531051727659901,-0.0020740781251199387,-0.008917689403469943,-0.014471690860581159,-0.013756028091863912,-0.021004962408132485,0.018399774092219268,0.021061939202062566,0.21651286995318167,-0.03762229478864346,0.04440502729209484,0.027492899119322543,0.057341572998446784,0.030689301315453013,0.07114050454529675,0.01808105816650817,0.17338325400093013,0.03436948757559351,0.0871927186103054,0.2443261710120342,0.013713121570682909,-0.021223932503460673,0.005844334283222753,0.0008325908874721725,0.15589573048998037,0.01933319361561134,0.15607353313950764,-0.035004692120929104,0.07137127097245709,-0.013246255220472316,0.0815955135170894,-0.018828920746907257,0.21583936814454624,-0.01925135737655329,0.2146549389263341,0.02244559705072027,-0.01573900910955093,0.011960284364827526,0.08159345498819194,-0.047772854607661494,0.04469334963705794,0.0616376132401164,0.07152254221377419,0.027170259474228586,-0.01617497388636919,0.03709996451062423,0.021814332964229407,0.040807073642684086,0.09522014747171544,0.006980949456879806,0.09157071000114639,-0.06798072386579222,0.0022689073341440958,0.013402146059496769,-0.023957271601098656,0.16172209622341926,0.0453236904449954,0.01049849631544697,0.15019487607495463,0.052083875345835015,0.12964650725137927,0.023548335779542837,0.04591614531715536,0.02727915851471035,0.07924858451637755,-0.03514473241081257,0.0312957458244412,0.07990201622235088,0.028206906061688023,0.023400612908945632,-0.019270096902001058,0.042540275668198284,-0.009766361229576605,-0.04465999605397427,0.04822097914792472,-0.016463746206945472,0.08842811181830385,0.08336362875899271,0.004264498594466554,0.05087916278904589,-0.01780585160048768,0.29707721309886354,-0.014601143272798133,0.024590455876289632,-0.011750635830168945,0.036956161383225584,0.0038683824880034845,-0.01956489265435393,0.023562396655996496,0.015113563461768478,0.007678315281388539,-0.0035076362865661247,0.13258310284006128,0.10334725425914945,0.1291485076106061,0.07595575357249422,0.11845013321085097,-0.057941069093759595,-0.048913132677811486,-0.019979135366385663,0.008940413352993488,0.0019566092879261554,-0.04866038160217673,-0.05550567661568961,-0.11299374691486938,-0.12035244735379938,0.0362142649871995,0.032771288419567626,0.1813149479905132,-0.018630718806070968,0.008954853477117294,-0.006800350697155398,0.07936809250099706,0.18780112457832165,0.046037046500653635,-0.04903582119996746,-0.008545528391068641,-0.024600246751464022,0.01232898253353802,-0.04531051727659901,-0.0020740781251199387,-0.008917689403469943,-0.014471690860581159,-0.013756028091863912,-0.021004962408132485,0.018399774092219268,0.021061939202062566,0.21651286995318167,-0.03762229478864346,0.04440502729209484,0.027492899119322543,0.057341572998446784,-0.06891258169161187,0.0340473142045313,0.014776274299677166,0.03654703786531504,0.06060532809789866,0.022421733085530172,0.03294290615176465,0.1002773736603457,0.21881636226331871,-0.033964441155109965,0.14099641636149948,0.039645406160640904,-0.01982965338900513,0.027437881458216937,-0.051270089339983775,0.006435716170279046,-0.05868737286195326,-0.0008331102329012694,0.028418034640982328,0.01670360596352738,-0.0030081650479872432,0.10049557216258641,0.01782283544218457,0.04497981320367638,-0.006949137515159817,0.01695868759208849,-0.08283475366426099,-0.12321952790728322,0.0371738321819066,-0.13395529954652677,0.03856388816098004,0.006713495620548986,0.011327260326089045,-0.01703596682363642,0.0615586084387251,0.012492512846571623,0.02749325236972625,0.05781157463197215,0.07775871029469757,0.11672397328539996,0.054662796291826424,0.03800371784359985,0.02749325236972625,0.10327520810226759,0.13736034914411369,0.0020371481419937582,-0.02252541788162481,0.03148248926791775,-0.06577383751820172,-0.012955703352591306,-0.01489623451281182,-0.027503802492337286,-0.06375384224872406,-0.0067899627926512034,-0.03539416858295404,0.03038590944813008,-0.031138701913637143,0.019906090723788763,0.0036800565248015743,0.026041651186339845,0.08818815937410583,0.04350035501145613,0.03671804264307334,-0.041944978934472986,0.002165240504027502,-0.02751432638233926,0.12427899716519696,0.08450365820125084,0.10038277155585015,0.08528699959593171,0.03827315425080074,-0.009466306509166853,0.035094716533729045,0.010467533746820013,0.05454760634955044,0.1971194480155291,-0.01309931630598929,0.09785810777145931,0.01578465053199221,-0.006532472496102107,-0.017060804736060378,-0.04278125113949958,0.021547228657962603,0.024227554844375193,0.03543674189689949,-0.0098761575685598,0.016810117638343097,0.138152995741742,-0.034342640037231496,-0.012006906763437943,0.08998514716862925,0.21148002641562602,-0.040184840474941114,0.21096394403450594,0.08461937393971189,0.01270132434179339,-0.043106004594454905,0.15658395373472547,0.052869717725572404,0.04281800954401992,-0.020377800398566154,0.02381226754552825,0.02363889206488478,0.016644345726990105,0.05779717786792842,-0.037076381248818,0.12684419370405706,0.0010305353978609846,0.21668012132306883,0.013543060063466136,0.256830714342428,0.036776438258848666,0.2282327678974363,0.02191777807370253,-0.002127344183949968,-0.00856617104608032,0.02889722354325497,0.04604818731676285,-0.012922380555883007,0.09061066716840857,0.0036823267142325473,0.01615637104540358,-0.019486672081033704,0.007922605716978694,0.11952965454983334,0.01284924188815961,0.03357820883748229,0.03629164815446385,0.11337147556801323,0.019288194925256658,0.13201131171748084,-0.007239644048425753,0.13054181154203295,0.09690943635335275,-0.05334481013551767,-0.0007073398762985055,0.044364070263171775,0.03970926486947084,0.04309320264237233,0.0015498284632079887,0.0527547878594991,0.04952115051161413,0.04986843632567959,0.10932739101331744,-0.007399820995315267,0.04778796006615383,0.10942406075454361,0.007963492322729793,-0.030792761811083647,-0.012527230607655447,-0.002250471082001798,0.026989666013352797,0.12014436755726604,0.014677746920271665,-0.020272258750332325,0.006798867437451319,0.005567992592558222,0.050220977070924856,0.034934723245538764,-0.010749457799381329,0.04202239405861536,-0.048141679004128204,0.06830968652052317,0.06536159370284574,0.008870763015468694,0.014483147704192807,0.06400833185362341,0.09479755580269238,-0.07870727833063143,0.031986885155076465,0.060478646947466054,0.0033517548873584478,-0.009522779633091177,-0.011988163718476972,0.05360813575008946,0.06340044434869674,0.01317829721763455,0.09415349790838992,0.003580466488559389,0.04532227143465426,0.067631505511825,-0.00425938450095059,-0.004891930961643516,0.08912598035614232,-0.007344411234834099,0.03494114973217251,-0.028972445146393102,0.05680505351118295,-0.019700031330203302,0.10225993410888157,-0.04821132108434879,-0.014185820827088023,0.059538226523248874,0.07342152082793056,0.061361750546386984,0.15499019124072308,0.07582683112619815,0.010220403434179697,0.025064661284365852,0.00976689768581038,0.005703001708561129,0.0018858402398557387,0.03627481374517998,0.006980118079237936,0.028432072248121557,0.025408551982026514,-0.040680944527108506,0.006094863157365957,0.07192410899976248,0.08977208256966687,0.011479394108098978,-0.07435709454272997,0.09139309796662073,0.04515078625086144,0.04393967730821441,-0.044408440891728816,0.06532657108555451,0.0580999057245243,-0.03154053767617067,0.13190861264763262,-0.010646462691561654,-0.01728427127255402,-0.020560496446463163,0.03173355061876706,0.0780764241514082,0.15876612159771394,0.1610070485409087,0.003075672836427772,0.02074104204272985,-0.02114555051455927,0.0031673877680951515,-0.0035408367608728212,-0.09873245244452607,0.1941957968902746,-0.05072130325533333,-0.0004365155432511414,0.001748609415618097,0.04029552125078336,0.018573920506055167,0.166425978898223,0.03824648460110075,0.0038760251185374997,0.09667861879522022,0.06503687410041922,-0.003939666868547525,0.03476510920431942,0.07073720704983708,0.06409738208303509,0.04744044280847717,0.12910343201592003,0.12390531659766915,0.13472077449879857,0.16339267407607183,0.13331154667260914,0.11825526755030669,0.021109307992814734,0.07249553097733344,0.022871937079091655,0.009352633236863785,0.015739340574777397,-0.024661819964613294,0.04411003089796186,-0.013260209099157315,-0.03739390226676354,0.048253180307775624,0.00191294637496594,0.058362109960817914,-0.015164984559004955,0.0722901448512316,0.05821085712677763,0.2556122585355613,0.031995881378566765,-0.03655452501242172,-0.03847163881146109,0.004922479115462776,0.011591657255290296,0.038596337565064046,0.16626928596209506,0.024234012609907984,0.059309619166971375,0.06544616389556578],\"y\":[0.003292828794382212,0.011270511546709255,0.02707090707308039,-0.08968236241464975,0.02530111238207641,0.010196677722048438,-0.06885027748657299,0.02506822829711533,-0.008747925441732755,-0.06057086706492995,-0.06312311602035016,-0.04800866974032613,0.04986282297327507,-0.04097117525554049,-0.009204820683290087,0.008262747027183518,-0.03896303495022221,-0.013202535375405066,-0.04185621000241419,-0.0282942985480197,0.005267386187384059,-0.028833287108011904,-0.0064757587132683765,0.008238482358397975,0.018481378032461155,0.013296816308900146,-0.0011286920961022947,0.014045675529686738,0.025041154505957213,0.013522770025306503,-0.006651182658036518,-0.012141853070542987,0.0007186199665219527,0.0012771303072217643,0.015277622947365666,0.012696739624883484,0.00803973388273931,0.01073129675051465,-0.04260393407523987,0.019490406660514055,0.02867171529864339,-0.0038959537638348796,-0.0912526075136324,-0.002092409651829675,-0.012721720580152822,0.028096457174714477,-0.0433721468802465,-0.008527269982359632,0.02238082492438254,0.021548861309408716,0.006674675440401174,0.01657728515475858,-0.027187547878895494,-0.006875358689625746,0.026131150299764865,-0.009879767214872335,-0.012406609532814885,-0.008208256972940321,0.0002228258888032385,-0.01895980608239952,-0.028227402670613525,0.014969822928575656,-0.019550538684852813,-0.03003370204116297,-0.032595031212331524,0.002869140905097209,0.02182993871551097,-0.03550099945481102,-0.08705562082810493,0.004403432797787078,0.012841591614426868,-0.008814782105124302,0.02416418510242765,0.008588084854912033,0.009347378086961431,-0.004810426024359353,-0.025379501616251524,-0.02915845825298911,0.0172616852794633,0.04822817967949346,0.01121058365935089,-0.07647023739894421,0.02889129390198972,-0.0863842679666599,-0.011699560829661695,-0.007863077537150988,0.014499668642533,0.021515915539276755,0.01776381487362304,-0.00652861092377076,-0.01021636184039926,-0.054352043571640876,-0.05824269803198511,0.005221868455762164,0.0033538475876497688,-0.08742241596825652,0.009059035978153022,0.017007056382081834,0.001208345476735981,-0.04788519648001498,-0.08739160101459748,-0.028097340685809432,-0.008268512711506113,-0.014032824821702723,-0.017605925396786456,-0.027908686991168455,0.004705013833395468,0.0006293610950061289,-0.002994289603730362,0.009336344937946738,-0.004672586990786195,-0.022816913397282545,0.01983021967252751,0.017529208925824838,-0.10952439248877878,-0.03860066222396827,-0.046922388995042724,0.024858831830294945,-0.01440623252696457,0.003292828794382212,0.011270511546709255,0.02707090707308039,-0.08968236241464975,0.02530111238207641,0.010196677722048438,-0.06885027748657299,0.02506822829711533,-0.008747925441732755,-0.06057086706492995,-0.06312311602035016,-0.04800866974032613,0.04986282297327507,-0.04097117525554049,-0.009204820683290087,0.008262747027183518,-0.03896303495022221,-0.013202535375405066,-0.04185621000241419,-0.0282942985480197,0.005267386187384059,-0.028833287108011904,-0.0064757587132683765,0.008238482358397975,0.018481378032461155,0.013296816308900146,-0.0011286920961022947,0.014045675529686738,0.025041154505957213,0.013522770025306503,-0.006651182658036518,-0.012141853070542987,0.0007186199665219527,0.0012771303072217643,0.015277622947365666,0.012696739624883484,0.00803973388273931,0.01073129675051465,-0.04260393407523987,0.019490406660514055,0.02867171529864339,-0.0038959537638348796,-0.0912526075136324,-0.002092409651829675,-0.012721720580152822,0.028096457174714477,-0.0433721468802465,-0.008527269982359632,0.02238082492438254,0.021548861309408716,0.006674675440401174,0.01657728515475858,-0.027187547878895494,-0.006875358689625746,0.026131150299764865,-0.009879767214872335,-0.012406609532814885,-0.008208256972940321,0.0002228258888032385,-0.01895980608239952,-0.028227402670613525,0.014969822928575656,-0.019550538684852813,-0.03003370204116297,-0.032595031212331524,0.002869140905097209,0.02182993871551097,-0.03550099945481102,-0.08705562082810493,0.004403432797787078,0.012841591614426868,-0.008814782105124302,0.02416418510242765,0.008588084854912033,0.009347378086961431,-0.004810426024359353,-0.025379501616251524,-0.02915845825298911,0.0172616852794633,0.04822817967949346,0.01121058365935089,-0.07647023739894421,0.02889129390198972,-0.0863842679666599,-0.011699560829661695,-0.007863077537150988,0.014499668642533,0.021515915539276755,0.01776381487362304,-0.00652861092377076,-0.01021636184039926,-0.054352043571640876,-0.05824269803198511,0.005221868455762164,0.0033538475876497688,-0.08742241596825652,0.009059035978153022,0.017007056382081834,0.001208345476735981,-0.04788519648001498,-0.08739160101459748,-0.028097340685809432,-0.008268512711506113,-0.014032824821702723,-0.017605925396786456,-0.027908686991168455,0.004705013833395468,0.0006293610950061289,-0.002994289603730362,0.009336344937946738,-0.004672586990786195,-0.022816913397282545,0.01983021967252751,0.017529208925824838,-0.10952439248877878,-0.03860066222396827,-0.046922388995042724,0.024858831830294945,-0.01440623252696457,-0.02538693953007116,0.018206562347312917,0.009029043663502583,0.016759592148575916,0.036954655825868904,0.02352415617851499,-0.004458672183201893,0.038157722552594156,0.008630737352942909,-0.010779851794569159,0.01844818806066495,-0.014713558650832698,-0.061429762485137276,0.0027229822527505636,-0.04934849975911147,0.02066306023443915,-0.05315093309117128,0.00313723234319226,-0.010759210974713825,-0.0013653747497582467,-0.013742954714031518,0.12173323788794231,0.010938604712259159,0.13949278843338497,-0.015846423828938427,0.01361429050930213,-0.0340923779110329,-0.05829128047799397,0.023456093200512104,-0.06385802318853183,0.0058940072385575085,0.029138761488740193,0.029318579164813098,-0.010253102050351967,0.025769992866585146,0.025680949101091075,0.023257717673304056,-0.055121731915602254,0.030778590922279254,0.037625619220727186,-0.005603384431102379,-0.014716326795562604,0.023257717673304056,0.032920236230886045,-0.061987214119101325,0.003420697677498406,-0.02695947113320211,0.027724895092689418,0.0317744629108808,-0.009213731183345852,0.009727657853814645,0.008963425012605206,-0.024573760558663785,0.005060383178132161,-0.031165966358276096,0.03138863206330349,-0.00750980169031618,0.026877280625305887,0.010771514270892322,0.023742449857212564,0.03203639652653536,0.022544269720425912,0.004343343889508042,-0.011295112589869824,0.028615951795341273,-0.000980192008208776,0.02525551341137913,0.00299796043989723,0.01246258565440197,-0.026576025791708823,0.010246172303342665,0.019031381636590315,0.007711108836120945,0.03216534481856157,0.009146510554510684,-0.09748097650575856,0.012356695804362806,-0.0055660455634120995,-0.005419827275910008,-0.01464022331270773,0.006917367146370215,-0.0049284693754646156,0.017344952105762035,0.020017248616835046,0.008474971923290905,-0.0024349625673387304,0.009142095817635225,-0.01667987559085217,-0.052453113354466334,0.018748436166739078,-0.048015733111788216,-0.10408640930044043,-0.005344372312222147,-0.023392939087444223,0.04016660074889024,-0.034948848393304095,-0.04834918521869568,-0.0465132671274134,-0.06305030863316037,0.016671727434980594,-0.006832124339890576,0.02134179323431897,0.02055994574782931,0.015554766004381026,-0.012480537518840986,0.0024927388541387836,-0.06534550787131455,0.014709902138341464,-0.002976756009171997,0.06011560397645536,-0.1062072826550538,-0.04483466260392508,-0.020312271050634358,0.01487417409269213,0.015100707598181825,-0.009063009760429742,0.023660056162782904,-0.03630957955740103,-0.011285642729534072,0.05911904670074529,-0.0070231702517465164,-0.013356103281805655,-0.02460017657699354,-0.009861685192419074,0.026004193616066717,0.025054556606235047,0.028652744209550832,-0.00029470036992827736,-0.06333936072843566,0.008351280453427671,0.01850467664889277,0.02198640825506888,0.030726663982268303,0.023699729408811643,-0.014725891968478535,0.014578346317551227,0.01387477920436884,-0.004436495589826356,-0.04489090341915832,0.0013078208448156457,-0.040216499273074746,-0.04117003889055958,-0.012201554995432195,-0.011516351402806982,-0.0018855606586227235,-0.009255406113667836,-0.0200351757376688,0.004916192030569146,0.010889913093734615,0.005501459944361239,0.01980978597215115,0.015679002256668628,-0.06733594506086617,0.012983109362075498,-0.025132599847251,-0.007050150295605365,0.00803719217919972,0.03852064505222125,-0.03135567925258257,0.009980512845166533,0.02219914525346733,-0.03749821384023726,0.00471795116673384,0.008081449545406773,-0.022891323275989986,0.009776310957583021,0.008199728722876762,0.007355747745078451,-0.03516223385833526,-0.03454657692432532,0.006175458017774271,0.019318931909815845,0.011577700834585293,0.0049793725867194084,0.0012092767120357969,0.0030999363824740314,0.004841936743430653,0.004495539961825629,0.044825856654737505,-0.0032153143229720444,0.01611990344487574,0.02695545183062545,-0.017197909443564315,0.020089394263191084,-0.00732402508962699,0.08445286448397711,0.006820322656319671,0.015642990784154837,0.0022912062944468606,0.032352668018239286,-0.03963356587693626,-0.054316158149107265,0.039575652320180135,0.02429952966545037,0.047740205029890376,-0.07980768399126832,0.01868338277068991,-0.03754482549148517,0.007421072462297272,0.008469575904434234,0.021481814799588675,0.014426406259174417,0.01168469741689354,0.01752599066683803,-0.011350426778084231,-0.021624865678923223,-0.01700103687653638,0.025609386218690182,0.0033078505415569857,-0.048226830642433695,0.024657139078375922,-0.042409326605102736,-0.04206828594214325,-0.01919406899463048,0.021527949337367486,-0.011212416847893609,-0.01513237872323774,-0.007344576626914016,0.012893748511716771,-0.05875930984062222,0.012415452323949907,0.004375932942392373,0.0071808209940381704,0.02657696023967611,0.013077519486287895,0.04052365990517314,0.04157076318260589,-0.05304701778955807,-0.010407431617760967,0.010470522668846715,-0.02794994649248662,0.0006704440777510211,-0.035037597260775405,-0.005473449537717724,-0.015616541040928137,0.028669056628787302,0.007235884154441124,0.017162663448032307,-0.008567027321680618,-0.041669820649573815,-0.0016768325173271705,0.014775379571114279,0.003981726913469251,-0.017528169413569487,0.010918878110371667,-0.04201278600393886,-0.05410643757932652,-0.051751103351750455,-0.019425292172175035,-0.06156616562331343,-0.0395695250250915,-0.071609923213849,0.013356297494969832,-0.08154525555737925,0.010738257760071212,-0.008455808176875777,0.023712250774143715,0.010849666184911311,0.021455862920399527,0.025560341125538844,0.002383943243955827,0.03508456716560703,-0.006633280364213999,0.003381237311461344,0.014963688886242598,0.011772446288770614,0.010398748452864799,-0.015847471476146253,-0.028062970181903936,0.010757440438866698,-0.003294285619014611,0.02250843656322106,0.007464983982121956,-0.006243986021659153,0.02017859632693445,0.02452587861686328,0.005317798560751449,0.011355958899216473,0.017716954130998375,0.0044684940938435015,0.01474381288266226],\"z\":[0.03692536824967899,0.05136856166300187,0.07153461110365357,-0.2146276161977377,0.08417193398723423,0.06109224637104625,-0.15530103361120406,0.05931693951728209,-0.023130400633454073,-0.12764226744268492,-0.13149748341294226,-0.16166097805570417,0.08457026443214133,-0.15406700983053281,0.03808133305672815,0.04248381142893086,-0.044231703827424536,-0.002012230161964457,-0.04871593284054097,-0.07807340951055326,0.011460457793873965,-0.07888185099021573,-0.02270698765653799,0.047546986066545525,0.06679173726466975,0.0646134578624989,0.005886500012839392,0.08165552746134132,0.09877690873946002,0.06882473317460878,-0.01046486104204438,-0.013777477087916911,0.014255458711123718,0.018026538566723673,0.011311213522211776,0.04655424628968341,0.058288962873034575,0.043513399361844084,-0.07312874501328628,0.07809131039408591,0.07504722595112313,0.05182983237683675,-0.2350795473340865,0.027746084329634813,-0.012347033178744696,0.10981992368234075,-0.10481120951423302,-0.04213711352243045,0.08024165686491633,0.06733632332374151,0.021061022664475824,0.05448867556179188,-0.027649245279129108,-0.023194435365482394,0.10233781197672927,-0.010098326234245102,-0.013991968705535264,-0.0003742975970395063,0.0003617291140101398,-0.017845356665483963,-0.04552042431749263,0.02907365898858347,-0.023412859564595434,-0.043691158635720456,-0.04763311877080293,-0.01917217276038918,0.0882443690453767,-0.06641585401636015,-0.2172099363430647,0.03573163510071933,0.048077700304953036,0.027649456405194218,0.09053242324697615,0.013413833621002692,0.025513798308253448,0.004112296608720811,-0.016988427481973455,-0.022881660604932883,0.06129499538597375,0.1419791948218601,0.03304870081963196,-0.17295681847395614,0.100358581755064,-0.18933934868718827,-0.01882260780091601,-0.022582321246928345,0.05226962273691655,0.09537337040436601,0.0893792843417885,0.02087801943680239,0.015097735572627028,-0.08811302109851736,-0.09406160785582543,0.008838636820386535,0.005961771772655619,-0.21140132064391118,0.024177648992398777,0.03951264369849679,0.017068065989366974,-0.12796356259837058,-0.21397358666641597,-0.06810045520825074,-0.025178954991377626,-0.010185277032999745,-0.04681956698509416,-0.061218754809359836,0.02360132291250452,-0.004764155181890687,-0.010307761418762702,0.049887317557036834,0.0056420621743944925,-0.05279352128569791,0.09408414201933958,0.08958072757870121,-0.2718938036920774,-0.07044476044206466,-0.11368500676083283,0.08210311493576056,-0.021201072587629866,0.03692536824967899,0.05136856166300187,0.07153461110365357,-0.2146276161977377,0.08417193398723423,0.06109224637104625,-0.15530103361120406,0.05931693951728209,-0.023130400633454073,-0.12764226744268492,-0.13149748341294226,-0.16166097805570417,0.08457026443214133,-0.15406700983053281,0.03808133305672815,0.04248381142893086,-0.044231703827424536,-0.002012230161964457,-0.04871593284054097,-0.07807340951055326,0.011460457793873965,-0.07888185099021573,-0.02270698765653799,0.047546986066545525,0.06679173726466975,0.0646134578624989,0.005886500012839392,0.08165552746134132,0.09877690873946002,0.06882473317460878,-0.01046486104204438,-0.013777477087916911,0.014255458711123718,0.018026538566723673,0.011311213522211776,0.04655424628968341,0.058288962873034575,0.043513399361844084,-0.07312874501328628,0.07809131039408591,0.07504722595112313,0.05182983237683675,-0.2350795473340865,0.027746084329634813,-0.012347033178744696,0.10981992368234075,-0.10481120951423302,-0.04213711352243045,0.08024165686491633,0.06733632332374151,0.021061022664475824,0.05448867556179188,-0.027649245279129108,-0.023194435365482394,0.10233781197672927,-0.010098326234245102,-0.013991968705535264,-0.0003742975970395063,0.0003617291140101398,-0.017845356665483963,-0.04552042431749263,0.02907365898858347,-0.023412859564595434,-0.043691158635720456,-0.04763311877080293,-0.01917217276038918,0.0882443690453767,-0.06641585401636015,-0.2172099363430647,0.03573163510071933,0.048077700304953036,0.027649456405194218,0.09053242324697615,0.013413833621002692,0.025513798308253448,0.004112296608720811,-0.016988427481973455,-0.022881660604932883,0.06129499538597375,0.1419791948218601,0.03304870081963196,-0.17295681847395614,0.100358581755064,-0.18933934868718827,-0.01882260780091601,-0.022582321246928345,0.05226962273691655,0.09537337040436601,0.0893792843417885,0.02087801943680239,0.015097735572627028,-0.08811302109851736,-0.09406160785582543,0.008838636820386535,0.005961771772655619,-0.21140132064391118,0.024177648992398777,0.03951264369849679,0.017068065989366974,-0.12796356259837058,-0.21397358666641597,-0.06810045520825074,-0.025178954991377626,-0.010185277032999745,-0.04681956698509416,-0.061218754809359836,0.02360132291250452,-0.004764155181890687,-0.010307761418762702,0.049887317557036834,0.0056420621743944925,-0.05279352128569791,0.09408414201933958,0.08958072757870121,-0.2718938036920774,-0.07044476044206466,-0.11368500676083283,0.08210311493576056,-0.021201072587629866,-0.08831419587539686,0.10265489819647018,0.07802878823186828,0.10752458304040922,0.14001056673480866,0.09654114780491166,-0.0005478134464127323,0.0792441587251935,0.011871415454033075,0.010343763060642762,-0.019196928693882356,-0.03900620875755731,-0.12489428004310292,0.012840515406670304,-0.0902623670374027,0.057495762554739246,-0.09603359258094875,0.036065212874125556,0.00402719010745633,-0.0036703944676552127,-0.03076702503343332,0.08966205932094015,0.024122604889160747,0.060705180912461604,-0.03399026852712252,0.025923454092309332,-0.05109681706206,-0.07502731443765381,0.06011250361067635,-0.08370541408587698,0.026905730182675586,0.06994281859234185,0.07268995304595254,-0.00642083192328353,0.055346616090464706,0.08176681882393888,0.03644252855909491,-0.11830195377935862,0.08215339566583,0.11054809206324366,-0.0038151897569886893,-0.01896836406165946,0.03644252855909491,0.09122481633622005,-0.1569660855749513,0.020873121429958143,-0.03599976586643389,0.08534508347889874,-0.016427289410802473,-0.004097922413375882,0.025914529722257645,0.03985873493769105,-0.04305949326838476,0.017415399484265928,-0.03837871900685279,0.06562029752747607,-0.01682369586107456,0.062060667997932376,0.035138480559474376,0.053024497349027935,0.076548883031627,0.06722629690767,0.02468933111943932,-0.027844509058627023,0.09203504085619735,0.056645095694673,0.06492365567619846,0.027642632287390227,0.04158441405783665,-0.037987978134981254,0.03897114693828931,0.0834877657611169,0.03145805882138644,0.10161780398759584,0.02171228054820932,-0.2422924711494154,0.06858567754121532,-0.01855742379104691,-0.006074887874042867,-0.012781071728768856,0.05592825501538354,-0.011227523122470686,0.04522010787839378,0.0501642609876242,0.02689967419251551,0.01242083167305076,0.027152695143639768,-0.04029362120738303,-0.08718128043330832,0.07774890373818744,-0.11159657116145391,-0.2642496846811071,0.009591748843642259,-0.06242654843390019,0.08515279396823301,-0.06403951081439649,-0.08323400548449027,-0.12559132029248077,-0.13487857496974565,0.0573953411969734,-0.01306039775308486,0.04588702564427452,0.04297239762793801,0.036130883495167444,-0.0651523433355133,0.0027623598495776507,-0.15957381764443743,0.050515237220889304,-0.0041421824642023835,0.04785257870144264,-0.2628932249912268,-0.10345606663018622,-0.06505037773085931,0.034105892446362966,0.05198296361305938,-0.05361985249453306,0.058543774187348414,-0.08037024856486545,-0.027617225752662095,0.07480331178731651,-0.0034576540673925166,-0.014931521971324425,-0.04783894800426942,-0.008806172546523832,0.07775097069632038,0.05921696127479273,0.08455230832051995,-0.0033639654631686085,-0.16010938528178872,0.04724755012426735,0.03754989632521657,0.06050855658871494,0.08211389622771204,0.0792621598094538,-0.01281114003879866,0.04736941045580821,0.04272506474686472,-0.02626635411017517,-0.09407577779585191,0.01716888982665905,-0.08934187551320273,-0.08850836174717748,-0.013552584244998042,-0.028321494181404575,0.014023122425245303,-0.014532855351291656,-0.019454167031729416,0.01656506668287221,0.041344181269092166,0.02242982152679048,0.06709460199276385,0.051537361777155746,-0.1547996241591988,0.028908690346098193,-0.03183708842363574,-0.0072698482212454315,0.024993916361178214,0.10677665127794153,-0.07793610791196959,0.026926293367454692,0.07677738535232817,-0.06928266933197548,0.024204033746208033,0.0337509180819516,-0.05703906524990545,0.054580175089792425,0.03201629628280337,0.03880923199983188,-0.052529650928819484,-0.09180886603437145,0.027481441304576738,0.043930813471250274,0.030319413867403198,0.028391453044309643,0.018960629421915384,0.01857920376168874,0.04693800304342688,0.03798664994514458,0.06219221364612456,0.010994298726358067,0.052247863776199686,0.039057330581561356,-0.0446510874209135,0.06281874338514043,-0.0027466609908714445,-0.007112067629304753,0.023773679817113407,0.043731959692833534,-0.014124816116648503,0.07544531255293294,-0.06315498524270198,-0.09681135442147216,0.03839869348150021,0.07435181741187696,0.09287638333738718,-0.19615020950630818,-0.0218683471299545,-0.0678430067725365,0.02907914549423858,0.024383751926678653,0.04158862871105403,0.04658996600657337,0.03237752960154716,0.04103024511383351,-0.040202920140900246,-0.052104993560149866,-0.03477822225448117,0.07144238278332841,-0.008984885330245941,-0.11116806007679299,0.03356983395727858,-0.0691220596109457,-0.1053101690729813,-0.030305040869457144,0.04273244689212394,-0.01252980896391996,-0.052269644628546365,-0.00976415796049379,0.03944528392104864,-0.14529010477941853,0.038929949713408366,0.027092955231342326,0.040595582794817314,0.06629367750898775,0.0444484158763096,0.0834549120095765,0.08604466196141561,-0.11763631812132379,-0.01818007442406954,0.02771792219900864,-0.06850706710661793,0.005146461551283914,-0.04857259000082943,-0.013990574551969878,-0.029451923584074502,0.0793590473433259,0.02382949219338378,0.04344615692862546,-0.01778266512965795,-0.11145271481286852,0.006414241993614238,0.05530676341662039,0.016421899078154924,-0.04746826621498168,0.04688771817905974,-0.09361696503200034,-0.12636952294875006,-0.12204373558563471,-0.04998580441736903,-0.1484092978418487,-0.09280184900186517,-0.18539277851563687,-0.006522978131457552,-0.20264440091819852,0.05962537878921705,-0.02134628839801471,0.038023955739586834,0.05595132826468892,0.05622696307573666,0.06676770067207491,0.03663716656075349,0.07612310997691495,-0.00010083181671335912,0.01625546981782313,0.05004378015174448,0.019496634834388422,0.029360528325627872,-0.03380468686509946,-0.046367580368542924,0.006269266677138042,0.03648414429308341,0.06305481029446448,0.03318557028940738,-0.008541287586602069,0.05256674629931029,0.04485208922371974,0.024523078286776398,0.06163435756823574,0.0516248826902366,0.013159626502469032,0.05480043947606378],\"type\":\"scatter3d\"}],                        {\"template\":{\"data\":{\"bar\":[{\"error_x\":{\"color\":\"#2a3f5f\"},\"error_y\":{\"color\":\"#2a3f5f\"},\"marker\":{\"line\":{\"color\":\"#E5ECF6\",\"width\":0.5},\"pattern\":{\"fillmode\":\"overlay\",\"size\":10,\"solidity\":0.2}},\"type\":\"bar\"}],\"barpolar\":[{\"marker\":{\"line\":{\"color\":\"#E5ECF6\",\"width\":0.5},\"pattern\":{\"fillmode\":\"overlay\",\"size\":10,\"solidity\":0.2}},\"type\":\"barpolar\"}],\"carpet\":[{\"aaxis\":{\"endlinecolor\":\"#2a3f5f\",\"gridcolor\":\"white\",\"linecolor\":\"white\",\"minorgridcolor\":\"white\",\"startlinecolor\":\"#2a3f5f\"},\"baxis\":{\"endlinecolor\":\"#2a3f5f\",\"gridcolor\":\"white\",\"linecolor\":\"white\",\"minorgridcolor\":\"white\",\"startlinecolor\":\"#2a3f5f\"},\"type\":\"carpet\"}],\"choropleth\":[{\"colorbar\":{\"outlinewidth\":0,\"ticks\":\"\"},\"type\":\"choropleth\"}],\"contour\":[{\"colorbar\":{\"outlinewidth\":0,\"ticks\":\"\"},\"colorscale\":[[0.0,\"#0d0887\"],[0.1111111111111111,\"#46039f\"],[0.2222222222222222,\"#7201a8\"],[0.3333333333333333,\"#9c179e\"],[0.4444444444444444,\"#bd3786\"],[0.5555555555555556,\"#d8576b\"],[0.6666666666666666,\"#ed7953\"],[0.7777777777777778,\"#fb9f3a\"],[0.8888888888888888,\"#fdca26\"],[1.0,\"#f0f921\"]],\"type\":\"contour\"}],\"contourcarpet\":[{\"colorbar\":{\"outlinewidth\":0,\"ticks\":\"\"},\"type\":\"contourcarpet\"}],\"heatmap\":[{\"colorbar\":{\"outlinewidth\":0,\"ticks\":\"\"},\"colorscale\":[[0.0,\"#0d0887\"],[0.1111111111111111,\"#46039f\"],[0.2222222222222222,\"#7201a8\"],[0.3333333333333333,\"#9c179e\"],[0.4444444444444444,\"#bd3786\"],[0.5555555555555556,\"#d8576b\"],[0.6666666666666666,\"#ed7953\"],[0.7777777777777778,\"#fb9f3a\"],[0.8888888888888888,\"#fdca26\"],[1.0,\"#f0f921\"]],\"type\":\"heatmap\"}],\"heatmapgl\":[{\"colorbar\":{\"outlinewidth\":0,\"ticks\":\"\"},\"colorscale\":[[0.0,\"#0d0887\"],[0.1111111111111111,\"#46039f\"],[0.2222222222222222,\"#7201a8\"],[0.3333333333333333,\"#9c179e\"],[0.4444444444444444,\"#bd3786\"],[0.5555555555555556,\"#d8576b\"],[0.6666666666666666,\"#ed7953\"],[0.7777777777777778,\"#fb9f3a\"],[0.8888888888888888,\"#fdca26\"],[1.0,\"#f0f921\"]],\"type\":\"heatmapgl\"}],\"histogram\":[{\"marker\":{\"pattern\":{\"fillmode\":\"overlay\",\"size\":10,\"solidity\":0.2}},\"type\":\"histogram\"}],\"histogram2d\":[{\"colorbar\":{\"outlinewidth\":0,\"ticks\":\"\"},\"colorscale\":[[0.0,\"#0d0887\"],[0.1111111111111111,\"#46039f\"],[0.2222222222222222,\"#7201a8\"],[0.3333333333333333,\"#9c179e\"],[0.4444444444444444,\"#bd3786\"],[0.5555555555555556,\"#d8576b\"],[0.6666666666666666,\"#ed7953\"],[0.7777777777777778,\"#fb9f3a\"],[0.8888888888888888,\"#fdca26\"],[1.0,\"#f0f921\"]],\"type\":\"histogram2d\"}],\"histogram2dcontour\":[{\"colorbar\":{\"outlinewidth\":0,\"ticks\":\"\"},\"colorscale\":[[0.0,\"#0d0887\"],[0.1111111111111111,\"#46039f\"],[0.2222222222222222,\"#7201a8\"],[0.3333333333333333,\"#9c179e\"],[0.4444444444444444,\"#bd3786\"],[0.5555555555555556,\"#d8576b\"],[0.6666666666666666,\"#ed7953\"],[0.7777777777777778,\"#fb9f3a\"],[0.8888888888888888,\"#fdca26\"],[1.0,\"#f0f921\"]],\"type\":\"histogram2dcontour\"}],\"mesh3d\":[{\"colorbar\":{\"outlinewidth\":0,\"ticks\":\"\"},\"type\":\"mesh3d\"}],\"parcoords\":[{\"line\":{\"colorbar\":{\"outlinewidth\":0,\"ticks\":\"\"}},\"type\":\"parcoords\"}],\"pie\":[{\"automargin\":true,\"type\":\"pie\"}],\"scatter\":[{\"marker\":{\"colorbar\":{\"outlinewidth\":0,\"ticks\":\"\"}},\"type\":\"scatter\"}],\"scatter3d\":[{\"line\":{\"colorbar\":{\"outlinewidth\":0,\"ticks\":\"\"}},\"marker\":{\"colorbar\":{\"outlinewidth\":0,\"ticks\":\"\"}},\"type\":\"scatter3d\"}],\"scattercarpet\":[{\"marker\":{\"colorbar\":{\"outlinewidth\":0,\"ticks\":\"\"}},\"type\":\"scattercarpet\"}],\"scattergeo\":[{\"marker\":{\"colorbar\":{\"outlinewidth\":0,\"ticks\":\"\"}},\"type\":\"scattergeo\"}],\"scattergl\":[{\"marker\":{\"colorbar\":{\"outlinewidth\":0,\"ticks\":\"\"}},\"type\":\"scattergl\"}],\"scattermapbox\":[{\"marker\":{\"colorbar\":{\"outlinewidth\":0,\"ticks\":\"\"}},\"type\":\"scattermapbox\"}],\"scatterpolar\":[{\"marker\":{\"colorbar\":{\"outlinewidth\":0,\"ticks\":\"\"}},\"type\":\"scatterpolar\"}],\"scatterpolargl\":[{\"marker\":{\"colorbar\":{\"outlinewidth\":0,\"ticks\":\"\"}},\"type\":\"scatterpolargl\"}],\"scatterternary\":[{\"marker\":{\"colorbar\":{\"outlinewidth\":0,\"ticks\":\"\"}},\"type\":\"scatterternary\"}],\"surface\":[{\"colorbar\":{\"outlinewidth\":0,\"ticks\":\"\"},\"colorscale\":[[0.0,\"#0d0887\"],[0.1111111111111111,\"#46039f\"],[0.2222222222222222,\"#7201a8\"],[0.3333333333333333,\"#9c179e\"],[0.4444444444444444,\"#bd3786\"],[0.5555555555555556,\"#d8576b\"],[0.6666666666666666,\"#ed7953\"],[0.7777777777777778,\"#fb9f3a\"],[0.8888888888888888,\"#fdca26\"],[1.0,\"#f0f921\"]],\"type\":\"surface\"}],\"table\":[{\"cells\":{\"fill\":{\"color\":\"#EBF0F8\"},\"line\":{\"color\":\"white\"}},\"header\":{\"fill\":{\"color\":\"#C8D4E3\"},\"line\":{\"color\":\"white\"}},\"type\":\"table\"}]},\"layout\":{\"annotationdefaults\":{\"arrowcolor\":\"#2a3f5f\",\"arrowhead\":0,\"arrowwidth\":1},\"autotypenumbers\":\"strict\",\"coloraxis\":{\"colorbar\":{\"outlinewidth\":0,\"ticks\":\"\"}},\"colorscale\":{\"diverging\":[[0,\"#8e0152\"],[0.1,\"#c51b7d\"],[0.2,\"#de77ae\"],[0.3,\"#f1b6da\"],[0.4,\"#fde0ef\"],[0.5,\"#f7f7f7\"],[0.6,\"#e6f5d0\"],[0.7,\"#b8e186\"],[0.8,\"#7fbc41\"],[0.9,\"#4d9221\"],[1,\"#276419\"]],\"sequential\":[[0.0,\"#0d0887\"],[0.1111111111111111,\"#46039f\"],[0.2222222222222222,\"#7201a8\"],[0.3333333333333333,\"#9c179e\"],[0.4444444444444444,\"#bd3786\"],[0.5555555555555556,\"#d8576b\"],[0.6666666666666666,\"#ed7953\"],[0.7777777777777778,\"#fb9f3a\"],[0.8888888888888888,\"#fdca26\"],[1.0,\"#f0f921\"]],\"sequentialminus\":[[0.0,\"#0d0887\"],[0.1111111111111111,\"#46039f\"],[0.2222222222222222,\"#7201a8\"],[0.3333333333333333,\"#9c179e\"],[0.4444444444444444,\"#bd3786\"],[0.5555555555555556,\"#d8576b\"],[0.6666666666666666,\"#ed7953\"],[0.7777777777777778,\"#fb9f3a\"],[0.8888888888888888,\"#fdca26\"],[1.0,\"#f0f921\"]]},\"colorway\":[\"#636efa\",\"#EF553B\",\"#00cc96\",\"#ab63fa\",\"#FFA15A\",\"#19d3f3\",\"#FF6692\",\"#B6E880\",\"#FF97FF\",\"#FECB52\"],\"font\":{\"color\":\"#2a3f5f\"},\"geo\":{\"bgcolor\":\"white\",\"lakecolor\":\"white\",\"landcolor\":\"#E5ECF6\",\"showlakes\":true,\"showland\":true,\"subunitcolor\":\"white\"},\"hoverlabel\":{\"align\":\"left\"},\"hovermode\":\"closest\",\"mapbox\":{\"style\":\"light\"},\"paper_bgcolor\":\"white\",\"plot_bgcolor\":\"#E5ECF6\",\"polar\":{\"angularaxis\":{\"gridcolor\":\"white\",\"linecolor\":\"white\",\"ticks\":\"\"},\"bgcolor\":\"#E5ECF6\",\"radialaxis\":{\"gridcolor\":\"white\",\"linecolor\":\"white\",\"ticks\":\"\"}},\"scene\":{\"xaxis\":{\"backgroundcolor\":\"#E5ECF6\",\"gridcolor\":\"white\",\"gridwidth\":2,\"linecolor\":\"white\",\"showbackground\":true,\"ticks\":\"\",\"zerolinecolor\":\"white\"},\"yaxis\":{\"backgroundcolor\":\"#E5ECF6\",\"gridcolor\":\"white\",\"gridwidth\":2,\"linecolor\":\"white\",\"showbackground\":true,\"ticks\":\"\",\"zerolinecolor\":\"white\"},\"zaxis\":{\"backgroundcolor\":\"#E5ECF6\",\"gridcolor\":\"white\",\"gridwidth\":2,\"linecolor\":\"white\",\"showbackground\":true,\"ticks\":\"\",\"zerolinecolor\":\"white\"}},\"shapedefaults\":{\"line\":{\"color\":\"#2a3f5f\"}},\"ternary\":{\"aaxis\":{\"gridcolor\":\"white\",\"linecolor\":\"white\",\"ticks\":\"\"},\"baxis\":{\"gridcolor\":\"white\",\"linecolor\":\"white\",\"ticks\":\"\"},\"bgcolor\":\"#E5ECF6\",\"caxis\":{\"gridcolor\":\"white\",\"linecolor\":\"white\",\"ticks\":\"\"}},\"title\":{\"x\":0.05},\"xaxis\":{\"automargin\":true,\"gridcolor\":\"white\",\"linecolor\":\"white\",\"ticks\":\"\",\"title\":{\"standoff\":15},\"zerolinecolor\":\"white\",\"zerolinewidth\":2},\"yaxis\":{\"automargin\":true,\"gridcolor\":\"white\",\"linecolor\":\"white\",\"ticks\":\"\",\"title\":{\"standoff\":15},\"zerolinecolor\":\"white\",\"zerolinewidth\":2}}},\"scene\":{\"domain\":{\"x\":[0.0,1.0],\"y\":[0.0,1.0]},\"xaxis\":{\"title\":{\"text\":\"First\"}},\"yaxis\":{\"title\":{\"text\":\"Second\"}},\"zaxis\":{\"title\":{\"text\":\"Third\"}}},\"legend\":{\"title\":{\"text\":\"Category\"},\"tracegroupgap\":0},\"margin\":{\"t\":60}},                        {\"responsive\": true}                    ).then(function(){\n",
       "                            \n",
       "var gd = document.getElementById('a39d74c9-85df-4c2e-ad54-7daa1f1c6c7a');\n",
       "var x = new MutationObserver(function (mutations, observer) {{\n",
       "        var display = window.getComputedStyle(gd).display;\n",
       "        if (!display || display === 'none') {{\n",
       "            console.log([gd, 'removed!']);\n",
       "            Plotly.purge(gd);\n",
       "            observer.disconnect();\n",
       "        }}\n",
       "}});\n",
       "\n",
       "// Listen for the removal of the full notebook cells\n",
       "var notebookContainer = gd.closest('#notebook-container');\n",
       "if (notebookContainer) {{\n",
       "    x.observe(notebookContainer, {childList: true});\n",
       "}}\n",
       "\n",
       "// Listen for the clearing of the current output cell\n",
       "var outputEl = gd.closest('.output');\n",
       "if (outputEl) {{\n",
       "    x.observe(outputEl, {childList: true});\n",
       "}}\n",
       "\n",
       "                        })                };                            </script>        </div>\n",
       "</body>\n",
       "</html>"
      ]
     },
     "metadata": {},
     "output_type": "display_data"
    }
   ],
   "source": [
    "#Plotting 3-D interactive plot of reduced data.\n",
    "fig = px.scatter_3d(pca_df, x = 'First', y = 'Second', z = 'Third', color = 'Category')\n",
    "fig.show()"
   ]
  },
  {
   "cell_type": "markdown",
   "metadata": {},
   "source": [
    "**NOTE:**\n",
    "\n",
    "Because I have written these codes in Google Colab, the above interactive plot is not shown in first look. To see the plot, running only section \"Extra 1\" is enough."
   ]
  },
  {
   "cell_type": "markdown",
   "metadata": {
    "id": "bP1Vfptk_5NQ"
   },
   "source": [
    "# Extra 2\n",
    "\n",
    "We need to divide 6 models into 2 parts becuase of their methods (BoW and TF-IDF). This means we have to choose 3 model for ensembling. I prefer to choose TF-IDF models. But, in our case, we trained Naive Bayes for TF-IDF with lowe size becuase of memory issues therefore it is a bit different than other TF-IDF models. As a results, I choose only 2 models for ensembling which are Decision Tree and Support Vector Classifier."
   ]
  },
  {
   "cell_type": "code",
   "execution_count": null,
   "metadata": {
    "id": "vi_3EhVU_06y"
   },
   "outputs": [],
   "source": [
    "#Loading Decision Tree TF-IDF model\n",
    "model = open('DTTFIDF.txt', 'rb')\n",
    "modelDTTFIDF = pickle.load(model)\n",
    "model.close()\n",
    "\n",
    "#Loading Support Vector Classifier TFIDF model\n",
    "model = open('SVCTFIDF.txt', 'rb')\n",
    "modelSVCTFIDF = pickle.load(model)\n",
    "model.close()"
   ]
  },
  {
   "cell_type": "code",
   "execution_count": null,
   "metadata": {
    "id": "Tad_1tBIjyib"
   },
   "outputs": [],
   "source": [
    "#Reading Dataset using Pandas read_excel function\n",
    "data = pd.read_excel(\"news.xlsx\")"
   ]
  },
  {
   "cell_type": "code",
   "execution_count": null,
   "metadata": {
    "id": "nrsBDitEj2K0"
   },
   "outputs": [],
   "source": [
    "#Getting first 5000 rows of the data\n",
    "data = pd.concat([data.iloc[:5000, :], data[data[\"Category\"] == \"Mədəniyyət\"].iloc[:400, :]])"
   ]
  },
  {
   "cell_type": "code",
   "execution_count": null,
   "metadata": {
    "colab": {
     "base_uri": "https://localhost:8080/"
    },
    "id": "mBdABPtzj2Ps",
    "outputId": "949bfe28-f540-4ac4-d36d-51ca14e6325f"
   },
   "outputs": [
    {
     "name": "stderr",
     "output_type": "stream",
     "text": [
      "/usr/local/lib/python3.7/dist-packages/ipykernel_launcher.py:6: FutureWarning: The default value of regex will change from True to False in a future version.\n",
      "  \n"
     ]
    }
   ],
   "source": [
    "#Preparing data for TF-IDF vectorizer\n",
    "\n",
    "#Joining title and news_article columns\n",
    "data['Corpus'] = data[['Title', 'News_Article']].agg(''.join, axis = 1)\n",
    "#Removing some unnecessary characters\n",
    "data['Corpus'] = data['Corpus'].str.replace('[^\\w\\s]', '')\n",
    "#Making all characters lowercase\n",
    "data['Corpus'] = data['Corpus'].str.lower()"
   ]
  },
  {
   "cell_type": "code",
   "execution_count": null,
   "metadata": {
    "id": "hpbMZ4TDj2Si"
   },
   "outputs": [],
   "source": [
    "X = data[\"Corpus\"]\n",
    "y = data[\"Category\"]"
   ]
  },
  {
   "cell_type": "code",
   "execution_count": null,
   "metadata": {
    "id": "dkAWzpW4oMyN"
   },
   "outputs": [],
   "source": [
    "#Using TF-IDF Method, Vectorizing the input data (Corpus)\n",
    "\n",
    "#Initializing the vectorizer\n",
    "vectorizerTFIDF = TfidfVectorizer()\n",
    "\n",
    "#Fitting X into vectorizer and transforming the corpus\n",
    "X = vectorizerTFIDF.fit_transform(X)"
   ]
  },
  {
   "cell_type": "code",
   "execution_count": null,
   "metadata": {
    "id": "1vSHi0jvrFEN"
   },
   "outputs": [],
   "source": [
    "#Building Ensembler Learner Function\n",
    "def ensemble_learner(X):\n",
    "    #Loading Decision Tree TF-IDF model\n",
    "    model = open('DTTFIDF.txt', 'rb')\n",
    "    modelDTTFIDF = pickle.load(model)\n",
    "    model.close()\n",
    "\n",
    "    #Loading Support Vector Classifier TFIDF model\n",
    "    model = open('SVCTFIDF.txt', 'rb')\n",
    "    modelSVCTFIDF = pickle.load(model)\n",
    "    model.close()\n",
    "\n",
    "    #Creating DataFrame consisting results of each model\n",
    "    ensemble_df = pd.DataFrame()\n",
    "    ensemble_df[\"DT TF-IDF\"] = modelDTTFIDF.predict(X)\n",
    "    ensemble_df[\"SVC TF-IDF\"] = modelSVCTFIDF.predict(X)\n",
    "    ensemble_pred = []\n",
    "    j = 0\n",
    "    #Iterating over results of model and creating ensemble learner based on some conditions\n",
    "    for i in ensemble_df[[\"SVC TF-IDF\"]].values:\n",
    "        if i == ensemble_df[[\"DT TF-IDF\"]].values[j]:\n",
    "            ensemble_pred.append(i[0])\n",
    "        else:\n",
    "            ensemble_pred.append(i[0])\n",
    "        j = j + 1\n",
    "    #Appending results of ensemble learner to the dataframe\n",
    "    ensemble_df[\"Ensemble\"] = ensemble_pred\n",
    "    #Returning the dataframe\n",
    "    return ensemble_df"
   ]
  },
  {
   "cell_type": "code",
   "execution_count": null,
   "metadata": {
    "id": "tclnbrpFrFBM"
   },
   "outputs": [],
   "source": [
    "#Using function getting dataframe of prediction of each model\n",
    "ensemble_df = ensemble_learner(X)"
   ]
  },
  {
   "cell_type": "code",
   "execution_count": null,
   "metadata": {
    "colab": {
     "base_uri": "https://localhost:8080/",
     "height": 424
    },
    "id": "de4ZWeJmy_ig",
    "outputId": "e661b504-bc62-4a60-b68c-b1e29ef08b55"
   },
   "outputs": [
    {
     "data": {
      "text/html": [
       "\n",
       "  <div id=\"df-2e569a6b-4de4-4e19-8672-818a2f74a201\">\n",
       "    <div class=\"colab-df-container\">\n",
       "      <div>\n",
       "<style scoped>\n",
       "    .dataframe tbody tr th:only-of-type {\n",
       "        vertical-align: middle;\n",
       "    }\n",
       "\n",
       "    .dataframe tbody tr th {\n",
       "        vertical-align: top;\n",
       "    }\n",
       "\n",
       "    .dataframe thead th {\n",
       "        text-align: right;\n",
       "    }\n",
       "</style>\n",
       "<table border=\"1\" class=\"dataframe\">\n",
       "  <thead>\n",
       "    <tr style=\"text-align: right;\">\n",
       "      <th></th>\n",
       "      <th>DT TF-IDF</th>\n",
       "      <th>SVC TF-IDF</th>\n",
       "      <th>Ensemble</th>\n",
       "    </tr>\n",
       "  </thead>\n",
       "  <tbody>\n",
       "    <tr>\n",
       "      <th>0</th>\n",
       "      <td>Maraqlı</td>\n",
       "      <td>Maraqlı</td>\n",
       "      <td>Maraqlı</td>\n",
       "    </tr>\n",
       "    <tr>\n",
       "      <th>1</th>\n",
       "      <td>Maraqlı</td>\n",
       "      <td>Maraqlı</td>\n",
       "      <td>Maraqlı</td>\n",
       "    </tr>\n",
       "    <tr>\n",
       "      <th>2</th>\n",
       "      <td>Maraqlı</td>\n",
       "      <td>Maraqlı</td>\n",
       "      <td>Maraqlı</td>\n",
       "    </tr>\n",
       "    <tr>\n",
       "      <th>3</th>\n",
       "      <td>Maraqlı</td>\n",
       "      <td>İdman</td>\n",
       "      <td>İdman</td>\n",
       "    </tr>\n",
       "    <tr>\n",
       "      <th>4</th>\n",
       "      <td>Dünya</td>\n",
       "      <td>Dünya</td>\n",
       "      <td>Dünya</td>\n",
       "    </tr>\n",
       "    <tr>\n",
       "      <th>...</th>\n",
       "      <td>...</td>\n",
       "      <td>...</td>\n",
       "      <td>...</td>\n",
       "    </tr>\n",
       "    <tr>\n",
       "      <th>5395</th>\n",
       "      <td>Mədəniyyət</td>\n",
       "      <td>Mədəniyyət</td>\n",
       "      <td>Mədəniyyət</td>\n",
       "    </tr>\n",
       "    <tr>\n",
       "      <th>5396</th>\n",
       "      <td>Mədəniyyət</td>\n",
       "      <td>Mədəniyyət</td>\n",
       "      <td>Mədəniyyət</td>\n",
       "    </tr>\n",
       "    <tr>\n",
       "      <th>5397</th>\n",
       "      <td>Mədəniyyət</td>\n",
       "      <td>Mədəniyyət</td>\n",
       "      <td>Mədəniyyət</td>\n",
       "    </tr>\n",
       "    <tr>\n",
       "      <th>5398</th>\n",
       "      <td>Mədəniyyət</td>\n",
       "      <td>Mədəniyyət</td>\n",
       "      <td>Mədəniyyət</td>\n",
       "    </tr>\n",
       "    <tr>\n",
       "      <th>5399</th>\n",
       "      <td>İqtisadiyyat</td>\n",
       "      <td>Mədəniyyət</td>\n",
       "      <td>Mədəniyyət</td>\n",
       "    </tr>\n",
       "  </tbody>\n",
       "</table>\n",
       "<p>5400 rows × 3 columns</p>\n",
       "</div>\n",
       "      <button class=\"colab-df-convert\" onclick=\"convertToInteractive('df-2e569a6b-4de4-4e19-8672-818a2f74a201')\"\n",
       "              title=\"Convert this dataframe to an interactive table.\"\n",
       "              style=\"display:none;\">\n",
       "        \n",
       "  <svg xmlns=\"http://www.w3.org/2000/svg\" height=\"24px\"viewBox=\"0 0 24 24\"\n",
       "       width=\"24px\">\n",
       "    <path d=\"M0 0h24v24H0V0z\" fill=\"none\"/>\n",
       "    <path d=\"M18.56 5.44l.94 2.06.94-2.06 2.06-.94-2.06-.94-.94-2.06-.94 2.06-2.06.94zm-11 1L8.5 8.5l.94-2.06 2.06-.94-2.06-.94L8.5 2.5l-.94 2.06-2.06.94zm10 10l.94 2.06.94-2.06 2.06-.94-2.06-.94-.94-2.06-.94 2.06-2.06.94z\"/><path d=\"M17.41 7.96l-1.37-1.37c-.4-.4-.92-.59-1.43-.59-.52 0-1.04.2-1.43.59L10.3 9.45l-7.72 7.72c-.78.78-.78 2.05 0 2.83L4 21.41c.39.39.9.59 1.41.59.51 0 1.02-.2 1.41-.59l7.78-7.78 2.81-2.81c.8-.78.8-2.07 0-2.86zM5.41 20L4 18.59l7.72-7.72 1.47 1.35L5.41 20z\"/>\n",
       "  </svg>\n",
       "      </button>\n",
       "      \n",
       "  <style>\n",
       "    .colab-df-container {\n",
       "      display:flex;\n",
       "      flex-wrap:wrap;\n",
       "      gap: 12px;\n",
       "    }\n",
       "\n",
       "    .colab-df-convert {\n",
       "      background-color: #E8F0FE;\n",
       "      border: none;\n",
       "      border-radius: 50%;\n",
       "      cursor: pointer;\n",
       "      display: none;\n",
       "      fill: #1967D2;\n",
       "      height: 32px;\n",
       "      padding: 0 0 0 0;\n",
       "      width: 32px;\n",
       "    }\n",
       "\n",
       "    .colab-df-convert:hover {\n",
       "      background-color: #E2EBFA;\n",
       "      box-shadow: 0px 1px 2px rgba(60, 64, 67, 0.3), 0px 1px 3px 1px rgba(60, 64, 67, 0.15);\n",
       "      fill: #174EA6;\n",
       "    }\n",
       "\n",
       "    [theme=dark] .colab-df-convert {\n",
       "      background-color: #3B4455;\n",
       "      fill: #D2E3FC;\n",
       "    }\n",
       "\n",
       "    [theme=dark] .colab-df-convert:hover {\n",
       "      background-color: #434B5C;\n",
       "      box-shadow: 0px 1px 3px 1px rgba(0, 0, 0, 0.15);\n",
       "      filter: drop-shadow(0px 1px 2px rgba(0, 0, 0, 0.3));\n",
       "      fill: #FFFFFF;\n",
       "    }\n",
       "  </style>\n",
       "\n",
       "      <script>\n",
       "        const buttonEl =\n",
       "          document.querySelector('#df-2e569a6b-4de4-4e19-8672-818a2f74a201 button.colab-df-convert');\n",
       "        buttonEl.style.display =\n",
       "          google.colab.kernel.accessAllowed ? 'block' : 'none';\n",
       "\n",
       "        async function convertToInteractive(key) {\n",
       "          const element = document.querySelector('#df-2e569a6b-4de4-4e19-8672-818a2f74a201');\n",
       "          const dataTable =\n",
       "            await google.colab.kernel.invokeFunction('convertToInteractive',\n",
       "                                                     [key], {});\n",
       "          if (!dataTable) return;\n",
       "\n",
       "          const docLinkHtml = 'Like what you see? Visit the ' +\n",
       "            '<a target=\"_blank\" href=https://colab.research.google.com/notebooks/data_table.ipynb>data table notebook</a>'\n",
       "            + ' to learn more about interactive tables.';\n",
       "          element.innerHTML = '';\n",
       "          dataTable['output_type'] = 'display_data';\n",
       "          await google.colab.output.renderOutput(dataTable, element);\n",
       "          const docLink = document.createElement('div');\n",
       "          docLink.innerHTML = docLinkHtml;\n",
       "          element.appendChild(docLink);\n",
       "        }\n",
       "      </script>\n",
       "    </div>\n",
       "  </div>\n",
       "  "
      ],
      "text/plain": [
       "         DT TF-IDF  SVC TF-IDF    Ensemble\n",
       "0          Maraqlı     Maraqlı     Maraqlı\n",
       "1          Maraqlı     Maraqlı     Maraqlı\n",
       "2          Maraqlı     Maraqlı     Maraqlı\n",
       "3          Maraqlı       İdman       İdman\n",
       "4            Dünya       Dünya       Dünya\n",
       "...            ...         ...         ...\n",
       "5395    Mədəniyyət  Mədəniyyət  Mədəniyyət\n",
       "5396    Mədəniyyət  Mədəniyyət  Mədəniyyət\n",
       "5397    Mədəniyyət  Mədəniyyət  Mədəniyyət\n",
       "5398    Mədəniyyət  Mədəniyyət  Mədəniyyət\n",
       "5399  İqtisadiyyat  Mədəniyyət  Mədəniyyət\n",
       "\n",
       "[5400 rows x 3 columns]"
      ]
     },
     "execution_count": 19,
     "metadata": {},
     "output_type": "execute_result"
    }
   ],
   "source": [
    "#Displaying the dataframe of model results\n",
    "ensemble_df"
   ]
  },
  {
   "cell_type": "code",
   "execution_count": null,
   "metadata": {
    "id": "_nNbsPXXxGtu"
   },
   "outputs": [],
   "source": [
    "#Initializing Lists for storing accuracies of models and their names\n",
    "accuracies = []\n",
    "models = [\"DT TF-IDF\",\"SVC TF-IDF\", \"Ensemble Learner\"]\n",
    "#Appending model accuracies to their corresponding lists\n",
    "accuracies.append(accuracy_score(ensemble_df[[\"DT TF-IDF\"]].values, y.reset_index().drop(\"index\", axis = 1).values))\n",
    "accuracies.append(accuracy_score(ensemble_df[[\"SVC TF-IDF\"]].values, y.reset_index().drop(\"index\", axis = 1).values))\n",
    "accuracies.append(accuracy_score(ensemble_df[[\"Ensemble\"]].values, y.reset_index().drop(\"index\", axis = 1).values))"
   ]
  },
  {
   "cell_type": "code",
   "execution_count": null,
   "metadata": {
    "colab": {
     "base_uri": "https://localhost:8080/",
     "height": 268
    },
    "id": "iNd1MVH1zfqr",
    "outputId": "526781c5-6429-44ee-bf50-784e10e7b832"
   },
   "outputs": [
    {
     "data": {
      "image/png": "[encoded data removed]",
      "text/plain": [
       "<Figure size 432x288 with 1 Axes>"
      ]
     },
     "metadata": {
      "needs_background": "light"
     },
     "output_type": "display_data"
    }
   ],
   "source": [
    "#Plotting accuracies\n",
    "plt.bar(models, accuracies)\n",
    "plt.show()"
   ]
  },
  {
   "cell_type": "markdown",
   "metadata": {
    "id": "ompyiTlt0iBA"
   },
   "source": [
    "Based on our ensemble classifier, the best model can be considered as either SVC or newly created ensemble learner. Having more RAM, we can also create more models for our purpose and develop ensemble learners using those more models."
   ]
  },
  {
   "cell_type": "code",
   "execution_count": null,
   "metadata": {
    "id": "1BgIG945zmj2"
   },
   "outputs": [],
   "source": []
  }
 ],
 "metadata": {
  "colab": {
   "collapsed_sections": [],
   "name": "ML.ipynb",
   "provenance": []
  },
  "kernelspec": {
   "display_name": "Python 3",
   "language": "python",
   "name": "python3"
  },
  "language_info": {
   "codemirror_mode": {
    "name": "ipython",
    "version": 3
   },
   "file_extension": ".py",
   "mimetype": "text/x-python",
   "name": "python",
   "nbconvert_exporter": "python",
   "pygments_lexer": "ipython3",
   "version": "3.8.3"
  }
 },
 "nbformat": 4,
 "nbformat_minor": 1
}
